{
 "cells": [
  {
   "cell_type": "code",
   "execution_count": 2,
   "metadata": {},
   "outputs": [],
   "source": [
    "import pandas as pd\n",
    "import numpy as np\n",
    "\n",
    "from sklearn.preprocessing import MinMaxScaler\n",
    "from sklearn.linear_model import LinearRegression\n",
    "from sklearn.metrics import mean_squared_error, r2_score"
   ]
  },
  {
   "cell_type": "code",
   "execution_count": 3,
   "metadata": {},
   "outputs": [
    {
     "name": "stdout",
     "output_type": "stream",
     "text": [
      "<class 'pandas.core.frame.DataFrame'>\n",
      "RangeIndex: 14551 entries, 0 to 14550\n",
      "Data columns (total 7 columns):\n",
      " #   Column       Non-Null Count  Dtype         \n",
      "---  ------       --------------  -----         \n",
      " 0   match_id     14551 non-null  int64         \n",
      " 1   date         14551 non-null  datetime64[ns]\n",
      " 2   batter       14551 non-null  object        \n",
      " 3   batter_runs  14551 non-null  int64         \n",
      " 4   balls_faced  14551 non-null  int64         \n",
      " 5   out          14551 non-null  int64         \n",
      " 6   strike_rate  14551 non-null  float64       \n",
      "dtypes: datetime64[ns](1), float64(1), int64(4), object(1)\n",
      "memory usage: 795.9+ KB\n"
     ]
    }
   ],
   "source": [
    "df = pd.read_csv(\"./batting_custom.csv\")\n",
    "df[\"strike_rate\"].replace([np.inf, -np.inf, np.nan], 100, inplace=True)\n",
    "\n",
    "df[\"date\"] = pd.to_datetime(df[\"date\"])\n",
    "\n",
    "df.info()"
   ]
  },
  {
   "cell_type": "code",
   "execution_count": 4,
   "metadata": {},
   "outputs": [
    {
     "name": "stdout",
     "output_type": "stream",
     "text": [
      "Empty DataFrame\n",
      "Columns: [match_id, date, batter, batter_runs, balls_faced, out, strike_rate]\n",
      "Index: []\n"
     ]
    }
   ],
   "source": [
    "inf_rows = df[np.isinf(df['strike_rate'])]\n",
    "print(inf_rows)"
   ]
  },
  {
   "cell_type": "code",
   "execution_count": 5,
   "metadata": {},
   "outputs": [
    {
     "data": {
      "text/html": [
       "<div>\n",
       "<style scoped>\n",
       "    .dataframe tbody tr th:only-of-type {\n",
       "        vertical-align: middle;\n",
       "    }\n",
       "\n",
       "    .dataframe tbody tr th {\n",
       "        vertical-align: top;\n",
       "    }\n",
       "\n",
       "    .dataframe thead th {\n",
       "        text-align: right;\n",
       "    }\n",
       "</style>\n",
       "<table border=\"1\" class=\"dataframe\">\n",
       "  <thead>\n",
       "    <tr style=\"text-align: right;\">\n",
       "      <th></th>\n",
       "      <th>match_id</th>\n",
       "      <th>date</th>\n",
       "      <th>batter</th>\n",
       "      <th>batter_runs</th>\n",
       "      <th>balls_faced</th>\n",
       "      <th>out</th>\n",
       "      <th>strike_rate</th>\n",
       "    </tr>\n",
       "  </thead>\n",
       "  <tbody>\n",
       "    <tr>\n",
       "      <th>0</th>\n",
       "      <td>335982</td>\n",
       "      <td>2008-04-18</td>\n",
       "      <td>P Kumar</td>\n",
       "      <td>18</td>\n",
       "      <td>15</td>\n",
       "      <td>0</td>\n",
       "      <td>120.0</td>\n",
       "    </tr>\n",
       "    <tr>\n",
       "      <th>1</th>\n",
       "      <td>335982</td>\n",
       "      <td>2008-04-18</td>\n",
       "      <td>SB Joshi</td>\n",
       "      <td>3</td>\n",
       "      <td>8</td>\n",
       "      <td>1</td>\n",
       "      <td>37.5</td>\n",
       "    </tr>\n",
       "    <tr>\n",
       "      <th>2</th>\n",
       "      <td>335982</td>\n",
       "      <td>2008-04-18</td>\n",
       "      <td>Z Khan</td>\n",
       "      <td>3</td>\n",
       "      <td>8</td>\n",
       "      <td>1</td>\n",
       "      <td>37.5</td>\n",
       "    </tr>\n",
       "    <tr>\n",
       "      <th>3</th>\n",
       "      <td>335982</td>\n",
       "      <td>2008-04-18</td>\n",
       "      <td>AA Noffke</td>\n",
       "      <td>9</td>\n",
       "      <td>10</td>\n",
       "      <td>1</td>\n",
       "      <td>90.0</td>\n",
       "    </tr>\n",
       "    <tr>\n",
       "      <th>4</th>\n",
       "      <td>335982</td>\n",
       "      <td>2008-04-18</td>\n",
       "      <td>B Akhil</td>\n",
       "      <td>0</td>\n",
       "      <td>2</td>\n",
       "      <td>1</td>\n",
       "      <td>0.0</td>\n",
       "    </tr>\n",
       "  </tbody>\n",
       "</table>\n",
       "</div>"
      ],
      "text/plain": [
       "   match_id       date     batter  batter_runs  balls_faced  out  strike_rate\n",
       "0    335982 2008-04-18    P Kumar           18           15    0        120.0\n",
       "1    335982 2008-04-18   SB Joshi            3            8    1         37.5\n",
       "2    335982 2008-04-18     Z Khan            3            8    1         37.5\n",
       "3    335982 2008-04-18  AA Noffke            9           10    1         90.0\n",
       "4    335982 2008-04-18    B Akhil            0            2    1          0.0"
      ]
     },
     "execution_count": 5,
     "metadata": {},
     "output_type": "execute_result"
    }
   ],
   "source": [
    "df.head()"
   ]
  },
  {
   "cell_type": "code",
   "execution_count": 6,
   "metadata": {},
   "outputs": [],
   "source": [
    "train_year = 2018\n",
    "test_year = 2023\n",
    "\n",
    "df[\"year\"] = df[\"date\"].dt.year\n",
    "\n",
    "df_bat = df.drop(\"date\", axis=1)\n",
    "df_bat = df_bat[(df_bat[\"year\"] >= train_year)].copy()\n",
    "df_bat[\"time_value\"] = df_bat[\"year\"] - train_year + 1\n",
    "df_bat = df_bat.drop([\"year\", \"match_id\"], axis=1)\n",
    "\n",
    "df_mean = df_bat.groupby(\"batter\").mean()\n",
    "\n",
    "# df_bat = pd.get_dummies(df_bat, columns=['batter'], prefix='')\n",
    "# df_mean = pd.get_dummies(df_mean, columns=['batter'], prefix='')\n",
    "\n",
    "df_train = df_bat[(df_bat[\"time_value\"] < 6)].copy()\n",
    "df_test = df_bat[(df_bat[\"time_value\"] == 6)].copy()"
   ]
  },
  {
   "cell_type": "code",
   "execution_count": 7,
   "metadata": {},
   "outputs": [],
   "source": [
    "columns_to_scale = [\"time_value\", \"batter_runs\", \"balls_faced\", \"out\", \"strike_rate\"]\n",
    "\n",
    "scaler = MinMaxScaler(feature_range=(0, 10))\n",
    "df_train[columns_to_scale] = scaler.fit_transform(df_train[columns_to_scale])\n",
    "df_test[columns_to_scale] = scaler.fit_transform(df_test[columns_to_scale])\n",
    "\n",
    "df_mean[columns_to_scale] = scaler.fit_transform(df_mean[columns_to_scale])"
   ]
  },
  {
   "cell_type": "code",
   "execution_count": 8,
   "metadata": {},
   "outputs": [
    {
     "name": "stdout",
     "output_type": "stream",
     "text": [
      "<class 'pandas.core.frame.DataFrame'>\n",
      "Index: 321 entries, A Badoni to Yuvraj Singh\n",
      "Data columns (total 5 columns):\n",
      " #   Column       Non-Null Count  Dtype  \n",
      "---  ------       --------------  -----  \n",
      " 0   batter_runs  321 non-null    float64\n",
      " 1   balls_faced  321 non-null    float64\n",
      " 2   out          321 non-null    float64\n",
      " 3   strike_rate  321 non-null    float64\n",
      " 4   time_value   321 non-null    float64\n",
      "dtypes: float64(5)\n",
      "memory usage: 15.0+ KB\n"
     ]
    }
   ],
   "source": [
    "df_mean.info()"
   ]
  },
  {
   "cell_type": "code",
   "execution_count": 9,
   "metadata": {},
   "outputs": [
    {
     "data": {
      "text/html": [
       "<div>\n",
       "<style scoped>\n",
       "    .dataframe tbody tr th:only-of-type {\n",
       "        vertical-align: middle;\n",
       "    }\n",
       "\n",
       "    .dataframe tbody tr th {\n",
       "        vertical-align: top;\n",
       "    }\n",
       "\n",
       "    .dataframe thead th {\n",
       "        text-align: right;\n",
       "    }\n",
       "</style>\n",
       "<table border=\"1\" class=\"dataframe\">\n",
       "  <thead>\n",
       "    <tr style=\"text-align: right;\">\n",
       "      <th></th>\n",
       "      <th>batter_runs</th>\n",
       "      <th>balls_faced</th>\n",
       "      <th>out</th>\n",
       "      <th>strike_rate</th>\n",
       "      <th>time_value</th>\n",
       "    </tr>\n",
       "  </thead>\n",
       "  <tbody>\n",
       "    <tr>\n",
       "      <th>count</th>\n",
       "      <td>321.000000</td>\n",
       "      <td>321.000000</td>\n",
       "      <td>321.000000</td>\n",
       "      <td>321.000000</td>\n",
       "      <td>321.000000</td>\n",
       "    </tr>\n",
       "    <tr>\n",
       "      <th>mean</th>\n",
       "      <td>1.929153</td>\n",
       "      <td>2.188069</td>\n",
       "      <td>6.537258</td>\n",
       "      <td>3.178765</td>\n",
       "      <td>5.685813</td>\n",
       "    </tr>\n",
       "    <tr>\n",
       "      <th>std</th>\n",
       "      <td>1.541022</td>\n",
       "      <td>1.573805</td>\n",
       "      <td>3.124435</td>\n",
       "      <td>1.309541</td>\n",
       "      <td>3.001953</td>\n",
       "    </tr>\n",
       "    <tr>\n",
       "      <th>min</th>\n",
       "      <td>0.000000</td>\n",
       "      <td>0.000000</td>\n",
       "      <td>0.000000</td>\n",
       "      <td>0.000000</td>\n",
       "      <td>0.000000</td>\n",
       "    </tr>\n",
       "    <tr>\n",
       "      <th>25%</th>\n",
       "      <td>0.652174</td>\n",
       "      <td>0.869565</td>\n",
       "      <td>5.000000</td>\n",
       "      <td>2.414773</td>\n",
       "      <td>3.555556</td>\n",
       "    </tr>\n",
       "    <tr>\n",
       "      <th>50%</th>\n",
       "      <td>1.594203</td>\n",
       "      <td>1.739130</td>\n",
       "      <td>7.200000</td>\n",
       "      <td>3.398438</td>\n",
       "      <td>5.846154</td>\n",
       "    </tr>\n",
       "    <tr>\n",
       "      <th>75%</th>\n",
       "      <td>2.877847</td>\n",
       "      <td>3.229814</td>\n",
       "      <td>9.104478</td>\n",
       "      <td>3.887831</td>\n",
       "      <td>8.000000</td>\n",
       "    </tr>\n",
       "    <tr>\n",
       "      <th>max</th>\n",
       "      <td>10.000000</td>\n",
       "      <td>10.000000</td>\n",
       "      <td>10.000000</td>\n",
       "      <td>10.000000</td>\n",
       "      <td>10.000000</td>\n",
       "    </tr>\n",
       "  </tbody>\n",
       "</table>\n",
       "</div>"
      ],
      "text/plain": [
       "       batter_runs  balls_faced         out  strike_rate  time_value\n",
       "count   321.000000   321.000000  321.000000   321.000000  321.000000\n",
       "mean      1.929153     2.188069    6.537258     3.178765    5.685813\n",
       "std       1.541022     1.573805    3.124435     1.309541    3.001953\n",
       "min       0.000000     0.000000    0.000000     0.000000    0.000000\n",
       "25%       0.652174     0.869565    5.000000     2.414773    3.555556\n",
       "50%       1.594203     1.739130    7.200000     3.398438    5.846154\n",
       "75%       2.877847     3.229814    9.104478     3.887831    8.000000\n",
       "max      10.000000    10.000000   10.000000    10.000000   10.000000"
      ]
     },
     "execution_count": 9,
     "metadata": {},
     "output_type": "execute_result"
    }
   ],
   "source": [
    "df_mean.describe()"
   ]
  },
  {
   "cell_type": "code",
   "execution_count": 10,
   "metadata": {},
   "outputs": [
    {
     "data": {
      "text/html": [
       "<div>\n",
       "<style scoped>\n",
       "    .dataframe tbody tr th:only-of-type {\n",
       "        vertical-align: middle;\n",
       "    }\n",
       "\n",
       "    .dataframe tbody tr th {\n",
       "        vertical-align: top;\n",
       "    }\n",
       "\n",
       "    .dataframe thead th {\n",
       "        text-align: right;\n",
       "    }\n",
       "</style>\n",
       "<table border=\"1\" class=\"dataframe\">\n",
       "  <thead>\n",
       "    <tr style=\"text-align: right;\">\n",
       "      <th></th>\n",
       "      <th>batter_runs</th>\n",
       "      <th>balls_faced</th>\n",
       "      <th>out</th>\n",
       "      <th>strike_rate</th>\n",
       "      <th>time_value</th>\n",
       "    </tr>\n",
       "  </thead>\n",
       "  <tbody>\n",
       "    <tr>\n",
       "      <th>count</th>\n",
       "      <td>4418.000000</td>\n",
       "      <td>4418.000000</td>\n",
       "      <td>4418.000000</td>\n",
       "      <td>4418.000000</td>\n",
       "      <td>4418.000000</td>\n",
       "    </tr>\n",
       "    <tr>\n",
       "      <th>mean</th>\n",
       "      <td>1.522813</td>\n",
       "      <td>2.319149</td>\n",
       "      <td>7.512449</td>\n",
       "      <td>1.950727</td>\n",
       "      <td>5.297646</td>\n",
       "    </tr>\n",
       "    <tr>\n",
       "      <th>std</th>\n",
       "      <td>1.560507</td>\n",
       "      <td>1.975227</td>\n",
       "      <td>4.323405</td>\n",
       "      <td>1.104293</td>\n",
       "      <td>3.660471</td>\n",
       "    </tr>\n",
       "    <tr>\n",
       "      <th>min</th>\n",
       "      <td>0.000000</td>\n",
       "      <td>0.000000</td>\n",
       "      <td>0.000000</td>\n",
       "      <td>0.000000</td>\n",
       "      <td>0.000000</td>\n",
       "    </tr>\n",
       "    <tr>\n",
       "      <th>25%</th>\n",
       "      <td>0.357143</td>\n",
       "      <td>0.857143</td>\n",
       "      <td>10.000000</td>\n",
       "      <td>1.250000</td>\n",
       "      <td>2.500000</td>\n",
       "    </tr>\n",
       "    <tr>\n",
       "      <th>50%</th>\n",
       "      <td>1.000000</td>\n",
       "      <td>1.714286</td>\n",
       "      <td>10.000000</td>\n",
       "      <td>1.904762</td>\n",
       "      <td>5.000000</td>\n",
       "    </tr>\n",
       "    <tr>\n",
       "      <th>75%</th>\n",
       "      <td>2.285714</td>\n",
       "      <td>3.428571</td>\n",
       "      <td>10.000000</td>\n",
       "      <td>2.525253</td>\n",
       "      <td>7.500000</td>\n",
       "    </tr>\n",
       "    <tr>\n",
       "      <th>max</th>\n",
       "      <td>10.000000</td>\n",
       "      <td>10.000000</td>\n",
       "      <td>10.000000</td>\n",
       "      <td>10.000000</td>\n",
       "      <td>10.000000</td>\n",
       "    </tr>\n",
       "  </tbody>\n",
       "</table>\n",
       "</div>"
      ],
      "text/plain": [
       "       batter_runs  balls_faced          out  strike_rate   time_value\n",
       "count  4418.000000  4418.000000  4418.000000  4418.000000  4418.000000\n",
       "mean      1.522813     2.319149     7.512449     1.950727     5.297646\n",
       "std       1.560507     1.975227     4.323405     1.104293     3.660471\n",
       "min       0.000000     0.000000     0.000000     0.000000     0.000000\n",
       "25%       0.357143     0.857143    10.000000     1.250000     2.500000\n",
       "50%       1.000000     1.714286    10.000000     1.904762     5.000000\n",
       "75%       2.285714     3.428571    10.000000     2.525253     7.500000\n",
       "max      10.000000    10.000000    10.000000    10.000000    10.000000"
      ]
     },
     "execution_count": 10,
     "metadata": {},
     "output_type": "execute_result"
    }
   ],
   "source": [
    "df_train.describe()"
   ]
  },
  {
   "cell_type": "code",
   "execution_count": 11,
   "metadata": {},
   "outputs": [
    {
     "data": {
      "text/html": [
       "<div>\n",
       "<style scoped>\n",
       "    .dataframe tbody tr th:only-of-type {\n",
       "        vertical-align: middle;\n",
       "    }\n",
       "\n",
       "    .dataframe tbody tr th {\n",
       "        vertical-align: top;\n",
       "    }\n",
       "\n",
       "    .dataframe thead th {\n",
       "        text-align: right;\n",
       "    }\n",
       "</style>\n",
       "<table border=\"1\" class=\"dataframe\">\n",
       "  <thead>\n",
       "    <tr style=\"text-align: right;\">\n",
       "      <th></th>\n",
       "      <th>batter_runs</th>\n",
       "      <th>balls_faced</th>\n",
       "      <th>out</th>\n",
       "      <th>strike_rate</th>\n",
       "      <th>time_value</th>\n",
       "    </tr>\n",
       "  </thead>\n",
       "  <tbody>\n",
       "    <tr>\n",
       "      <th>count</th>\n",
       "      <td>1112.000000</td>\n",
       "      <td>1112.000000</td>\n",
       "      <td>1112.000000</td>\n",
       "      <td>1112.000000</td>\n",
       "      <td>1112.0</td>\n",
       "    </tr>\n",
       "    <tr>\n",
       "      <th>mean</th>\n",
       "      <td>1.688835</td>\n",
       "      <td>2.279676</td>\n",
       "      <td>7.553957</td>\n",
       "      <td>2.030201</td>\n",
       "      <td>0.0</td>\n",
       "    </tr>\n",
       "    <tr>\n",
       "      <th>std</th>\n",
       "      <td>1.785553</td>\n",
       "      <td>2.001671</td>\n",
       "      <td>4.300458</td>\n",
       "      <td>1.150141</td>\n",
       "      <td>0.0</td>\n",
       "    </tr>\n",
       "    <tr>\n",
       "      <th>min</th>\n",
       "      <td>0.000000</td>\n",
       "      <td>0.000000</td>\n",
       "      <td>0.000000</td>\n",
       "      <td>0.000000</td>\n",
       "      <td>0.0</td>\n",
       "    </tr>\n",
       "    <tr>\n",
       "      <th>25%</th>\n",
       "      <td>0.310078</td>\n",
       "      <td>0.735294</td>\n",
       "      <td>10.000000</td>\n",
       "      <td>1.250000</td>\n",
       "      <td>0.0</td>\n",
       "    </tr>\n",
       "    <tr>\n",
       "      <th>50%</th>\n",
       "      <td>1.085271</td>\n",
       "      <td>1.617647</td>\n",
       "      <td>10.000000</td>\n",
       "      <td>2.045455</td>\n",
       "      <td>0.0</td>\n",
       "    </tr>\n",
       "    <tr>\n",
       "      <th>75%</th>\n",
       "      <td>2.403101</td>\n",
       "      <td>3.125000</td>\n",
       "      <td>10.000000</td>\n",
       "      <td>2.719298</td>\n",
       "      <td>0.0</td>\n",
       "    </tr>\n",
       "    <tr>\n",
       "      <th>max</th>\n",
       "      <td>10.000000</td>\n",
       "      <td>10.000000</td>\n",
       "      <td>10.000000</td>\n",
       "      <td>10.000000</td>\n",
       "      <td>0.0</td>\n",
       "    </tr>\n",
       "  </tbody>\n",
       "</table>\n",
       "</div>"
      ],
      "text/plain": [
       "       batter_runs  balls_faced          out  strike_rate  time_value\n",
       "count  1112.000000  1112.000000  1112.000000  1112.000000      1112.0\n",
       "mean      1.688835     2.279676     7.553957     2.030201         0.0\n",
       "std       1.785553     2.001671     4.300458     1.150141         0.0\n",
       "min       0.000000     0.000000     0.000000     0.000000         0.0\n",
       "25%       0.310078     0.735294    10.000000     1.250000         0.0\n",
       "50%       1.085271     1.617647    10.000000     2.045455         0.0\n",
       "75%       2.403101     3.125000    10.000000     2.719298         0.0\n",
       "max      10.000000    10.000000    10.000000    10.000000         0.0"
      ]
     },
     "execution_count": 11,
     "metadata": {},
     "output_type": "execute_result"
    }
   ],
   "source": [
    "df_test.describe()"
   ]
  },
  {
   "cell_type": "code",
   "execution_count": 12,
   "metadata": {},
   "outputs": [],
   "source": [
    "w1, w2, w3, w4, w5 = 1, 1, 0.3, 1, 0.3\n",
    "weighted_score_train = (\n",
    "    w1 * df_train[\"batter_runs\"]\n",
    "    + w2 * df_train[\"balls_faced\"]\n",
    "    + w3 * (10 - df_train[\"out\"])\n",
    "    + w4 * df_train[\"strike_rate\"]\n",
    "    + w5 * df_train[\"time_value\"]\n",
    ")\n",
    "X_train = df_train\n",
    "y_train = weighted_score_train\n",
    "\n",
    "w1, w2, w3, w4, w5 = 1, 1, 0.3, 1, 0.3\n",
    "weighted_score_test = (\n",
    "    w1 * df_test[\"batter_runs\"]\n",
    "    + w2 * df_test[\"balls_faced\"]\n",
    "    + w3 * (10 - df_test[\"out\"])\n",
    "    + w4 * df_test[\"strike_rate\"]\n",
    "    + w5 * df_test[\"time_value\"]\n",
    ")\n",
    "\n",
    "X_test = df_test\n",
    "y_test = weighted_score_test"
   ]
  },
  {
   "cell_type": "code",
   "execution_count": 13,
   "metadata": {},
   "outputs": [
    {
     "name": "stdout",
     "output_type": "stream",
     "text": [
      "<class 'pandas.core.frame.DataFrame'>\n",
      "Index: 4418 entries, 9021 to 13438\n",
      "Data columns (total 6 columns):\n",
      " #   Column       Non-Null Count  Dtype  \n",
      "---  ------       --------------  -----  \n",
      " 0   batter       4418 non-null   object \n",
      " 1   batter_runs  4418 non-null   float64\n",
      " 2   balls_faced  4418 non-null   float64\n",
      " 3   out          4418 non-null   float64\n",
      " 4   strike_rate  4418 non-null   float64\n",
      " 5   time_value   4418 non-null   float64\n",
      "dtypes: float64(5), object(1)\n",
      "memory usage: 241.6+ KB\n"
     ]
    }
   ],
   "source": [
    "X_train.info()"
   ]
  },
  {
   "cell_type": "code",
   "execution_count": 14,
   "metadata": {},
   "outputs": [],
   "source": [
    "X_train_excluded = X_train.drop(columns=\"batter\", axis=1)\n",
    "X_test_excluded = X_test.drop(columns=\"batter\", axis=1)\n",
    "# df_mean_excluded = df_mean.drop(columns=\"batter\", axis=1)"
   ]
  },
  {
   "cell_type": "code",
   "execution_count": 15,
   "metadata": {},
   "outputs": [],
   "source": [
    "model = LinearRegression()"
   ]
  },
  {
   "cell_type": "code",
   "execution_count": 16,
   "metadata": {},
   "outputs": [
    {
     "data": {
      "text/html": [
       "<style>#sk-container-id-1 {color: black;}#sk-container-id-1 pre{padding: 0;}#sk-container-id-1 div.sk-toggleable {background-color: white;}#sk-container-id-1 label.sk-toggleable__label {cursor: pointer;display: block;width: 100%;margin-bottom: 0;padding: 0.3em;box-sizing: border-box;text-align: center;}#sk-container-id-1 label.sk-toggleable__label-arrow:before {content: \"▸\";float: left;margin-right: 0.25em;color: #696969;}#sk-container-id-1 label.sk-toggleable__label-arrow:hover:before {color: black;}#sk-container-id-1 div.sk-estimator:hover label.sk-toggleable__label-arrow:before {color: black;}#sk-container-id-1 div.sk-toggleable__content {max-height: 0;max-width: 0;overflow: hidden;text-align: left;background-color: #f0f8ff;}#sk-container-id-1 div.sk-toggleable__content pre {margin: 0.2em;color: black;border-radius: 0.25em;background-color: #f0f8ff;}#sk-container-id-1 input.sk-toggleable__control:checked~div.sk-toggleable__content {max-height: 200px;max-width: 100%;overflow: auto;}#sk-container-id-1 input.sk-toggleable__control:checked~label.sk-toggleable__label-arrow:before {content: \"▾\";}#sk-container-id-1 div.sk-estimator input.sk-toggleable__control:checked~label.sk-toggleable__label {background-color: #d4ebff;}#sk-container-id-1 div.sk-label input.sk-toggleable__control:checked~label.sk-toggleable__label {background-color: #d4ebff;}#sk-container-id-1 input.sk-hidden--visually {border: 0;clip: rect(1px 1px 1px 1px);clip: rect(1px, 1px, 1px, 1px);height: 1px;margin: -1px;overflow: hidden;padding: 0;position: absolute;width: 1px;}#sk-container-id-1 div.sk-estimator {font-family: monospace;background-color: #f0f8ff;border: 1px dotted black;border-radius: 0.25em;box-sizing: border-box;margin-bottom: 0.5em;}#sk-container-id-1 div.sk-estimator:hover {background-color: #d4ebff;}#sk-container-id-1 div.sk-parallel-item::after {content: \"\";width: 100%;border-bottom: 1px solid gray;flex-grow: 1;}#sk-container-id-1 div.sk-label:hover label.sk-toggleable__label {background-color: #d4ebff;}#sk-container-id-1 div.sk-serial::before {content: \"\";position: absolute;border-left: 1px solid gray;box-sizing: border-box;top: 0;bottom: 0;left: 50%;z-index: 0;}#sk-container-id-1 div.sk-serial {display: flex;flex-direction: column;align-items: center;background-color: white;padding-right: 0.2em;padding-left: 0.2em;position: relative;}#sk-container-id-1 div.sk-item {position: relative;z-index: 1;}#sk-container-id-1 div.sk-parallel {display: flex;align-items: stretch;justify-content: center;background-color: white;position: relative;}#sk-container-id-1 div.sk-item::before, #sk-container-id-1 div.sk-parallel-item::before {content: \"\";position: absolute;border-left: 1px solid gray;box-sizing: border-box;top: 0;bottom: 0;left: 50%;z-index: -1;}#sk-container-id-1 div.sk-parallel-item {display: flex;flex-direction: column;z-index: 1;position: relative;background-color: white;}#sk-container-id-1 div.sk-parallel-item:first-child::after {align-self: flex-end;width: 50%;}#sk-container-id-1 div.sk-parallel-item:last-child::after {align-self: flex-start;width: 50%;}#sk-container-id-1 div.sk-parallel-item:only-child::after {width: 0;}#sk-container-id-1 div.sk-dashed-wrapped {border: 1px dashed gray;margin: 0 0.4em 0.5em 0.4em;box-sizing: border-box;padding-bottom: 0.4em;background-color: white;}#sk-container-id-1 div.sk-label label {font-family: monospace;font-weight: bold;display: inline-block;line-height: 1.2em;}#sk-container-id-1 div.sk-label-container {text-align: center;}#sk-container-id-1 div.sk-container {/* jupyter's `normalize.less` sets `[hidden] { display: none; }` but bootstrap.min.css set `[hidden] { display: none !important; }` so we also need the `!important` here to be able to override the default hidden behavior on the sphinx rendered scikit-learn.org. See: https://github.com/scikit-learn/scikit-learn/issues/21755 */display: inline-block !important;position: relative;}#sk-container-id-1 div.sk-text-repr-fallback {display: none;}</style><div id=\"sk-container-id-1\" class=\"sk-top-container\"><div class=\"sk-text-repr-fallback\"><pre>LinearRegression()</pre><b>In a Jupyter environment, please rerun this cell to show the HTML representation or trust the notebook. <br />On GitHub, the HTML representation is unable to render, please try loading this page with nbviewer.org.</b></div><div class=\"sk-container\" hidden><div class=\"sk-item\"><div class=\"sk-estimator sk-toggleable\"><input class=\"sk-toggleable__control sk-hidden--visually\" id=\"sk-estimator-id-1\" type=\"checkbox\" checked><label for=\"sk-estimator-id-1\" class=\"sk-toggleable__label sk-toggleable__label-arrow\">LinearRegression</label><div class=\"sk-toggleable__content\"><pre>LinearRegression()</pre></div></div></div></div></div>"
      ],
      "text/plain": [
       "LinearRegression()"
      ]
     },
     "execution_count": 16,
     "metadata": {},
     "output_type": "execute_result"
    }
   ],
   "source": [
    "model.fit(X_train_excluded, y_train)"
   ]
  },
  {
   "cell_type": "code",
   "execution_count": 17,
   "metadata": {},
   "outputs": [],
   "source": [
    "y_pred = model.predict(X_test_excluded)"
   ]
  },
  {
   "cell_type": "code",
   "execution_count": 18,
   "metadata": {},
   "outputs": [
    {
     "name": "stdout",
     "output_type": "stream",
     "text": [
      "Mean Squared Error on Test Set: 3.006630477984023e-29\n"
     ]
    }
   ],
   "source": [
    "mse = mean_squared_error(y_test, y_pred)\n",
    "print(f'Mean Squared Error on Test Set: {mse}')"
   ]
  },
  {
   "cell_type": "code",
   "execution_count": 19,
   "metadata": {},
   "outputs": [],
   "source": [
    "y_pred = model.predict(df_mean)"
   ]
  },
  {
   "cell_type": "code",
   "execution_count": 20,
   "metadata": {},
   "outputs": [
    {
     "name": "stdout",
     "output_type": "stream",
     "text": [
      "[11.70938373  6.94927536 11.48818223  7.81313269  9.34238268  6.06394928\n",
      "  6.8013285  14.88964314 11.1585523   7.34973701 13.23588491  9.10615942\n",
      " 10.79127308 15.27536232  3.74790373  4.71651803 14.99649946 12.77255194\n",
      " 10.90259644 10.30907365  5.3777657   8.91004141  8.96735503 13.27902563\n",
      " 10.43432971  9.26992754 11.21018412 12.13421502  8.43983483  8.12176178\n",
      " 10.28201663 12.3504186  12.13370007  6.43070652 11.13707729  8.51690821\n",
      "  7.86379875 15.18023542 10.40269151  7.12882699  7.73814415  4.62137681\n",
      " 19.22166451 11.75452899 10.47572242 11.46468973  4.81847826  8.86992083\n",
      "  4.97708333 15.36290543 10.30376354  6.58239734  9.83448572  9.71884536\n",
      " 13.73868349 15.02354857  7.82035329  5.49061106  8.1414539   6.66551893\n",
      "  6.58926548  7.68940289 12.99438585 14.17250164 10.83516272 12.67059179\n",
      " 13.80515865 17.91444909  9.83362248 11.14631292 14.12789855 11.72631341\n",
      " 13.80615474  8.92735066  7.02227355 19.84566543  8.14198585  5.25999396\n",
      "  8.23317482  6.45577713  6.12481884 13.38850608 12.97832812 11.25045439\n",
      " 17.25968968  6.57876121  7.81616848  9.23226255  4.31467391  9.79516913\n",
      "  3.00942029  7.60797101 14.25950795 14.33360884 17.01184614 12.20804066\n",
      "  8.91685332  5.23949275 13.82994389 11.50292085  8.86484777  6.8733412\n",
      " 10.3637814  15.78509125  5.4        12.58532609  7.94577295  3.55037055\n",
      "  9.36766304 14.63107677  5.32505176 12.8028615   6.40597826  9.40138715\n",
      " 16.81112905  9.71571152  9.32882246  9.57608696  6.98342391 14.87039964\n",
      "  8.3810462  15.26292782 14.14533647  9.65488534  9.30502717 11.6095191\n",
      " 12.51449275  8.8512091   9.49180254  9.18206731  6.6683618   9.02796313\n",
      "  5.45217391 10.41410917 11.93434236 14.71413043 12.0252996  10.4793336\n",
      "  2.57110507 10.01311361  5.90265738 19.37410628  3.2173913  10.24150337\n",
      "  5.04666149 15.41003669  5.83478261 13.38910611  6.46811594 14.25914838\n",
      "  5.62681159  6.23326087  9.11089697  4.92481884 12.16000411 13.91679705\n",
      " 11.62471663  7.35688406  6.21285173  7.44806159  7.58000988  5.04914966\n",
      " 11.81904897  7.68509964  9.95492267  8.08691788 12.97667256  8.26796498\n",
      "  8.93205989  9.36876186 12.59508982  9.71648551 14.72900458  4.88923765\n",
      "  9.76409485 11.05024931 13.10732108  9.50311368 11.797417    5.2678744\n",
      " 12.45526253 14.40700477 12.63154316 11.30597143 12.43005364 10.43676788\n",
      "  9.9796668   7.29562445  7.60193191  7.92481884  8.80232111  4.55205314\n",
      "  9.39456522  8.66832729  6.83213423 11.57083122 13.55682787 14.04132574\n",
      " 15.76245421  4.91639493  2.82137681  6.29528986  1.57835145  6.9657296\n",
      "  9.02173913  8.44021739 12.42898551 11.19425416  6.41304348 10.72757804\n",
      "  3.0879529  10.94601449 12.72698233 12.54847904 12.98182456 16.44635611\n",
      " 10.06631609  2.83949275 10.74382114 14.83370757  6.34767877 12.16343163\n",
      "  8.78059653  9.36774564 14.52159357  9.98812487 11.73870942 10.34699858\n",
      " 11.59107027  2.6173913   9.16227858 11.33419819  9.20923913  9.24712932\n",
      " 12.37010795 12.91077362  7.25023749 17.2925472  13.10118077  3.38772297\n",
      " 14.38248937 17.14061507  6.2173913  15.27212302 16.58810094 10.7936848\n",
      " 11.77240835 12.98294541 11.77307518 10.81017206  8.5151721   7.53681183\n",
      " 16.71017169 13.24339028  9.22921194  5.42519324  6.88740942  8.65905797\n",
      " 16.19230728  8.98837793  9.23708714 11.97085566 12.04751787 11.23621719\n",
      "  9.92390228 13.28312112  6.0260563   8.0264234   9.6668702  12.91159706\n",
      " 13.07832446  1.4173913  13.74404874  9.63252525 13.55839279  8.7889032\n",
      " 14.29097593 10.05173127  7.57951833  6.01882664  9.96422101 10.43939355\n",
      "  9.24416807 12.27003537  6.12348309 16.0181428  13.58754157  7.87826087\n",
      "  8.50452899  7.45566123  5.91535326  7.30452899  8.0289661   8.32835429\n",
      "  7.19600438 13.40601908  9.82675494  7.55024155  4.00869565  8.20116747\n",
      " 16.35171668  7.59854921 10.08662817 16.12594571 12.38922286  8.37152174\n",
      "  5.17499137 14.28743974 14.13707729  8.65009058  9.62326389 27.58776596\n",
      "  5.40942029 12.60409444  9.39969968  3.6        15.38000332  9.47326501\n",
      "  5.83975802  6.90625     9.10095966]\n"
     ]
    }
   ],
   "source": [
    "print(y_pred)"
   ]
  },
  {
   "cell_type": "code",
   "execution_count": 21,
   "metadata": {},
   "outputs": [],
   "source": [
    "players = [\n",
    "    \"S Dhawan\",\n",
    "    \"P Simran Singh\",\n",
    "    \"PBB Rajapaksa\",\n",
    "    \"JM Sharma\",\n",
    "    \"M Shahrukh Khan\",\n",
    "    \"SM Curran\",\n",
    "    \"Sikandar Raza\",\n",
    "    \"NT Ellis\",\n",
    "    \"Harpreet Brar\",\n",
    "    \"RD Chahar\",\n",
    "    \"Arshdeep Singh\",\n",
    "    \"Rahmanullah Gurbaz\",\n",
    "    \"Mandeep Singh\",\n",
    "    \"N Rana\",\n",
    "    \"RK Singh\",\n",
    "    \"AD Russell\",\n",
    "    \"AS Roy\",\n",
    "    \"SN Thakur\",\n",
    "    \"SP Narine\",\n",
    "    \"TG Southee\",\n",
    "    \"CV Varun\",\n",
    "    \"UT Yadav\",\n",
    "]"
   ]
  },
  {
   "cell_type": "code",
   "execution_count": 44,
   "metadata": {},
   "outputs": [],
   "source": [
    "def get_batsman(match_id):\n",
    "    df = pd.read_csv(\"./batting_custom.csv\")\n",
    "    df = df[(df[\"match_id\"]) == match_id]\n",
    "    players = df[\"batter\"]\n",
    "    return players.tolist()\n",
    "\n",
    "\n",
    "players = get_batsman(1359507)"
   ]
  },
  {
   "cell_type": "code",
   "execution_count": 45,
   "metadata": {},
   "outputs": [],
   "source": [
    "df_mean[\"result\"] = y_pred\n",
    "df_reset = df_mean.reset_index()"
   ]
  },
  {
   "cell_type": "code",
   "execution_count": 46,
   "metadata": {},
   "outputs": [
    {
     "data": {
      "text/html": [
       "<div>\n",
       "<style scoped>\n",
       "    .dataframe tbody tr th:only-of-type {\n",
       "        vertical-align: middle;\n",
       "    }\n",
       "\n",
       "    .dataframe tbody tr th {\n",
       "        vertical-align: top;\n",
       "    }\n",
       "\n",
       "    .dataframe thead th {\n",
       "        text-align: right;\n",
       "    }\n",
       "</style>\n",
       "<table border=\"1\" class=\"dataframe\">\n",
       "  <thead>\n",
       "    <tr style=\"text-align: right;\">\n",
       "      <th></th>\n",
       "      <th>batter</th>\n",
       "      <th>batter_runs</th>\n",
       "      <th>balls_faced</th>\n",
       "      <th>out</th>\n",
       "      <th>strike_rate</th>\n",
       "      <th>time_value</th>\n",
       "      <th>result</th>\n",
       "    </tr>\n",
       "  </thead>\n",
       "  <tbody>\n",
       "    <tr>\n",
       "      <th>0</th>\n",
       "      <td>A Badoni</td>\n",
       "      <td>2.242926</td>\n",
       "      <td>2.443064</td>\n",
       "      <td>8.095238</td>\n",
       "      <td>3.737679</td>\n",
       "      <td>9.047619</td>\n",
       "      <td>11.709384</td>\n",
       "    </tr>\n",
       "    <tr>\n",
       "      <th>1</th>\n",
       "      <td>A Dananjaya</td>\n",
       "      <td>0.579710</td>\n",
       "      <td>0.869565</td>\n",
       "      <td>0.000000</td>\n",
       "      <td>2.500000</td>\n",
       "      <td>0.000000</td>\n",
       "      <td>6.949275</td>\n",
       "    </tr>\n",
       "    <tr>\n",
       "      <th>2</th>\n",
       "      <td>A Manohar</td>\n",
       "      <td>2.474916</td>\n",
       "      <td>2.474916</td>\n",
       "      <td>9.230769</td>\n",
       "      <td>3.630657</td>\n",
       "      <td>8.923077</td>\n",
       "      <td>11.488182</td>\n",
       "    </tr>\n",
       "    <tr>\n",
       "      <th>3</th>\n",
       "      <td>A Mishra</td>\n",
       "      <td>0.990338</td>\n",
       "      <td>1.847826</td>\n",
       "      <td>5.000000</td>\n",
       "      <td>2.574968</td>\n",
       "      <td>3.000000</td>\n",
       "      <td>7.813133</td>\n",
       "    </tr>\n",
       "    <tr>\n",
       "      <th>4</th>\n",
       "      <td>A Nortje</td>\n",
       "      <td>0.676329</td>\n",
       "      <td>0.748792</td>\n",
       "      <td>2.222222</td>\n",
       "      <td>3.050595</td>\n",
       "      <td>8.444444</td>\n",
       "      <td>9.342383</td>\n",
       "    </tr>\n",
       "  </tbody>\n",
       "</table>\n",
       "</div>"
      ],
      "text/plain": [
       "        batter  batter_runs  balls_faced       out  strike_rate  time_value  \\\n",
       "0     A Badoni     2.242926     2.443064  8.095238     3.737679    9.047619   \n",
       "1  A Dananjaya     0.579710     0.869565  0.000000     2.500000    0.000000   \n",
       "2    A Manohar     2.474916     2.474916  9.230769     3.630657    8.923077   \n",
       "3     A Mishra     0.990338     1.847826  5.000000     2.574968    3.000000   \n",
       "4     A Nortje     0.676329     0.748792  2.222222     3.050595    8.444444   \n",
       "\n",
       "      result  \n",
       "0  11.709384  \n",
       "1   6.949275  \n",
       "2  11.488182  \n",
       "3   7.813133  \n",
       "4   9.342383  "
      ]
     },
     "execution_count": 46,
     "metadata": {},
     "output_type": "execute_result"
    }
   ],
   "source": [
    "df_reset.head()"
   ]
  },
  {
   "cell_type": "code",
   "execution_count": 47,
   "metadata": {},
   "outputs": [
    {
     "name": "stdout",
     "output_type": "stream",
     "text": [
      "{'DP Conway': 19.845665426209862, 'AM Rahane': 12.772551944832369, 'S Dube': 13.243390281259591, 'RA Jadeja': 12.370107945026405, 'MS Dhoni': 12.631543163790308, 'N Jagadeesan': 11.57083122479377, 'N Rana': 14.041325742907123, 'VR Iyer': 14.287439740459158, 'JJ Roy': 14.870399641873892, 'RK Singh': 14.382489373118103, 'AD Russell': 13.235884906735158, 'UT Yadav': 7.598549214975847, 'CV Varun': 7.689402892799633, 'SP Narine': 9.666870196300902, 'D Wiese': 12.670591787439617, 'RD Gaikwad': 17.2925471991603}\n"
     ]
    }
   ],
   "source": [
    "result_df = pd.DataFrame()\n",
    "result_dict = dict()\n",
    "\n",
    "for player in players:\n",
    "    # Filter rows based on the condition\n",
    "    player_df = df_reset[df_reset[\"batter\"] == player]\n",
    "\n",
    "    # Concatenate the filtered DataFrame to the result DataFrame\n",
    "    result_df = pd.concat([result_df, player_df])\n",
    "\n",
    "    # Assuming 'result' is a unique column in your DataFrame\n",
    "    result_dict[player] = player_df['result'].iloc[0]\n",
    "\n",
    "# Display the result_dict and result_df\n",
    "print(result_dict)\n"
   ]
  },
  {
   "cell_type": "code",
   "execution_count": 48,
   "metadata": {},
   "outputs": [
    {
     "name": "stdout",
     "output_type": "stream",
     "text": [
      "{'DP Conway': 19.845665426209862, 'RD Gaikwad': 17.2925471991603, 'JJ Roy': 14.870399641873892, 'RK Singh': 14.382489373118103, 'VR Iyer': 14.287439740459158, 'N Rana': 14.041325742907123, 'S Dube': 13.243390281259591, 'AD Russell': 13.235884906735158, 'AM Rahane': 12.772551944832369, 'D Wiese': 12.670591787439617, 'MS Dhoni': 12.631543163790308, 'RA Jadeja': 12.370107945026405, 'N Jagadeesan': 11.57083122479377, 'SP Narine': 9.666870196300902, 'CV Varun': 7.689402892799633, 'UT Yadav': 7.598549214975847}\n"
     ]
    }
   ],
   "source": [
    "sorted_dict_desc = dict(sorted(result_dict.items(), key=lambda item: item[1], reverse=True))\n",
    "\n",
    "print(sorted_dict_desc)\n"
   ]
  },
  {
   "cell_type": "code",
   "execution_count": 50,
   "metadata": {},
   "outputs": [
    {
     "data": {
      "text/plain": [
       "{'DP Conway': 19.845665426209862,\n",
       " 'RD Gaikwad': 17.2925471991603,\n",
       " 'JJ Roy': 14.870399641873892,\n",
       " 'RK Singh': 14.382489373118103,\n",
       " 'VR Iyer': 14.287439740459158,\n",
       " 'N Rana': 14.041325742907123,\n",
       " 'S Dube': 13.243390281259591,\n",
       " 'AD Russell': 13.235884906735158,\n",
       " 'AM Rahane': 12.772551944832369,\n",
       " 'D Wiese': 12.670591787439617,\n",
       " 'MS Dhoni': 12.631543163790308,\n",
       " 'RA Jadeja': 12.370107945026405,\n",
       " 'N Jagadeesan': 11.57083122479377,\n",
       " 'SP Narine': 9.666870196300902,\n",
       " 'CV Varun': 7.689402892799633,\n",
       " 'UT Yadav': 7.598549214975847}"
      ]
     },
     "execution_count": 50,
     "metadata": {},
     "output_type": "execute_result"
    }
   ],
   "source": [
    "{\n",
    "    \"DP Conway\": 19.845665426209862,\n",
    "    \"RD Gaikwad\": 17.2925471991603,\n",
    "    \"JJ Roy\": 14.870399641873892,\n",
    "    \"RK Singh\": 14.382489373118103,\n",
    "    \"VR Iyer\": 14.287439740459158,\n",
    "    \"N Rana\": 14.041325742907123,\n",
    "    \"S Dube\": 13.243390281259591,\n",
    "    \"AD Russell\": 13.235884906735158,\n",
    "    \"AM Rahane\": 12.772551944832369,\n",
    "    \"D Wiese\": 12.670591787439617,\n",
    "    \"MS Dhoni\": 12.631543163790308,\n",
    "    \"RA Jadeja\": 12.370107945026405,\n",
    "    \"N Jagadeesan\": 11.57083122479377,\n",
    "    \"SP Narine\": 9.666870196300902,\n",
    "    \"CV Varun\": 7.689402892799633,\n",
    "    \"UT Yadav\": 7.598549214975847,\n",
    "}"
   ]
  },
  {
   "cell_type": "code",
   "execution_count": null,
   "metadata": {},
   "outputs": [],
   "source": []
  },
  {
   "cell_type": "code",
   "execution_count": null,
   "metadata": {},
   "outputs": [],
   "source": []
  }
 ],
 "metadata": {
  "kernelspec": {
   "display_name": "Python 3",
   "language": "python",
   "name": "python3"
  },
  "language_info": {
   "codemirror_mode": {
    "name": "ipython",
    "version": 3
   },
   "file_extension": ".py",
   "mimetype": "text/x-python",
   "name": "python",
   "nbconvert_exporter": "python",
   "pygments_lexer": "ipython3",
   "version": "3.10.11"
  }
 },
 "nbformat": 4,
 "nbformat_minor": 2
}
