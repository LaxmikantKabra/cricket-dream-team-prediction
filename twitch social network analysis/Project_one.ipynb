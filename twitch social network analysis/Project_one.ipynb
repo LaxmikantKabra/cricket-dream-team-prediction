{
 "cells": [
  {
   "cell_type": "code",
   "execution_count": 2,
   "id": "aa43ce16-2490-4091-9284-33e6f0b2426d",
   "metadata": {},
   "outputs": [],
   "source": [
    "# import all libraries \n",
    "import numpy as np\n",
    "from sklearn.linear_model import LogisticRegression\n",
    "import matplotlib.pyplot as plt\n",
    "import networkx as nx\n",
    "from sklearn.manifold import TSNE\n",
    "import random\n",
    "import warnings\n",
    "from sklearn.cluster import KMeans\n",
    "from sklearn.metrics import accuracy_score, f1_score\n",
    "import community as comm\n",
    "import pandas as pd\n",
    "warnings.filterwarnings('ignore')\n",
    "%run ./helper.ipynb"
   ]
  },
  {
   "cell_type": "code",
   "execution_count": 18,
   "id": "9b3752ca-ed64-4160-bcd1-88715875eb29",
   "metadata": {},
   "outputs": [],
   "source": [
    "def node_classification(embeddings, label):\n",
    "    X, Y = read_node_label(label,skip_head=True)\n",
    "    \n",
    "    ltrainfrac = [0.05, 0.1, 0.2, 0.3, .4, .5, .6, .7, .8]\n",
    "    for tf in ltrainfrac:\n",
    "        print(\"Training classifier using {:.2f}% nodes...\".format(tf * 100))\n",
    "        split_train_evaluate(X, Y, embeddings, tf)\n",
    "\n",
    "\n",
    "        \n",
    "        \n",
    "def makeLinkPredictionData(graph, embeddings):\n",
    "    # converting embedding to a numpy array\n",
    "    X = [[0] for i in range(G.number_of_nodes())]\n",
    "    for i in range(0,G.number_of_nodes()):\n",
    "        X[i] = embeddings[i]\n",
    "    X = np.array(X)\n",
    "    \n",
    "    Xd = []\n",
    "    Yd = []\n",
    "    count = 0\n",
    "    # for all vertices\n",
    "    nodes=np.array(list(graph.nodes()),dtype=int)\n",
    "    nodes.sort()\n",
    "    print(nodes.shape)\n",
    "    print(nodes[:20])\n",
    "    for u in range(graph.number_of_nodes()):\n",
    "        # print(u)\n",
    "        Nu = list(graph.neighbors(u))\n",
    "        count += len(Nu)\n",
    "        cn = 0\n",
    "        totalns = 0\n",
    "        # for all neighbors of u\n",
    "        for n in Nu:\n",
    "            x = []\n",
    "            if n > u:\n",
    "                for d in range(len(X[0])):\n",
    "                    x.append(X[u][d] - X[n][d]) # distance between the embeddings of u and its neighbor n\n",
    "                Xd.append(x)\n",
    "                Yd.append(1) # positive sample (edge present)\n",
    "                totalns += 1\n",
    "        tmpnn = []\n",
    "        if len(Nu) > graph.number_of_nodes() // 2:\n",
    "            totalns = (graph.number_of_nodes() - len(Nu)) // 2\n",
    "            #print(\"Testing neighbors!\")\n",
    "        while cn < totalns:\n",
    "            nn = random.randint(0, graph.number_of_nodes() - 1)\n",
    "            # non-neighbors of u\n",
    "            if nn not in Nu and nn not in tmpnn:\n",
    "                cn += 1\n",
    "                x = []\n",
    "                for d in range(len(X[0])):\n",
    "                    x.append(X[u][d] - X[nn][d])\n",
    "                Xd.append(x)\n",
    "                Yd.append(0) # negative sample (edge absent)\n",
    "                tmpnn.append(nn)\n",
    "    Xd, Yd = np.array(Xd), np.array(Yd)\n",
    "    indices = np.array(range(len(Yd)))\n",
    "    np.random.shuffle(indices)\n",
    "    Xt = Xd[indices]\n",
    "    Yt = Yd[indices]\n",
    "    #print(len(Xd), len(Yd), count)\n",
    "    \n",
    "    \n",
    "    ltrainfrac = .75\n",
    "    # for tf in ltrainfrac:\n",
    "    CV = int(len(Yt) * ltrainfrac)\n",
    "    trainX = Xt[0:CV]\n",
    "    testX = Xt[CV:]\n",
    "    trainY = Yt[0:CV]\n",
    "    testY = Yt[CV:]\n",
    "    modelLR = LogisticRegression().fit(trainX, trainY)\n",
    "    predictedY = modelLR.predict(testX)\n",
    "    acc = accuracy_score(predictedY, testY)\n",
    "    #f1macro = f1_score(predictedY, testY, average='macro', labels=np.unique(predictedY))\n",
    "    #f1micro = f1_score(predictedY, testY, average='micro', labels=np.unique(predictedY))\n",
    "    #print(\"Link predictions:\", tf, \":Accuracy:\",acc, \"F1-macro:\", f1macro, \"F1-micro:\",f1micro)\n",
    "    print(\"Link predictions:\", ltrainfrac, \":Accuracy:\",acc)\n",
    "\n",
    "\n",
    "\n",
    "def cluster_eval(G, embeddings):\n",
    "    # converting embedding to a numpy array\n",
    "    X = [[0] for i in range(G.number_of_nodes())]\n",
    "    for i in range(0, G.number_of_nodes()):\n",
    "        X[i] = embeddings[str(i+1)]\n",
    "    X = np.array(X)\n",
    "\n",
    "    bestModularity = 0\n",
    "    bestC = 2\n",
    "    NOC = 30\n",
    "    allmodularity = []\n",
    "    for cls in range(2, NOC):\n",
    "        \n",
    "        # find clusters using a kmeans clustering algorithm on the embedding\n",
    "        # Number of clusters is set to cls\n",
    "        clusters = KMeans(n_clusters=cls, random_state=0).fit(X)\n",
    "        predG = dict()\n",
    "        for node in range(len(clusters.labels_)):\n",
    "            predG[node] = clusters.labels_[node]\n",
    "        \n",
    "        # compute the modularity score of the Kmeans clustering\n",
    "        modularity = comm.community_louvain.modularity(predG, G)\n",
    "        allmodularity.append(modularity)\n",
    "        print(\"Number of clusters: \", cls, \"  Modularity: \", modularity)\n",
    "        if modularity > bestModularity:\n",
    "            bestModularity = modularity\n",
    "            bestC = cls\n",
    "    plt.scatter(range(2, NOC), allmodularity)\n",
    "    plt.xlabel(\"Number of clusters\")\n",
    "    plt.ylabel(\"Modularity score\")\n",
    "    plt.show()\n",
    "    #print(\"Best Modularity:\",bestModularity, \"Clusters:\", bestC)\n",
    "\n",
    "    \n",
    "    \n",
    "def plot_embeddings(embeddings, label):\n",
    "\n",
    "    X, Y = read_node_label(label,skip_head=True)\n",
    "    emb_list = []\n",
    "    for k in X:\n",
    "        emb_list.append(embeddings[k])\n",
    "    emb_list = np.array(emb_list)\n",
    "\n",
    "    model = TSNE(n_components=2)\n",
    "    node_pos = model.fit_transform(emb_list)\n",
    "    color_idx = {}\n",
    "\n",
    "    for i in range(len(X)):\n",
    "        color_idx.setdefault(Y[i][0], [])\n",
    "        color_idx[Y[i][0]].append(i)\n",
    "\n",
    "    for c, idx in color_idx.items():\n",
    "        plt.scatter(node_pos[idx, 0], node_pos[idx, 1], label=c)  # c=node_colors)\n",
    "    plt.legend()\n",
    "    plt.show()"
   ]
  },
  {
   "cell_type": "code",
   "execution_count": 3,
   "id": "11b438fc-1547-414c-ae78-8f2fc10f204f",
   "metadata": {},
   "outputs": [
    {
     "name": "stdout",
     "output_type": "stream",
     "text": [
      "Number of nodes:  168114\n",
      "Number of edges:  6797557\n"
     ]
    }
   ],
   "source": [
    "graphfile = 'twitch_edges.txt'\n",
    "# G = pd.read_csv('large_twitch_edges.txt')\n",
    "# labelfile = 'cora.nodes.labels'\n",
    "G = nx.read_edgelist('edges_twich_gamers.txt', nodetype=int)\n",
    "# G = G.to_directed()\n",
    "print(\"Number of nodes: \", G.number_of_nodes())\n",
    "print(\"Number of edges: \", G.number_of_edges())\n"
   ]
  },
  {
   "cell_type": "code",
   "execution_count": 4,
   "id": "337b5c8b-8518-47c1-a890-42974f179195",
   "metadata": {},
   "outputs": [
    {
     "name": "stdout",
     "output_type": "stream",
     "text": [
      "Learning embedding vectors...\n",
      "Learning embedding vectors done!\n"
     ]
    }
   ],
   "source": [
    "# Get embedding 128 dimension\n",
    "walks_deepwalk = deepwalk_walks(G, walk_length=6,num_walks=10)\n",
    "embeddings_deepwalk = get_embedding(G,walks_deepwalk)\n",
    "\n"
   ]
  },
  {
   "cell_type": "code",
   "execution_count": 14,
   "id": "39c285b9-6c04-4811-bd28-76032c1babb6",
   "metadata": {},
   "outputs": [
    {
     "data": {
      "text/plain": [
       "168114"
      ]
     },
     "execution_count": 14,
     "metadata": {},
     "output_type": "execute_result"
    }
   ],
   "source": [
    "len(embeddings_deepwalk)"
   ]
  },
  {
   "cell_type": "code",
   "execution_count": 13,
   "id": "1678ec6c-d5d3-4c7e-b49d-0be0d797dc8b",
   "metadata": {},
   "outputs": [
    {
     "data": {
      "text/plain": [
       "array([ 0.3236165 , -0.08275992,  0.43821412,  0.43181616, -0.11131468,\n",
       "       -0.1063156 , -0.45930204, -0.16285433, -0.03571598,  0.34196168,\n",
       "       -0.39276353, -0.25330806,  0.3939766 ,  0.4795174 , -0.5403613 ,\n",
       "        0.55807835, -0.5091514 , -0.39936104,  0.00733084, -0.00713692,\n",
       "        0.24127099, -0.509476  ,  0.10707782, -0.72262317,  0.5735699 ,\n",
       "       -0.02766008,  0.39398977,  0.6084681 , -0.00463788,  0.36586136,\n",
       "        0.06890488,  0.22692527,  0.10163262,  0.1313394 , -0.16566713,\n",
       "       -0.14603743,  0.25727773, -0.39185178,  0.32752234,  0.5367702 ,\n",
       "        0.84412456,  0.49011832, -0.62687933, -0.35515675,  0.35783276,\n",
       "        0.37517372, -0.17012076, -0.291559  ,  0.49715376,  0.48664126,\n",
       "       -0.34207138,  0.2844901 ,  0.39653644, -0.06646778,  0.06239418,\n",
       "       -0.35014305,  0.30183172,  0.236775  ,  0.00134017,  0.18113793,\n",
       "        0.19234318,  0.54058075, -0.07578667,  0.13742556, -0.07931186,\n",
       "       -0.02793577, -0.16832095, -0.03654853,  0.16242751, -0.06153009,\n",
       "       -0.00866119,  0.2058191 , -0.12685797,  0.16984293,  0.19299065,\n",
       "       -0.1301258 ,  0.44789663, -0.1490906 , -1.0682638 , -0.33767006,\n",
       "        0.00541644,  0.4980781 ,  0.24676594,  0.14130093,  0.03595855,\n",
       "       -0.1264969 , -0.694371  ,  0.38958907, -0.36653095, -0.06408264,\n",
       "        0.11599634, -0.51104325,  0.01278198,  0.52093315, -0.6919003 ,\n",
       "        0.3123292 , -0.2612596 , -0.06166039, -0.0956149 ,  0.11006766,\n",
       "       -1.019984  , -0.15623994,  0.38582274, -0.5359084 , -0.22064634,\n",
       "       -0.02678777, -0.3887269 ,  0.39793164, -0.01984983, -0.06422912,\n",
       "        0.05588788, -0.418583  , -0.6910824 ,  0.01648006,  0.1815036 ,\n",
       "        0.147145  , -0.01570385,  0.0316406 ,  0.35025653, -0.13587023,\n",
       "        0.37713033,  0.02743566,  0.41316706, -0.04594677,  0.20654638,\n",
       "        0.24613838,  0.18979175,  0.20646797], dtype=float32)"
      ]
     },
     "execution_count": 13,
     "metadata": {},
     "output_type": "execute_result"
    }
   ],
   "source": [
    "embeddings_deepwalk[0]"
   ]
  },
  {
   "cell_type": "code",
   "execution_count": 10,
   "id": "bd01514d-be3b-41c0-81a5-8cfb45476dd2",
   "metadata": {},
   "outputs": [
    {
     "data": {
      "text/plain": [
       "array([ 0,  1,  2,  3,  4,  5,  6,  7,  8,  9, 10, 11, 12, 13, 14, 15, 16,\n",
       "       17, 18, 19, 20, 21, 22, 23, 24, 25, 26, 27, 28, 29, 30, 31, 32, 33,\n",
       "       34, 35, 36, 37, 38, 39, 40, 41, 42, 43, 44, 45, 46, 47, 48, 49])"
      ]
     },
     "execution_count": 10,
     "metadata": {},
     "output_type": "execute_result"
    }
   ],
   "source": [
    "nodes_G = list(G.nodes())\n",
    "nodes_G = np.array(nodes_G,dtype=int)\n",
    "nodes_G.sort()\n",
    "nodes_G[:50]"
   ]
  },
  {
   "cell_type": "code",
   "execution_count": null,
   "id": "58c8290d-15cc-4c03-947b-a6a7ea9b8f7f",
   "metadata": {},
   "outputs": [
    {
     "name": "stdout",
     "output_type": "stream",
     "text": [
      "(168114,)\n",
      "[ 0  1  2  3  4  5  6  7  8  9 10 11 12 13 14 15 16 17 18 19]\n"
     ]
    }
   ],
   "source": [
    "makeLinkPredictionData(G, embeddings_deepwalk) "
   ]
  },
  {
   "cell_type": "code",
   "execution_count": null,
   "id": "5266b1fe-82cb-40e9-9119-30ce35a5f777",
   "metadata": {},
   "outputs": [],
   "source": [
    "import pandas as pd\n",
    "\n",
    "df_embedding = pd.read_csv('embeddings.csv',header=None)\n"
   ]
  },
  {
   "cell_type": "code",
   "execution_count": null,
   "id": "09af98c8-4d50-48d1-8a52-2f5fd22ae4ea",
   "metadata": {},
   "outputs": [],
   "source": [
    "df_embedding"
   ]
  },
  {
   "cell_type": "code",
   "execution_count": null,
   "id": "b3b5ec15-e063-4783-9218-dbf27e6666c7",
   "metadata": {},
   "outputs": [],
   "source": [
    "embeddings_csv = nx.read_edgelist('embeddings.csv', nodetype=None)"
   ]
  },
  {
   "cell_type": "code",
   "execution_count": null,
   "id": "66de2817-d695-4ea9-8506-137f5c7dc9b9",
   "metadata": {},
   "outputs": [],
   "source": [
    "import numpy as np\n",
    "from sklearn.manifold import TSNE\n",
    "import matplotlib.pyplot as plt\n",
    "\n",
    "# Extract the node embeddings\n",
    "embeddings = np.array([embeddings_deepwalk[str(node)] for node in G.nodes()])\n",
    "\n",
    "# Reduce the dimensionality of the embeddings to 2D using t-SNE\n",
    "tsne = TSNE(n_components=2)\n",
    "embeddings_2d = tsne.fit_transform(embeddings)\n",
    "\n",
    "# Plot the embeddings in 2D\n",
    "plt.scatter(embeddings_2d[:,0], embeddings_2d[:,1], s=10)\n",
    "plt.show()\n"
   ]
  },
  {
   "cell_type": "code",
   "execution_count": null,
   "id": "4c5dcc94-c988-4f59-aa03-d389d906c16a",
   "metadata": {},
   "outputs": [],
   "source": [
    "\n",
    "# # Extract the node embeddings\n",
    "# embeddings = np.array([embeddings_deepwalk[str(node)] for node in G.nodes()])\n",
    "\n",
    "# Save the embeddings as a CSV file\n",
    "np.savetxt(\"embeddings.csv\", embeddings, delimiter=\",\")\n"
   ]
  },
  {
   "cell_type": "code",
   "execution_count": 7,
   "id": "bab0a8ec-8aaa-4b6d-8545-626e9934c029",
   "metadata": {},
   "outputs": [
    {
     "ename": "ValueError",
     "evalue": "Expected 1D or 2D array, got 0D array instead",
     "output_type": "error",
     "traceback": [
      "\u001b[1;31m---------------------------------------------------------------------------\u001b[0m",
      "\u001b[1;31mValueError\u001b[0m                                Traceback (most recent call last)",
      "Input \u001b[1;32mIn [7]\u001b[0m, in \u001b[0;36m<cell line: 1>\u001b[1;34m()\u001b[0m\n\u001b[1;32m----> 1\u001b[0m \u001b[43mnp\u001b[49m\u001b[38;5;241;43m.\u001b[39;49m\u001b[43msavetxt\u001b[49m\u001b[43m(\u001b[49m\u001b[38;5;124;43m\"\u001b[39;49m\u001b[38;5;124;43membeddings.txt\u001b[39;49m\u001b[38;5;124;43m\"\u001b[39;49m\u001b[43m,\u001b[49m\u001b[43m \u001b[49m\u001b[43membeddings_deepwalk\u001b[49m\u001b[43m,\u001b[49m\u001b[43m \u001b[49m\u001b[43mdelimiter\u001b[49m\u001b[38;5;241;43m=\u001b[39;49m\u001b[38;5;124;43m\"\u001b[39;49m\u001b[38;5;124;43m \u001b[39;49m\u001b[38;5;124;43m\"\u001b[39;49m\u001b[43m,\u001b[49m\u001b[43m \u001b[49m\u001b[43mfmt\u001b[49m\u001b[38;5;241;43m=\u001b[39;49m\u001b[38;5;124;43m\"\u001b[39;49m\u001b[38;5;132;43;01m%s\u001b[39;49;00m\u001b[38;5;124;43m\"\u001b[39;49m\u001b[43m)\u001b[49m\n",
      "File \u001b[1;32m<__array_function__ internals>:5\u001b[0m, in \u001b[0;36msavetxt\u001b[1;34m(*args, **kwargs)\u001b[0m\n",
      "File \u001b[1;32m~\\anaconda3\\lib\\site-packages\\numpy\\lib\\npyio.py:1382\u001b[0m, in \u001b[0;36msavetxt\u001b[1;34m(fname, X, fmt, delimiter, newline, header, footer, comments, encoding)\u001b[0m\n\u001b[0;32m   1380\u001b[0m \u001b[38;5;66;03m# Handle 1-dimensional arrays\u001b[39;00m\n\u001b[0;32m   1381\u001b[0m \u001b[38;5;28;01mif\u001b[39;00m X\u001b[38;5;241m.\u001b[39mndim \u001b[38;5;241m==\u001b[39m \u001b[38;5;241m0\u001b[39m \u001b[38;5;129;01mor\u001b[39;00m X\u001b[38;5;241m.\u001b[39mndim \u001b[38;5;241m>\u001b[39m \u001b[38;5;241m2\u001b[39m:\n\u001b[1;32m-> 1382\u001b[0m     \u001b[38;5;28;01mraise\u001b[39;00m \u001b[38;5;167;01mValueError\u001b[39;00m(\n\u001b[0;32m   1383\u001b[0m         \u001b[38;5;124m\"\u001b[39m\u001b[38;5;124mExpected 1D or 2D array, got \u001b[39m\u001b[38;5;132;01m%d\u001b[39;00m\u001b[38;5;124mD array instead\u001b[39m\u001b[38;5;124m\"\u001b[39m \u001b[38;5;241m%\u001b[39m X\u001b[38;5;241m.\u001b[39mndim)\n\u001b[0;32m   1384\u001b[0m \u001b[38;5;28;01melif\u001b[39;00m X\u001b[38;5;241m.\u001b[39mndim \u001b[38;5;241m==\u001b[39m \u001b[38;5;241m1\u001b[39m:\n\u001b[0;32m   1385\u001b[0m     \u001b[38;5;66;03m# Common case -- 1d array of numbers\u001b[39;00m\n\u001b[0;32m   1386\u001b[0m     \u001b[38;5;28;01mif\u001b[39;00m X\u001b[38;5;241m.\u001b[39mdtype\u001b[38;5;241m.\u001b[39mnames \u001b[38;5;129;01mis\u001b[39;00m \u001b[38;5;28;01mNone\u001b[39;00m:\n",
      "\u001b[1;31mValueError\u001b[0m: Expected 1D or 2D array, got 0D array instead"
     ]
    }
   ],
   "source": [
    "np.savetxt(\"embeddings.txt\", embeddings_deepwalk, delimiter=\" \", fmt=\"%s\")\n"
   ]
  },
  {
   "cell_type": "code",
   "execution_count": null,
   "id": "fedc06b8-1935-44a0-a238-b0c16924535d",
   "metadata": {},
   "outputs": [],
   "source": []
  },
  {
   "cell_type": "code",
   "execution_count": null,
   "id": "67f949aa-bb27-4fcf-9b8b-5642b57d1f90",
   "metadata": {},
   "outputs": [],
   "source": [
    "makeLinkPredictionData(G, df_embedding) "
   ]
  },
  {
   "cell_type": "code",
   "execution_count": null,
   "id": "4d928c29-8a8f-4a75-aec7-06934a63853e",
   "metadata": {},
   "outputs": [],
   "source": [
    "def deepwalk_walks_2(G, num_walks, walk_length):\n",
    "    nodes = [n for n in G.nodes() if n in G]\n",
    "    walks = []\n",
    "    for _ in range(num_walks):\n",
    "        for v in nodes:\n",
    "            walk = [v]\n",
    "            while len(walk) < walk_length:\n",
    "                cur = walk[-1]\n",
    "                cur_nbrs = list(G.neighbors(cur))\n",
    "                if len(cur_nbrs) > 0:\n",
    "                    walk.append(random.choice(cur_nbrs))\n",
    "                else:\n",
    "                    break\n",
    "            walks.append(walk)\n",
    "    return walks\n"
   ]
  },
  {
   "cell_type": "code",
   "execution_count": null,
   "id": "11849379-0b4f-4fcc-8e35-53548aa74a5a",
   "metadata": {},
   "outputs": [],
   "source": [
    "def makeLinkPredictionData_2(graph, embeddings):\n",
    "    # converting embedding to a numpy array\n",
    "    X = [[0] for i in range(G.number_of_nodes())]\n",
    "    for i in range(0, G.number_of_nodes()):\n",
    "        if str(i+1) in embeddings:\n",
    "            X[i] = embeddings[str(i+1)]\n",
    "    X = np.array(X)\n",
    "\n",
    "    Xd = []\n",
    "    Yd = []\n",
    "    count = 0\n",
    "    # for all vertices\n",
    "    for u in range(graph.number_of_nodes()):\n",
    "        Nu = list(graph.neighbors(u))\n",
    "        count += len(Nu)\n",
    "        cn = 0\n",
    "        totalns = 0\n",
    "        # for all neighbors of u\n",
    "        for n in Nu:\n",
    "            if n > u and n in graph:\n",
    "                x = []\n",
    "                for d in range(len(X[0])):\n",
    "                    x.append(X[u][d] - X[n][d]) # distance between the embeddings of u and its neighbor n\n",
    "                Xd.append(x)\n",
    "                Yd.append(1) # positive sample (edge present)\n",
    "                totalns += 1\n",
    "        tmpnn = []\n",
    "        if len(Nu) > graph.number_of_nodes() // 2:\n",
    "            totalns = (graph.number_of_nodes() - len(Nu)) // 2\n",
    "            #print(\"Testing neighbors!\")\n",
    "        while cn < totalns:\n",
    "            nn = random.randint(0, graph.number_of_nodes() - 1)\n",
    "            # non-neighbors of u\n",
    "            if nn not in Nu and nn not in tmpnn and nn in graph:\n",
    "                cn += 1\n",
    "                x = []\n",
    "                for d in range(len(X[0])):\n",
    "                    x.append(X[u][d] - X[nn][d])\n",
    "                Xd.append(x)\n",
    "                Yd.append(0) # negative sample (edge absent)\n",
    "                tmpnn.append(nn)\n",
    "    Xd, Yd = np.array(Xd), np.array(Yd)\n",
    "    indices = np.array(range(len(Yd)))\n",
    "    np.random.shuffle(indices)\n",
    "    Xt = Xd[indices]\n",
    "    Yt = Yd[indices]\n",
    "    #print(len(Xd), len(Yd), count)\n",
    "\n",
    "    ltrainfrac = [0.05, 0.1, 0.2, 0.3, .4, .5, .6, .7, .8]\n",
    "    for tf in ltrainfrac:\n",
    "        CV = int(len(Yt) * tf)\n",
    "        trainX = Xt[0:CV]\n",
    "        testX = Xt[CV:]\n",
    "        trainY = Yt[0:CV]\n",
    "        testY = Yt[CV:]\n",
    "        modelLR = LogisticRegression().fit(trainX, trainY)\n",
    "        predictedY = model\n"
   ]
  },
  {
   "cell_type": "code",
   "execution_count": null,
   "id": "d60d3de4-e2a2-424b-a5cf-15545a9e52a6",
   "metadata": {},
   "outputs": [],
   "source": [
    "# Get embedding 128 dimension\n",
    "walks_deepwalk_2 = deepwalk_walks_2(G, walk_length=6,num_walks=10)\n",
    "embeddings_deepwalk_2 = get_embedding(G,walks_deepwalk_2)\n",
    "\n"
   ]
  },
  {
   "cell_type": "code",
   "execution_count": null,
   "id": "08407715-b746-4f02-8882-8614a7fe55fd",
   "metadata": {},
   "outputs": [],
   "source": [
    "\n",
    "# Extract the node embeddings\n",
    "embeddings_2 = np.array([embeddings_deepwalk_2[str(node)] for node in G.nodes()])\n",
    "\n",
    "# Reduce the dimensionality of the embeddings to 2D using t-SNE\n",
    "tsne = TSNE(n_components=2)\n",
    "embeddings_2d_2 = tsne.fit_transform(embeddings_2)\n",
    "\n",
    "# Plot the embeddings in 2D\n",
    "plt.scatter(embeddings_2d_2[:,0], embeddings_2d_2[:,1], s=10)\n",
    "plt.show()\n"
   ]
  },
  {
   "cell_type": "code",
   "execution_count": null,
   "id": "7bf5f0c2-0163-4bea-b652-9ebc10e6db70",
   "metadata": {},
   "outputs": [],
   "source": [
    "\n",
    "# # Extract the node embeddings\n",
    "# embeddings = np.array([embeddings_deepwalk[str(node)] for node in G.nodes()])\n",
    "\n",
    "# Save the embeddings as a CSV file\n",
    "np.savetxt(\"embeddings_2.csv\", embeddings_2, delimiter=\",\")\n",
    "np.savetxt(\"embeddings_2.txt\", embeddings_2, delimiter=\" \", fmt=\"%s\")\n"
   ]
  },
  {
   "cell_type": "code",
   "execution_count": null,
   "id": "c7f102b7-ad37-4cf0-8139-ca4fe3a3db95",
   "metadata": {},
   "outputs": [],
   "source": [
    "makeLinkPredictionData(G, embeddings_deepwalk) "
   ]
  },
  {
   "cell_type": "code",
   "execution_count": null,
   "id": "bfc985bc-773a-4ee3-838a-ee52e5038ae9",
   "metadata": {},
   "outputs": [],
   "source": [
    "def makeLinkPredictionData_3(graph, embeddings):\n",
    "    n_nodes = len(graph.nodes())\n",
    "    nodes = list(graph.nodes())\n",
    "    edges = list(graph.edges())\n",
    "    \n",
    "    Xd = np.zeros((len(edges), embeddings.shape[1]*2))\n",
    "    Yd = np.zeros(len(edges))\n",
    "    \n",
    "    for i in range(len(edges)):\n",
    "        edge = edges[i]\n",
    "        node1 = nodes.index(edge[0])\n",
    "        node2 = nodes.index(edge[1])\n",
    "        Xd[i] = np.hstack((embeddings[node1], embeddings[node2]))\n",
    "        if graph.has_edge(*edge):\n",
    "            Yd[i] = 1\n",
    "            \n",
    "    indices = np.array(range(len(Yd)))\n",
    "    np.random.shuffle(indices)\n",
    "    Xt = Xd[indices.astype(int)]\n",
    "    Yt = Yd[indices.astype(int)]\n",
    "    \n",
    "    return Xt, Yt\n"
   ]
  },
  {
   "cell_type": "code",
   "execution_count": null,
   "id": "d6add276-25b6-43a0-a7c0-b35c7081ee27",
   "metadata": {},
   "outputs": [],
   "source": [
    "makeLinkPredictionData_3(G, embeddings_deepwalk_2) "
   ]
  },
  {
   "cell_type": "code",
   "execution_count": null,
   "id": "2cb5bbbb-1bba-4ce0-9d87-7a2b276d29f5",
   "metadata": {},
   "outputs": [],
   "source": []
  }
 ],
 "metadata": {
  "kernelspec": {
   "display_name": "Python 3 (ipykernel)",
   "language": "python",
   "name": "python3"
  },
  "language_info": {
   "codemirror_mode": {
    "name": "ipython",
    "version": 3
   },
   "file_extension": ".py",
   "mimetype": "text/x-python",
   "name": "python",
   "nbconvert_exporter": "python",
   "pygments_lexer": "ipython3",
   "version": "3.9.12"
  }
 },
 "nbformat": 4,
 "nbformat_minor": 5
}
