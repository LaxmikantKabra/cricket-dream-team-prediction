{
 "cells": [
  {
   "cell_type": "code",
   "execution_count": 1,
   "id": "3c93739d",
   "metadata": {},
   "outputs": [],
   "source": [
    "#!pip3 install torch torchvision torchaudio --index-url https://download.pytorch.org/whl/cpu\n",
    "#!pip3 install torch-geometric\n",
    "#!pip list | grep torch\n",
    "#!pip3 install --upgrade torchvision"
   ]
  },
  {
   "cell_type": "markdown",
   "id": "985c8c9a",
   "metadata": {},
   "source": [
    "### importing libraries "
   ]
  },
  {
   "cell_type": "code",
   "execution_count": 1,
   "id": "88616122",
   "metadata": {},
   "outputs": [],
   "source": [
    "import torch #The torch package contains data structures for multi-dimensional tensors and mathematical operations over these are defined.\n",
    "import torchvision #The torchvision package consists of popular datasets, model architectures, and common image transformations for computer vision.\n",
    "import torch.nn as nn\n",
    "import numpy as np\n",
    "import torchvision.transforms as transforms\n",
    "import torch.nn.functional as F\n",
    "from torch_geometric.nn import GCNConv\n",
    "from torch_geometric.nn import SAGEConv\n",
    "import pandas as pd"
   ]
  },
  {
   "cell_type": "code",
   "execution_count": 2,
   "id": "e2880584",
   "metadata": {},
   "outputs": [],
   "source": [
    "# importing the dataset :-- \n",
    "edge_dataset=pd.read_csv('large_twitch_edges.csv')"
   ]
  },
  {
   "cell_type": "code",
   "execution_count": 52,
   "id": "1eea3668",
   "metadata": {},
   "outputs": [],
   "source": [
    "features_dataset=pd.read_csv('large_twitch_features.csv')"
   ]
  },
  {
   "cell_type": "code",
   "execution_count": 53,
   "id": "30ef61b5",
   "metadata": {},
   "outputs": [
    {
     "name": "stdout",
     "output_type": "stream",
     "text": [
      "<class 'pandas.core.frame.DataFrame'>\n",
      "RangeIndex: 6797557 entries, 0 to 6797556\n",
      "Data columns (total 2 columns):\n",
      " #   Column        Dtype\n",
      "---  ------        -----\n",
      " 0   numeric_id_1  int64\n",
      " 1   numeric_id_2  int64\n",
      "dtypes: int64(2)\n",
      "memory usage: 103.7 MB\n",
      "<class 'pandas.core.frame.DataFrame'>\n",
      "RangeIndex: 168114 entries, 0 to 168113\n",
      "Data columns (total 9 columns):\n",
      " #   Column        Non-Null Count   Dtype \n",
      "---  ------        --------------   ----- \n",
      " 0   views         168114 non-null  int64 \n",
      " 1   mature        168114 non-null  int64 \n",
      " 2   life_time     168114 non-null  int64 \n",
      " 3   created_at    168114 non-null  object\n",
      " 4   updated_at    168114 non-null  object\n",
      " 5   numeric_id    168114 non-null  int64 \n",
      " 6   dead_account  168114 non-null  int64 \n",
      " 7   language      168114 non-null  object\n",
      " 8   affiliate     168114 non-null  int64 \n",
      "dtypes: int64(6), object(3)\n",
      "memory usage: 11.5+ MB\n"
     ]
    }
   ],
   "source": [
    "edge_dataset.info()\n",
    "features_dataset.info()"
   ]
  },
  {
   "cell_type": "code",
   "execution_count": 54,
   "id": "6640587e",
   "metadata": {},
   "outputs": [
    {
     "data": {
      "text/plain": [
       "(168114, 9)"
      ]
     },
     "execution_count": 54,
     "metadata": {},
     "output_type": "execute_result"
    }
   ],
   "source": [
    "edge_dataset.shape\n",
    "features_dataset.shape"
   ]
  },
  {
   "cell_type": "markdown",
   "id": "753df675",
   "metadata": {},
   "source": [
    "### converting life_time column in years "
   ]
  },
  {
   "cell_type": "code",
   "execution_count": 55,
   "id": "bcf55804",
   "metadata": {},
   "outputs": [
    {
     "data": {
      "text/plain": [
       "4.0     31843\n",
       "3.0     28895\n",
       "5.0     28128\n",
       "2.0     23924\n",
       "1.0     18249\n",
       "6.0     17710\n",
       "7.0      7448\n",
       "0.0      6597\n",
       "8.0      2762\n",
       "9.0      1907\n",
       "10.0      578\n",
       "11.0       73\n",
       "Name: life_time, dtype: int64"
      ]
     },
     "execution_count": 55,
     "metadata": {},
     "output_type": "execute_result"
    }
   ],
   "source": [
    "\n",
    "features_dataset['life_time'] = features_dataset['life_time'] // 365.25\n",
    "features_dataset['life_time'].value_counts()"
   ]
  },
  {
   "cell_type": "code",
   "execution_count": 56,
   "id": "42a43712",
   "metadata": {},
   "outputs": [
    {
     "data": {
      "text/plain": [
       "0    2.0\n",
       "1    7.0\n",
       "2    8.0\n",
       "3    3.0\n",
       "4    4.0\n",
       "Name: life_time, dtype: float64"
      ]
     },
     "execution_count": 56,
     "metadata": {},
     "output_type": "execute_result"
    }
   ],
   "source": [
    "features_dataset['life_time'].head()"
   ]
  },
  {
   "cell_type": "code",
   "execution_count": 57,
   "id": "048e534e",
   "metadata": {},
   "outputs": [
    {
     "name": "stdout",
     "output_type": "stream",
     "text": [
      "11.0\n"
     ]
    }
   ],
   "source": [
    "print(max(features_dataset['life_time']))"
   ]
  },
  {
   "cell_type": "code",
   "execution_count": 58,
   "id": "bbc864ab",
   "metadata": {},
   "outputs": [
    {
     "data": {
      "text/html": [
       "<div>\n",
       "<style scoped>\n",
       "    .dataframe tbody tr th:only-of-type {\n",
       "        vertical-align: middle;\n",
       "    }\n",
       "\n",
       "    .dataframe tbody tr th {\n",
       "        vertical-align: top;\n",
       "    }\n",
       "\n",
       "    .dataframe thead th {\n",
       "        text-align: right;\n",
       "    }\n",
       "</style>\n",
       "<table border=\"1\" class=\"dataframe\">\n",
       "  <thead>\n",
       "    <tr style=\"text-align: right;\">\n",
       "      <th></th>\n",
       "      <th>views</th>\n",
       "      <th>mature</th>\n",
       "      <th>life_time</th>\n",
       "      <th>created_at</th>\n",
       "      <th>updated_at</th>\n",
       "      <th>numeric_id</th>\n",
       "      <th>dead_account</th>\n",
       "      <th>language</th>\n",
       "      <th>affiliate</th>\n",
       "    </tr>\n",
       "  </thead>\n",
       "  <tbody>\n",
       "    <tr>\n",
       "      <th>0</th>\n",
       "      <td>7879</td>\n",
       "      <td>1</td>\n",
       "      <td>2.0</td>\n",
       "      <td>2016-02-16</td>\n",
       "      <td>2018-10-12</td>\n",
       "      <td>0</td>\n",
       "      <td>0</td>\n",
       "      <td>EN</td>\n",
       "      <td>1</td>\n",
       "    </tr>\n",
       "    <tr>\n",
       "      <th>1</th>\n",
       "      <td>500</td>\n",
       "      <td>0</td>\n",
       "      <td>7.0</td>\n",
       "      <td>2011-05-19</td>\n",
       "      <td>2018-10-08</td>\n",
       "      <td>1</td>\n",
       "      <td>0</td>\n",
       "      <td>EN</td>\n",
       "      <td>0</td>\n",
       "    </tr>\n",
       "    <tr>\n",
       "      <th>2</th>\n",
       "      <td>382502</td>\n",
       "      <td>1</td>\n",
       "      <td>8.0</td>\n",
       "      <td>2010-02-27</td>\n",
       "      <td>2018-10-12</td>\n",
       "      <td>2</td>\n",
       "      <td>0</td>\n",
       "      <td>EN</td>\n",
       "      <td>1</td>\n",
       "    </tr>\n",
       "    <tr>\n",
       "      <th>3</th>\n",
       "      <td>386</td>\n",
       "      <td>0</td>\n",
       "      <td>3.0</td>\n",
       "      <td>2015-01-26</td>\n",
       "      <td>2018-10-01</td>\n",
       "      <td>3</td>\n",
       "      <td>0</td>\n",
       "      <td>EN</td>\n",
       "      <td>0</td>\n",
       "    </tr>\n",
       "    <tr>\n",
       "      <th>4</th>\n",
       "      <td>2486</td>\n",
       "      <td>0</td>\n",
       "      <td>4.0</td>\n",
       "      <td>2013-11-22</td>\n",
       "      <td>2018-10-11</td>\n",
       "      <td>4</td>\n",
       "      <td>0</td>\n",
       "      <td>EN</td>\n",
       "      <td>0</td>\n",
       "    </tr>\n",
       "  </tbody>\n",
       "</table>\n",
       "</div>"
      ],
      "text/plain": [
       "    views  mature  life_time  created_at  updated_at  numeric_id  \\\n",
       "0    7879       1        2.0  2016-02-16  2018-10-12           0   \n",
       "1     500       0        7.0  2011-05-19  2018-10-08           1   \n",
       "2  382502       1        8.0  2010-02-27  2018-10-12           2   \n",
       "3     386       0        3.0  2015-01-26  2018-10-01           3   \n",
       "4    2486       0        4.0  2013-11-22  2018-10-11           4   \n",
       "\n",
       "   dead_account language  affiliate  \n",
       "0             0       EN          1  \n",
       "1             0       EN          0  \n",
       "2             0       EN          1  \n",
       "3             0       EN          0  \n",
       "4             0       EN          0  "
      ]
     },
     "execution_count": 58,
     "metadata": {},
     "output_type": "execute_result"
    }
   ],
   "source": [
    "features_dataset.head()"
   ]
  },
  {
   "cell_type": "code",
   "execution_count": 59,
   "id": "ceff4e7f",
   "metadata": {},
   "outputs": [
    {
     "data": {
      "text/plain": [
       "views           0\n",
       "mature          0\n",
       "life_time       0\n",
       "created_at      0\n",
       "updated_at      0\n",
       "numeric_id      0\n",
       "dead_account    0\n",
       "language        0\n",
       "affiliate       0\n",
       "dtype: int64"
      ]
     },
     "execution_count": 59,
     "metadata": {},
     "output_type": "execute_result"
    }
   ],
   "source": [
    "# check wether the dataset have null values or not \n",
    "features_dataset.isna().sum()"
   ]
  },
  {
   "cell_type": "code",
   "execution_count": 60,
   "id": "4dc702e7",
   "metadata": {},
   "outputs": [
    {
     "data": {
      "text/plain": [
       "numeric_id_1    0\n",
       "numeric_id_2    0\n",
       "dtype: int64"
      ]
     },
     "execution_count": 60,
     "metadata": {},
     "output_type": "execute_result"
    }
   ],
   "source": [
    "edge_dataset.isna().sum()"
   ]
  },
  {
   "cell_type": "code",
   "execution_count": 61,
   "id": "3fda746f",
   "metadata": {},
   "outputs": [],
   "source": [
    "# lets merge the dataset \n",
    "merged_dataset = pd.merge(edge_dataset, features_dataset,left_on='numeric_id_1',right_on='numeric_id')"
   ]
  },
  {
   "cell_type": "code",
   "execution_count": 13,
   "id": "f9681144",
   "metadata": {},
   "outputs": [
    {
     "data": {
      "text/html": [
       "<div>\n",
       "<style scoped>\n",
       "    .dataframe tbody tr th:only-of-type {\n",
       "        vertical-align: middle;\n",
       "    }\n",
       "\n",
       "    .dataframe tbody tr th {\n",
       "        vertical-align: top;\n",
       "    }\n",
       "\n",
       "    .dataframe thead th {\n",
       "        text-align: right;\n",
       "    }\n",
       "</style>\n",
       "<table border=\"1\" class=\"dataframe\">\n",
       "  <thead>\n",
       "    <tr style=\"text-align: right;\">\n",
       "      <th></th>\n",
       "      <th>numeric_id_2</th>\n",
       "      <th>views</th>\n",
       "      <th>mature</th>\n",
       "      <th>life_time</th>\n",
       "      <th>created_at</th>\n",
       "      <th>updated_at</th>\n",
       "      <th>dead_account</th>\n",
       "      <th>language</th>\n",
       "      <th>affiliate</th>\n",
       "    </tr>\n",
       "    <tr>\n",
       "      <th>numeric_id_1</th>\n",
       "      <th></th>\n",
       "      <th></th>\n",
       "      <th></th>\n",
       "      <th></th>\n",
       "      <th></th>\n",
       "      <th></th>\n",
       "      <th></th>\n",
       "      <th></th>\n",
       "      <th></th>\n",
       "    </tr>\n",
       "  </thead>\n",
       "  <tbody>\n",
       "    <tr>\n",
       "      <th>98343</th>\n",
       "      <td>141493</td>\n",
       "      <td>282</td>\n",
       "      <td>0</td>\n",
       "      <td>5.0</td>\n",
       "      <td>2012-12-27</td>\n",
       "      <td>2018-09-13</td>\n",
       "      <td>0</td>\n",
       "      <td>EN</td>\n",
       "      <td>0</td>\n",
       "    </tr>\n",
       "    <tr>\n",
       "      <th>98343</th>\n",
       "      <td>58736</td>\n",
       "      <td>282</td>\n",
       "      <td>0</td>\n",
       "      <td>5.0</td>\n",
       "      <td>2012-12-27</td>\n",
       "      <td>2018-09-13</td>\n",
       "      <td>0</td>\n",
       "      <td>EN</td>\n",
       "      <td>0</td>\n",
       "    </tr>\n",
       "    <tr>\n",
       "      <th>98343</th>\n",
       "      <td>140703</td>\n",
       "      <td>282</td>\n",
       "      <td>0</td>\n",
       "      <td>5.0</td>\n",
       "      <td>2012-12-27</td>\n",
       "      <td>2018-09-13</td>\n",
       "      <td>0</td>\n",
       "      <td>EN</td>\n",
       "      <td>0</td>\n",
       "    </tr>\n",
       "    <tr>\n",
       "      <th>98343</th>\n",
       "      <td>151401</td>\n",
       "      <td>282</td>\n",
       "      <td>0</td>\n",
       "      <td>5.0</td>\n",
       "      <td>2012-12-27</td>\n",
       "      <td>2018-09-13</td>\n",
       "      <td>0</td>\n",
       "      <td>EN</td>\n",
       "      <td>0</td>\n",
       "    </tr>\n",
       "    <tr>\n",
       "      <th>98343</th>\n",
       "      <td>157118</td>\n",
       "      <td>282</td>\n",
       "      <td>0</td>\n",
       "      <td>5.0</td>\n",
       "      <td>2012-12-27</td>\n",
       "      <td>2018-09-13</td>\n",
       "      <td>0</td>\n",
       "      <td>EN</td>\n",
       "      <td>0</td>\n",
       "    </tr>\n",
       "  </tbody>\n",
       "</table>\n",
       "</div>"
      ],
      "text/plain": [
       "              numeric_id_2  views  mature  life_time  created_at  updated_at  \\\n",
       "numeric_id_1                                                                   \n",
       "98343               141493    282       0        5.0  2012-12-27  2018-09-13   \n",
       "98343                58736    282       0        5.0  2012-12-27  2018-09-13   \n",
       "98343               140703    282       0        5.0  2012-12-27  2018-09-13   \n",
       "98343               151401    282       0        5.0  2012-12-27  2018-09-13   \n",
       "98343               157118    282       0        5.0  2012-12-27  2018-09-13   \n",
       "\n",
       "              dead_account language  affiliate  \n",
       "numeric_id_1                                    \n",
       "98343                    0       EN          0  \n",
       "98343                    0       EN          0  \n",
       "98343                    0       EN          0  \n",
       "98343                    0       EN          0  \n",
       "98343                    0       EN          0  "
      ]
     },
     "execution_count": 13,
     "metadata": {},
     "output_type": "execute_result"
    }
   ],
   "source": [
    "merged_dataset = merged_dataset.set_index('numeric_id_1')\n",
    "merged_dataset.head()"
   ]
  },
  {
   "cell_type": "code",
   "execution_count": 14,
   "id": "cfd96b71",
   "metadata": {},
   "outputs": [
    {
     "name": "stdout",
     "output_type": "stream",
     "text": [
      "<class 'pandas.core.frame.DataFrame'>\n",
      "Int64Index: 6797557 entries, 98343 to 27819\n",
      "Data columns (total 9 columns):\n",
      " #   Column        Dtype  \n",
      "---  ------        -----  \n",
      " 0   numeric_id_2  int64  \n",
      " 1   views         int64  \n",
      " 2   mature        int64  \n",
      " 3   life_time     float64\n",
      " 4   created_at    object \n",
      " 5   updated_at    object \n",
      " 6   dead_account  int64  \n",
      " 7   language      object \n",
      " 8   affiliate     int64  \n",
      "dtypes: float64(1), int64(5), object(3)\n",
      "memory usage: 518.6+ MB\n"
     ]
    }
   ],
   "source": [
    "merged_dataset.info()"
   ]
  },
  {
   "cell_type": "code",
   "execution_count": 15,
   "id": "610cc567",
   "metadata": {},
   "outputs": [
    {
     "data": {
      "text/html": [
       "<div>\n",
       "<style scoped>\n",
       "    .dataframe tbody tr th:only-of-type {\n",
       "        vertical-align: middle;\n",
       "    }\n",
       "\n",
       "    .dataframe tbody tr th {\n",
       "        vertical-align: top;\n",
       "    }\n",
       "\n",
       "    .dataframe thead th {\n",
       "        text-align: right;\n",
       "    }\n",
       "</style>\n",
       "<table border=\"1\" class=\"dataframe\">\n",
       "  <thead>\n",
       "    <tr style=\"text-align: right;\">\n",
       "      <th></th>\n",
       "      <th>numeric_id_2</th>\n",
       "      <th>views</th>\n",
       "      <th>mature</th>\n",
       "      <th>life_time</th>\n",
       "      <th>dead_account</th>\n",
       "      <th>affiliate</th>\n",
       "    </tr>\n",
       "  </thead>\n",
       "  <tbody>\n",
       "    <tr>\n",
       "      <th>count</th>\n",
       "      <td>6.797557e+06</td>\n",
       "      <td>6.797557e+06</td>\n",
       "      <td>6.797557e+06</td>\n",
       "      <td>6.797557e+06</td>\n",
       "      <td>6.797557e+06</td>\n",
       "      <td>6.797557e+06</td>\n",
       "    </tr>\n",
       "    <tr>\n",
       "      <th>mean</th>\n",
       "      <td>8.401523e+04</td>\n",
       "      <td>1.671707e+07</td>\n",
       "      <td>4.857826e-01</td>\n",
       "      <td>4.923242e+00</td>\n",
       "      <td>2.065448e-03</td>\n",
       "      <td>3.226697e-01</td>\n",
       "    </tr>\n",
       "    <tr>\n",
       "      <th>std</th>\n",
       "      <td>4.852719e+04</td>\n",
       "      <td>5.046552e+07</td>\n",
       "      <td>4.997979e-01</td>\n",
       "      <td>2.100253e+00</td>\n",
       "      <td>4.540024e-02</td>\n",
       "      <td>4.674976e-01</td>\n",
       "    </tr>\n",
       "    <tr>\n",
       "      <th>min</th>\n",
       "      <td>0.000000e+00</td>\n",
       "      <td>0.000000e+00</td>\n",
       "      <td>0.000000e+00</td>\n",
       "      <td>0.000000e+00</td>\n",
       "      <td>0.000000e+00</td>\n",
       "      <td>0.000000e+00</td>\n",
       "    </tr>\n",
       "    <tr>\n",
       "      <th>25%</th>\n",
       "      <td>4.204500e+04</td>\n",
       "      <td>2.096400e+04</td>\n",
       "      <td>0.000000e+00</td>\n",
       "      <td>3.000000e+00</td>\n",
       "      <td>0.000000e+00</td>\n",
       "      <td>0.000000e+00</td>\n",
       "    </tr>\n",
       "    <tr>\n",
       "      <th>50%</th>\n",
       "      <td>8.385100e+04</td>\n",
       "      <td>4.370550e+05</td>\n",
       "      <td>0.000000e+00</td>\n",
       "      <td>5.000000e+00</td>\n",
       "      <td>0.000000e+00</td>\n",
       "      <td>0.000000e+00</td>\n",
       "    </tr>\n",
       "    <tr>\n",
       "      <th>75%</th>\n",
       "      <td>1.259570e+05</td>\n",
       "      <td>6.237401e+06</td>\n",
       "      <td>1.000000e+00</td>\n",
       "      <td>6.000000e+00</td>\n",
       "      <td>0.000000e+00</td>\n",
       "      <td>1.000000e+00</td>\n",
       "    </tr>\n",
       "    <tr>\n",
       "      <th>max</th>\n",
       "      <td>1.681130e+05</td>\n",
       "      <td>3.843966e+08</td>\n",
       "      <td>1.000000e+00</td>\n",
       "      <td>1.100000e+01</td>\n",
       "      <td>1.000000e+00</td>\n",
       "      <td>1.000000e+00</td>\n",
       "    </tr>\n",
       "  </tbody>\n",
       "</table>\n",
       "</div>"
      ],
      "text/plain": [
       "       numeric_id_2         views        mature     life_time  dead_account  \\\n",
       "count  6.797557e+06  6.797557e+06  6.797557e+06  6.797557e+06  6.797557e+06   \n",
       "mean   8.401523e+04  1.671707e+07  4.857826e-01  4.923242e+00  2.065448e-03   \n",
       "std    4.852719e+04  5.046552e+07  4.997979e-01  2.100253e+00  4.540024e-02   \n",
       "min    0.000000e+00  0.000000e+00  0.000000e+00  0.000000e+00  0.000000e+00   \n",
       "25%    4.204500e+04  2.096400e+04  0.000000e+00  3.000000e+00  0.000000e+00   \n",
       "50%    8.385100e+04  4.370550e+05  0.000000e+00  5.000000e+00  0.000000e+00   \n",
       "75%    1.259570e+05  6.237401e+06  1.000000e+00  6.000000e+00  0.000000e+00   \n",
       "max    1.681130e+05  3.843966e+08  1.000000e+00  1.100000e+01  1.000000e+00   \n",
       "\n",
       "          affiliate  \n",
       "count  6.797557e+06  \n",
       "mean   3.226697e-01  \n",
       "std    4.674976e-01  \n",
       "min    0.000000e+00  \n",
       "25%    0.000000e+00  \n",
       "50%    0.000000e+00  \n",
       "75%    1.000000e+00  \n",
       "max    1.000000e+00  "
      ]
     },
     "execution_count": 15,
     "metadata": {},
     "output_type": "execute_result"
    }
   ],
   "source": [
    "merged_dataset.describe()"
   ]
  },
  {
   "cell_type": "markdown",
   "id": "8880a632",
   "metadata": {},
   "source": [
    "features_dataset['language'].unique()"
   ]
  },
  {
   "cell_type": "code",
   "execution_count": 62,
   "id": "b14e0f7d",
   "metadata": {},
   "outputs": [
    {
     "name": "stdout",
     "output_type": "stream",
     "text": [
      "<class 'pandas.core.frame.DataFrame'>\n",
      "RangeIndex: 168114 entries, 0 to 168113\n",
      "Data columns (total 9 columns):\n",
      " #   Column        Non-Null Count   Dtype  \n",
      "---  ------        --------------   -----  \n",
      " 0   views         168114 non-null  int64  \n",
      " 1   mature        168114 non-null  int64  \n",
      " 2   life_time     168114 non-null  float64\n",
      " 3   created_at    168114 non-null  object \n",
      " 4   updated_at    168114 non-null  object \n",
      " 5   numeric_id    168114 non-null  int64  \n",
      " 6   dead_account  168114 non-null  int64  \n",
      " 7   language      168114 non-null  int32  \n",
      " 8   affiliate     168114 non-null  int64  \n",
      "dtypes: float64(1), int32(1), int64(5), object(2)\n",
      "memory usage: 10.9+ MB\n"
     ]
    }
   ],
   "source": [
    "languages = ['EN', 'FR', 'KO', 'JA', 'RU', 'PL', 'DE', 'ES', 'IT', 'PT',\n",
    "       'OTHER', 'TR', 'ZH', 'SV', 'NL', 'TH', 'CS', 'DA', 'HU', 'FI',\n",
    "       'NO']\n",
    "\n",
    "from sklearn.preprocessing import LabelEncoder\n",
    "\n",
    "def encode_df(dataframe):\n",
    "    le = LabelEncoder()\n",
    "    features_dataset['language'] = le.fit_transform(features_dataset['language'])\n",
    "    return dataframe\n",
    "\n",
    "#encode the dataframe\n",
    "features_dataset = encode_df(features_dataset)\n",
    "features_dataset.info()"
   ]
  },
  {
   "cell_type": "code",
   "execution_count": 164,
   "id": "3540b07d",
   "metadata": {},
   "outputs": [],
   "source": [
    "node_features = features_dataset[[\"views\",\"created_at\",\"updated_at\", \"dead_account\"]]\n",
    "# node_features = features_dataset[[\"views\"]]"
   ]
  },
  {
   "cell_type": "code",
   "execution_count": 165,
   "id": "dd0ff68f",
   "metadata": {},
   "outputs": [
    {
     "name": "stderr",
     "output_type": "stream",
     "text": [
      "C:\\Users\\jayas\\AppData\\Local\\Temp\\ipykernel_12932\\1920044232.py:1: SettingWithCopyWarning: \n",
      "A value is trying to be set on a copy of a slice from a DataFrame.\n",
      "Try using .loc[row_indexer,col_indexer] = value instead\n",
      "\n",
      "See the caveats in the documentation: https://pandas.pydata.org/pandas-docs/stable/user_guide/indexing.html#returning-a-view-versus-a-copy\n",
      "  node_features[[\"created_year\", \"created_month\", \"created_day\"]] = node_features[\"created_at\"].str.split(\"-\", expand = True).astype('int32')\n",
      "C:\\Users\\jayas\\AppData\\Local\\Temp\\ipykernel_12932\\1920044232.py:1: SettingWithCopyWarning: \n",
      "A value is trying to be set on a copy of a slice from a DataFrame.\n",
      "Try using .loc[row_indexer,col_indexer] = value instead\n",
      "\n",
      "See the caveats in the documentation: https://pandas.pydata.org/pandas-docs/stable/user_guide/indexing.html#returning-a-view-versus-a-copy\n",
      "  node_features[[\"created_year\", \"created_month\", \"created_day\"]] = node_features[\"created_at\"].str.split(\"-\", expand = True).astype('int32')\n",
      "C:\\Users\\jayas\\AppData\\Local\\Temp\\ipykernel_12932\\1920044232.py:1: SettingWithCopyWarning: \n",
      "A value is trying to be set on a copy of a slice from a DataFrame.\n",
      "Try using .loc[row_indexer,col_indexer] = value instead\n",
      "\n",
      "See the caveats in the documentation: https://pandas.pydata.org/pandas-docs/stable/user_guide/indexing.html#returning-a-view-versus-a-copy\n",
      "  node_features[[\"created_year\", \"created_month\", \"created_day\"]] = node_features[\"created_at\"].str.split(\"-\", expand = True).astype('int32')\n",
      "C:\\Users\\jayas\\AppData\\Local\\Temp\\ipykernel_12932\\1920044232.py:2: SettingWithCopyWarning: \n",
      "A value is trying to be set on a copy of a slice from a DataFrame.\n",
      "Try using .loc[row_indexer,col_indexer] = value instead\n",
      "\n",
      "See the caveats in the documentation: https://pandas.pydata.org/pandas-docs/stable/user_guide/indexing.html#returning-a-view-versus-a-copy\n",
      "  node_features[[\"updated_year\", \"updated_month\", \"updated_day\"]] = node_features[\"updated_at\"].str.split(\"-\", expand = True).astype('int32')\n"
     ]
    }
   ],
   "source": [
    "node_features[[\"created_year\", \"created_month\", \"created_day\"]] = node_features[\"created_at\"].str.split(\"-\", expand = True).astype('int32')\n",
    "node_features[[\"updated_year\", \"updated_month\", \"updated_day\"]] = node_features[\"updated_at\"].str.split(\"-\", expand = True).astype('int32')\n",
    "\n",
    "node_features = node_features.drop(['created_at','updated_at'],axis=1)"
   ]
  },
  {
   "cell_type": "code",
   "execution_count": 166,
   "id": "862ef7c9",
   "metadata": {},
   "outputs": [
    {
     "data": {
      "text/html": [
       "<div>\n",
       "<style scoped>\n",
       "    .dataframe tbody tr th:only-of-type {\n",
       "        vertical-align: middle;\n",
       "    }\n",
       "\n",
       "    .dataframe tbody tr th {\n",
       "        vertical-align: top;\n",
       "    }\n",
       "\n",
       "    .dataframe thead th {\n",
       "        text-align: right;\n",
       "    }\n",
       "</style>\n",
       "<table border=\"1\" class=\"dataframe\">\n",
       "  <thead>\n",
       "    <tr style=\"text-align: right;\">\n",
       "      <th></th>\n",
       "      <th>views</th>\n",
       "      <th>dead_account</th>\n",
       "      <th>created_year</th>\n",
       "      <th>created_month</th>\n",
       "      <th>created_day</th>\n",
       "      <th>updated_year</th>\n",
       "      <th>updated_month</th>\n",
       "      <th>updated_day</th>\n",
       "    </tr>\n",
       "  </thead>\n",
       "  <tbody>\n",
       "    <tr>\n",
       "      <th>0</th>\n",
       "      <td>7879</td>\n",
       "      <td>0</td>\n",
       "      <td>2016</td>\n",
       "      <td>2</td>\n",
       "      <td>16</td>\n",
       "      <td>2018</td>\n",
       "      <td>10</td>\n",
       "      <td>12</td>\n",
       "    </tr>\n",
       "    <tr>\n",
       "      <th>1</th>\n",
       "      <td>500</td>\n",
       "      <td>0</td>\n",
       "      <td>2011</td>\n",
       "      <td>5</td>\n",
       "      <td>19</td>\n",
       "      <td>2018</td>\n",
       "      <td>10</td>\n",
       "      <td>8</td>\n",
       "    </tr>\n",
       "    <tr>\n",
       "      <th>2</th>\n",
       "      <td>382502</td>\n",
       "      <td>0</td>\n",
       "      <td>2010</td>\n",
       "      <td>2</td>\n",
       "      <td>27</td>\n",
       "      <td>2018</td>\n",
       "      <td>10</td>\n",
       "      <td>12</td>\n",
       "    </tr>\n",
       "    <tr>\n",
       "      <th>3</th>\n",
       "      <td>386</td>\n",
       "      <td>0</td>\n",
       "      <td>2015</td>\n",
       "      <td>1</td>\n",
       "      <td>26</td>\n",
       "      <td>2018</td>\n",
       "      <td>10</td>\n",
       "      <td>1</td>\n",
       "    </tr>\n",
       "    <tr>\n",
       "      <th>4</th>\n",
       "      <td>2486</td>\n",
       "      <td>0</td>\n",
       "      <td>2013</td>\n",
       "      <td>11</td>\n",
       "      <td>22</td>\n",
       "      <td>2018</td>\n",
       "      <td>10</td>\n",
       "      <td>11</td>\n",
       "    </tr>\n",
       "  </tbody>\n",
       "</table>\n",
       "</div>"
      ],
      "text/plain": [
       "    views  dead_account  created_year  created_month  created_day  \\\n",
       "0    7879             0          2016              2           16   \n",
       "1     500             0          2011              5           19   \n",
       "2  382502             0          2010              2           27   \n",
       "3     386             0          2015              1           26   \n",
       "4    2486             0          2013             11           22   \n",
       "\n",
       "   updated_year  updated_month  updated_day  \n",
       "0          2018             10           12  \n",
       "1          2018             10            8  \n",
       "2          2018             10           12  \n",
       "3          2018             10            1  \n",
       "4          2018             10           11  "
      ]
     },
     "execution_count": 166,
     "metadata": {},
     "output_type": "execute_result"
    }
   ],
   "source": [
    "node_features.head()"
   ]
  },
  {
   "cell_type": "code",
   "execution_count": 167,
   "id": "3df6bb8c",
   "metadata": {},
   "outputs": [
    {
     "name": "stdout",
     "output_type": "stream",
     "text": [
      "<class 'pandas.core.frame.DataFrame'>\n",
      "RangeIndex: 168114 entries, 0 to 168113\n",
      "Data columns (total 8 columns):\n",
      " #   Column         Non-Null Count   Dtype  \n",
      "---  ------         --------------   -----  \n",
      " 0   views          168114 non-null  float32\n",
      " 1   dead_account   168114 non-null  float32\n",
      " 2   created_year   168114 non-null  float32\n",
      " 3   created_month  168114 non-null  float32\n",
      " 4   created_day    168114 non-null  float32\n",
      " 5   updated_year   168114 non-null  float32\n",
      " 6   updated_month  168114 non-null  float32\n",
      " 7   updated_day    168114 non-null  float32\n",
      "dtypes: float32(8)\n",
      "memory usage: 5.1 MB\n"
     ]
    }
   ],
   "source": [
    "node_features = node_features.astype('float32')\n",
    "node_features.info()"
   ]
  },
  {
   "cell_type": "code",
   "execution_count": 168,
   "id": "ac241c08",
   "metadata": {},
   "outputs": [
    {
     "data": {
      "text/plain": [
       "torch.float32"
      ]
     },
     "execution_count": 168,
     "metadata": {},
     "output_type": "execute_result"
    }
   ],
   "source": [
    "x =  torch.from_numpy(node_features.to_numpy())\n",
    "x.shape # [num_nodes x num_features]\n",
    "x.dtype"
   ]
  },
  {
   "cell_type": "code",
   "execution_count": 169,
   "id": "690014aa",
   "metadata": {},
   "outputs": [
    {
     "name": "stdout",
     "output_type": "stream",
     "text": [
      "<class 'pandas.core.frame.DataFrame'>\n",
      "RangeIndex: 168114 entries, 0 to 168113\n",
      "Data columns (total 3 columns):\n",
      " #   Column        Non-Null Count   Dtype\n",
      "---  ------        --------------   -----\n",
      " 0   dead_account  168114 non-null  int64\n",
      " 1   language      168114 non-null  int64\n",
      " 2   affiliate     168114 non-null  int64\n",
      "dtypes: int64(3)\n",
      "memory usage: 3.8 MB\n"
     ]
    }
   ],
   "source": [
    "features_dataset[[\"dead_account\",\"language\",\"affiliate\"]] = features_dataset[[\"dead_account\",\"language\",\"affiliate\"]].astype('int64')\n",
    "features_dataset[[\"dead_account\",\"language\",\"affiliate\"]].info()"
   ]
  },
  {
   "cell_type": "code",
   "execution_count": 170,
   "id": "69c0b3a9",
   "metadata": {},
   "outputs": [
    {
     "data": {
      "text/plain": [
       "torch.Size([168114, 1])"
      ]
     },
     "execution_count": 170,
     "metadata": {},
     "output_type": "execute_result"
    }
   ],
   "source": [
    "# Select node features\n",
    "labels = features_dataset[[\"life_time\"]]\n",
    "labels.head()\n",
    "\n",
    "# labels = labels.astype(float)\n",
    "\n",
    "# Convert to numpy\n",
    "y =  torch.from_numpy(labels.to_numpy())\n",
    "y.shape # [num_nodes, 1] --> node regression"
   ]
  },
  {
   "cell_type": "code",
   "execution_count": 171,
   "id": "9a6fc949",
   "metadata": {},
   "outputs": [
    {
     "data": {
      "text/plain": [
       "torch.Size([168114])"
      ]
     },
     "execution_count": 171,
     "metadata": {},
     "output_type": "execute_result"
    }
   ],
   "source": [
    "y = y.reshape(-1,)\n",
    "y.shape"
   ]
  },
  {
   "cell_type": "code",
   "execution_count": 172,
   "id": "6fa96661",
   "metadata": {},
   "outputs": [
    {
     "data": {
      "text/plain": [
       "life_time    float64\n",
       "dtype: object"
      ]
     },
     "execution_count": 172,
     "metadata": {},
     "output_type": "execute_result"
    }
   ],
   "source": [
    "labels.dtypes"
   ]
  },
  {
   "cell_type": "code",
   "execution_count": 173,
   "id": "5b26206d",
   "metadata": {},
   "outputs": [],
   "source": [
    "edge_dataset = edge_dataset.astype('int64')"
   ]
  },
  {
   "cell_type": "code",
   "execution_count": 174,
   "id": "c17f10c5",
   "metadata": {},
   "outputs": [
    {
     "data": {
      "text/plain": [
       "numeric_id_1    int64\n",
       "numeric_id_2    int64\n",
       "dtype: object"
      ]
     },
     "execution_count": 174,
     "metadata": {},
     "output_type": "execute_result"
    }
   ],
   "source": [
    "edge_dataset.dtypes"
   ]
  },
  {
   "cell_type": "code",
   "execution_count": 175,
   "id": "e409e14e",
   "metadata": {},
   "outputs": [],
   "source": [
    "edge_index = edge_dataset.transpose()"
   ]
  },
  {
   "cell_type": "code",
   "execution_count": 176,
   "id": "6bd56f1d",
   "metadata": {},
   "outputs": [
    {
     "data": {
      "text/plain": [
       "array([dtype('int64')], dtype=object)"
      ]
     },
     "execution_count": 176,
     "metadata": {},
     "output_type": "execute_result"
    }
   ],
   "source": [
    "edge_index.dtypes.unique()"
   ]
  },
  {
   "cell_type": "code",
   "execution_count": 177,
   "id": "5cf768e8",
   "metadata": {},
   "outputs": [
    {
     "name": "stdout",
     "output_type": "stream",
     "text": [
      "torch.Size([2, 6797557])\n"
     ]
    }
   ],
   "source": [
    "all_edges =  torch.from_numpy(edge_index.to_numpy()) # [2, num_edges]\n",
    "print(all_edges.shape)"
   ]
  },
  {
   "cell_type": "code",
   "execution_count": 178,
   "id": "9699d29b",
   "metadata": {},
   "outputs": [
    {
     "data": {
      "text/plain": [
       "tensor([[ 98343,  98343,  98343,  ..., 151702, 118034,  27819],\n",
       "        [141493,  58736, 140703,  ..., 128281,  38021, 153993]])"
      ]
     },
     "execution_count": 178,
     "metadata": {},
     "output_type": "execute_result"
    }
   ],
   "source": [
    "all_edges"
   ]
  },
  {
   "cell_type": "code",
   "execution_count": 179,
   "id": "7b2d8e23",
   "metadata": {},
   "outputs": [
    {
     "data": {
      "text/plain": [
       "168114"
      ]
     },
     "execution_count": 179,
     "metadata": {},
     "output_type": "execute_result"
    }
   ],
   "source": [
    "len(features_dataset)"
   ]
  },
  {
   "cell_type": "code",
   "execution_count": 180,
   "id": "c468fd33",
   "metadata": {},
   "outputs": [],
   "source": [
    "\n",
    "train_arr = np.array([True for i in range(round(len(features_dataset)*0.85))])\n",
    "train_arr = np.append(train_arr,np.array([False for i in range(int(len(features_dataset)*0.15))]))"
   ]
  },
  {
   "cell_type": "code",
   "execution_count": 181,
   "id": "b17b0d03",
   "metadata": {},
   "outputs": [
    {
     "data": {
      "text/plain": [
       "(168114,)"
      ]
     },
     "execution_count": 181,
     "metadata": {},
     "output_type": "execute_result"
    }
   ],
   "source": [
    "train_arr.shape"
   ]
  },
  {
   "cell_type": "code",
   "execution_count": 182,
   "id": "49a12668",
   "metadata": {},
   "outputs": [],
   "source": [
    "\n",
    "test_arr = np.array([False for i in range(round(len(features_dataset)*0.55))])\n",
    "test_arr = np.append(test_arr,np.array([True for i in range(int(len(features_dataset)*0.45))]))"
   ]
  },
  {
   "cell_type": "code",
   "execution_count": 183,
   "id": "aeb63d22",
   "metadata": {},
   "outputs": [
    {
     "data": {
      "text/plain": [
       "(168114,)"
      ]
     },
     "execution_count": 183,
     "metadata": {},
     "output_type": "execute_result"
    }
   ],
   "source": [
    "test_arr.shape"
   ]
  },
  {
   "cell_type": "code",
   "execution_count": 184,
   "id": "cd4aa35e",
   "metadata": {},
   "outputs": [],
   "source": [
    "val_arr = np.array([False for i in range(round(len(features_dataset)*0.35))])\n",
    "val_arr = np.append(val_arr,np.array([True for i in range(round(len(features_dataset)*0.35))]))\n",
    "val_arr = np.append(val_arr,np.array([False for i in range(int(len(features_dataset)*0.30))]))"
   ]
  },
  {
   "cell_type": "code",
   "execution_count": 185,
   "id": "bcde0660",
   "metadata": {},
   "outputs": [
    {
     "data": {
      "text/plain": [
       "(168114,)"
      ]
     },
     "execution_count": 185,
     "metadata": {},
     "output_type": "execute_result"
    }
   ],
   "source": [
    "val_arr.shape"
   ]
  },
  {
   "cell_type": "code",
   "execution_count": 186,
   "id": "e076c850",
   "metadata": {},
   "outputs": [],
   "source": [
    "train_mask = torch.from_numpy(train_arr)\n",
    "test_mask = torch.from_numpy(test_arr)\n",
    "val_mask = torch.from_numpy(val_arr)"
   ]
  },
  {
   "cell_type": "code",
   "execution_count": 187,
   "id": "7d7c60dd",
   "metadata": {},
   "outputs": [
    {
     "name": "stdout",
     "output_type": "stream",
     "text": [
      "tensor([ True,  True,  True,  ..., False, False, False])\n"
     ]
    }
   ],
   "source": [
    "print(train_mask)"
   ]
  },
  {
   "cell_type": "code",
   "execution_count": 188,
   "id": "5bdc3966",
   "metadata": {},
   "outputs": [],
   "source": [
    "from torch_geometric.data import Data\n",
    "data = Data(x=x, edge_index=all_edges, y=y)"
   ]
  },
  {
   "cell_type": "code",
   "execution_count": 189,
   "id": "5beb56df",
   "metadata": {},
   "outputs": [
    {
     "data": {
      "text/plain": [
       "Data(x=[168114, 8], edge_index=[2, 6797557], y=[168114])"
      ]
     },
     "execution_count": 189,
     "metadata": {},
     "output_type": "execute_result"
    }
   ],
   "source": [
    "data"
   ]
  },
  {
   "cell_type": "code",
   "execution_count": 190,
   "id": "eaa22597",
   "metadata": {},
   "outputs": [],
   "source": [
    "data.num_classes = 12\n",
    "data.train_mask = train_mask\n",
    "data.test_mask = test_mask\n",
    "data.val_mask = val_mask"
   ]
  },
  {
   "cell_type": "code",
   "execution_count": 191,
   "id": "5c394cc8",
   "metadata": {},
   "outputs": [
    {
     "data": {
      "text/plain": [
       "Data(x=[168114, 8], edge_index=[2, 6797557], y=[168114], num_classes=12, train_mask=[168114], test_mask=[168114], val_mask=[168114])"
      ]
     },
     "execution_count": 191,
     "metadata": {},
     "output_type": "execute_result"
    }
   ],
   "source": [
    "data"
   ]
  },
  {
   "cell_type": "code",
   "execution_count": 192,
   "id": "679ae26f",
   "metadata": {},
   "outputs": [],
   "source": [
    "import os\n",
    "os.environ[\"PYTORCH_CUDA_ALLOC_CONF\"] = \"max_split_size_mb:1024\""
   ]
  },
  {
   "cell_type": "code",
   "execution_count": 193,
   "id": "f014f541",
   "metadata": {},
   "outputs": [
    {
     "name": "stdout",
     "output_type": "stream",
     "text": [
      "Data(x=[168114, 8], edge_index=[2, 6797557], y=[168114], num_classes=12, train_mask=[168114], test_mask=[168114], val_mask=[168114])\n",
      "number of graphs:\t\t 7\n",
      "number of classes:\t\t 12\n",
      "number of classes:\t\t [ 0.  1.  2.  3.  4.  5.  6.  7.  8.  9. 10. 11.]\n",
      "number of node features:\t 8\n",
      "number of edge features:\t 0\n",
      "X shape:  torch.Size([168114, 8])\n",
      "Edge shape:  torch.Size([2, 6797557])\n",
      "Y shape:  torch.Size([168114])\n"
     ]
    }
   ],
   "source": [
    "print(data)\n",
    "print(\"number of graphs:\\t\\t\",len(data))\n",
    "print(\"number of classes:\\t\\t\",data.num_classes)\n",
    "print(\"number of classes:\\t\\t\",np.unique(data.y))\n",
    "print(\"number of node features:\\t\",data.num_node_features)\n",
    "print(\"number of edge features:\\t\",data.num_edge_features)\n",
    "print(\"X shape: \", data.x.shape)\n",
    "print(\"Edge shape: \", data.edge_index.shape)\n",
    "print(\"Y shape: \", data.y.shape)"
   ]
  },
  {
   "cell_type": "code",
   "execution_count": 200,
   "id": "a068b188",
   "metadata": {},
   "outputs": [
    {
     "name": "stdout",
     "output_type": "stream",
     "text": [
      "Graph Convolutional Network (GCN):\n"
     ]
    },
    {
     "data": {
      "text/plain": [
       "GCN(\n",
       "  (conv1): GCNConv(8, 16)\n",
       "  (conv2): GCNConv(16, 12)\n",
       ")"
      ]
     },
     "execution_count": 200,
     "metadata": {},
     "output_type": "execute_result"
    }
   ],
   "source": [
    "device = torch.device('cuda' if torch.cuda.is_available() else 'cpu')\n",
    "\n",
    "class GCN(torch.nn.Module):\n",
    "    def __init__(self):\n",
    "        super().__init__()\n",
    "        self.conv1 = GCNConv(data.num_node_features, 16)\n",
    "        self.conv2 = GCNConv(16, data.num_classes)   \n",
    "    \n",
    "    def forward(self, data):\n",
    "        # x: Node feature matrix \n",
    "        # edge_index: Graph connectivity matrix        \n",
    "        x, edge_index = data.x, data.edge_index\n",
    "        x = self.conv1(x, edge_index)\n",
    "        x = F.relu(x)\n",
    "        x = F.dropout(x, training=self.training)\n",
    "        x = self.conv2(x, edge_index)\n",
    "        \n",
    "        return F.log_softmax(x, dim=1)\n",
    "\n",
    "model = GCN().to(device)\n",
    "data = data.to(device)\n",
    "optimizer = torch.optim.Adam(model.parameters(), lr=0.01, weight_decay=5e-4)\n",
    "print(\"Graph Convolutional Network (GCN):\")\n",
    "GCN()"
   ]
  },
  {
   "cell_type": "code",
   "execution_count": 201,
   "id": "db064d45",
   "metadata": {},
   "outputs": [],
   "source": [
    "# useful function for computing accuracy\n",
    "def compute_accuracy(pred_y, y):\n",
    "    return (pred_y == y).sum()"
   ]
  },
  {
   "cell_type": "code",
   "execution_count": 202,
   "id": "7053ca3b",
   "metadata": {},
   "outputs": [],
   "source": [
    "# # print(torch.unique(data.y))\n",
    "# # print(969 in data.y)\n",
    "\n",
    "# # print(data.y.shape)\n",
    "# print(data.y[data.train_mask])\n",
    "# print(969 in data.y)"
   ]
  },
  {
   "cell_type": "code",
   "execution_count": 203,
   "id": "b790965e",
   "metadata": {},
   "outputs": [
    {
     "name": "stdout",
     "output_type": "stream",
     "text": [
      "Epoch: 10, Loss: 910889.2500, Training Acc: 0.1536\n",
      "Epoch: 20, Loss: 640078.4375, Training Acc: 0.1202\n",
      "Epoch: 30, Loss: 326723.8125, Training Acc: 0.1345\n",
      "Epoch: 40, Loss: 211649.5469, Training Acc: 0.1494\n",
      "Epoch: 50, Loss: 82388.1172, Training Acc: 0.1390\n",
      "Epoch: 60, Loss: 33592.7500, Training Acc: 0.1410\n",
      "Epoch: 70, Loss: 52.2565, Training Acc: 0.0610\n",
      "Epoch: 80, Loss: 26.5294, Training Acc: 0.0480\n",
      "Epoch: 90, Loss: 18.0157, Training Acc: 0.1611\n",
      "Epoch: 100, Loss: 16.7672, Training Acc: 0.1541\n",
      "Epoch: 110, Loss: 13.5711, Training Acc: 0.1575\n",
      "Epoch: 120, Loss: 12.3832, Training Acc: 0.1619\n",
      "Epoch: 130, Loss: 11.4522, Training Acc: 0.1768\n",
      "Epoch: 140, Loss: 10.6828, Training Acc: 0.1801\n",
      "Epoch: 150, Loss: 9.9875, Training Acc: 0.1768\n",
      "Epoch: 160, Loss: 9.9844, Training Acc: 0.1782\n",
      "Epoch: 170, Loss: 8.9583, Training Acc: 0.1787\n",
      "Epoch: 180, Loss: 8.4833, Training Acc: 0.1776\n",
      "Epoch: 190, Loss: 8.2628, Training Acc: 0.1813\n",
      "Epoch: 200, Loss: 7.5771, Training Acc: 0.1810\n"
     ]
    }
   ],
   "source": [
    "# train the model\n",
    "model.train()\n",
    "losses = []\n",
    "accuracies = []\n",
    "epoch_stable = []\n",
    "for epoch in range(200):\n",
    "    optimizer.zero_grad()\n",
    "    out = model(data)\n",
    "    loss = F.nll_loss(out[data.train_mask], data.y[data.train_mask].long())\n",
    "    correct = compute_accuracy(out.argmax(dim=1)[data.train_mask], data.y[data.train_mask])\n",
    "    acc = int(correct) / int(data.train_mask.sum())\n",
    "    losses.append(loss.item()/1000)\n",
    "    accuracies.append(acc*10000)\n",
    "    loss.backward()\n",
    "    optimizer.step()\n",
    "    if (epoch+1) % 10 == 0:\n",
    "        print('Epoch: {}, Loss: {:.4f}, Training Acc: {:.4f}'.format(epoch+1, loss.item(), acc))"
   ]
  },
  {
   "cell_type": "code",
   "execution_count": 204,
   "id": "3d6ac8ed",
   "metadata": {},
   "outputs": [
    {
     "name": "stdout",
     "output_type": "stream",
     "text": [
      "Accuracy: 0.1895\n"
     ]
    }
   ],
   "source": [
    "model.eval()\n",
    "pred = model(data).argmax(dim=1)\n",
    "correct = compute_accuracy(pred[data.test_mask], data.y[data.test_mask])\n",
    "acc = int(correct) / int(data.test_mask.sum())\n",
    "print(f'Accuracy: {acc:.4f}')"
   ]
  },
  {
   "cell_type": "code",
   "execution_count": null,
   "id": "ba2a51d3",
   "metadata": {},
   "outputs": [],
   "source": [
    "# Accuracy: 0.1613"
   ]
  },
  {
   "cell_type": "code",
   "execution_count": null,
   "id": "fcce1805",
   "metadata": {},
   "outputs": [],
   "source": []
  },
  {
   "cell_type": "markdown",
   "id": "34da956e",
   "metadata": {},
   "source": [
    "## sageCONV "
   ]
  },
  {
   "cell_type": "code",
   "execution_count": 205,
   "id": "901eed14",
   "metadata": {},
   "outputs": [],
   "source": [
    "# useful function for computing accuracy\n",
    "def compute_accuracy1(pred_y, y):\n",
    "    return (pred_y == y).sum()"
   ]
  },
  {
   "cell_type": "code",
   "execution_count": 206,
   "id": "7cffe0b3",
   "metadata": {},
   "outputs": [],
   "source": [
    "import torch\n",
    "\n",
    "class SAGE(torch.nn.Module):\n",
    "    def __init__(self, in_channels, hidden_channels, out_channels):\n",
    "        super(SAGE, self).__init__()\n",
    "        self.conv1 = SAGEConv(in_channels, hidden_channels)\n",
    "        self.conv2 = SAGEConv(hidden_channels, out_channels)\n",
    "        \n",
    "    def forward(self, x, edge_index):\n",
    "        x = F.relu(self.conv1(x, edge_index))\n",
    "        x = F.dropout(x, training=self.training)\n",
    "        x = self.conv2(x, edge_index)\n",
    "        return F.log_softmax(x, dim=1)"
   ]
  },
  {
   "cell_type": "code",
   "execution_count": 207,
   "id": "455eb694",
   "metadata": {},
   "outputs": [
    {
     "name": "stdout",
     "output_type": "stream",
     "text": [
      "Epoch: 10, Loss: 2291334.0000, Training Acc: 0.1229\n",
      "Epoch: 20, Loss: 995977.8125, Training Acc: 0.1549\n",
      "Epoch: 30, Loss: 404959.2188, Training Acc: 0.1227\n",
      "Epoch: 40, Loss: 106589.3984, Training Acc: 0.1246\n",
      "Epoch: 50, Loss: 21122.2188, Training Acc: 0.0799\n",
      "Epoch: 60, Loss: 7.4983, Training Acc: 0.1663\n",
      "Epoch: 70, Loss: 4.3624, Training Acc: 0.1672\n",
      "Epoch: 80, Loss: 2.9559, Training Acc: 0.1671\n",
      "Epoch: 90, Loss: 2.6682, Training Acc: 0.1672\n",
      "Epoch: 100, Loss: 2.5919, Training Acc: 0.1671\n",
      "Epoch: 110, Loss: 2.5291, Training Acc: 0.1672\n",
      "Epoch: 120, Loss: 2.4418, Training Acc: 0.1673\n",
      "Epoch: 130, Loss: 2.3995, Training Acc: 0.1674\n",
      "Epoch: 140, Loss: 2.3564, Training Acc: 0.1676\n",
      "Epoch: 150, Loss: 2.3110, Training Acc: 0.1676\n",
      "Epoch: 160, Loss: 2.2834, Training Acc: 0.1675\n",
      "Epoch: 170, Loss: 2.2522, Training Acc: 0.1675\n",
      "Epoch: 180, Loss: 2.2330, Training Acc: 0.1885\n",
      "Epoch: 190, Loss: 2.2061, Training Acc: 0.1888\n",
      "Epoch: 200, Loss: 2.1951, Training Acc: 0.1888\n"
     ]
    }
   ],
   "source": [
    "model = SAGE(in_channels=data.num_node_features, hidden_channels=16, out_channels=data.num_classes).to(device)\n",
    "optimizer = torch.optim.Adam(model.parameters(), lr=0.01, weight_decay=5e-4)\n",
    "\n",
    "model.train()\n",
    "losses = []\n",
    "accuracies = []\n",
    "\n",
    "for epoch in range(200):\n",
    "    optimizer.zero_grad()\n",
    "    out = model(data.x, data.edge_index)\n",
    "    loss = F.nll_loss(out[data.train_mask], data.y[data.train_mask].long())\n",
    "    correct = compute_accuracy1(out.argmax(dim=1)[data.train_mask], data.y[data.train_mask])\n",
    "    acc = int(correct) / int(data.train_mask.sum())\n",
    "    losses.append(loss.item()/1000)\n",
    "    accuracies.append(acc*10000)\n",
    "    loss.backward()\n",
    "    optimizer.step()\n",
    "    if (epoch+1) % 10 == 0:\n",
    "        print('Epoch: {}, Loss: {:.4f}, Training Acc: {:.4f}'.format(epoch+1, loss.item(), acc))"
   ]
  },
  {
   "cell_type": "code",
   "execution_count": 208,
   "id": "87d5729d",
   "metadata": {},
   "outputs": [],
   "source": [
    "## Acuracy : 0.18"
   ]
  },
  {
   "cell_type": "code",
   "execution_count": 209,
   "id": "56451d32",
   "metadata": {},
   "outputs": [
    {
     "data": {
      "text/plain": [
       "tensor([[ 98343,  98343,  98343,  ..., 151702, 118034,  27819],\n",
       "        [141493,  58736, 140703,  ..., 128281,  38021, 153993]],\n",
       "       device='cuda:0')"
      ]
     },
     "execution_count": 209,
     "metadata": {},
     "output_type": "execute_result"
    }
   ],
   "source": [
    "data.edge_index"
   ]
  },
  {
   "cell_type": "code",
   "execution_count": 210,
   "id": "b507a2ec",
   "metadata": {},
   "outputs": [
    {
     "name": "stdout",
     "output_type": "stream",
     "text": [
      "Accuracy: 0.1892\n"
     ]
    }
   ],
   "source": [
    "model.eval()\n",
    "pred = model(data.x,data.edge_index).argmax(dim=1)\n",
    "correct = compute_accuracy(pred[data.test_mask], data.y[data.test_mask])\n",
    "acc = int(correct) / int(data.test_mask.sum())\n",
    "print(f'Accuracy: {acc:.4f}')"
   ]
  },
  {
   "cell_type": "code",
   "execution_count": null,
   "id": "9c4afa9b",
   "metadata": {},
   "outputs": [],
   "source": []
  }
 ],
 "metadata": {
  "kernelspec": {
   "display_name": "Python 3 (ipykernel)",
   "language": "python",
   "name": "python3"
  },
  "language_info": {
   "codemirror_mode": {
    "name": "ipython",
    "version": 3
   },
   "file_extension": ".py",
   "mimetype": "text/x-python",
   "name": "python",
   "nbconvert_exporter": "python",
   "pygments_lexer": "ipython3",
   "version": "3.10.6"
  }
 },
 "nbformat": 4,
 "nbformat_minor": 5
}
