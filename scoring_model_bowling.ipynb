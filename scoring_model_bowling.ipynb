{
 "cells": [
  {
   "cell_type": "code",
   "execution_count": 1,
   "metadata": {},
   "outputs": [],
   "source": [
    "import pandas as pd\n",
    "import numpy as np\n",
    "\n",
    "from sklearn.preprocessing import MinMaxScaler\n",
    "from sklearn.linear_model import LinearRegression\n",
    "from sklearn.metrics import mean_squared_error, r2_score"
   ]
  },
  {
   "cell_type": "code",
   "execution_count": null,
   "metadata": {},
   "outputs": [],
   "source": [
    "df = pd.read_csv(\"./bowling_custom.csv\")\n",
    "df[\"date\"] = pd.to_datetime(df[\"date\"])\n",
    "df.info()"
   ]
  },
  {
   "cell_type": "code",
   "execution_count": 3,
   "metadata": {},
   "outputs": [
    {
     "name": "stdout",
     "output_type": "stream",
     "text": [
      "<class 'pandas.core.frame.DataFrame'>\n",
      "RangeIndex: 11919 entries, 0 to 11918\n",
      "Data columns (total 6 columns):\n",
      " #   Column         Non-Null Count  Dtype         \n",
      "---  ------         --------------  -----         \n",
      " 0   match_id       11919 non-null  int64         \n",
      " 1   date           11919 non-null  datetime64[ns]\n",
      " 2   bowler         11919 non-null  object        \n",
      " 3   wickets        11919 non-null  int64         \n",
      " 4   balls_bowled   11919 non-null  int64         \n",
      " 5   runs_conceded  11919 non-null  int64         \n",
      "dtypes: datetime64[ns](1), int64(4), object(1)\n",
      "memory usage: 558.8+ KB\n"
     ]
    }
   ],
   "source": [
    "df.info()"
   ]
  },
  {
   "cell_type": "code",
   "execution_count": 18,
   "metadata": {},
   "outputs": [
    {
     "data": {
      "text/html": [
       "<div>\n",
       "<style scoped>\n",
       "    .dataframe tbody tr th:only-of-type {\n",
       "        vertical-align: middle;\n",
       "    }\n",
       "\n",
       "    .dataframe tbody tr th {\n",
       "        vertical-align: top;\n",
       "    }\n",
       "\n",
       "    .dataframe thead th {\n",
       "        text-align: right;\n",
       "    }\n",
       "</style>\n",
       "<table border=\"1\" class=\"dataframe\">\n",
       "  <thead>\n",
       "    <tr style=\"text-align: right;\">\n",
       "      <th></th>\n",
       "      <th>bowler</th>\n",
       "      <th>wickets</th>\n",
       "      <th>balls_bowled</th>\n",
       "      <th>runs_conceded</th>\n",
       "      <th>time_value</th>\n",
       "    </tr>\n",
       "  </thead>\n",
       "  <tbody>\n",
       "    <tr>\n",
       "      <th>0</th>\n",
       "      <td>A Dananjaya</td>\n",
       "      <td>1.000000</td>\n",
       "      <td>2.356265</td>\n",
       "      <td>3.000000</td>\n",
       "      <td>6</td>\n",
       "    </tr>\n",
       "    <tr>\n",
       "      <th>1</th>\n",
       "      <td>A Mishra</td>\n",
       "      <td>9.914286</td>\n",
       "      <td>14.031941</td>\n",
       "      <td>12.234043</td>\n",
       "      <td>6</td>\n",
       "    </tr>\n",
       "    <tr>\n",
       "      <th>2</th>\n",
       "      <td>AD Russell</td>\n",
       "      <td>9.914286</td>\n",
       "      <td>14.326781</td>\n",
       "      <td>16.106383</td>\n",
       "      <td>6</td>\n",
       "    </tr>\n",
       "    <tr>\n",
       "      <th>3</th>\n",
       "      <td>AJ Tye</td>\n",
       "      <td>20.200000</td>\n",
       "      <td>20.754300</td>\n",
       "      <td>20.063830</td>\n",
       "      <td>6</td>\n",
       "    </tr>\n",
       "    <tr>\n",
       "      <th>4</th>\n",
       "      <td>AR Patel</td>\n",
       "      <td>3.057143</td>\n",
       "      <td>10.140049</td>\n",
       "      <td>10.276596</td>\n",
       "      <td>6</td>\n",
       "    </tr>\n",
       "  </tbody>\n",
       "</table>\n",
       "</div>"
      ],
      "text/plain": [
       "        bowler    wickets  balls_bowled  runs_conceded  time_value\n",
       "0  A Dananjaya   1.000000      2.356265       3.000000           6\n",
       "1     A Mishra   9.914286     14.031941      12.234043           6\n",
       "2   AD Russell   9.914286     14.326781      16.106383           6\n",
       "3       AJ Tye  20.200000     20.754300      20.063830           6\n",
       "4     AR Patel   3.057143     10.140049      10.276596           6"
      ]
     },
     "execution_count": 18,
     "metadata": {},
     "output_type": "execute_result"
    }
   ],
   "source": [
    "train_year = 2018\n",
    "test_year = 2023\n",
    "\n",
    "df[\"year\"] = df[\"date\"].dt.year\n",
    "df_bowl = df.drop([\"date\", \"match_id\"], axis=1)\n",
    "df_bowl = df_bowl[(df_bowl[\"year\"] >= train_year)].copy()\n",
    "\n",
    "df_bowl = df_bowl.groupby([\"year\", \"bowler\"]).sum().reset_index()\n",
    "\n",
    "df_bowl[\"time_value\"] = 2023 - df_bowl[\"year\"] + 1\n",
    "df_bowl = df_bowl.drop([\"year\"], axis=1)\n",
    "\n",
    "columns_to_scale = [\"runs_conceded\", \"balls_bowled\", \"wickets\"]\n",
    "scaler = MinMaxScaler(feature_range=(1, 25))\n",
    "df_bowl[columns_to_scale] = scaler.fit_transform(df_bowl[columns_to_scale])\n",
    "\n",
    "df_bowl.head()"
   ]
  },
  {
   "cell_type": "code",
   "execution_count": 19,
   "metadata": {},
   "outputs": [],
   "source": [
    "# calculating the strike rate\n",
    "df_bowl[\"strike_rate\"] = (df_bowl[\"balls_bowled\"] / df_bowl[\"wickets\"]) * 6\n",
    "\n",
    "# calculating the bowling average\n",
    "df_bowl[\"bowling_average\"] = df_bowl[\"runs_conceded\"] / df_bowl[\"wickets\"]\n",
    "\n",
    "# calculating the economy rate\n",
    "df_bowl[\"economy_rate\"] = df_bowl[\"runs_conceded\"] / df_bowl[\"balls_bowled\"]\n",
    "\n",
    "# dropping the unnecessary columns from dataframe\n",
    "df_bowl = df_bowl.drop([\"balls_bowled\", \"runs_conceded\", \"wickets\"], axis=1)"
   ]
  },
  {
   "cell_type": "code",
   "execution_count": 20,
   "metadata": {},
   "outputs": [],
   "source": [
    "df_mean = df_bowl.groupby('bowler').mean()\n",
    "\n",
    "df_train = df_bowl[(df_bowl[\"time_value\"] < 6)].copy()\n",
    "df_test = df_bowl[(df_bowl[\"time_value\"] == 6)].copy()"
   ]
  },
  {
   "cell_type": "code",
   "execution_count": 21,
   "metadata": {},
   "outputs": [],
   "source": [
    "df_mean = df_mean.reset_index()"
   ]
  },
  {
   "cell_type": "code",
   "execution_count": 22,
   "metadata": {},
   "outputs": [
    {
     "data": {
      "text/html": [
       "<div>\n",
       "<style scoped>\n",
       "    .dataframe tbody tr th:only-of-type {\n",
       "        vertical-align: middle;\n",
       "    }\n",
       "\n",
       "    .dataframe tbody tr th {\n",
       "        vertical-align: top;\n",
       "    }\n",
       "\n",
       "    .dataframe thead th {\n",
       "        text-align: right;\n",
       "    }\n",
       "</style>\n",
       "<table border=\"1\" class=\"dataframe\">\n",
       "  <thead>\n",
       "    <tr style=\"text-align: right;\">\n",
       "      <th></th>\n",
       "      <th>bowler</th>\n",
       "      <th>time_value</th>\n",
       "      <th>strike_rate</th>\n",
       "      <th>bowling_average</th>\n",
       "      <th>economy_rate</th>\n",
       "    </tr>\n",
       "  </thead>\n",
       "  <tbody>\n",
       "    <tr>\n",
       "      <th>0</th>\n",
       "      <td>A Badoni</td>\n",
       "      <td>1.5</td>\n",
       "      <td>5.085640</td>\n",
       "      <td>0.809536</td>\n",
       "      <td>0.945239</td>\n",
       "    </tr>\n",
       "    <tr>\n",
       "      <th>1</th>\n",
       "      <td>A Dananjaya</td>\n",
       "      <td>6.0</td>\n",
       "      <td>14.137592</td>\n",
       "      <td>3.000000</td>\n",
       "      <td>1.273201</td>\n",
       "    </tr>\n",
       "    <tr>\n",
       "      <th>2</th>\n",
       "      <td>A Mishra</td>\n",
       "      <td>3.8</td>\n",
       "      <td>8.344797</td>\n",
       "      <td>1.239748</td>\n",
       "      <td>0.900478</td>\n",
       "    </tr>\n",
       "    <tr>\n",
       "      <th>3</th>\n",
       "      <td>A Nortje</td>\n",
       "      <td>2.5</td>\n",
       "      <td>8.284965</td>\n",
       "      <td>1.400709</td>\n",
       "      <td>1.007550</td>\n",
       "    </tr>\n",
       "    <tr>\n",
       "      <th>4</th>\n",
       "      <td>A Zampa</td>\n",
       "      <td>2.5</td>\n",
       "      <td>9.732154</td>\n",
       "      <td>1.416347</td>\n",
       "      <td>0.904860</td>\n",
       "    </tr>\n",
       "  </tbody>\n",
       "</table>\n",
       "</div>"
      ],
      "text/plain": [
       "        bowler  time_value  strike_rate  bowling_average  economy_rate\n",
       "0     A Badoni         1.5     5.085640         0.809536      0.945239\n",
       "1  A Dananjaya         6.0    14.137592         3.000000      1.273201\n",
       "2     A Mishra         3.8     8.344797         1.239748      0.900478\n",
       "3     A Nortje         2.5     8.284965         1.400709      1.007550\n",
       "4      A Zampa         2.5     9.732154         1.416347      0.904860"
      ]
     },
     "execution_count": 22,
     "metadata": {},
     "output_type": "execute_result"
    }
   ],
   "source": [
    "df_mean.head()"
   ]
  },
  {
   "cell_type": "code",
   "execution_count": 23,
   "metadata": {},
   "outputs": [
    {
     "data": {
      "text/plain": [
       "95"
      ]
     },
     "execution_count": 23,
     "metadata": {},
     "output_type": "execute_result"
    }
   ],
   "source": [
    "df_mean = df_mean[df_mean[\"bowler\"].isin(df_test[\"bowler\"])].copy()\n",
    "len(df_mean)"
   ]
  },
  {
   "cell_type": "code",
   "execution_count": 24,
   "metadata": {},
   "outputs": [
    {
     "data": {
      "text/html": [
       "<div>\n",
       "<style scoped>\n",
       "    .dataframe tbody tr th:only-of-type {\n",
       "        vertical-align: middle;\n",
       "    }\n",
       "\n",
       "    .dataframe tbody tr th {\n",
       "        vertical-align: top;\n",
       "    }\n",
       "\n",
       "    .dataframe thead th {\n",
       "        text-align: right;\n",
       "    }\n",
       "</style>\n",
       "<table border=\"1\" class=\"dataframe\">\n",
       "  <thead>\n",
       "    <tr style=\"text-align: right;\">\n",
       "      <th></th>\n",
       "      <th>bowler</th>\n",
       "      <th>time_value</th>\n",
       "      <th>strike_rate</th>\n",
       "      <th>bowling_average</th>\n",
       "      <th>economy_rate</th>\n",
       "    </tr>\n",
       "  </thead>\n",
       "  <tbody>\n",
       "    <tr>\n",
       "      <th>1</th>\n",
       "      <td>A Dananjaya</td>\n",
       "      <td>6.00</td>\n",
       "      <td>14.137592</td>\n",
       "      <td>3.000000</td>\n",
       "      <td>1.273201</td>\n",
       "    </tr>\n",
       "    <tr>\n",
       "      <th>2</th>\n",
       "      <td>A Mishra</td>\n",
       "      <td>3.80</td>\n",
       "      <td>8.344797</td>\n",
       "      <td>1.239748</td>\n",
       "      <td>0.900478</td>\n",
       "    </tr>\n",
       "    <tr>\n",
       "      <th>5</th>\n",
       "      <td>AD Russell</td>\n",
       "      <td>3.50</td>\n",
       "      <td>6.619132</td>\n",
       "      <td>1.286512</td>\n",
       "      <td>1.170940</td>\n",
       "    </tr>\n",
       "    <tr>\n",
       "      <th>8</th>\n",
       "      <td>AJ Tye</td>\n",
       "      <td>4.25</td>\n",
       "      <td>9.683732</td>\n",
       "      <td>1.942671</td>\n",
       "      <td>1.191600</td>\n",
       "    </tr>\n",
       "    <tr>\n",
       "      <th>10</th>\n",
       "      <td>AR Patel</td>\n",
       "      <td>3.50</td>\n",
       "      <td>14.316358</td>\n",
       "      <td>2.142697</td>\n",
       "      <td>0.882882</td>\n",
       "    </tr>\n",
       "  </tbody>\n",
       "</table>\n",
       "</div>"
      ],
      "text/plain": [
       "         bowler  time_value  strike_rate  bowling_average  economy_rate\n",
       "1   A Dananjaya        6.00    14.137592         3.000000      1.273201\n",
       "2      A Mishra        3.80     8.344797         1.239748      0.900478\n",
       "5    AD Russell        3.50     6.619132         1.286512      1.170940\n",
       "8        AJ Tye        4.25     9.683732         1.942671      1.191600\n",
       "10     AR Patel        3.50    14.316358         2.142697      0.882882"
      ]
     },
     "execution_count": 24,
     "metadata": {},
     "output_type": "execute_result"
    }
   ],
   "source": [
    "df_mean.head()"
   ]
  },
  {
   "cell_type": "code",
   "execution_count": 25,
   "metadata": {},
   "outputs": [
    {
     "data": {
      "text/html": [
       "<div>\n",
       "<style scoped>\n",
       "    .dataframe tbody tr th:only-of-type {\n",
       "        vertical-align: middle;\n",
       "    }\n",
       "\n",
       "    .dataframe tbody tr th {\n",
       "        vertical-align: top;\n",
       "    }\n",
       "\n",
       "    .dataframe thead th {\n",
       "        text-align: right;\n",
       "    }\n",
       "</style>\n",
       "<table border=\"1\" class=\"dataframe\">\n",
       "  <thead>\n",
       "    <tr style=\"text-align: right;\">\n",
       "      <th></th>\n",
       "      <th>time_value</th>\n",
       "      <th>strike_rate</th>\n",
       "      <th>bowling_average</th>\n",
       "      <th>economy_rate</th>\n",
       "    </tr>\n",
       "  </thead>\n",
       "  <tbody>\n",
       "    <tr>\n",
       "      <th>count</th>\n",
       "      <td>666.000000</td>\n",
       "      <td>666.000000</td>\n",
       "      <td>666.000000</td>\n",
       "      <td>666.000000</td>\n",
       "    </tr>\n",
       "    <tr>\n",
       "      <th>mean</th>\n",
       "      <td>3.283784</td>\n",
       "      <td>10.229784</td>\n",
       "      <td>1.819769</td>\n",
       "      <td>1.065250</td>\n",
       "    </tr>\n",
       "    <tr>\n",
       "      <th>std</th>\n",
       "      <td>1.727863</td>\n",
       "      <td>3.714011</td>\n",
       "      <td>0.737516</td>\n",
       "      <td>0.160801</td>\n",
       "    </tr>\n",
       "    <tr>\n",
       "      <th>min</th>\n",
       "      <td>1.000000</td>\n",
       "      <td>3.594499</td>\n",
       "      <td>0.549811</td>\n",
       "      <td>0.650774</td>\n",
       "    </tr>\n",
       "    <tr>\n",
       "      <th>25%</th>\n",
       "      <td>2.000000</td>\n",
       "      <td>7.769042</td>\n",
       "      <td>1.321420</td>\n",
       "      <td>0.952694</td>\n",
       "    </tr>\n",
       "    <tr>\n",
       "      <th>50%</th>\n",
       "      <td>3.000000</td>\n",
       "      <td>9.518215</td>\n",
       "      <td>1.648142</td>\n",
       "      <td>1.046701</td>\n",
       "    </tr>\n",
       "    <tr>\n",
       "      <th>75%</th>\n",
       "      <td>5.000000</td>\n",
       "      <td>12.014742</td>\n",
       "      <td>2.144014</td>\n",
       "      <td>1.166534</td>\n",
       "    </tr>\n",
       "    <tr>\n",
       "      <th>max</th>\n",
       "      <td>6.000000</td>\n",
       "      <td>31.120393</td>\n",
       "      <td>5.851064</td>\n",
       "      <td>1.639299</td>\n",
       "    </tr>\n",
       "  </tbody>\n",
       "</table>\n",
       "</div>"
      ],
      "text/plain": [
       "       time_value  strike_rate  bowling_average  economy_rate\n",
       "count  666.000000   666.000000       666.000000    666.000000\n",
       "mean     3.283784    10.229784         1.819769      1.065250\n",
       "std      1.727863     3.714011         0.737516      0.160801\n",
       "min      1.000000     3.594499         0.549811      0.650774\n",
       "25%      2.000000     7.769042         1.321420      0.952694\n",
       "50%      3.000000     9.518215         1.648142      1.046701\n",
       "75%      5.000000    12.014742         2.144014      1.166534\n",
       "max      6.000000    31.120393         5.851064      1.639299"
      ]
     },
     "execution_count": 25,
     "metadata": {},
     "output_type": "execute_result"
    }
   ],
   "source": [
    "df_bowl.describe()"
   ]
  },
  {
   "cell_type": "code",
   "execution_count": 26,
   "metadata": {},
   "outputs": [],
   "source": [
    "w1, w2, w3, w4 = 1, 1, 1, 0.25\n",
    "weighted_score_train = (\n",
    "    w1 * df_train[\"strike_rate\"]\n",
    "    + w2 * df_train[\"bowling_average\"]\n",
    "    + w3 * df_train[\"economy_rate\"]\n",
    "    + w4 * df_train[\"time_value\"]\n",
    ")\n",
    "X_train = df_train\n",
    "y_train = weighted_score_train\n",
    "\n",
    "w1, w2, w3, w4 = 1, 1, 1, 0.25\n",
    "weighted_score_test = (\n",
    "    w1 * df_test[\"strike_rate\"]\n",
    "    + w2 * df_test[\"bowling_average\"]\n",
    "    + w3 * df_test[\"economy_rate\"]\n",
    "    + w4 * df_test[\"time_value\"]\n",
    ")\n",
    "\n",
    "X_test = df_test\n",
    "y_test = weighted_score_test"
   ]
  },
  {
   "cell_type": "code",
   "execution_count": 27,
   "metadata": {},
   "outputs": [
    {
     "name": "stdout",
     "output_type": "stream",
     "text": [
      "<class 'pandas.core.frame.DataFrame'>\n",
      "Index: 571 entries, 95 to 665\n",
      "Data columns (total 5 columns):\n",
      " #   Column           Non-Null Count  Dtype  \n",
      "---  ------           --------------  -----  \n",
      " 0   bowler           571 non-null    object \n",
      " 1   time_value       571 non-null    int32  \n",
      " 2   strike_rate      571 non-null    float64\n",
      " 3   bowling_average  571 non-null    float64\n",
      " 4   economy_rate     571 non-null    float64\n",
      "dtypes: float64(3), int32(1), object(1)\n",
      "memory usage: 24.5+ KB\n"
     ]
    }
   ],
   "source": [
    "X_train.info()"
   ]
  },
  {
   "cell_type": "code",
   "execution_count": 28,
   "metadata": {},
   "outputs": [],
   "source": [
    "X_train_excluded = X_train.drop(columns=\"bowler\", axis=1)\n",
    "X_test_excluded = X_test.drop(columns=\"bowler\", axis=1)\n",
    "# df_mean_excluded = df_mean.drop(columns=\"batter\", axis=1)"
   ]
  },
  {
   "cell_type": "code",
   "execution_count": 29,
   "metadata": {},
   "outputs": [],
   "source": [
    "model = LinearRegression()"
   ]
  },
  {
   "cell_type": "code",
   "execution_count": 30,
   "metadata": {},
   "outputs": [
    {
     "data": {
      "text/html": [
       "<style>#sk-container-id-2 {color: black;}#sk-container-id-2 pre{padding: 0;}#sk-container-id-2 div.sk-toggleable {background-color: white;}#sk-container-id-2 label.sk-toggleable__label {cursor: pointer;display: block;width: 100%;margin-bottom: 0;padding: 0.3em;box-sizing: border-box;text-align: center;}#sk-container-id-2 label.sk-toggleable__label-arrow:before {content: \"▸\";float: left;margin-right: 0.25em;color: #696969;}#sk-container-id-2 label.sk-toggleable__label-arrow:hover:before {color: black;}#sk-container-id-2 div.sk-estimator:hover label.sk-toggleable__label-arrow:before {color: black;}#sk-container-id-2 div.sk-toggleable__content {max-height: 0;max-width: 0;overflow: hidden;text-align: left;background-color: #f0f8ff;}#sk-container-id-2 div.sk-toggleable__content pre {margin: 0.2em;color: black;border-radius: 0.25em;background-color: #f0f8ff;}#sk-container-id-2 input.sk-toggleable__control:checked~div.sk-toggleable__content {max-height: 200px;max-width: 100%;overflow: auto;}#sk-container-id-2 input.sk-toggleable__control:checked~label.sk-toggleable__label-arrow:before {content: \"▾\";}#sk-container-id-2 div.sk-estimator input.sk-toggleable__control:checked~label.sk-toggleable__label {background-color: #d4ebff;}#sk-container-id-2 div.sk-label input.sk-toggleable__control:checked~label.sk-toggleable__label {background-color: #d4ebff;}#sk-container-id-2 input.sk-hidden--visually {border: 0;clip: rect(1px 1px 1px 1px);clip: rect(1px, 1px, 1px, 1px);height: 1px;margin: -1px;overflow: hidden;padding: 0;position: absolute;width: 1px;}#sk-container-id-2 div.sk-estimator {font-family: monospace;background-color: #f0f8ff;border: 1px dotted black;border-radius: 0.25em;box-sizing: border-box;margin-bottom: 0.5em;}#sk-container-id-2 div.sk-estimator:hover {background-color: #d4ebff;}#sk-container-id-2 div.sk-parallel-item::after {content: \"\";width: 100%;border-bottom: 1px solid gray;flex-grow: 1;}#sk-container-id-2 div.sk-label:hover label.sk-toggleable__label {background-color: #d4ebff;}#sk-container-id-2 div.sk-serial::before {content: \"\";position: absolute;border-left: 1px solid gray;box-sizing: border-box;top: 0;bottom: 0;left: 50%;z-index: 0;}#sk-container-id-2 div.sk-serial {display: flex;flex-direction: column;align-items: center;background-color: white;padding-right: 0.2em;padding-left: 0.2em;position: relative;}#sk-container-id-2 div.sk-item {position: relative;z-index: 1;}#sk-container-id-2 div.sk-parallel {display: flex;align-items: stretch;justify-content: center;background-color: white;position: relative;}#sk-container-id-2 div.sk-item::before, #sk-container-id-2 div.sk-parallel-item::before {content: \"\";position: absolute;border-left: 1px solid gray;box-sizing: border-box;top: 0;bottom: 0;left: 50%;z-index: -1;}#sk-container-id-2 div.sk-parallel-item {display: flex;flex-direction: column;z-index: 1;position: relative;background-color: white;}#sk-container-id-2 div.sk-parallel-item:first-child::after {align-self: flex-end;width: 50%;}#sk-container-id-2 div.sk-parallel-item:last-child::after {align-self: flex-start;width: 50%;}#sk-container-id-2 div.sk-parallel-item:only-child::after {width: 0;}#sk-container-id-2 div.sk-dashed-wrapped {border: 1px dashed gray;margin: 0 0.4em 0.5em 0.4em;box-sizing: border-box;padding-bottom: 0.4em;background-color: white;}#sk-container-id-2 div.sk-label label {font-family: monospace;font-weight: bold;display: inline-block;line-height: 1.2em;}#sk-container-id-2 div.sk-label-container {text-align: center;}#sk-container-id-2 div.sk-container {/* jupyter's `normalize.less` sets `[hidden] { display: none; }` but bootstrap.min.css set `[hidden] { display: none !important; }` so we also need the `!important` here to be able to override the default hidden behavior on the sphinx rendered scikit-learn.org. See: https://github.com/scikit-learn/scikit-learn/issues/21755 */display: inline-block !important;position: relative;}#sk-container-id-2 div.sk-text-repr-fallback {display: none;}</style><div id=\"sk-container-id-2\" class=\"sk-top-container\"><div class=\"sk-text-repr-fallback\"><pre>LinearRegression()</pre><b>In a Jupyter environment, please rerun this cell to show the HTML representation or trust the notebook. <br />On GitHub, the HTML representation is unable to render, please try loading this page with nbviewer.org.</b></div><div class=\"sk-container\" hidden><div class=\"sk-item\"><div class=\"sk-estimator sk-toggleable\"><input class=\"sk-toggleable__control sk-hidden--visually\" id=\"sk-estimator-id-2\" type=\"checkbox\" checked><label for=\"sk-estimator-id-2\" class=\"sk-toggleable__label sk-toggleable__label-arrow\">LinearRegression</label><div class=\"sk-toggleable__content\"><pre>LinearRegression()</pre></div></div></div></div></div>"
      ],
      "text/plain": [
       "LinearRegression()"
      ]
     },
     "execution_count": 30,
     "metadata": {},
     "output_type": "execute_result"
    }
   ],
   "source": [
    "model.fit(X_train_excluded, y_train)"
   ]
  },
  {
   "cell_type": "code",
   "execution_count": 31,
   "metadata": {},
   "outputs": [],
   "source": [
    "df_test = df_mean.drop(\"bowler\", axis=1)\n",
    "y_pred = model.predict(df_test)"
   ]
  },
  {
   "cell_type": "code",
   "execution_count": 32,
   "metadata": {},
   "outputs": [
    {
     "name": "stdout",
     "output_type": "stream",
     "text": [
      "Mean Squared Error on Test Set: 9.198328536574326\n"
     ]
    }
   ],
   "source": [
    "mse = mean_squared_error(y_test, y_pred)\n",
    "print(f'Mean Squared Error on Test Set: {mse}')"
   ]
  },
  {
   "cell_type": "code",
   "execution_count": 33,
   "metadata": {},
   "outputs": [
    {
     "name": "stdout",
     "output_type": "stream",
     "text": [
      "[19.91079339 11.43502231  9.95158401 13.88050287 18.21693701 17.55913931\n",
      " 11.87092315  9.81987819 14.61161079 15.68891639 11.08714477 12.9089365\n",
      " 14.42710668 14.83126089 16.70154862 17.1445655  19.50374732 12.22611919\n",
      "  9.73085224 17.18345367 15.76616693 12.7589421  10.11784982 11.43186355\n",
      " 13.8880711  16.5468782  10.60338043 13.36023733 18.48546623 13.51018646\n",
      " 14.24247016 14.24364617 11.78362016 17.97460711 12.51292663 13.22658929\n",
      " 15.63513343 16.10271445 11.55315004 17.31106103 13.56660364 17.50642788\n",
      " 12.85958719 17.33258226 12.68963769 11.47180006 11.1421063  18.83980667\n",
      "  9.29461971 21.09365092 16.26552709 14.36387894 16.20208537 13.33642291\n",
      " 28.19474786 15.09681501 13.43092821 11.7955063  12.17543017 11.43876288\n",
      " 13.4741678  14.79304062 11.9651899  14.54913318 17.55979199 13.59898315\n",
      " 11.63354305 13.35782109 12.51925591 13.34618666 16.16055233 14.49801274\n",
      " 10.53979241 15.49005753 11.6817358  15.83705412 14.70209076 11.11000866\n",
      " 12.67500119 12.54625093 16.46697319 15.81247092 15.60674538 15.83823068\n",
      " 16.21859601 13.61769717 12.49313523 13.22402429 13.52699438 18.22654517\n",
      " 11.25327492 16.40022164 10.33864148 11.63881724 14.57082457]\n"
     ]
    }
   ],
   "source": [
    "print(y_pred)"
   ]
  },
  {
   "cell_type": "code",
   "execution_count": 34,
   "metadata": {},
   "outputs": [],
   "source": [
    "players = [\n",
    "    \"S Dhawan\",\n",
    "    \"P Simran Singh\",\n",
    "    \"PBB Rajapaksa\",\n",
    "    \"JM Sharma\",\n",
    "    \"M Shahrukh Khan\",\n",
    "    \"SM Curran\",\n",
    "    \"Sikandar Raza\",\n",
    "    \"NT Ellis\",\n",
    "    \"Harpreet Brar\",\n",
    "    \"RD Chahar\",\n",
    "    \"Arshdeep Singh\",\n",
    "    \"Rahmanullah Gurbaz\",\n",
    "    \"Mandeep Singh\",\n",
    "    \"N Rana\",\n",
    "    \"RK Singh\",\n",
    "    \"AD Russell\",\n",
    "    \"AS Roy\",\n",
    "    \"SN Thakur\",\n",
    "    \"SP Narine\",\n",
    "    \"TG Southee\",\n",
    "    \"CV Varun\",\n",
    "    \"UT Yadav\",\n",
    "]\n",
    "\n"
   ]
  },
  {
   "cell_type": "code",
   "execution_count": 35,
   "metadata": {},
   "outputs": [
    {
     "data": {
      "text/html": [
       "<div>\n",
       "<style scoped>\n",
       "    .dataframe tbody tr th:only-of-type {\n",
       "        vertical-align: middle;\n",
       "    }\n",
       "\n",
       "    .dataframe tbody tr th {\n",
       "        vertical-align: top;\n",
       "    }\n",
       "\n",
       "    .dataframe thead th {\n",
       "        text-align: right;\n",
       "    }\n",
       "</style>\n",
       "<table border=\"1\" class=\"dataframe\">\n",
       "  <thead>\n",
       "    <tr style=\"text-align: right;\">\n",
       "      <th></th>\n",
       "      <th>bowler</th>\n",
       "      <th>time_value</th>\n",
       "      <th>strike_rate</th>\n",
       "      <th>bowling_average</th>\n",
       "      <th>economy_rate</th>\n",
       "      <th>result</th>\n",
       "    </tr>\n",
       "  </thead>\n",
       "  <tbody>\n",
       "    <tr>\n",
       "      <th>1</th>\n",
       "      <td>A Dananjaya</td>\n",
       "      <td>6.0</td>\n",
       "      <td>14.137592</td>\n",
       "      <td>3.000000</td>\n",
       "      <td>1.273201</td>\n",
       "      <td>19.910793</td>\n",
       "    </tr>\n",
       "    <tr>\n",
       "      <th>2</th>\n",
       "      <td>A Mishra</td>\n",
       "      <td>3.8</td>\n",
       "      <td>8.344797</td>\n",
       "      <td>1.239748</td>\n",
       "      <td>0.900478</td>\n",
       "      <td>11.435022</td>\n",
       "    </tr>\n",
       "    <tr>\n",
       "      <th>5</th>\n",
       "      <td>AD Russell</td>\n",
       "      <td>3.5</td>\n",
       "      <td>6.619132</td>\n",
       "      <td>1.286512</td>\n",
       "      <td>1.170940</td>\n",
       "      <td>9.951584</td>\n",
       "    </tr>\n",
       "  </tbody>\n",
       "</table>\n",
       "</div>"
      ],
      "text/plain": [
       "        bowler  time_value  strike_rate  bowling_average  economy_rate  \\\n",
       "1  A Dananjaya         6.0    14.137592         3.000000      1.273201   \n",
       "2     A Mishra         3.8     8.344797         1.239748      0.900478   \n",
       "5   AD Russell         3.5     6.619132         1.286512      1.170940   \n",
       "\n",
       "      result  \n",
       "1  19.910793  \n",
       "2  11.435022  \n",
       "5   9.951584  "
      ]
     },
     "execution_count": 35,
     "metadata": {},
     "output_type": "execute_result"
    }
   ],
   "source": [
    "df_mean[\"result\"] = y_pred\n",
    "df_mean.head(3)"
   ]
  },
  {
   "cell_type": "code",
   "execution_count": 36,
   "metadata": {},
   "outputs": [
    {
     "data": {
      "text/plain": [
       "6"
      ]
     },
     "execution_count": 36,
     "metadata": {},
     "output_type": "execute_result"
    }
   ],
   "source": [
    "df_res = df_mean[df_mean[\"bowler\"].isin(players)].copy()\n",
    "len(df_res)"
   ]
  },
  {
   "cell_type": "code",
   "execution_count": 37,
   "metadata": {},
   "outputs": [
    {
     "data": {
      "text/html": [
       "<div>\n",
       "<style scoped>\n",
       "    .dataframe tbody tr th:only-of-type {\n",
       "        vertical-align: middle;\n",
       "    }\n",
       "\n",
       "    .dataframe tbody tr th {\n",
       "        vertical-align: top;\n",
       "    }\n",
       "\n",
       "    .dataframe thead th {\n",
       "        text-align: right;\n",
       "    }\n",
       "</style>\n",
       "<table border=\"1\" class=\"dataframe\">\n",
       "  <thead>\n",
       "    <tr style=\"text-align: right;\">\n",
       "      <th></th>\n",
       "      <th>bowler</th>\n",
       "      <th>result</th>\n",
       "    </tr>\n",
       "  </thead>\n",
       "  <tbody>\n",
       "    <tr>\n",
       "      <th>5</th>\n",
       "      <td>AD Russell</td>\n",
       "      <td>9.951584</td>\n",
       "    </tr>\n",
       "    <tr>\n",
       "      <th>156</th>\n",
       "      <td>N Rana</td>\n",
       "      <td>11.633543</td>\n",
       "    </tr>\n",
       "    <tr>\n",
       "      <th>211</th>\n",
       "      <td>SN Thakur</td>\n",
       "      <td>12.546251</td>\n",
       "    </tr>\n",
       "    <tr>\n",
       "      <th>212</th>\n",
       "      <td>SP Narine</td>\n",
       "      <td>16.466973</td>\n",
       "    </tr>\n",
       "    <tr>\n",
       "      <th>231</th>\n",
       "      <td>TG Southee</td>\n",
       "      <td>13.224024</td>\n",
       "    </tr>\n",
       "    <tr>\n",
       "      <th>236</th>\n",
       "      <td>UT Yadav</td>\n",
       "      <td>18.226545</td>\n",
       "    </tr>\n",
       "  </tbody>\n",
       "</table>\n",
       "</div>"
      ],
      "text/plain": [
       "         bowler     result\n",
       "5    AD Russell   9.951584\n",
       "156      N Rana  11.633543\n",
       "211   SN Thakur  12.546251\n",
       "212   SP Narine  16.466973\n",
       "231  TG Southee  13.224024\n",
       "236    UT Yadav  18.226545"
      ]
     },
     "execution_count": 37,
     "metadata": {},
     "output_type": "execute_result"
    }
   ],
   "source": [
    "df_res = df_res[[\"bowler\", \"result\"]]\n",
    "df_res"
   ]
  },
  {
   "cell_type": "code",
   "execution_count": 38,
   "metadata": {},
   "outputs": [
    {
     "data": {
      "text/html": [
       "<div>\n",
       "<style scoped>\n",
       "    .dataframe tbody tr th:only-of-type {\n",
       "        vertical-align: middle;\n",
       "    }\n",
       "\n",
       "    .dataframe tbody tr th {\n",
       "        vertical-align: top;\n",
       "    }\n",
       "\n",
       "    .dataframe thead th {\n",
       "        text-align: right;\n",
       "    }\n",
       "</style>\n",
       "<table border=\"1\" class=\"dataframe\">\n",
       "  <thead>\n",
       "    <tr style=\"text-align: right;\">\n",
       "      <th></th>\n",
       "      <th>bowler</th>\n",
       "      <th>result</th>\n",
       "    </tr>\n",
       "  </thead>\n",
       "  <tbody>\n",
       "    <tr>\n",
       "      <th>236</th>\n",
       "      <td>UT Yadav</td>\n",
       "      <td>18.226545</td>\n",
       "    </tr>\n",
       "    <tr>\n",
       "      <th>212</th>\n",
       "      <td>SP Narine</td>\n",
       "      <td>16.466973</td>\n",
       "    </tr>\n",
       "    <tr>\n",
       "      <th>231</th>\n",
       "      <td>TG Southee</td>\n",
       "      <td>13.224024</td>\n",
       "    </tr>\n",
       "    <tr>\n",
       "      <th>211</th>\n",
       "      <td>SN Thakur</td>\n",
       "      <td>12.546251</td>\n",
       "    </tr>\n",
       "    <tr>\n",
       "      <th>156</th>\n",
       "      <td>N Rana</td>\n",
       "      <td>11.633543</td>\n",
       "    </tr>\n",
       "    <tr>\n",
       "      <th>5</th>\n",
       "      <td>AD Russell</td>\n",
       "      <td>9.951584</td>\n",
       "    </tr>\n",
       "  </tbody>\n",
       "</table>\n",
       "</div>"
      ],
      "text/plain": [
       "         bowler     result\n",
       "236    UT Yadav  18.226545\n",
       "212   SP Narine  16.466973\n",
       "231  TG Southee  13.224024\n",
       "211   SN Thakur  12.546251\n",
       "156      N Rana  11.633543\n",
       "5    AD Russell   9.951584"
      ]
     },
     "execution_count": 38,
     "metadata": {},
     "output_type": "execute_result"
    }
   ],
   "source": [
    "df_res = df_res.sort_values(by=\"result\", ascending=False)\n",
    "df_res"
   ]
  }
 ],
 "metadata": {
  "kernelspec": {
   "display_name": "Python 3",
   "language": "python",
   "name": "python3"
  },
  "language_info": {
   "codemirror_mode": {
    "name": "ipython",
    "version": 3
   },
   "file_extension": ".py",
   "mimetype": "text/x-python",
   "name": "python",
   "nbconvert_exporter": "python",
   "pygments_lexer": "ipython3",
   "version": "3.10.11"
  }
 },
 "nbformat": 4,
 "nbformat_minor": 2
}
