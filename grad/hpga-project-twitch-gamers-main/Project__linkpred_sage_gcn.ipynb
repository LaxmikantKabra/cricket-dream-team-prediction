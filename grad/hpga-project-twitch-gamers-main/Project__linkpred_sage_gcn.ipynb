{
  "nbformat": 4,
  "nbformat_minor": 0,
  "metadata": {
    "colab": {
      "provenance": []
    },
    "kernelspec": {
      "name": "python3",
      "display_name": "Python 3"
    },
    "language_info": {
      "name": "python"
    },
    "accelerator": "GPU",
    "gpuClass": "standard"
  },
  "cells": [
    {
      "cell_type": "code",
      "execution_count": 2,
      "metadata": {
        "id": "xhvcg8ospw5a"
      },
      "outputs": [],
      "source": [
        "import torch #The torch package contains data structures for multi-dimensional tensors and mathematical operations over these are defined.\n",
        "import torchvision #The torchvision package consists of popular datasets, model architectures, and common image transformations for computer vision.\n",
        "import torch.nn as nn\n",
        "import numpy as np\n",
        "import torchvision.transforms as transforms\n",
        "import torch.nn.functional as F\n",
        "from torch_geometric.nn import GCNConv\n",
        "from torch_geometric.nn import SAGEConv\n",
        "from torch_geometric.utils import negative_sampling\n",
        "from sklearn.metrics import roc_auc_score\n",
        "import torch_geometric.transforms as T\n",
        "import pandas as pd"
      ]
    },
    {
      "cell_type": "code",
      "source": [
        "import torch\n",
        "\n",
        "def format_pytorch_version(version):\n",
        "  return version.split('+')[0]\n",
        "\n",
        "TORCH_version = torch.__version__\n",
        "TORCH = format_pytorch_version(TORCH_version)\n",
        "\n",
        "def format_cuda_version(version):\n",
        "  return 'cu' + version.replace('.', '')\n",
        "\n",
        "CUDA_version = torch.version.cuda\n",
        "CUDA = format_cuda_version(CUDA_version)\n",
        "\n",
        "!pip install torch-scatter -f https://data.pyg.org/whl/torch-{TORCH}+{CUDA}.html\n",
        "!pip install torch-sparse -f https://data.pyg.org/whl/torch-{TORCH}+{CUDA}.html\n",
        "!pip install torch-cluster -f https://data.pyg.org/whl/torch-{TORCH}+{CUDA}.html\n",
        "!pip install torch-spline-conv -f https://data.pyg.org/whl/torch-{TORCH}+{CUDA}.html\n",
        "!pip install torch-geometric"
      ],
      "metadata": {
        "colab": {
          "base_uri": "https://localhost:8080/"
        },
        "id": "uA15Z4C1qIkV",
        "outputId": "e9f8eb74-64f5-480e-97b5-958287e07ee0"
      },
      "execution_count": 1,
      "outputs": [
        {
          "output_type": "stream",
          "name": "stdout",
          "text": [
            "Looking in indexes: https://pypi.org/simple, https://us-python.pkg.dev/colab-wheels/public/simple/\n",
            "Looking in links: https://data.pyg.org/whl/torch-2.0.0+cu118.html\n",
            "Collecting torch-scatter\n",
            "  Downloading https://data.pyg.org/whl/torch-2.0.0%2Bcu118/torch_scatter-2.1.1%2Bpt20cu118-cp39-cp39-linux_x86_64.whl (10.2 MB)\n",
            "\u001b[2K     \u001b[90m━━━━━━━━━━━━━━━━━━━━━━━━━━━━━━━━━━━━━━━━\u001b[0m \u001b[32m10.2/10.2 MB\u001b[0m \u001b[31m25.4 MB/s\u001b[0m eta \u001b[36m0:00:00\u001b[0m\n",
            "\u001b[?25hInstalling collected packages: torch-scatter\n",
            "Successfully installed torch-scatter-2.1.1+pt20cu118\n",
            "Looking in indexes: https://pypi.org/simple, https://us-python.pkg.dev/colab-wheels/public/simple/\n",
            "Looking in links: https://data.pyg.org/whl/torch-2.0.0+cu118.html\n",
            "Collecting torch-sparse\n",
            "  Downloading https://data.pyg.org/whl/torch-2.0.0%2Bcu118/torch_sparse-0.6.17%2Bpt20cu118-cp39-cp39-linux_x86_64.whl (4.8 MB)\n",
            "\u001b[2K     \u001b[90m━━━━━━━━━━━━━━━━━━━━━━━━━━━━━━━━━━━━━━━━\u001b[0m \u001b[32m4.8/4.8 MB\u001b[0m \u001b[31m34.9 MB/s\u001b[0m eta \u001b[36m0:00:00\u001b[0m\n",
            "\u001b[?25hRequirement already satisfied: scipy in /usr/local/lib/python3.9/dist-packages (from torch-sparse) (1.10.1)\n",
            "Requirement already satisfied: numpy<1.27.0,>=1.19.5 in /usr/local/lib/python3.9/dist-packages (from scipy->torch-sparse) (1.22.4)\n",
            "Installing collected packages: torch-sparse\n",
            "Successfully installed torch-sparse-0.6.17+pt20cu118\n",
            "Looking in indexes: https://pypi.org/simple, https://us-python.pkg.dev/colab-wheels/public/simple/\n",
            "Looking in links: https://data.pyg.org/whl/torch-2.0.0+cu118.html\n",
            "Collecting torch-cluster\n",
            "  Downloading https://data.pyg.org/whl/torch-2.0.0%2Bcu118/torch_cluster-1.6.1%2Bpt20cu118-cp39-cp39-linux_x86_64.whl (3.3 MB)\n",
            "\u001b[2K     \u001b[90m━━━━━━━━━━━━━━━━━━━━━━━━━━━━━━━━━━━━━━━━\u001b[0m \u001b[32m3.3/3.3 MB\u001b[0m \u001b[31m41.6 MB/s\u001b[0m eta \u001b[36m0:00:00\u001b[0m\n",
            "\u001b[?25hRequirement already satisfied: scipy in /usr/local/lib/python3.9/dist-packages (from torch-cluster) (1.10.1)\n",
            "Requirement already satisfied: numpy<1.27.0,>=1.19.5 in /usr/local/lib/python3.9/dist-packages (from scipy->torch-cluster) (1.22.4)\n",
            "Installing collected packages: torch-cluster\n",
            "Successfully installed torch-cluster-1.6.1+pt20cu118\n",
            "Looking in indexes: https://pypi.org/simple, https://us-python.pkg.dev/colab-wheels/public/simple/\n",
            "Looking in links: https://data.pyg.org/whl/torch-2.0.0+cu118.html\n",
            "Collecting torch-spline-conv\n",
            "  Downloading https://data.pyg.org/whl/torch-2.0.0%2Bcu118/torch_spline_conv-1.2.2%2Bpt20cu118-cp39-cp39-linux_x86_64.whl (885 kB)\n",
            "\u001b[2K     \u001b[90m━━━━━━━━━━━━━━━━━━━━━━━━━━━━━━━━━━━━━━\u001b[0m \u001b[32m885.2/885.2 kB\u001b[0m \u001b[31m17.5 MB/s\u001b[0m eta \u001b[36m0:00:00\u001b[0m\n",
            "\u001b[?25hInstalling collected packages: torch-spline-conv\n",
            "Successfully installed torch-spline-conv-1.2.2+pt20cu118\n",
            "Looking in indexes: https://pypi.org/simple, https://us-python.pkg.dev/colab-wheels/public/simple/\n",
            "Collecting torch-geometric\n",
            "  Downloading torch_geometric-2.3.0.tar.gz (616 kB)\n",
            "\u001b[2K     \u001b[90m━━━━━━━━━━━━━━━━━━━━━━━━━━━━━━━━━━━━━━\u001b[0m \u001b[32m616.2/616.2 kB\u001b[0m \u001b[31m13.1 MB/s\u001b[0m eta \u001b[36m0:00:00\u001b[0m\n",
            "\u001b[?25h  Installing build dependencies ... \u001b[?25l\u001b[?25hdone\n",
            "  Getting requirements to build wheel ... \u001b[?25l\u001b[?25hdone\n",
            "  Preparing metadata (pyproject.toml) ... \u001b[?25l\u001b[?25hdone\n",
            "Requirement already satisfied: tqdm in /usr/local/lib/python3.9/dist-packages (from torch-geometric) (4.65.0)\n",
            "Requirement already satisfied: numpy in /usr/local/lib/python3.9/dist-packages (from torch-geometric) (1.22.4)\n",
            "Requirement already satisfied: scikit-learn in /usr/local/lib/python3.9/dist-packages (from torch-geometric) (1.2.2)\n",
            "Requirement already satisfied: requests in /usr/local/lib/python3.9/dist-packages (from torch-geometric) (2.27.1)\n",
            "Requirement already satisfied: scipy in /usr/local/lib/python3.9/dist-packages (from torch-geometric) (1.10.1)\n",
            "Requirement already satisfied: jinja2 in /usr/local/lib/python3.9/dist-packages (from torch-geometric) (3.1.2)\n",
            "Requirement already satisfied: pyparsing in /usr/local/lib/python3.9/dist-packages (from torch-geometric) (3.0.9)\n",
            "Requirement already satisfied: psutil>=5.8.0 in /usr/local/lib/python3.9/dist-packages (from torch-geometric) (5.9.5)\n",
            "Requirement already satisfied: MarkupSafe>=2.0 in /usr/local/lib/python3.9/dist-packages (from jinja2->torch-geometric) (2.1.2)\n",
            "Requirement already satisfied: charset-normalizer~=2.0.0 in /usr/local/lib/python3.9/dist-packages (from requests->torch-geometric) (2.0.12)\n",
            "Requirement already satisfied: certifi>=2017.4.17 in /usr/local/lib/python3.9/dist-packages (from requests->torch-geometric) (2022.12.7)\n",
            "Requirement already satisfied: urllib3<1.27,>=1.21.1 in /usr/local/lib/python3.9/dist-packages (from requests->torch-geometric) (1.26.15)\n",
            "Requirement already satisfied: idna<4,>=2.5 in /usr/local/lib/python3.9/dist-packages (from requests->torch-geometric) (3.4)\n",
            "Requirement already satisfied: threadpoolctl>=2.0.0 in /usr/local/lib/python3.9/dist-packages (from scikit-learn->torch-geometric) (3.1.0)\n",
            "Requirement already satisfied: joblib>=1.1.1 in /usr/local/lib/python3.9/dist-packages (from scikit-learn->torch-geometric) (1.2.0)\n",
            "Building wheels for collected packages: torch-geometric\n",
            "  Building wheel for torch-geometric (pyproject.toml) ... \u001b[?25l\u001b[?25hdone\n",
            "  Created wheel for torch-geometric: filename=torch_geometric-2.3.0-py3-none-any.whl size=909897 sha256=aae9c5e0038505e0681b27d2988f73ee4147045fc941206bbd06e5a976b2fe9a\n",
            "  Stored in directory: /root/.cache/pip/wheels/cd/7d/6b/17150450b80b4a3656a84330e22709ccd8dc0f8f4773ba4133\n",
            "Successfully built torch-geometric\n",
            "Installing collected packages: torch-geometric\n",
            "Successfully installed torch-geometric-2.3.0\n"
          ]
        }
      ]
    },
    {
      "cell_type": "code",
      "source": [
        "from google.colab import files\n",
        "uploaded = files.upload()"
      ],
      "metadata": {
        "colab": {
          "base_uri": "https://localhost:8080/",
          "height": 73
        },
        "id": "2G8OnN1-rOaX",
        "outputId": "f79bdbc0-ad30-4288-e31c-23b49cce94a3"
      },
      "execution_count": 4,
      "outputs": [
        {
          "output_type": "display_data",
          "data": {
            "text/plain": [
              "<IPython.core.display.HTML object>"
            ],
            "text/html": [
              "\n",
              "     <input type=\"file\" id=\"files-8e11078c-fb0b-4d86-ae12-d4b916bdec34\" name=\"files[]\" multiple disabled\n",
              "        style=\"border:none\" />\n",
              "     <output id=\"result-8e11078c-fb0b-4d86-ae12-d4b916bdec34\">\n",
              "      Upload widget is only available when the cell has been executed in the\n",
              "      current browser session. Please rerun this cell to enable.\n",
              "      </output>\n",
              "      <script>// Copyright 2017 Google LLC\n",
              "//\n",
              "// Licensed under the Apache License, Version 2.0 (the \"License\");\n",
              "// you may not use this file except in compliance with the License.\n",
              "// You may obtain a copy of the License at\n",
              "//\n",
              "//      http://www.apache.org/licenses/LICENSE-2.0\n",
              "//\n",
              "// Unless required by applicable law or agreed to in writing, software\n",
              "// distributed under the License is distributed on an \"AS IS\" BASIS,\n",
              "// WITHOUT WARRANTIES OR CONDITIONS OF ANY KIND, either express or implied.\n",
              "// See the License for the specific language governing permissions and\n",
              "// limitations under the License.\n",
              "\n",
              "/**\n",
              " * @fileoverview Helpers for google.colab Python module.\n",
              " */\n",
              "(function(scope) {\n",
              "function span(text, styleAttributes = {}) {\n",
              "  const element = document.createElement('span');\n",
              "  element.textContent = text;\n",
              "  for (const key of Object.keys(styleAttributes)) {\n",
              "    element.style[key] = styleAttributes[key];\n",
              "  }\n",
              "  return element;\n",
              "}\n",
              "\n",
              "// Max number of bytes which will be uploaded at a time.\n",
              "const MAX_PAYLOAD_SIZE = 100 * 1024;\n",
              "\n",
              "function _uploadFiles(inputId, outputId) {\n",
              "  const steps = uploadFilesStep(inputId, outputId);\n",
              "  const outputElement = document.getElementById(outputId);\n",
              "  // Cache steps on the outputElement to make it available for the next call\n",
              "  // to uploadFilesContinue from Python.\n",
              "  outputElement.steps = steps;\n",
              "\n",
              "  return _uploadFilesContinue(outputId);\n",
              "}\n",
              "\n",
              "// This is roughly an async generator (not supported in the browser yet),\n",
              "// where there are multiple asynchronous steps and the Python side is going\n",
              "// to poll for completion of each step.\n",
              "// This uses a Promise to block the python side on completion of each step,\n",
              "// then passes the result of the previous step as the input to the next step.\n",
              "function _uploadFilesContinue(outputId) {\n",
              "  const outputElement = document.getElementById(outputId);\n",
              "  const steps = outputElement.steps;\n",
              "\n",
              "  const next = steps.next(outputElement.lastPromiseValue);\n",
              "  return Promise.resolve(next.value.promise).then((value) => {\n",
              "    // Cache the last promise value to make it available to the next\n",
              "    // step of the generator.\n",
              "    outputElement.lastPromiseValue = value;\n",
              "    return next.value.response;\n",
              "  });\n",
              "}\n",
              "\n",
              "/**\n",
              " * Generator function which is called between each async step of the upload\n",
              " * process.\n",
              " * @param {string} inputId Element ID of the input file picker element.\n",
              " * @param {string} outputId Element ID of the output display.\n",
              " * @return {!Iterable<!Object>} Iterable of next steps.\n",
              " */\n",
              "function* uploadFilesStep(inputId, outputId) {\n",
              "  const inputElement = document.getElementById(inputId);\n",
              "  inputElement.disabled = false;\n",
              "\n",
              "  const outputElement = document.getElementById(outputId);\n",
              "  outputElement.innerHTML = '';\n",
              "\n",
              "  const pickedPromise = new Promise((resolve) => {\n",
              "    inputElement.addEventListener('change', (e) => {\n",
              "      resolve(e.target.files);\n",
              "    });\n",
              "  });\n",
              "\n",
              "  const cancel = document.createElement('button');\n",
              "  inputElement.parentElement.appendChild(cancel);\n",
              "  cancel.textContent = 'Cancel upload';\n",
              "  const cancelPromise = new Promise((resolve) => {\n",
              "    cancel.onclick = () => {\n",
              "      resolve(null);\n",
              "    };\n",
              "  });\n",
              "\n",
              "  // Wait for the user to pick the files.\n",
              "  const files = yield {\n",
              "    promise: Promise.race([pickedPromise, cancelPromise]),\n",
              "    response: {\n",
              "      action: 'starting',\n",
              "    }\n",
              "  };\n",
              "\n",
              "  cancel.remove();\n",
              "\n",
              "  // Disable the input element since further picks are not allowed.\n",
              "  inputElement.disabled = true;\n",
              "\n",
              "  if (!files) {\n",
              "    return {\n",
              "      response: {\n",
              "        action: 'complete',\n",
              "      }\n",
              "    };\n",
              "  }\n",
              "\n",
              "  for (const file of files) {\n",
              "    const li = document.createElement('li');\n",
              "    li.append(span(file.name, {fontWeight: 'bold'}));\n",
              "    li.append(span(\n",
              "        `(${file.type || 'n/a'}) - ${file.size} bytes, ` +\n",
              "        `last modified: ${\n",
              "            file.lastModifiedDate ? file.lastModifiedDate.toLocaleDateString() :\n",
              "                                    'n/a'} - `));\n",
              "    const percent = span('0% done');\n",
              "    li.appendChild(percent);\n",
              "\n",
              "    outputElement.appendChild(li);\n",
              "\n",
              "    const fileDataPromise = new Promise((resolve) => {\n",
              "      const reader = new FileReader();\n",
              "      reader.onload = (e) => {\n",
              "        resolve(e.target.result);\n",
              "      };\n",
              "      reader.readAsArrayBuffer(file);\n",
              "    });\n",
              "    // Wait for the data to be ready.\n",
              "    let fileData = yield {\n",
              "      promise: fileDataPromise,\n",
              "      response: {\n",
              "        action: 'continue',\n",
              "      }\n",
              "    };\n",
              "\n",
              "    // Use a chunked sending to avoid message size limits. See b/62115660.\n",
              "    let position = 0;\n",
              "    do {\n",
              "      const length = Math.min(fileData.byteLength - position, MAX_PAYLOAD_SIZE);\n",
              "      const chunk = new Uint8Array(fileData, position, length);\n",
              "      position += length;\n",
              "\n",
              "      const base64 = btoa(String.fromCharCode.apply(null, chunk));\n",
              "      yield {\n",
              "        response: {\n",
              "          action: 'append',\n",
              "          file: file.name,\n",
              "          data: base64,\n",
              "        },\n",
              "      };\n",
              "\n",
              "      let percentDone = fileData.byteLength === 0 ?\n",
              "          100 :\n",
              "          Math.round((position / fileData.byteLength) * 100);\n",
              "      percent.textContent = `${percentDone}% done`;\n",
              "\n",
              "    } while (position < fileData.byteLength);\n",
              "  }\n",
              "\n",
              "  // All done.\n",
              "  yield {\n",
              "    response: {\n",
              "      action: 'complete',\n",
              "    }\n",
              "  };\n",
              "}\n",
              "\n",
              "scope.google = scope.google || {};\n",
              "scope.google.colab = scope.google.colab || {};\n",
              "scope.google.colab._files = {\n",
              "  _uploadFiles,\n",
              "  _uploadFilesContinue,\n",
              "};\n",
              "})(self);\n",
              "</script> "
            ]
          },
          "metadata": {}
        },
        {
          "output_type": "stream",
          "name": "stdout",
          "text": [
            "Saving large_twitch_edges.csv to large_twitch_edges.csv\n"
          ]
        }
      ]
    },
    {
      "cell_type": "code",
      "source": [
        "import io\n",
        "edge_dataset=pd.read_csv(io.BytesIO(uploaded[\"large_twitch_edges.csv\"]))"
      ],
      "metadata": {
        "id": "IPSawgyKs-zT"
      },
      "execution_count": 5,
      "outputs": []
    },
    {
      "cell_type": "code",
      "source": [
        "from google.colab import files\n",
        "uploaded = files.upload()"
      ],
      "metadata": {
        "colab": {
          "base_uri": "https://localhost:8080/",
          "height": 73
        },
        "id": "tBGPZCXbs5a-",
        "outputId": "58cd0351-ffc9-4bd1-aed3-4ec58dc0cdd5"
      },
      "execution_count": 6,
      "outputs": [
        {
          "output_type": "display_data",
          "data": {
            "text/plain": [
              "<IPython.core.display.HTML object>"
            ],
            "text/html": [
              "\n",
              "     <input type=\"file\" id=\"files-f51d466f-16b1-447b-a217-8327c65b92ff\" name=\"files[]\" multiple disabled\n",
              "        style=\"border:none\" />\n",
              "     <output id=\"result-f51d466f-16b1-447b-a217-8327c65b92ff\">\n",
              "      Upload widget is only available when the cell has been executed in the\n",
              "      current browser session. Please rerun this cell to enable.\n",
              "      </output>\n",
              "      <script>// Copyright 2017 Google LLC\n",
              "//\n",
              "// Licensed under the Apache License, Version 2.0 (the \"License\");\n",
              "// you may not use this file except in compliance with the License.\n",
              "// You may obtain a copy of the License at\n",
              "//\n",
              "//      http://www.apache.org/licenses/LICENSE-2.0\n",
              "//\n",
              "// Unless required by applicable law or agreed to in writing, software\n",
              "// distributed under the License is distributed on an \"AS IS\" BASIS,\n",
              "// WITHOUT WARRANTIES OR CONDITIONS OF ANY KIND, either express or implied.\n",
              "// See the License for the specific language governing permissions and\n",
              "// limitations under the License.\n",
              "\n",
              "/**\n",
              " * @fileoverview Helpers for google.colab Python module.\n",
              " */\n",
              "(function(scope) {\n",
              "function span(text, styleAttributes = {}) {\n",
              "  const element = document.createElement('span');\n",
              "  element.textContent = text;\n",
              "  for (const key of Object.keys(styleAttributes)) {\n",
              "    element.style[key] = styleAttributes[key];\n",
              "  }\n",
              "  return element;\n",
              "}\n",
              "\n",
              "// Max number of bytes which will be uploaded at a time.\n",
              "const MAX_PAYLOAD_SIZE = 100 * 1024;\n",
              "\n",
              "function _uploadFiles(inputId, outputId) {\n",
              "  const steps = uploadFilesStep(inputId, outputId);\n",
              "  const outputElement = document.getElementById(outputId);\n",
              "  // Cache steps on the outputElement to make it available for the next call\n",
              "  // to uploadFilesContinue from Python.\n",
              "  outputElement.steps = steps;\n",
              "\n",
              "  return _uploadFilesContinue(outputId);\n",
              "}\n",
              "\n",
              "// This is roughly an async generator (not supported in the browser yet),\n",
              "// where there are multiple asynchronous steps and the Python side is going\n",
              "// to poll for completion of each step.\n",
              "// This uses a Promise to block the python side on completion of each step,\n",
              "// then passes the result of the previous step as the input to the next step.\n",
              "function _uploadFilesContinue(outputId) {\n",
              "  const outputElement = document.getElementById(outputId);\n",
              "  const steps = outputElement.steps;\n",
              "\n",
              "  const next = steps.next(outputElement.lastPromiseValue);\n",
              "  return Promise.resolve(next.value.promise).then((value) => {\n",
              "    // Cache the last promise value to make it available to the next\n",
              "    // step of the generator.\n",
              "    outputElement.lastPromiseValue = value;\n",
              "    return next.value.response;\n",
              "  });\n",
              "}\n",
              "\n",
              "/**\n",
              " * Generator function which is called between each async step of the upload\n",
              " * process.\n",
              " * @param {string} inputId Element ID of the input file picker element.\n",
              " * @param {string} outputId Element ID of the output display.\n",
              " * @return {!Iterable<!Object>} Iterable of next steps.\n",
              " */\n",
              "function* uploadFilesStep(inputId, outputId) {\n",
              "  const inputElement = document.getElementById(inputId);\n",
              "  inputElement.disabled = false;\n",
              "\n",
              "  const outputElement = document.getElementById(outputId);\n",
              "  outputElement.innerHTML = '';\n",
              "\n",
              "  const pickedPromise = new Promise((resolve) => {\n",
              "    inputElement.addEventListener('change', (e) => {\n",
              "      resolve(e.target.files);\n",
              "    });\n",
              "  });\n",
              "\n",
              "  const cancel = document.createElement('button');\n",
              "  inputElement.parentElement.appendChild(cancel);\n",
              "  cancel.textContent = 'Cancel upload';\n",
              "  const cancelPromise = new Promise((resolve) => {\n",
              "    cancel.onclick = () => {\n",
              "      resolve(null);\n",
              "    };\n",
              "  });\n",
              "\n",
              "  // Wait for the user to pick the files.\n",
              "  const files = yield {\n",
              "    promise: Promise.race([pickedPromise, cancelPromise]),\n",
              "    response: {\n",
              "      action: 'starting',\n",
              "    }\n",
              "  };\n",
              "\n",
              "  cancel.remove();\n",
              "\n",
              "  // Disable the input element since further picks are not allowed.\n",
              "  inputElement.disabled = true;\n",
              "\n",
              "  if (!files) {\n",
              "    return {\n",
              "      response: {\n",
              "        action: 'complete',\n",
              "      }\n",
              "    };\n",
              "  }\n",
              "\n",
              "  for (const file of files) {\n",
              "    const li = document.createElement('li');\n",
              "    li.append(span(file.name, {fontWeight: 'bold'}));\n",
              "    li.append(span(\n",
              "        `(${file.type || 'n/a'}) - ${file.size} bytes, ` +\n",
              "        `last modified: ${\n",
              "            file.lastModifiedDate ? file.lastModifiedDate.toLocaleDateString() :\n",
              "                                    'n/a'} - `));\n",
              "    const percent = span('0% done');\n",
              "    li.appendChild(percent);\n",
              "\n",
              "    outputElement.appendChild(li);\n",
              "\n",
              "    const fileDataPromise = new Promise((resolve) => {\n",
              "      const reader = new FileReader();\n",
              "      reader.onload = (e) => {\n",
              "        resolve(e.target.result);\n",
              "      };\n",
              "      reader.readAsArrayBuffer(file);\n",
              "    });\n",
              "    // Wait for the data to be ready.\n",
              "    let fileData = yield {\n",
              "      promise: fileDataPromise,\n",
              "      response: {\n",
              "        action: 'continue',\n",
              "      }\n",
              "    };\n",
              "\n",
              "    // Use a chunked sending to avoid message size limits. See b/62115660.\n",
              "    let position = 0;\n",
              "    do {\n",
              "      const length = Math.min(fileData.byteLength - position, MAX_PAYLOAD_SIZE);\n",
              "      const chunk = new Uint8Array(fileData, position, length);\n",
              "      position += length;\n",
              "\n",
              "      const base64 = btoa(String.fromCharCode.apply(null, chunk));\n",
              "      yield {\n",
              "        response: {\n",
              "          action: 'append',\n",
              "          file: file.name,\n",
              "          data: base64,\n",
              "        },\n",
              "      };\n",
              "\n",
              "      let percentDone = fileData.byteLength === 0 ?\n",
              "          100 :\n",
              "          Math.round((position / fileData.byteLength) * 100);\n",
              "      percent.textContent = `${percentDone}% done`;\n",
              "\n",
              "    } while (position < fileData.byteLength);\n",
              "  }\n",
              "\n",
              "  // All done.\n",
              "  yield {\n",
              "    response: {\n",
              "      action: 'complete',\n",
              "    }\n",
              "  };\n",
              "}\n",
              "\n",
              "scope.google = scope.google || {};\n",
              "scope.google.colab = scope.google.colab || {};\n",
              "scope.google.colab._files = {\n",
              "  _uploadFiles,\n",
              "  _uploadFilesContinue,\n",
              "};\n",
              "})(self);\n",
              "</script> "
            ]
          },
          "metadata": {}
        },
        {
          "output_type": "stream",
          "name": "stdout",
          "text": [
            "Saving large_twitch_features.csv to large_twitch_features.csv\n"
          ]
        }
      ]
    },
    {
      "cell_type": "code",
      "source": [
        "features_dataset=pd.read_csv(io.BytesIO(uploaded['large_twitch_features.csv']))"
      ],
      "metadata": {
        "id": "M6TFTloJp15E"
      },
      "execution_count": 7,
      "outputs": []
    },
    {
      "cell_type": "code",
      "source": [
        "# features_dataset = features_dataset.set_index('numeric_id')"
      ],
      "metadata": {
        "id": "hkVUdK9XqzI8"
      },
      "execution_count": 8,
      "outputs": []
    },
    {
      "cell_type": "code",
      "source": [
        "# merged_dataset = pd.merge(edge_dataset, features_dataset,left_on='numeric_id_1',right_on='numeric_id')"
      ],
      "metadata": {
        "id": "ZPMJBw8itb4u"
      },
      "execution_count": 9,
      "outputs": []
    },
    {
      "cell_type": "code",
      "source": [
        "# merged_dataset = merged_dataset.set_index('numeric_id_1')\n",
        "# merged_dataset.head()"
      ],
      "metadata": {
        "id": "cB3ihnQTtgUm"
      },
      "execution_count": 10,
      "outputs": []
    },
    {
      "cell_type": "markdown",
      "source": [
        "Converting Dataset to Pytorch Geometric Data"
      ],
      "metadata": {
        "id": "jqy2N6ZEt1jk"
      }
    },
    {
      "cell_type": "code",
      "source": [
        "## Language abbrivation to number\n",
        "languages = ['EN', 'FR', 'KO', 'JA', 'RU', 'PL', 'DE', 'ES', 'IT', 'PT',\n",
        "       'OTHER', 'TR', 'ZH', 'SV', 'NL', 'TH', 'CS', 'DA', 'HU', 'FI',\n",
        "       'NO']\n",
        "\n",
        "from sklearn.preprocessing import LabelEncoder\n",
        "\n",
        "def encode_df(dataframe):\n",
        "    le = LabelEncoder()\n",
        "    features_dataset['language'] = le.fit_transform(features_dataset['language'])\n",
        "    return dataframe\n",
        "\n",
        "#encode the dataframe\n",
        "features_dataset = encode_df(features_dataset)\n",
        "features_dataset.info()"
      ],
      "metadata": {
        "colab": {
          "base_uri": "https://localhost:8080/"
        },
        "id": "EY4nyXAqtjTg",
        "outputId": "2aa041b1-e569-4e01-fab2-35d19b627716"
      },
      "execution_count": 11,
      "outputs": [
        {
          "output_type": "stream",
          "name": "stdout",
          "text": [
            "<class 'pandas.core.frame.DataFrame'>\n",
            "RangeIndex: 168114 entries, 0 to 168113\n",
            "Data columns (total 9 columns):\n",
            " #   Column        Non-Null Count   Dtype \n",
            "---  ------        --------------   ----- \n",
            " 0   views         168114 non-null  int64 \n",
            " 1   mature        168114 non-null  int64 \n",
            " 2   life_time     168114 non-null  int64 \n",
            " 3   created_at    168114 non-null  object\n",
            " 4   updated_at    168114 non-null  object\n",
            " 5   numeric_id    168114 non-null  int64 \n",
            " 6   dead_account  168114 non-null  int64 \n",
            " 7   language      168114 non-null  int64 \n",
            " 8   affiliate     168114 non-null  int64 \n",
            "dtypes: int64(7), object(2)\n",
            "memory usage: 11.5+ MB\n"
          ]
        }
      ]
    },
    {
      "cell_type": "code",
      "source": [
        "node_features = features_dataset[[\"numeric_id\"]]"
      ],
      "metadata": {
        "id": "9W_G5Jj0t6zj"
      },
      "execution_count": 12,
      "outputs": []
    },
    {
      "cell_type": "code",
      "source": [
        "# node_features[[\"created_year\", \"created_month\", \"created_day\"]] = node_features[\"created_at\"].str.split(\"-\", expand = True).astype('int32')\n",
        "# node_features[[\"updated_year\", \"updated_month\", \"updated_day\"]] = node_features[\"updated_at\"].str.split(\"-\", expand = True).astype('int32')\n",
        "\n",
        "# node_features = node_features.drop(['created_at','updated_at'],axis=1)"
      ],
      "metadata": {
        "id": "B-5-pn57uIbg"
      },
      "execution_count": 13,
      "outputs": []
    },
    {
      "cell_type": "code",
      "source": [
        "node_features = node_features.astype('float32')\n",
        "node_features.info()"
      ],
      "metadata": {
        "colab": {
          "base_uri": "https://localhost:8080/"
        },
        "id": "Y6a8u_XJuLxt",
        "outputId": "6d9c2bac-d5ca-4684-9a16-8337126f9baf"
      },
      "execution_count": 14,
      "outputs": [
        {
          "output_type": "stream",
          "name": "stdout",
          "text": [
            "<class 'pandas.core.frame.DataFrame'>\n",
            "RangeIndex: 168114 entries, 0 to 168113\n",
            "Data columns (total 1 columns):\n",
            " #   Column      Non-Null Count   Dtype  \n",
            "---  ------      --------------   -----  \n",
            " 0   numeric_id  168114 non-null  float32\n",
            "dtypes: float32(1)\n",
            "memory usage: 656.8 KB\n"
          ]
        }
      ]
    },
    {
      "cell_type": "code",
      "source": [
        "x =  torch.from_numpy(node_features.to_numpy())\n",
        "print(x.shape) # [num_nodes x num_features]\n",
        "print(x.dtype)"
      ],
      "metadata": {
        "colab": {
          "base_uri": "https://localhost:8080/"
        },
        "id": "wSq5tF0YuRwM",
        "outputId": "f5c8dbc5-4c38-4d15-d91e-fe7448a67ccc"
      },
      "execution_count": 15,
      "outputs": [
        {
          "output_type": "stream",
          "name": "stdout",
          "text": [
            "torch.Size([168114, 1])\n",
            "torch.float32\n"
          ]
        }
      ]
    },
    {
      "cell_type": "code",
      "source": [
        "features_dataset[[\"dead_account\",\"language\",\"affiliate\"]] = features_dataset[[\"dead_account\",\"language\",\"affiliate\"]].astype('int64')\n",
        "features_dataset[[\"dead_account\",\"language\",\"affiliate\"]].info()"
      ],
      "metadata": {
        "colab": {
          "base_uri": "https://localhost:8080/"
        },
        "id": "jQYjQRStuVJF",
        "outputId": "1b45d3f8-66c1-46fd-a39e-ea6e84c9c5bd"
      },
      "execution_count": 16,
      "outputs": [
        {
          "output_type": "stream",
          "name": "stdout",
          "text": [
            "<class 'pandas.core.frame.DataFrame'>\n",
            "RangeIndex: 168114 entries, 0 to 168113\n",
            "Data columns (total 3 columns):\n",
            " #   Column        Non-Null Count   Dtype\n",
            "---  ------        --------------   -----\n",
            " 0   dead_account  168114 non-null  int64\n",
            " 1   language      168114 non-null  int64\n",
            " 2   affiliate     168114 non-null  int64\n",
            "dtypes: int64(3)\n",
            "memory usage: 3.8 MB\n"
          ]
        }
      ]
    },
    {
      "cell_type": "code",
      "source": [
        "# Select node features\n",
        "labels = features_dataset[[\"language\"]]\n",
        "labels.head()\n",
        "\n",
        "# labels = labels.astype(float)\n",
        "\n",
        "# Convert to numpy\n",
        "y =  torch.from_numpy(labels.to_numpy())\n",
        "y.shape # [num_nodes, 1] --> node regression"
      ],
      "metadata": {
        "colab": {
          "base_uri": "https://localhost:8080/"
        },
        "id": "tIRN1lLcuj4G",
        "outputId": "6d112887-0e19-407f-dd1e-cce34e9be064"
      },
      "execution_count": 17,
      "outputs": [
        {
          "output_type": "execute_result",
          "data": {
            "text/plain": [
              "torch.Size([168114, 1])"
            ]
          },
          "metadata": {},
          "execution_count": 17
        }
      ]
    },
    {
      "cell_type": "code",
      "source": [
        "y = y.reshape(-1,)"
      ],
      "metadata": {
        "id": "v-1ghYuDunq4"
      },
      "execution_count": 18,
      "outputs": []
    },
    {
      "cell_type": "code",
      "source": [
        "y.shape"
      ],
      "metadata": {
        "colab": {
          "base_uri": "https://localhost:8080/"
        },
        "id": "aHB6TChaute5",
        "outputId": "bcc28c65-f8fa-446f-df08-792aada6a50d"
      },
      "execution_count": 19,
      "outputs": [
        {
          "output_type": "execute_result",
          "data": {
            "text/plain": [
              "torch.Size([168114])"
            ]
          },
          "metadata": {},
          "execution_count": 19
        }
      ]
    },
    {
      "cell_type": "code",
      "source": [
        "labels.dtypes"
      ],
      "metadata": {
        "colab": {
          "base_uri": "https://localhost:8080/"
        },
        "id": "zQxUxSWMuv4d",
        "outputId": "9c68af23-4ba3-480e-e177-d2fedefdbab5"
      },
      "execution_count": 20,
      "outputs": [
        {
          "output_type": "execute_result",
          "data": {
            "text/plain": [
              "language    int64\n",
              "dtype: object"
            ]
          },
          "metadata": {},
          "execution_count": 20
        }
      ]
    },
    {
      "cell_type": "code",
      "source": [
        "edge_dataset = edge_dataset.astype('int64')"
      ],
      "metadata": {
        "id": "cQV65s2JuzBB"
      },
      "execution_count": 21,
      "outputs": []
    },
    {
      "cell_type": "code",
      "source": [
        "edge_dataset = edge_dataset.sort_values(by=['numeric_id_1'])"
      ],
      "metadata": {
        "id": "IZoPj1eRu1xi"
      },
      "execution_count": 22,
      "outputs": []
    },
    {
      "cell_type": "code",
      "source": [
        "edge_index = edge_dataset.transpose()"
      ],
      "metadata": {
        "id": "cGj0Bha1u4R-"
      },
      "execution_count": 23,
      "outputs": []
    },
    {
      "cell_type": "code",
      "source": [
        "edge_index.dtypes.unique()"
      ],
      "metadata": {
        "colab": {
          "base_uri": "https://localhost:8080/"
        },
        "id": "AuKRNqGvu7On",
        "outputId": "0beaedeb-c267-4ae7-a4f3-66ad948da6ca"
      },
      "execution_count": 24,
      "outputs": [
        {
          "output_type": "execute_result",
          "data": {
            "text/plain": [
              "array([dtype('int64')], dtype=object)"
            ]
          },
          "metadata": {},
          "execution_count": 24
        }
      ]
    },
    {
      "cell_type": "code",
      "source": [
        "all_edges =  torch.from_numpy(edge_index.to_numpy()) # [2, num_edges]\n",
        "print(all_edges.shape)"
      ],
      "metadata": {
        "colab": {
          "base_uri": "https://localhost:8080/"
        },
        "id": "vEOIUrMCu9oH",
        "outputId": "ceb5dcd2-99c7-4cf3-89a7-fa26bf34075e"
      },
      "execution_count": 25,
      "outputs": [
        {
          "output_type": "stream",
          "name": "stdout",
          "text": [
            "torch.Size([2, 6797557])\n"
          ]
        }
      ]
    },
    {
      "cell_type": "code",
      "source": [
        "len(features_dataset)"
      ],
      "metadata": {
        "colab": {
          "base_uri": "https://localhost:8080/"
        },
        "id": "foQnE1C7vBB2",
        "outputId": "f13251f5-7c46-48c4-b23a-46c1d55c1bac"
      },
      "execution_count": 26,
      "outputs": [
        {
          "output_type": "execute_result",
          "data": {
            "text/plain": [
              "168114"
            ]
          },
          "metadata": {},
          "execution_count": 26
        }
      ]
    },
    {
      "cell_type": "code",
      "source": [
        "train_arr = np.array([True for i in range(round(len(features_dataset)*0.85))])\n",
        "train_arr = np.append(train_arr,np.array([False for i in range(int(len(features_dataset)*0.15))]))\n",
        "train_arr.shape"
      ],
      "metadata": {
        "colab": {
          "base_uri": "https://localhost:8080/"
        },
        "id": "PET5vhbvvEuC",
        "outputId": "d1a46d8b-6922-403c-8a61-7f037cd30de6"
      },
      "execution_count": 27,
      "outputs": [
        {
          "output_type": "execute_result",
          "data": {
            "text/plain": [
              "(168114,)"
            ]
          },
          "metadata": {},
          "execution_count": 27
        }
      ]
    },
    {
      "cell_type": "code",
      "source": [
        "test_arr = np.array([False for i in range(round(len(features_dataset)*0.55))])\n",
        "test_arr = np.append(test_arr,np.array([True for i in range(int(len(features_dataset)*0.45))]))\n",
        "test_arr.shape"
      ],
      "metadata": {
        "colab": {
          "base_uri": "https://localhost:8080/"
        },
        "id": "XxWQ6_kOvRm-",
        "outputId": "d9f4476c-1d1a-4a62-d89b-efcd6b8e0daf"
      },
      "execution_count": 28,
      "outputs": [
        {
          "output_type": "execute_result",
          "data": {
            "text/plain": [
              "(168114,)"
            ]
          },
          "metadata": {},
          "execution_count": 28
        }
      ]
    },
    {
      "cell_type": "code",
      "source": [
        "val_arr = np.array([False for i in range(round(len(features_dataset)*0.35))])\n",
        "val_arr = np.append(val_arr,np.array([True for i in range(round(len(features_dataset)*0.35))]))\n",
        "val_arr = np.append(val_arr,np.array([False for i in range(int(len(features_dataset)*0.30))]))\n",
        "val_arr.shape"
      ],
      "metadata": {
        "colab": {
          "base_uri": "https://localhost:8080/"
        },
        "id": "x3wPe99svVtf",
        "outputId": "f9f22216-b9cf-4b4e-d3ac-0d0d121d1cd9"
      },
      "execution_count": 29,
      "outputs": [
        {
          "output_type": "execute_result",
          "data": {
            "text/plain": [
              "(168114,)"
            ]
          },
          "metadata": {},
          "execution_count": 29
        }
      ]
    },
    {
      "cell_type": "code",
      "source": [
        "train_mask = torch.from_numpy(train_arr)\n",
        "test_mask = torch.from_numpy(test_arr)\n",
        "val_mask = torch.from_numpy(val_arr)"
      ],
      "metadata": {
        "id": "_Wek6vofvqK0"
      },
      "execution_count": 30,
      "outputs": []
    },
    {
      "cell_type": "code",
      "source": [
        "x[:120000].shape"
      ],
      "metadata": {
        "colab": {
          "base_uri": "https://localhost:8080/"
        },
        "id": "ocPUU3xRvz2-",
        "outputId": "ecb789ed-ed1b-48f8-f117-9819abd2cc82"
      },
      "execution_count": 31,
      "outputs": [
        {
          "output_type": "execute_result",
          "data": {
            "text/plain": [
              "torch.Size([120000, 1])"
            ]
          },
          "metadata": {},
          "execution_count": 31
        }
      ]
    },
    {
      "cell_type": "code",
      "source": [
        "from torch_geometric.data import Data\n",
        "data = Data(x=x, edge_index=all_edges, y=y)\n",
        "train_data = Data(x=x, edge_index=all_edges, y=y)\n",
        "test_data = Data(x=x, edge_index=all_edges, y=y)\n",
        "val_data =Data(x=x, edge_index=all_edges, y=y)"
      ],
      "metadata": {
        "id": "0-cjxn61v47H"
      },
      "execution_count": 32,
      "outputs": []
    },
    {
      "cell_type": "code",
      "source": [
        "data.num_classes = 21\n",
        "data.train_mask = train_mask\n",
        "data.test_mask = test_mask\n",
        "data.val_mask = val_mask\n",
        "\n",
        "train_data.num_classes = 21\n",
        "train_data.train_mask = train_mask\n",
        "train_data.test_mask = test_mask\n",
        "train_data.val_mask = val_mask\n",
        "\n",
        "test_data.num_classes = 21\n",
        "test_data.train_mask = train_mask\n",
        "test_data.test_mask = test_mask\n",
        "test_data.val_mask = val_mask\n",
        "\n",
        "val_data.num_classes = 21\n",
        "val_data.train_mask = train_mask\n",
        "val_data.test_mask = test_mask\n",
        "val_data.val_mask = val_mask"
      ],
      "metadata": {
        "id": "dLMRiXM9v7_r"
      },
      "execution_count": 33,
      "outputs": []
    },
    {
      "cell_type": "code",
      "source": [
        "train_edge_label = torch.from_numpy(np.array([1.0 for i in range(round(len(features_dataset)*0.75))]))\n",
        "test_edge_label = torch.from_numpy(np.append(np.array([1.0 for i in range(round(len(features_dataset)*0.45))]),np.array([0.0 for i in range(round(len(features_dataset)*0.05))])))\n",
        "val_edge_label = torch.from_numpy(np.append(np.array([1.0 for i in range(round(len(features_dataset)*0.2))]), np.array([0.0 for i in range(round(len(features_dataset)*0.05))])))"
      ],
      "metadata": {
        "id": "tST-TerMv_Va"
      },
      "execution_count": 34,
      "outputs": []
    },
    {
      "cell_type": "code",
      "source": [
        "# train_edge_label_index = all_edges[:,:len(train_edge_label)]\n",
        "# test_edge_label_index = all_edges[:,len(train_edge_label):len(train_edge_label)+len(test_edge_label)]\n",
        "# val_edge_label_index = all_edges[:,len(train_edge_label)+len(test_edge_label):len(train_edge_label)+len(test_edge_label)+len(val_edge_label)]"
      ],
      "metadata": {
        "id": "A15m6I2FwIt3"
      },
      "execution_count": 35,
      "outputs": []
    },
    {
      "cell_type": "code",
      "source": [
        "train_edge_label_index = all_edges[:,:len(train_edge_label)]\n",
        "test_edge_label_index = all_edges[:,:len(test_edge_label)]\n",
        "val_edge_label_index = all_edges[:,:len(val_edge_label)]"
      ],
      "metadata": {
        "id": "UMPhkirR4NtS"
      },
      "execution_count": 36,
      "outputs": []
    },
    {
      "cell_type": "code",
      "source": [
        "train_data.edge_label = train_edge_label\n",
        "train_data.edge_label_index = train_edge_label_index\n",
        "\n",
        "test_data.edge_label = test_edge_label\n",
        "test_data.edge_label_index = test_edge_label_index\n",
        "\n",
        "val_data.edge_label = val_edge_label\n",
        "val_data.edge_label_index = val_edge_label_index"
      ],
      "metadata": {
        "id": "urfVUZiDwK-_"
      },
      "execution_count": 37,
      "outputs": []
    },
    {
      "cell_type": "code",
      "source": [
        "print(data)\n",
        "print(train_data)\n",
        "print(test_data)\n",
        "print(val_data)"
      ],
      "metadata": {
        "colab": {
          "base_uri": "https://localhost:8080/"
        },
        "id": "6Rp5HHpFwNtA",
        "outputId": "0223ceac-9976-4042-8333-d092d81dbea4"
      },
      "execution_count": 38,
      "outputs": [
        {
          "output_type": "stream",
          "name": "stdout",
          "text": [
            "Data(x=[168114, 1], edge_index=[2, 6797557], y=[168114], num_classes=21, train_mask=[168114], test_mask=[168114], val_mask=[168114])\n",
            "Data(x=[168114, 1], edge_index=[2, 6797557], y=[168114], num_classes=21, train_mask=[168114], test_mask=[168114], val_mask=[168114], edge_label=[126086], edge_label_index=[2, 126086])\n",
            "Data(x=[168114, 1], edge_index=[2, 6797557], y=[168114], num_classes=21, train_mask=[168114], test_mask=[168114], val_mask=[168114], edge_label=[84057], edge_label_index=[2, 84057])\n",
            "Data(x=[168114, 1], edge_index=[2, 6797557], y=[168114], num_classes=21, train_mask=[168114], test_mask=[168114], val_mask=[168114], edge_label=[42029], edge_label_index=[2, 42029])\n"
          ]
        }
      ]
    },
    {
      "cell_type": "code",
      "source": [
        "# Install required packages.\n",
        "import os\n",
        "import torch\n",
        "os.environ['TORCH'] = torch.__version__\n",
        "print(torch.__version__)\n",
        "\n",
        "!pip install -q torch-scatter -f https://data.pyg.org/whl/torch-${TORCH}.html\n",
        "!pip install -q torch-sparse -f https://data.pyg.org/whl/torch-${TORCH}.html\n",
        "!pip install torch-geometric\n",
        "\n",
        "import torch_geometric\n",
        "print(torch_geometric.__version__)"
      ],
      "metadata": {
        "colab": {
          "base_uri": "https://localhost:8080/"
        },
        "id": "5SNcDKMDwU8o",
        "outputId": "a81c1881-35d7-481e-fc98-c51089e8bdcf"
      },
      "execution_count": 39,
      "outputs": [
        {
          "output_type": "stream",
          "name": "stdout",
          "text": [
            "2.0.0+cu118\n",
            "Looking in indexes: https://pypi.org/simple, https://us-python.pkg.dev/colab-wheels/public/simple/\n",
            "Requirement already satisfied: torch-geometric in /usr/local/lib/python3.9/dist-packages (2.3.0)\n",
            "Requirement already satisfied: psutil>=5.8.0 in /usr/local/lib/python3.9/dist-packages (from torch-geometric) (5.9.5)\n",
            "Requirement already satisfied: requests in /usr/local/lib/python3.9/dist-packages (from torch-geometric) (2.27.1)\n",
            "Requirement already satisfied: scipy in /usr/local/lib/python3.9/dist-packages (from torch-geometric) (1.10.1)\n",
            "Requirement already satisfied: tqdm in /usr/local/lib/python3.9/dist-packages (from torch-geometric) (4.65.0)\n",
            "Requirement already satisfied: numpy in /usr/local/lib/python3.9/dist-packages (from torch-geometric) (1.22.4)\n",
            "Requirement already satisfied: pyparsing in /usr/local/lib/python3.9/dist-packages (from torch-geometric) (3.0.9)\n",
            "Requirement already satisfied: scikit-learn in /usr/local/lib/python3.9/dist-packages (from torch-geometric) (1.2.2)\n",
            "Requirement already satisfied: jinja2 in /usr/local/lib/python3.9/dist-packages (from torch-geometric) (3.1.2)\n",
            "Requirement already satisfied: MarkupSafe>=2.0 in /usr/local/lib/python3.9/dist-packages (from jinja2->torch-geometric) (2.1.2)\n",
            "Requirement already satisfied: urllib3<1.27,>=1.21.1 in /usr/local/lib/python3.9/dist-packages (from requests->torch-geometric) (1.26.15)\n",
            "Requirement already satisfied: certifi>=2017.4.17 in /usr/local/lib/python3.9/dist-packages (from requests->torch-geometric) (2022.12.7)\n",
            "Requirement already satisfied: idna<4,>=2.5 in /usr/local/lib/python3.9/dist-packages (from requests->torch-geometric) (3.4)\n",
            "Requirement already satisfied: charset-normalizer~=2.0.0 in /usr/local/lib/python3.9/dist-packages (from requests->torch-geometric) (2.0.12)\n",
            "Requirement already satisfied: threadpoolctl>=2.0.0 in /usr/local/lib/python3.9/dist-packages (from scikit-learn->torch-geometric) (3.1.0)\n",
            "Requirement already satisfied: joblib>=1.1.1 in /usr/local/lib/python3.9/dist-packages (from scikit-learn->torch-geometric) (1.2.0)\n",
            "2.3.0\n"
          ]
        }
      ]
    },
    {
      "cell_type": "code",
      "source": [
        "import os\n",
        "# os.environ['CUDA_LAUNCH_BLOCKING'] = str(1)\n",
        "os.environ[\"PYTORCH_CUDA_ALLOC_CONF\"] = \"max_split_size_mb:256\""
      ],
      "metadata": {
        "id": "UFyeeFaky1U0"
      },
      "execution_count": 40,
      "outputs": []
    },
    {
      "cell_type": "code",
      "source": [
        "import os.path as osp\n",
        "\n",
        "import torch\n",
        "from sklearn.metrics import roc_auc_score\n",
        "\n",
        "import torch_geometric.transforms as T\n",
        "# from torch_geometric.datasets import Planetoid\n",
        "from torch_geometric.nn import GCNConv\n",
        "from torch_geometric.nn import SAGEConv\n",
        "from torch_geometric.nn import GATConv\n",
        "from torch_geometric.utils import negative_sampling\n",
        "\n",
        "device = torch.device('cuda' if torch.cuda.is_available() else 'cpu')"
      ],
      "metadata": {
        "id": "O2rKXuapwwEH"
      },
      "execution_count": 41,
      "outputs": []
    },
    {
      "cell_type": "code",
      "source": [
        "(train_data.edge_index[0] <= train_data.edge_index[1]).sum()"
      ],
      "metadata": {
        "colab": {
          "base_uri": "https://localhost:8080/"
        },
        "id": "8tNmOwOow3Xy",
        "outputId": "3e036e5c-7b7b-4e51-9f60-e0cf3366fc34"
      },
      "execution_count": 42,
      "outputs": [
        {
          "output_type": "execute_result",
          "data": {
            "text/plain": [
              "tensor(3407103)"
            ]
          },
          "metadata": {},
          "execution_count": 42
        }
      ]
    },
    {
      "cell_type": "code",
      "source": [
        "class Net(torch.nn.Module):\n",
        "    def __init__(self, in_channels, hidden_channels, out_channels):\n",
        "        super().__init__()\n",
        "        self.conv1 = GCNConv(in_channels, hidden_channels)\n",
        "        self.conv2 = GCNConv(hidden_channels, out_channels)\n",
        "\n",
        "    def encode(self, x, edge_index):\n",
        "        x = self.conv1(x, edge_index).relu()\n",
        "        x = self.conv2(x, edge_index)\n",
        "        return x\n",
        "\n",
        "    def decode(self, z, edge_label_index):\n",
        "        return (z[edge_label_index[0]] * z[edge_label_index[1]]).sum(dim=-1)\n",
        "\n",
        "    def decode_all(self, z):\n",
        "        prob_adj = z @ z.t()\n",
        "        #return the indices of a non-zero element\n",
        "        return (prob_adj > 0).nonzero(as_tuple=False).t()"
      ],
      "metadata": {
        "id": "UqrPxJiYxAr_"
      },
      "execution_count": 66,
      "outputs": []
    },
    {
      "cell_type": "code",
      "source": [
        "model = Net(data.num_features, 128, 64).to('cuda')\n",
        "train_data = train_data.to('cuda')\n",
        "test_data = test_data.to('cuda')\n",
        "val_data = val_data.to('cuda')\n",
        "\n",
        "optimizer = torch.optim.Adam(params=model.parameters(), lr=0.01)\n",
        "criterion = torch.nn.BCEWithLogitsLoss()"
      ],
      "metadata": {
        "id": "oZNHBqogzJHo"
      },
      "execution_count": 67,
      "outputs": []
    },
    {
      "cell_type": "code",
      "source": [
        "dataset = data\n",
        "print(dataset)"
      ],
      "metadata": {
        "colab": {
          "base_uri": "https://localhost:8080/"
        },
        "id": "Vb39P9K9yEaw",
        "outputId": "c5c158f5-ddfd-44da-8d34-0e42ba527c70"
      },
      "execution_count": 68,
      "outputs": [
        {
          "output_type": "stream",
          "name": "stdout",
          "text": [
            "Data(x=[168114, 1], edge_index=[2, 6797557], y=[168114], num_classes=21, train_mask=[168114], test_mask=[168114], val_mask=[168114])\n"
          ]
        }
      ]
    },
    {
      "cell_type": "code",
      "source": [
        "# model = Net(dataset.num_features, 128, 64).to(device)\n",
        "# optimizer = torch.optim.Adam(params=model.parameters(), lr=0.01)\n",
        "# criterion = torch.nn.BCEWithLogitsLoss()"
      ],
      "metadata": {
        "id": "hkT-nln5xlhS"
      },
      "execution_count": 69,
      "outputs": []
    },
    {
      "cell_type": "code",
      "source": [
        "def train():\n",
        "    model.train()\n",
        "    optimizer.zero_grad()\n",
        "    z = model.encode(train_data.x, train_data.edge_index)\n",
        "\n",
        "    # We perform a new round of negative sampling for every training epoch:\n",
        "    neg_edge_index = negative_sampling(\n",
        "        edge_index=train_data.edge_index, num_nodes=train_data.num_nodes,\n",
        "        num_neg_samples=train_data.edge_label_index.size(1))\n",
        "\n",
        "    edge_label_index = torch.cat(\n",
        "        [train_data.edge_label_index, neg_edge_index],\n",
        "        dim=-1,\n",
        "    )\n",
        "    edge_label = torch.cat([\n",
        "        train_data.edge_label,\n",
        "        train_data.edge_label.new_zeros(neg_edge_index.size(1))\n",
        "    ], dim=0)\n",
        "\n",
        "    out = model.decode(z, edge_label_index).view(-1)\n",
        "    loss = criterion(out, edge_label)\n",
        "    loss.backward()\n",
        "    optimizer.step()\n",
        "    return loss\n",
        "\n",
        "\n",
        "@torch.no_grad()\n",
        "def test(data):\n",
        "    model.eval()\n",
        "    z = model.encode(data.x, data.edge_index)\n",
        "    out = model.decode(z, data.edge_label_index).view(-1).sigmoid()\n",
        "    return roc_auc_score(data.edge_label.cpu().numpy(), out.cpu().numpy())\n",
        "\n"
      ],
      "metadata": {
        "id": "FhyAcai2xoGY"
      },
      "execution_count": 70,
      "outputs": []
    },
    {
      "cell_type": "code",
      "source": [
        "import matplotlib.pyplot as plt\n",
        "\n",
        "# Create lists to store the training curve and ROC curve data\n",
        "train_losses = []\n",
        "val_aucs = []\n",
        "test_aucs = []\n",
        "\n",
        "best_val_auc = final_test_auc = 0\n",
        "for epoch in range(1, 101):\n",
        "    loss = train()\n",
        "    val_auc = test(val_data)\n",
        "    test_auc = test(test_data)\n",
        "    train_losses.append(loss.item())\n",
        "    val_aucs.append(val_auc)\n",
        "    test_aucs.append(test_auc)\n",
        "    if val_auc > best_val_auc:\n",
        "        best_val = val_auc\n",
        "        final_test_auc = test_auc\n",
        "    print(f'Epoch: {epoch:03d}, Loss: {loss:.4f}, Val: {val_auc:.4f}, '\n",
        "          f'Test: {test_auc:.4f}')\n",
        "\n",
        "print(f'Final Test: {final_test_auc:.4f}')\n",
        "\n",
        "\n",
        "# Plot the training curve\n",
        "plt.plot(train_losses)\n",
        "plt.title('Training Curve')\n",
        "plt.xlabel('Epoch')\n",
        "plt.ylabel('Loss')\n",
        "plt.show()\n",
        "\n",
        "# Plot the training curve\n",
        "plt.plot(val_aucs)\n",
        "plt.title('Validation Accuracy')\n",
        "plt.xlabel('Epoch')\n",
        "plt.ylabel('Accuracy')\n",
        "plt.show()\n",
        "\n",
        "# Plot the training curve\n",
        "plt.plot(test_aucs)\n",
        "plt.title('Test Accuracy')\n",
        "plt.xlabel('Epoch')\n",
        "plt.ylabel('Accuracy')\n",
        "plt.show()"
      ],
      "metadata": {
        "colab": {
          "base_uri": "https://localhost:8080/",
          "height": 1000
        },
        "id": "KiuksHlWLAuU",
        "outputId": "7e734e61-539a-4978-fc4c-6b55c5bcc237"
      },
      "execution_count": 71,
      "outputs": [
        {
          "output_type": "stream",
          "name": "stdout",
          "text": [
            "Epoch: 001, Loss: 2954860035.7604, Val: 0.5000, Test: 0.5000\n",
            "Epoch: 002, Loss: 993802821.5893, Val: 0.5000, Test: 0.5000\n",
            "Epoch: 003, Loss: 317442478.2821, Val: 0.5000, Test: 0.5000\n",
            "Epoch: 004, Loss: 297433141.9572, Val: 0.5000, Test: 0.5000\n",
            "Epoch: 005, Loss: 396196265.5324, Val: 0.5000, Test: 0.5000\n",
            "Epoch: 006, Loss: 415817103.1623, Val: 0.5000, Test: 0.5000\n",
            "Epoch: 007, Loss: 375232352.9493, Val: 0.5000, Test: 0.5000\n",
            "Epoch: 008, Loss: 314055373.6161, Val: 0.5000, Test: 0.5000\n",
            "Epoch: 009, Loss: 265335672.7548, Val: 0.5000, Test: 0.5000\n",
            "Epoch: 010, Loss: 221364878.4920, Val: 0.5000, Test: 0.5000\n",
            "Epoch: 011, Loss: 180927974.5033, Val: 0.5000, Test: 0.5000\n",
            "Epoch: 012, Loss: 142492315.0676, Val: 0.5000, Test: 0.5000\n",
            "Epoch: 013, Loss: 105333517.3133, Val: 0.5000, Test: 0.5000\n",
            "Epoch: 014, Loss: 74540042.3340, Val: 0.5000, Test: 0.5000\n",
            "Epoch: 015, Loss: 52439735.3327, Val: 0.5000, Test: 0.5000\n",
            "Epoch: 016, Loss: 39278217.2822, Val: 0.5000, Test: 0.5000\n",
            "Epoch: 017, Loss: 32306827.8182, Val: 0.5000, Test: 0.5000\n",
            "Epoch: 018, Loss: 30212823.1331, Val: 0.5000, Test: 0.5000\n",
            "Epoch: 019, Loss: 30158590.3969, Val: 0.5000, Test: 0.5000\n",
            "Epoch: 020, Loss: 31374986.7663, Val: 0.5000, Test: 0.5000\n",
            "Epoch: 021, Loss: 32539308.5522, Val: 0.5000, Test: 0.5000\n",
            "Epoch: 022, Loss: 32715868.5186, Val: 0.5000, Test: 0.5000\n",
            "Epoch: 023, Loss: 32004489.9403, Val: 0.5000, Test: 0.5000\n",
            "Epoch: 024, Loss: 30271252.3274, Val: 0.5000, Test: 0.5000\n",
            "Epoch: 025, Loss: 27947035.5681, Val: 0.5000, Test: 0.5000\n",
            "Epoch: 026, Loss: 25096992.8467, Val: 0.5000, Test: 0.5000\n",
            "Epoch: 027, Loss: 22216325.0961, Val: 0.5000, Test: 0.5000\n",
            "Epoch: 028, Loss: 19276333.3339, Val: 0.5000, Test: 0.5000\n",
            "Epoch: 029, Loss: 16631569.7569, Val: 0.5000, Test: 0.5000\n",
            "Epoch: 030, Loss: 14332097.5564, Val: 0.5000, Test: 0.5000\n",
            "Epoch: 031, Loss: 12075378.4980, Val: 0.5000, Test: 0.5000\n",
            "Epoch: 032, Loss: 10056485.0621, Val: 0.5000, Test: 0.5000\n",
            "Epoch: 033, Loss: 8348039.0970, Val: 0.5000, Test: 0.5000\n",
            "Epoch: 034, Loss: 6973182.4921, Val: 0.5000, Test: 0.5000\n",
            "Epoch: 035, Loss: 5841799.6293, Val: 0.5000, Test: 0.5000\n",
            "Epoch: 036, Loss: 4913352.4094, Val: 0.5000, Test: 0.5000\n",
            "Epoch: 037, Loss: 4137226.2238, Val: 0.5000, Test: 0.5000\n",
            "Epoch: 038, Loss: 3522629.6995, Val: 0.5000, Test: 0.5000\n",
            "Epoch: 039, Loss: 2991138.2447, Val: 0.5000, Test: 0.5000\n",
            "Epoch: 040, Loss: 2591052.6297, Val: 0.5000, Test: 0.5000\n",
            "Epoch: 041, Loss: 2264083.8639, Val: 0.5000, Test: 0.5000\n",
            "Epoch: 042, Loss: 2036514.4205, Val: 0.5000, Test: 0.5000\n",
            "Epoch: 043, Loss: 1858695.9578, Val: 0.5000, Test: 0.5000\n",
            "Epoch: 044, Loss: 1737525.9964, Val: 0.5000, Test: 0.5000\n",
            "Epoch: 045, Loss: 1644871.5220, Val: 0.5000, Test: 0.5000\n",
            "Epoch: 046, Loss: 1568940.1935, Val: 0.5000, Test: 0.5000\n",
            "Epoch: 047, Loss: 1493379.7265, Val: 0.5000, Test: 0.5000\n",
            "Epoch: 048, Loss: 1413597.2863, Val: 0.5000, Test: 0.5000\n",
            "Epoch: 049, Loss: 1315108.7959, Val: 0.5000, Test: 0.5000\n",
            "Epoch: 050, Loss: 1220722.7860, Val: 0.5000, Test: 0.5000\n",
            "Epoch: 051, Loss: 1117454.4425, Val: 0.5000, Test: 0.5000\n",
            "Epoch: 052, Loss: 1017465.4246, Val: 0.5000, Test: 0.5000\n",
            "Epoch: 053, Loss: 929000.7466, Val: 0.5000, Test: 0.5000\n",
            "Epoch: 054, Loss: 859635.3896, Val: 0.5000, Test: 0.5000\n",
            "Epoch: 055, Loss: 795796.4042, Val: 0.5000, Test: 0.5000\n",
            "Epoch: 056, Loss: 734775.0780, Val: 0.5000, Test: 0.5000\n",
            "Epoch: 057, Loss: 680906.3163, Val: 0.5000, Test: 0.5000\n",
            "Epoch: 058, Loss: 625036.0809, Val: 0.5000, Test: 0.5000\n",
            "Epoch: 059, Loss: 568217.3923, Val: 0.5000, Test: 0.5000\n",
            "Epoch: 060, Loss: 513151.6075, Val: 0.5000, Test: 0.5000\n",
            "Epoch: 061, Loss: 459231.7604, Val: 0.5000, Test: 0.5000\n",
            "Epoch: 062, Loss: 410871.6744, Val: 0.5000, Test: 0.5000\n",
            "Epoch: 063, Loss: 364862.7006, Val: 0.5000, Test: 0.5000\n",
            "Epoch: 064, Loss: 324240.5576, Val: 0.5000, Test: 0.5000\n",
            "Epoch: 065, Loss: 290336.4517, Val: 0.5000, Test: 0.5000\n",
            "Epoch: 066, Loss: 258644.9073, Val: 0.5000, Test: 0.5000\n",
            "Epoch: 067, Loss: 228595.9686, Val: 0.5000, Test: 0.5000\n",
            "Epoch: 068, Loss: 200499.0101, Val: 0.5000, Test: 0.5000\n",
            "Epoch: 069, Loss: 173457.7471, Val: 0.5000, Test: 0.5000\n",
            "Epoch: 070, Loss: 146814.9995, Val: 0.5000, Test: 0.5000\n",
            "Epoch: 071, Loss: 123078.3535, Val: 0.5000, Test: 0.5000\n",
            "Epoch: 072, Loss: 101450.5003, Val: 0.5000, Test: 0.5000\n",
            "Epoch: 073, Loss: 84747.5868, Val: 0.5000, Test: 0.5000\n",
            "Epoch: 074, Loss: 71688.1759, Val: 0.5000, Test: 0.5000\n",
            "Epoch: 075, Loss: 62545.3347, Val: 0.5000, Test: 0.5000\n",
            "Epoch: 076, Loss: 55995.6195, Val: 0.5000, Test: 0.5000\n",
            "Epoch: 077, Loss: 51473.4574, Val: 0.5000, Test: 0.5000\n",
            "Epoch: 078, Loss: 47928.7831, Val: 0.5000, Test: 0.5000\n",
            "Epoch: 079, Loss: 45494.0195, Val: 0.5000, Test: 0.5000\n",
            "Epoch: 080, Loss: 42771.5948, Val: 0.5000, Test: 0.5000\n",
            "Epoch: 081, Loss: 40219.0893, Val: 0.5000, Test: 0.5000\n",
            "Epoch: 082, Loss: 37789.2749, Val: 0.5000, Test: 0.5000\n",
            "Epoch: 083, Loss: 35814.0800, Val: 0.5000, Test: 0.5000\n",
            "Epoch: 084, Loss: 34208.1551, Val: 0.5000, Test: 0.5000\n",
            "Epoch: 085, Loss: 32896.7784, Val: 0.5000, Test: 0.5000\n",
            "Epoch: 086, Loss: 31750.5603, Val: 0.5000, Test: 0.5000\n",
            "Epoch: 087, Loss: 30365.1299, Val: 0.5000, Test: 0.5000\n",
            "Epoch: 088, Loss: 28778.8356, Val: 0.5000, Test: 0.5000\n",
            "Epoch: 089, Loss: 26874.5965, Val: 0.5000, Test: 0.5000\n",
            "Epoch: 090, Loss: 24890.1518, Val: 0.5000, Test: 0.5000\n",
            "Epoch: 091, Loss: 22790.1072, Val: 0.5000, Test: 0.5000\n",
            "Epoch: 092, Loss: 20766.0148, Val: 0.5000, Test: 0.5000\n",
            "Epoch: 093, Loss: 18823.7831, Val: 0.5000, Test: 0.5000\n",
            "Epoch: 094, Loss: 16807.7205, Val: 0.5000, Test: 0.5000\n",
            "Epoch: 095, Loss: 14819.8744, Val: 0.5000, Test: 0.5000\n",
            "Epoch: 096, Loss: 12779.0669, Val: 0.5000, Test: 0.5000\n",
            "Epoch: 097, Loss: 10763.8378, Val: 0.5000, Test: 0.5000\n",
            "Epoch: 098, Loss: 8912.2505, Val: 0.5000, Test: 0.5000\n",
            "Epoch: 099, Loss: 7145.9898, Val: 0.5000, Test: 0.5000\n",
            "Epoch: 100, Loss: 5632.2331, Val: 0.5000, Test: 0.5000\n",
            "Final Test: 0.5000\n"
          ]
        },
        {
          "output_type": "display_data",
          "data": {
            "text/plain": [
              "<Figure size 640x480 with 1 Axes>"
            ],
            "image/png": "[encoded data removed]"
          },
          "metadata": {}
        },
        {
          "output_type": "display_data",
          "data": {
            "text/plain": [
              "<Figure size 640x480 with 1 Axes>"
            ],
            "image/png": "[encoded data removed]"
          },
          "metadata": {}
        },
        {
          "output_type": "display_data",
          "data": {
            "text/plain": [
              "<Figure size 640x480 with 1 Axes>"
            ],
            "image/png": "[encoded data removed]"
          },
          "metadata": {}
        }
      ]
    },
    {
      "cell_type": "code",
      "source": [
        "# import matplotlib.pyplot as plt\n",
        "\n",
        "# # Create lists to store the training curve and ROC curve data\n",
        "# train_losses = []\n",
        "# val_aucs = []\n",
        "# test_aucs = []\n",
        "\n",
        "# best_val_auc = final_test_auc = 0\n",
        "# for epoch in range(1, 101):\n",
        "#     loss = train()\n",
        "#     val_auc = test(val_data)\n",
        "#     test_auc = test(test_data)\n",
        "#     if val_auc > best_val_auc:\n",
        "#         best_val = val_auc\n",
        "#         final_test_auc = test_auc\n",
        "#     print(f'Epoch: {epoch:03d}, Loss: {loss:.4f}, Val: {val_auc:.4f}, '\n",
        "#           f'Test: {test_auc:.4f}')\n",
        "\n",
        "# print(f'Final Test: {final_test_auc:.4f}')"
      ],
      "metadata": {
        "id": "2GH3BnIGyNOc"
      },
      "execution_count": 72,
      "outputs": []
    },
    {
      "cell_type": "code",
      "source": [
        "torch.cuda.empty_cache()"
      ],
      "metadata": {
        "id": "rHsiiA6236AH"
      },
      "execution_count": 91,
      "outputs": []
    },
    {
      "cell_type": "markdown",
      "source": [
        "Graph Sage"
      ],
      "metadata": {
        "id": "uUeJmFVSzfS_"
      }
    },
    {
      "cell_type": "code",
      "source": [],
      "metadata": {
        "id": "aVTgXg6mz2Zx"
      },
      "execution_count": 49,
      "outputs": []
    },
    {
      "cell_type": "code",
      "source": [
        "class Net_sage(torch.nn.Module):\n",
        "    def __init__(self, in_channels, hidden_channels, out_channels):\n",
        "        super().__init__()\n",
        "        self.conv1 = SAGEConv(in_channels, hidden_channels)\n",
        "        self.conv2 = SAGEConv(hidden_channels, out_channels)\n",
        "\n",
        "    def encode(self, x, edge_index):\n",
        "        x = self.conv1(x, edge_index).relu()\n",
        "        x = self.conv2(x, edge_index)\n",
        "        return x\n",
        "\n",
        "    def decode(self, z, edge_label_index):\n",
        "        return (z[edge_label_index[0]] * z[edge_label_index[1]]).sum(dim=-1)\n",
        "\n",
        "    def decode_all(self, z):\n",
        "        prob_adj = z @ z.t()\n",
        "        #return the indices of a non-zero element\n",
        "        return (prob_adj > 0).nonzero(as_tuple=False).t()"
      ],
      "metadata": {
        "id": "6-uVPNDAzhgm"
      },
      "execution_count": 62,
      "outputs": []
    },
    {
      "cell_type": "code",
      "source": [
        "model_sage = Net_sage(data.num_features, 128, 64).to('cuda')\n",
        "train_data = train_data.to('cuda')\n",
        "test_data = test_data.to('cuda')\n",
        "val_data = val_data.to('cuda')\n",
        "\n",
        "optimizer = torch.optim.Adam(params=model_sage.parameters(), lr=0.01)\n",
        "criterion = torch.nn.BCEWithLogitsLoss()"
      ],
      "metadata": {
        "id": "I8mDI8gpz-_o"
      },
      "execution_count": 63,
      "outputs": []
    },
    {
      "cell_type": "code",
      "source": [
        "def train():\n",
        "    model_sage.train()\n",
        "    optimizer.zero_grad()\n",
        "    z = model_sage.encode(train_data.x, train_data.edge_index)\n",
        "\n",
        "    # We perform a new round of negative sampling for every training epoch:\n",
        "    neg_edge_index = negative_sampling(\n",
        "        edge_index=train_data.edge_index, num_nodes=train_data.num_nodes,\n",
        "        num_neg_samples=train_data.edge_label_index.size(1))\n",
        "\n",
        "    edge_label_index = torch.cat(\n",
        "        [train_data.edge_label_index, neg_edge_index],\n",
        "        dim=-1,\n",
        "    )\n",
        "    edge_label = torch.cat([\n",
        "        train_data.edge_label,\n",
        "        train_data.edge_label.new_zeros(neg_edge_index.size(1))\n",
        "    ], dim=0)\n",
        "\n",
        "    out = model_sage.decode(z, edge_label_index).view(-1)\n",
        "    loss = criterion(out, edge_label)\n",
        "    loss.backward()\n",
        "    optimizer.step()\n",
        "    return loss\n",
        "\n",
        "\n",
        "@torch.no_grad()\n",
        "def test(data):\n",
        "    model_sage.eval()\n",
        "    z = model_sage.encode(data.x, data.edge_index)\n",
        "    out = model_sage.decode(z, data.edge_label_index).view(-1).sigmoid()\n",
        "    return roc_auc_score(data.edge_label.cpu().numpy(), out.cpu().numpy())\n",
        "\n"
      ],
      "metadata": {
        "id": "sEQtdtma0Lfv"
      },
      "execution_count": 64,
      "outputs": []
    },
    {
      "cell_type": "code",
      "source": [
        "import matplotlib.pyplot as plt\n",
        "\n",
        "# Create lists to store the training curve and ROC curve data\n",
        "train_losses = []\n",
        "val_aucs = []\n",
        "test_aucs = []\n",
        "\n",
        "best_val_auc = final_test_auc = 0\n",
        "for epoch in range(1, 101):\n",
        "    loss = train()\n",
        "    val_auc = test(val_data)\n",
        "    test_auc = test(test_data)\n",
        "    train_losses.append(loss.item())\n",
        "    val_aucs.append(val_auc)\n",
        "    test_aucs.append(test_auc)\n",
        "    if val_auc > best_val_auc:\n",
        "        best_val = val_auc\n",
        "        final_test_auc = test_auc\n",
        "    print(f'Epoch: {epoch:03d}, Loss: {loss:.4f}, Val: {val_auc:.4f}, '\n",
        "          f'Test: {test_auc:.4f}')\n",
        "\n",
        "print(f'Final Test: {final_test_auc:.4f}')\n",
        "\n",
        "\n",
        "# Plot the training curve\n",
        "plt.plot(train_losses)\n",
        "plt.title('Training Curve')\n",
        "plt.xlabel('Epoch')\n",
        "plt.ylabel('Loss')\n",
        "plt.show()\n",
        "\n",
        "# Plot the training curve\n",
        "plt.plot(val_aucs)\n",
        "plt.title('Validation Accuracy')\n",
        "plt.xlabel('Epoch')\n",
        "plt.ylabel('Accuracy')\n",
        "plt.show()\n",
        "\n",
        "# Plot the training curve\n",
        "plt.plot(test_aucs)\n",
        "plt.title('Test Accuracy')\n",
        "plt.xlabel('Epoch')\n",
        "plt.ylabel('Accuracy')\n",
        "plt.show()"
      ],
      "metadata": {
        "colab": {
          "base_uri": "https://localhost:8080/",
          "height": 1000
        },
        "id": "YpOdtVtf0enj",
        "outputId": "d931d971-4fd8-4c86-d032-53617e489c5b"
      },
      "execution_count": 65,
      "outputs": [
        {
          "output_type": "stream",
          "name": "stdout",
          "text": [
            "Epoch: 001, Loss: 44737445484.4413, Val: 0.5000, Test: 0.5000\n",
            "Epoch: 002, Loss: 82931779949.2110, Val: 0.5000, Test: 0.5000\n",
            "Epoch: 003, Loss: 32260436121.6936, Val: 0.5000, Test: 0.5000\n",
            "Epoch: 004, Loss: 21987069062.8239, Val: 0.5000, Test: 0.5000\n",
            "Epoch: 005, Loss: 39130815255.0730, Val: 0.5000, Test: 0.5000\n",
            "Epoch: 006, Loss: 33487223354.0802, Val: 0.5000, Test: 0.5000\n",
            "Epoch: 007, Loss: 15458566689.2845, Val: 0.4998, Test: 0.5002\n",
            "Epoch: 008, Loss: 6937200619.6392, Val: 0.5000, Test: 0.5000\n",
            "Epoch: 009, Loss: 12420825478.8413, Val: 0.5000, Test: 0.5000\n",
            "Epoch: 010, Loss: 19590590716.0400, Val: 0.5000, Test: 0.5000\n",
            "Epoch: 011, Loss: 18382408522.9790, Val: 0.5000, Test: 0.5000\n",
            "Epoch: 012, Loss: 10805105889.7549, Val: 0.5002, Test: 0.5000\n",
            "Epoch: 013, Loss: 4434091210.0440, Val: 0.4979, Test: 0.4977\n",
            "Epoch: 014, Loss: 3608742323.3675, Val: 0.5000, Test: 0.5000\n",
            "Epoch: 015, Loss: 6723184386.1219, Val: 0.5000, Test: 0.5000\n",
            "Epoch: 016, Loss: 9240382818.5576, Val: 0.5000, Test: 0.5000\n",
            "Epoch: 017, Loss: 8582924489.5685, Val: 0.5000, Test: 0.5000\n",
            "Epoch: 018, Loss: 5708422254.7599, Val: 0.4981, Test: 0.4960\n",
            "Epoch: 019, Loss: 3257850157.9041, Val: 0.4987, Test: 0.4960\n",
            "Epoch: 020, Loss: 2661473616.3707, Val: 0.5010, Test: 0.4999\n",
            "Epoch: 021, Loss: 3470797442.7612, Val: 0.5000, Test: 0.5000\n",
            "Epoch: 022, Loss: 4243331512.7307, Val: 0.5000, Test: 0.5000\n",
            "Epoch: 023, Loss: 3894132386.1208, Val: 0.5002, Test: 0.5000\n",
            "Epoch: 024, Loss: 2794842007.5314, Val: 0.5008, Test: 0.4997\n",
            "Epoch: 025, Loss: 1842464015.8107, Val: 0.4966, Test: 0.4917\n",
            "Epoch: 026, Loss: 1620493485.9700, Val: 0.4964, Test: 0.4964\n",
            "Epoch: 027, Loss: 1954496550.9149, Val: 0.5004, Test: 0.4999\n",
            "Epoch: 028, Loss: 2175099630.6037, Val: 0.5013, Test: 0.4998\n",
            "Epoch: 029, Loss: 1903584380.2056, Val: 0.5005, Test: 0.4937\n",
            "Epoch: 030, Loss: 1357220079.3791, Val: 0.5053, Test: 0.4965\n",
            "Epoch: 031, Loss: 1019804770.4040, Val: 0.5036, Test: 0.4995\n",
            "Epoch: 032, Loss: 1026589276.5607, Val: 0.5028, Test: 0.4997\n",
            "Epoch: 033, Loss: 1166218437.1905, Val: 0.5017, Test: 0.4998\n",
            "Epoch: 034, Loss: 1162552865.0672, Val: 0.5014, Test: 0.4998\n",
            "Epoch: 035, Loss: 939527153.2344, Val: 0.5015, Test: 0.4998\n",
            "Epoch: 036, Loss: 642260420.0264, Val: 0.4993, Test: 0.4896\n",
            "Epoch: 037, Loss: 481910789.7223, Val: 0.4991, Test: 0.4838\n",
            "Epoch: 038, Loss: 540867568.7171, Val: 0.4921, Test: 0.4935\n",
            "Epoch: 039, Loss: 680352310.8934, Val: 0.4992, Test: 0.4989\n",
            "Epoch: 040, Loss: 710655858.0470, Val: 0.4906, Test: 0.4773\n",
            "Epoch: 041, Loss: 572126720.3044, Val: 0.4966, Test: 0.4895\n",
            "Epoch: 042, Loss: 400173496.7833, Val: 0.4977, Test: 0.4936\n",
            "Epoch: 043, Loss: 313230554.2704, Val: 0.5019, Test: 0.4922\n",
            "Epoch: 044, Loss: 311816757.4955, Val: 0.5052, Test: 0.4992\n",
            "Epoch: 045, Loss: 383644813.0855, Val: 0.5046, Test: 0.4994\n",
            "Epoch: 046, Loss: 396338661.8612, Val: 0.5045, Test: 0.4988\n",
            "Epoch: 047, Loss: 317917972.9343, Val: 0.5013, Test: 0.4915\n",
            "Epoch: 048, Loss: 227844165.8130, Val: 0.5020, Test: 0.4961\n",
            "Epoch: 049, Loss: 205571326.7743, Val: 0.5035, Test: 0.4856\n",
            "Epoch: 050, Loss: 215215839.5146, Val: 0.4847, Test: 0.4711\n",
            "Epoch: 051, Loss: 246457798.0828, Val: 0.4995, Test: 0.4972\n",
            "Epoch: 052, Loss: 258853738.7290, Val: 0.4852, Test: 0.4855\n",
            "Epoch: 053, Loss: 212844110.1381, Val: 0.4981, Test: 0.4713\n",
            "Epoch: 054, Loss: 158507895.0491, Val: 0.5003, Test: 0.4882\n",
            "Epoch: 055, Loss: 132347318.7809, Val: 0.4984, Test: 0.4878\n",
            "Epoch: 056, Loss: 127151167.7275, Val: 0.4958, Test: 0.4708\n",
            "Epoch: 057, Loss: 139532760.7258, Val: 0.4992, Test: 0.4938\n",
            "Epoch: 058, Loss: 154190337.3435, Val: 0.4967, Test: 0.4908\n",
            "Epoch: 059, Loss: 144073346.1256, Val: 0.5010, Test: 0.4785\n",
            "Epoch: 060, Loss: 118618131.6779, Val: 0.5011, Test: 0.4894\n",
            "Epoch: 061, Loss: 99264480.7975, Val: 0.4985, Test: 0.4870\n",
            "Epoch: 062, Loss: 90332193.3414, Val: 0.4883, Test: 0.4842\n",
            "Epoch: 063, Loss: 88705757.6084, Val: 0.4971, Test: 0.5031\n",
            "Epoch: 064, Loss: 93440223.5894, Val: 0.4990, Test: 0.5047\n",
            "Epoch: 065, Loss: 94699035.2716, Val: 0.4985, Test: 0.5063\n",
            "Epoch: 066, Loss: 87502052.2879, Val: 0.4867, Test: 0.4978\n",
            "Epoch: 067, Loss: 74756308.0582, Val: 0.4872, Test: 0.4904\n",
            "Epoch: 068, Loss: 65592226.7208, Val: 0.4939, Test: 0.4921\n",
            "Epoch: 069, Loss: 61362320.6700, Val: 0.4943, Test: 0.4937\n",
            "Epoch: 070, Loss: 61352703.9675, Val: 0.4939, Test: 0.4913\n",
            "Epoch: 071, Loss: 61733051.7854, Val: 0.4944, Test: 0.4880\n",
            "Epoch: 072, Loss: 60095499.6056, Val: 0.4942, Test: 0.4887\n",
            "Epoch: 073, Loss: 54472666.8945, Val: 0.4942, Test: 0.4899\n",
            "Epoch: 074, Loss: 48139125.9935, Val: 0.4969, Test: 0.4910\n",
            "Epoch: 075, Loss: 43840725.6952, Val: 0.4973, Test: 0.4941\n",
            "Epoch: 076, Loss: 41862271.6730, Val: 0.4980, Test: 0.4947\n",
            "Epoch: 077, Loss: 41069208.7639, Val: 0.4990, Test: 0.4944\n",
            "Epoch: 078, Loss: 40989087.8335, Val: 0.4985, Test: 0.4941\n",
            "Epoch: 079, Loss: 39737329.0559, Val: 0.4995, Test: 0.4959\n",
            "Epoch: 080, Loss: 37542245.9512, Val: 0.4993, Test: 0.4984\n",
            "Epoch: 081, Loss: 35550349.1958, Val: 0.4989, Test: 0.5005\n",
            "Epoch: 082, Loss: 32955927.3120, Val: 0.4991, Test: 0.4995\n",
            "Epoch: 083, Loss: 30801171.0998, Val: 0.4975, Test: 0.4982\n",
            "Epoch: 084, Loss: 29481104.4818, Val: 0.4912, Test: 0.4980\n",
            "Epoch: 085, Loss: 28565347.4166, Val: 0.4887, Test: 0.4991\n",
            "Epoch: 086, Loss: 27996075.8314, Val: 0.4856, Test: 0.4973\n",
            "Epoch: 087, Loss: 27228131.4891, Val: 0.4843, Test: 0.4969\n",
            "Epoch: 088, Loss: 26567729.2309, Val: 0.4884, Test: 0.4929\n",
            "Epoch: 089, Loss: 26292378.7528, Val: 0.4866, Test: 0.4962\n",
            "Epoch: 090, Loss: 25206249.5308, Val: 0.4884, Test: 0.4991\n",
            "Epoch: 091, Loss: 24377638.7522, Val: 0.4920, Test: 0.5003\n",
            "Epoch: 092, Loss: 23850415.8286, Val: 0.4929, Test: 0.5002\n",
            "Epoch: 093, Loss: 23008767.5529, Val: 0.4923, Test: 0.4987\n",
            "Epoch: 094, Loss: 22263522.2465, Val: 0.4931, Test: 0.4977\n",
            "Epoch: 095, Loss: 21856350.2710, Val: 0.4950, Test: 0.4997\n",
            "Epoch: 096, Loss: 21294925.3221, Val: 0.4945, Test: 0.5005\n",
            "Epoch: 097, Loss: 21091622.1964, Val: 0.4913, Test: 0.4995\n",
            "Epoch: 098, Loss: 20803091.5250, Val: 0.4901, Test: 0.4981\n",
            "Epoch: 099, Loss: 20105148.6319, Val: 0.4907, Test: 0.4985\n",
            "Epoch: 100, Loss: 19855879.4885, Val: 0.4915, Test: 0.4993\n",
            "Final Test: 0.4993\n"
          ]
        },
        {
          "output_type": "display_data",
          "data": {
            "text/plain": [
              "<Figure size 640x480 with 1 Axes>"
            ],
            "image/png": "[encoded data removed]"
          },
          "metadata": {}
        },
        {
          "output_type": "display_data",
          "data": {
            "text/plain": [
              "<Figure size 640x480 with 1 Axes>"
            ],
            "image/png": "[encoded data removed]"
          },
          "metadata": {}
        },
        {
          "output_type": "display_data",
          "data": {
            "text/plain": [
              "<Figure size 640x480 with 1 Axes>"
            ],
            "image/png": "[encoded data removed]"
          },
          "metadata": {}
        }
      ]
    },
    {
      "cell_type": "markdown",
      "source": [
        "GAT"
      ],
      "metadata": {
        "id": "DggOTyNT7jfk"
      }
    },
    {
      "cell_type": "code",
      "source": [
        "class Net_gat(torch.nn.Module):\n",
        "    def __init__(self, in_channels, hidden_channels, out_channels):\n",
        "        super().__init__()\n",
        "        self.conv1 = GATConv(in_channels, hidden_channels)\n",
        "        self.conv2 = GATConv(hidden_channels, out_channels)\n",
        "\n",
        "    def encode(self, x, edge_index):\n",
        "        x = self.conv1(x, edge_index).relu()\n",
        "        x = self.conv2(x, edge_index)\n",
        "        return x\n",
        "\n",
        "    def decode(self, z, edge_label_index):\n",
        "        return (z[edge_label_index[0]] * z[edge_label_index[1]]).sum(dim=-1)\n",
        "\n",
        "    def decode_all(self, z):\n",
        "        prob_adj = z @ z.t()\n",
        "        #return the indices of a non-zero element\n",
        "        return (prob_adj > 0).nonzero(as_tuple=False).t()"
      ],
      "metadata": {
        "id": "CmTp6czs7kp-"
      },
      "execution_count": 40,
      "outputs": []
    },
    {
      "cell_type": "code",
      "source": [
        "model_gat = Net_gat(data.num_features, 128, 64).to('cpu')\n",
        "train_data = train_data.to('cpu')\n",
        "test_data = test_data.to('cpu')\n",
        "val_data = val_data.to('cpu')\n",
        "\n",
        "optimizer = torch.optim.Adam(params=model_gat.parameters(), lr=0.01)\n",
        "criterion = torch.nn.BCEWithLogitsLoss()"
      ],
      "metadata": {
        "id": "b1wzyqGr7sPF"
      },
      "execution_count": 42,
      "outputs": []
    },
    {
      "cell_type": "code",
      "source": [
        "def train():\n",
        "    model_gat.train()\n",
        "    optimizer.zero_grad()\n",
        "    z = model_gat.encode(train_data.x, train_data.edge_index)\n",
        "\n",
        "    # We perform a new round of negative sampling for every training epoch:\n",
        "    neg_edge_index = negative_sampling(\n",
        "        edge_index=train_data.edge_index, num_nodes=train_data.num_nodes,\n",
        "        num_neg_samples=train_data.edge_label_index.size(1))\n",
        "\n",
        "    edge_label_index = torch.cat(\n",
        "        [train_data.edge_label_index, neg_edge_index],\n",
        "        dim=-1,\n",
        "    )\n",
        "    edge_label = torch.cat([\n",
        "        train_data.edge_label,\n",
        "        train_data.edge_label.new_zeros(neg_edge_index.size(1))\n",
        "    ], dim=0)\n",
        "\n",
        "    out = model_gat.decode(z, edge_label_index).view(-1)\n",
        "    loss = criterion(out, edge_label)\n",
        "    loss.backward()\n",
        "    optimizer.step()\n",
        "    return loss\n",
        "\n",
        "\n",
        "@torch.no_grad()\n",
        "def test(data):\n",
        "    model_gat.eval()\n",
        "    z = model_gat.encode(data.x, data.edge_index)\n",
        "    out = model_gat.decode(z, data.edge_label_index).view(-1).sigmoid()\n",
        "    return roc_auc_score(data.edge_label.cpu().numpy(), out.cpu().numpy())\n",
        "\n"
      ],
      "metadata": {
        "id": "Yd1f2oR98Qfs"
      },
      "execution_count": 43,
      "outputs": []
    },
    {
      "cell_type": "code",
      "source": [
        "best_val_auc = final_test_auc = 0\n",
        "for epoch in range(1, 101):\n",
        "    loss = train()\n",
        "    val_auc = test(val_data)\n",
        "    test_auc = test(test_data)\n",
        "    if val_auc > best_val_auc:\n",
        "        best_val = val_auc\n",
        "        final_test_auc = test_auc\n",
        "    print(f'Epoch: {epoch:03d}, Loss: {loss:.4f}, Val: {val_auc:.4f}, '\n",
        "          f'Test: {test_auc:.4f}')\n",
        "\n",
        "print(f'Final Test: {final_test_auc:.4f}')"
      ],
      "metadata": {
        "colab": {
          "base_uri": "https://localhost:8080/",
          "height": 235
        },
        "id": "VfMmgxJg8q3D",
        "outputId": "dac3f148-0b55-4a3b-eac3-25dc1c0dcf45"
      },
      "execution_count": 1,
      "outputs": [
        {
          "output_type": "error",
          "ename": "NameError",
          "evalue": "ignored",
          "traceback": [
            "\u001b[0;31m---------------------------------------------------------------------------\u001b[0m",
            "\u001b[0;31mNameError\u001b[0m                                 Traceback (most recent call last)",
            "\u001b[0;32m<ipython-input-1-4f80ec3ba04f>\u001b[0m in \u001b[0;36m<cell line: 2>\u001b[0;34m()\u001b[0m\n\u001b[1;32m      1\u001b[0m \u001b[0mbest_val_auc\u001b[0m \u001b[0;34m=\u001b[0m \u001b[0mfinal_test_auc\u001b[0m \u001b[0;34m=\u001b[0m \u001b[0;36m0\u001b[0m\u001b[0;34m\u001b[0m\u001b[0;34m\u001b[0m\u001b[0m\n\u001b[1;32m      2\u001b[0m \u001b[0;32mfor\u001b[0m \u001b[0mepoch\u001b[0m \u001b[0;32min\u001b[0m \u001b[0mrange\u001b[0m\u001b[0;34m(\u001b[0m\u001b[0;36m1\u001b[0m\u001b[0;34m,\u001b[0m \u001b[0;36m101\u001b[0m\u001b[0;34m)\u001b[0m\u001b[0;34m:\u001b[0m\u001b[0;34m\u001b[0m\u001b[0;34m\u001b[0m\u001b[0m\n\u001b[0;32m----> 3\u001b[0;31m     \u001b[0mloss\u001b[0m \u001b[0;34m=\u001b[0m \u001b[0mtrain\u001b[0m\u001b[0;34m(\u001b[0m\u001b[0;34m)\u001b[0m\u001b[0;34m\u001b[0m\u001b[0;34m\u001b[0m\u001b[0m\n\u001b[0m\u001b[1;32m      4\u001b[0m     \u001b[0mval_auc\u001b[0m \u001b[0;34m=\u001b[0m \u001b[0mtest\u001b[0m\u001b[0;34m(\u001b[0m\u001b[0mval_data\u001b[0m\u001b[0;34m)\u001b[0m\u001b[0;34m\u001b[0m\u001b[0;34m\u001b[0m\u001b[0m\n\u001b[1;32m      5\u001b[0m     \u001b[0mtest_auc\u001b[0m \u001b[0;34m=\u001b[0m \u001b[0mtest\u001b[0m\u001b[0;34m(\u001b[0m\u001b[0mtest_data\u001b[0m\u001b[0;34m)\u001b[0m\u001b[0;34m\u001b[0m\u001b[0;34m\u001b[0m\u001b[0m\n",
            "\u001b[0;31mNameError\u001b[0m: name 'train' is not defined"
          ]
        }
      ]
    },
    {
      "cell_type": "code",
      "source": [],
      "metadata": {
        "id": "WnLrg_VU8txf"
      },
      "execution_count": null,
      "outputs": []
    }
  ]
}