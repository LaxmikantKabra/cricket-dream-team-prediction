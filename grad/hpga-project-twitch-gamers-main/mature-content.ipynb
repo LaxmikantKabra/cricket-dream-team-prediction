{
 "cells": [
  {
   "cell_type": "code",
   "execution_count": 113,
   "id": "949c38be",
   "metadata": {},
   "outputs": [],
   "source": [
    "import torch #The torch package contains data structures for multi-dimensional tensors and mathematical operations over these are defined.\n",
    "import torchvision #The torchvision package consists of popular datasets, model architectures, and common image transformations for computer vision.\n",
    "import torch.nn as nn\n",
    "import numpy as np\n",
    "import torchvision.transforms as transforms\n",
    "import torch.nn.functional as F\n",
    "from torch_geometric.nn import GCNConv\n",
    "from torch_geometric.nn import SAGEConv\n",
    "import pandas as pd"
   ]
  },
  {
   "cell_type": "code",
   "execution_count": 114,
   "id": "2d8f5ae5",
   "metadata": {},
   "outputs": [],
   "source": [
    "edge_dataset=pd.read_csv('twitch_gamers_dataset/large_twitch_edges.csv')"
   ]
  },
  {
   "cell_type": "code",
   "execution_count": 115,
   "id": "9f7eed75",
   "metadata": {},
   "outputs": [],
   "source": [
    "features_dataset=pd.read_csv('twitch_gamers_dataset/large_twitch_features.csv')"
   ]
  },
  {
   "cell_type": "code",
   "execution_count": 116,
   "id": "a06910a9",
   "metadata": {},
   "outputs": [
    {
     "name": "stdout",
     "output_type": "stream",
     "text": [
      "<class 'pandas.core.frame.DataFrame'>\n",
      "RangeIndex: 6797557 entries, 0 to 6797556\n",
      "Data columns (total 2 columns):\n",
      "numeric_id_1    int64\n",
      "numeric_id_2    int64\n",
      "dtypes: int64(2)\n",
      "memory usage: 103.7 MB\n"
     ]
    }
   ],
   "source": [
    "edge_dataset.info()"
   ]
  },
  {
   "cell_type": "code",
   "execution_count": 117,
   "id": "70b4406d",
   "metadata": {},
   "outputs": [
    {
     "data": {
      "text/html": [
       "<div>\n",
       "<style scoped>\n",
       "    .dataframe tbody tr th:only-of-type {\n",
       "        vertical-align: middle;\n",
       "    }\n",
       "\n",
       "    .dataframe tbody tr th {\n",
       "        vertical-align: top;\n",
       "    }\n",
       "\n",
       "    .dataframe thead th {\n",
       "        text-align: right;\n",
       "    }\n",
       "</style>\n",
       "<table border=\"1\" class=\"dataframe\">\n",
       "  <thead>\n",
       "    <tr style=\"text-align: right;\">\n",
       "      <th></th>\n",
       "      <th>numeric_id_1</th>\n",
       "      <th>numeric_id_2</th>\n",
       "    </tr>\n",
       "  </thead>\n",
       "  <tbody>\n",
       "    <tr>\n",
       "      <th>0</th>\n",
       "      <td>98343</td>\n",
       "      <td>141493</td>\n",
       "    </tr>\n",
       "    <tr>\n",
       "      <th>1</th>\n",
       "      <td>98343</td>\n",
       "      <td>58736</td>\n",
       "    </tr>\n",
       "    <tr>\n",
       "      <th>2</th>\n",
       "      <td>98343</td>\n",
       "      <td>140703</td>\n",
       "    </tr>\n",
       "    <tr>\n",
       "      <th>3</th>\n",
       "      <td>98343</td>\n",
       "      <td>151401</td>\n",
       "    </tr>\n",
       "    <tr>\n",
       "      <th>4</th>\n",
       "      <td>98343</td>\n",
       "      <td>157118</td>\n",
       "    </tr>\n",
       "  </tbody>\n",
       "</table>\n",
       "</div>"
      ],
      "text/plain": [
       "   numeric_id_1  numeric_id_2\n",
       "0         98343        141493\n",
       "1         98343         58736\n",
       "2         98343        140703\n",
       "3         98343        151401\n",
       "4         98343        157118"
      ]
     },
     "execution_count": 117,
     "metadata": {},
     "output_type": "execute_result"
    }
   ],
   "source": [
    "edge_dataset.head()"
   ]
  },
  {
   "cell_type": "code",
   "execution_count": 118,
   "id": "bb71cc72",
   "metadata": {},
   "outputs": [
    {
     "name": "stdout",
     "output_type": "stream",
     "text": [
      "<class 'pandas.core.frame.DataFrame'>\n",
      "RangeIndex: 168114 entries, 0 to 168113\n",
      "Data columns (total 9 columns):\n",
      "views           168114 non-null int64\n",
      "mature          168114 non-null int64\n",
      "life_time       168114 non-null int64\n",
      "created_at      168114 non-null object\n",
      "updated_at      168114 non-null object\n",
      "numeric_id      168114 non-null int64\n",
      "dead_account    168114 non-null int64\n",
      "language        168114 non-null object\n",
      "affiliate       168114 non-null int64\n",
      "dtypes: int64(6), object(3)\n",
      "memory usage: 11.5+ MB\n"
     ]
    }
   ],
   "source": [
    "features_dataset.info()"
   ]
  },
  {
   "cell_type": "code",
   "execution_count": 119,
   "id": "8def383f",
   "metadata": {},
   "outputs": [
    {
     "data": {
      "text/html": [
       "<div>\n",
       "<style scoped>\n",
       "    .dataframe tbody tr th:only-of-type {\n",
       "        vertical-align: middle;\n",
       "    }\n",
       "\n",
       "    .dataframe tbody tr th {\n",
       "        vertical-align: top;\n",
       "    }\n",
       "\n",
       "    .dataframe thead th {\n",
       "        text-align: right;\n",
       "    }\n",
       "</style>\n",
       "<table border=\"1\" class=\"dataframe\">\n",
       "  <thead>\n",
       "    <tr style=\"text-align: right;\">\n",
       "      <th></th>\n",
       "      <th>views</th>\n",
       "      <th>mature</th>\n",
       "      <th>life_time</th>\n",
       "      <th>created_at</th>\n",
       "      <th>updated_at</th>\n",
       "      <th>numeric_id</th>\n",
       "      <th>dead_account</th>\n",
       "      <th>language</th>\n",
       "      <th>affiliate</th>\n",
       "    </tr>\n",
       "  </thead>\n",
       "  <tbody>\n",
       "    <tr>\n",
       "      <th>0</th>\n",
       "      <td>7879</td>\n",
       "      <td>1</td>\n",
       "      <td>969</td>\n",
       "      <td>2016-02-16</td>\n",
       "      <td>2018-10-12</td>\n",
       "      <td>0</td>\n",
       "      <td>0</td>\n",
       "      <td>EN</td>\n",
       "      <td>1</td>\n",
       "    </tr>\n",
       "    <tr>\n",
       "      <th>1</th>\n",
       "      <td>500</td>\n",
       "      <td>0</td>\n",
       "      <td>2699</td>\n",
       "      <td>2011-05-19</td>\n",
       "      <td>2018-10-08</td>\n",
       "      <td>1</td>\n",
       "      <td>0</td>\n",
       "      <td>EN</td>\n",
       "      <td>0</td>\n",
       "    </tr>\n",
       "    <tr>\n",
       "      <th>2</th>\n",
       "      <td>382502</td>\n",
       "      <td>1</td>\n",
       "      <td>3149</td>\n",
       "      <td>2010-02-27</td>\n",
       "      <td>2018-10-12</td>\n",
       "      <td>2</td>\n",
       "      <td>0</td>\n",
       "      <td>EN</td>\n",
       "      <td>1</td>\n",
       "    </tr>\n",
       "    <tr>\n",
       "      <th>3</th>\n",
       "      <td>386</td>\n",
       "      <td>0</td>\n",
       "      <td>1344</td>\n",
       "      <td>2015-01-26</td>\n",
       "      <td>2018-10-01</td>\n",
       "      <td>3</td>\n",
       "      <td>0</td>\n",
       "      <td>EN</td>\n",
       "      <td>0</td>\n",
       "    </tr>\n",
       "    <tr>\n",
       "      <th>4</th>\n",
       "      <td>2486</td>\n",
       "      <td>0</td>\n",
       "      <td>1784</td>\n",
       "      <td>2013-11-22</td>\n",
       "      <td>2018-10-11</td>\n",
       "      <td>4</td>\n",
       "      <td>0</td>\n",
       "      <td>EN</td>\n",
       "      <td>0</td>\n",
       "    </tr>\n",
       "  </tbody>\n",
       "</table>\n",
       "</div>"
      ],
      "text/plain": [
       "    views  mature  life_time  created_at  updated_at  numeric_id  \\\n",
       "0    7879       1        969  2016-02-16  2018-10-12           0   \n",
       "1     500       0       2699  2011-05-19  2018-10-08           1   \n",
       "2  382502       1       3149  2010-02-27  2018-10-12           2   \n",
       "3     386       0       1344  2015-01-26  2018-10-01           3   \n",
       "4    2486       0       1784  2013-11-22  2018-10-11           4   \n",
       "\n",
       "   dead_account language  affiliate  \n",
       "0             0       EN          1  \n",
       "1             0       EN          0  \n",
       "2             0       EN          1  \n",
       "3             0       EN          0  \n",
       "4             0       EN          0  "
      ]
     },
     "execution_count": 119,
     "metadata": {},
     "output_type": "execute_result"
    }
   ],
   "source": [
    "features_dataset.head()"
   ]
  },
  {
   "cell_type": "code",
   "execution_count": 120,
   "id": "eb57e200",
   "metadata": {},
   "outputs": [],
   "source": [
    "features_dataset = features_dataset.set_index('numeric_id')"
   ]
  },
  {
   "cell_type": "code",
   "execution_count": 121,
   "id": "e8d97d0e",
   "metadata": {},
   "outputs": [
    {
     "data": {
      "text/html": [
       "<div>\n",
       "<style scoped>\n",
       "    .dataframe tbody tr th:only-of-type {\n",
       "        vertical-align: middle;\n",
       "    }\n",
       "\n",
       "    .dataframe tbody tr th {\n",
       "        vertical-align: top;\n",
       "    }\n",
       "\n",
       "    .dataframe thead th {\n",
       "        text-align: right;\n",
       "    }\n",
       "</style>\n",
       "<table border=\"1\" class=\"dataframe\">\n",
       "  <thead>\n",
       "    <tr style=\"text-align: right;\">\n",
       "      <th></th>\n",
       "      <th>views</th>\n",
       "      <th>mature</th>\n",
       "      <th>life_time</th>\n",
       "      <th>created_at</th>\n",
       "      <th>updated_at</th>\n",
       "      <th>dead_account</th>\n",
       "      <th>language</th>\n",
       "      <th>affiliate</th>\n",
       "    </tr>\n",
       "    <tr>\n",
       "      <th>numeric_id</th>\n",
       "      <th></th>\n",
       "      <th></th>\n",
       "      <th></th>\n",
       "      <th></th>\n",
       "      <th></th>\n",
       "      <th></th>\n",
       "      <th></th>\n",
       "      <th></th>\n",
       "    </tr>\n",
       "  </thead>\n",
       "  <tbody>\n",
       "    <tr>\n",
       "      <th>0</th>\n",
       "      <td>7879</td>\n",
       "      <td>1</td>\n",
       "      <td>969</td>\n",
       "      <td>2016-02-16</td>\n",
       "      <td>2018-10-12</td>\n",
       "      <td>0</td>\n",
       "      <td>EN</td>\n",
       "      <td>1</td>\n",
       "    </tr>\n",
       "    <tr>\n",
       "      <th>1</th>\n",
       "      <td>500</td>\n",
       "      <td>0</td>\n",
       "      <td>2699</td>\n",
       "      <td>2011-05-19</td>\n",
       "      <td>2018-10-08</td>\n",
       "      <td>0</td>\n",
       "      <td>EN</td>\n",
       "      <td>0</td>\n",
       "    </tr>\n",
       "    <tr>\n",
       "      <th>2</th>\n",
       "      <td>382502</td>\n",
       "      <td>1</td>\n",
       "      <td>3149</td>\n",
       "      <td>2010-02-27</td>\n",
       "      <td>2018-10-12</td>\n",
       "      <td>0</td>\n",
       "      <td>EN</td>\n",
       "      <td>1</td>\n",
       "    </tr>\n",
       "    <tr>\n",
       "      <th>3</th>\n",
       "      <td>386</td>\n",
       "      <td>0</td>\n",
       "      <td>1344</td>\n",
       "      <td>2015-01-26</td>\n",
       "      <td>2018-10-01</td>\n",
       "      <td>0</td>\n",
       "      <td>EN</td>\n",
       "      <td>0</td>\n",
       "    </tr>\n",
       "    <tr>\n",
       "      <th>4</th>\n",
       "      <td>2486</td>\n",
       "      <td>0</td>\n",
       "      <td>1784</td>\n",
       "      <td>2013-11-22</td>\n",
       "      <td>2018-10-11</td>\n",
       "      <td>0</td>\n",
       "      <td>EN</td>\n",
       "      <td>0</td>\n",
       "    </tr>\n",
       "  </tbody>\n",
       "</table>\n",
       "</div>"
      ],
      "text/plain": [
       "             views  mature  life_time  created_at  updated_at  dead_account  \\\n",
       "numeric_id                                                                    \n",
       "0             7879       1        969  2016-02-16  2018-10-12             0   \n",
       "1              500       0       2699  2011-05-19  2018-10-08             0   \n",
       "2           382502       1       3149  2010-02-27  2018-10-12             0   \n",
       "3              386       0       1344  2015-01-26  2018-10-01             0   \n",
       "4             2486       0       1784  2013-11-22  2018-10-11             0   \n",
       "\n",
       "           language  affiliate  \n",
       "numeric_id                      \n",
       "0                EN          1  \n",
       "1                EN          0  \n",
       "2                EN          1  \n",
       "3                EN          0  \n",
       "4                EN          0  "
      ]
     },
     "execution_count": 121,
     "metadata": {},
     "output_type": "execute_result"
    }
   ],
   "source": [
    "features_dataset.head()"
   ]
  },
  {
   "cell_type": "code",
   "execution_count": 122,
   "id": "549fa554",
   "metadata": {},
   "outputs": [
    {
     "data": {
      "text/html": [
       "<div>\n",
       "<style scoped>\n",
       "    .dataframe tbody tr th:only-of-type {\n",
       "        vertical-align: middle;\n",
       "    }\n",
       "\n",
       "    .dataframe tbody tr th {\n",
       "        vertical-align: top;\n",
       "    }\n",
       "\n",
       "    .dataframe thead th {\n",
       "        text-align: right;\n",
       "    }\n",
       "</style>\n",
       "<table border=\"1\" class=\"dataframe\">\n",
       "  <thead>\n",
       "    <tr style=\"text-align: right;\">\n",
       "      <th></th>\n",
       "      <th>numeric_id_1</th>\n",
       "      <th>numeric_id_2</th>\n",
       "    </tr>\n",
       "  </thead>\n",
       "  <tbody>\n",
       "    <tr>\n",
       "      <th>count</th>\n",
       "      <td>6.797557e+06</td>\n",
       "      <td>6.797557e+06</td>\n",
       "    </tr>\n",
       "    <tr>\n",
       "      <th>mean</th>\n",
       "      <td>8.382801e+04</td>\n",
       "      <td>8.401523e+04</td>\n",
       "    </tr>\n",
       "    <tr>\n",
       "      <th>std</th>\n",
       "      <td>4.820513e+04</td>\n",
       "      <td>4.852719e+04</td>\n",
       "    </tr>\n",
       "    <tr>\n",
       "      <th>min</th>\n",
       "      <td>0.000000e+00</td>\n",
       "      <td>0.000000e+00</td>\n",
       "    </tr>\n",
       "    <tr>\n",
       "      <th>25%</th>\n",
       "      <td>4.221700e+04</td>\n",
       "      <td>4.204500e+04</td>\n",
       "    </tr>\n",
       "    <tr>\n",
       "      <th>50%</th>\n",
       "      <td>8.354600e+04</td>\n",
       "      <td>8.385100e+04</td>\n",
       "    </tr>\n",
       "    <tr>\n",
       "      <th>75%</th>\n",
       "      <td>1.256420e+05</td>\n",
       "      <td>1.259570e+05</td>\n",
       "    </tr>\n",
       "    <tr>\n",
       "      <th>max</th>\n",
       "      <td>1.681120e+05</td>\n",
       "      <td>1.681130e+05</td>\n",
       "    </tr>\n",
       "  </tbody>\n",
       "</table>\n",
       "</div>"
      ],
      "text/plain": [
       "       numeric_id_1  numeric_id_2\n",
       "count  6.797557e+06  6.797557e+06\n",
       "mean   8.382801e+04  8.401523e+04\n",
       "std    4.820513e+04  4.852719e+04\n",
       "min    0.000000e+00  0.000000e+00\n",
       "25%    4.221700e+04  4.204500e+04\n",
       "50%    8.354600e+04  8.385100e+04\n",
       "75%    1.256420e+05  1.259570e+05\n",
       "max    1.681120e+05  1.681130e+05"
      ]
     },
     "execution_count": 122,
     "metadata": {},
     "output_type": "execute_result"
    }
   ],
   "source": [
    "edge_dataset.describe()"
   ]
  },
  {
   "cell_type": "code",
   "execution_count": 123,
   "id": "82fafdec",
   "metadata": {},
   "outputs": [],
   "source": [
    "merged_dataset = pd.merge(edge_dataset, features_dataset,left_on='numeric_id_1',right_on='numeric_id')"
   ]
  },
  {
   "cell_type": "code",
   "execution_count": 124,
   "id": "98968e92",
   "metadata": {},
   "outputs": [
    {
     "data": {
      "text/html": [
       "<div>\n",
       "<style scoped>\n",
       "    .dataframe tbody tr th:only-of-type {\n",
       "        vertical-align: middle;\n",
       "    }\n",
       "\n",
       "    .dataframe tbody tr th {\n",
       "        vertical-align: top;\n",
       "    }\n",
       "\n",
       "    .dataframe thead th {\n",
       "        text-align: right;\n",
       "    }\n",
       "</style>\n",
       "<table border=\"1\" class=\"dataframe\">\n",
       "  <thead>\n",
       "    <tr style=\"text-align: right;\">\n",
       "      <th></th>\n",
       "      <th>numeric_id_2</th>\n",
       "      <th>views</th>\n",
       "      <th>mature</th>\n",
       "      <th>life_time</th>\n",
       "      <th>created_at</th>\n",
       "      <th>updated_at</th>\n",
       "      <th>dead_account</th>\n",
       "      <th>language</th>\n",
       "      <th>affiliate</th>\n",
       "    </tr>\n",
       "    <tr>\n",
       "      <th>numeric_id_1</th>\n",
       "      <th></th>\n",
       "      <th></th>\n",
       "      <th></th>\n",
       "      <th></th>\n",
       "      <th></th>\n",
       "      <th></th>\n",
       "      <th></th>\n",
       "      <th></th>\n",
       "      <th></th>\n",
       "    </tr>\n",
       "  </thead>\n",
       "  <tbody>\n",
       "    <tr>\n",
       "      <th>98343</th>\n",
       "      <td>141493</td>\n",
       "      <td>282</td>\n",
       "      <td>0</td>\n",
       "      <td>2086</td>\n",
       "      <td>2012-12-27</td>\n",
       "      <td>2018-09-13</td>\n",
       "      <td>0</td>\n",
       "      <td>EN</td>\n",
       "      <td>0</td>\n",
       "    </tr>\n",
       "    <tr>\n",
       "      <th>98343</th>\n",
       "      <td>58736</td>\n",
       "      <td>282</td>\n",
       "      <td>0</td>\n",
       "      <td>2086</td>\n",
       "      <td>2012-12-27</td>\n",
       "      <td>2018-09-13</td>\n",
       "      <td>0</td>\n",
       "      <td>EN</td>\n",
       "      <td>0</td>\n",
       "    </tr>\n",
       "    <tr>\n",
       "      <th>98343</th>\n",
       "      <td>140703</td>\n",
       "      <td>282</td>\n",
       "      <td>0</td>\n",
       "      <td>2086</td>\n",
       "      <td>2012-12-27</td>\n",
       "      <td>2018-09-13</td>\n",
       "      <td>0</td>\n",
       "      <td>EN</td>\n",
       "      <td>0</td>\n",
       "    </tr>\n",
       "    <tr>\n",
       "      <th>98343</th>\n",
       "      <td>151401</td>\n",
       "      <td>282</td>\n",
       "      <td>0</td>\n",
       "      <td>2086</td>\n",
       "      <td>2012-12-27</td>\n",
       "      <td>2018-09-13</td>\n",
       "      <td>0</td>\n",
       "      <td>EN</td>\n",
       "      <td>0</td>\n",
       "    </tr>\n",
       "    <tr>\n",
       "      <th>98343</th>\n",
       "      <td>157118</td>\n",
       "      <td>282</td>\n",
       "      <td>0</td>\n",
       "      <td>2086</td>\n",
       "      <td>2012-12-27</td>\n",
       "      <td>2018-09-13</td>\n",
       "      <td>0</td>\n",
       "      <td>EN</td>\n",
       "      <td>0</td>\n",
       "    </tr>\n",
       "  </tbody>\n",
       "</table>\n",
       "</div>"
      ],
      "text/plain": [
       "              numeric_id_2  views  mature  life_time  created_at  updated_at  \\\n",
       "numeric_id_1                                                                   \n",
       "98343               141493    282       0       2086  2012-12-27  2018-09-13   \n",
       "98343                58736    282       0       2086  2012-12-27  2018-09-13   \n",
       "98343               140703    282       0       2086  2012-12-27  2018-09-13   \n",
       "98343               151401    282       0       2086  2012-12-27  2018-09-13   \n",
       "98343               157118    282       0       2086  2012-12-27  2018-09-13   \n",
       "\n",
       "              dead_account language  affiliate  \n",
       "numeric_id_1                                    \n",
       "98343                    0       EN          0  \n",
       "98343                    0       EN          0  \n",
       "98343                    0       EN          0  \n",
       "98343                    0       EN          0  \n",
       "98343                    0       EN          0  "
      ]
     },
     "execution_count": 124,
     "metadata": {},
     "output_type": "execute_result"
    }
   ],
   "source": [
    "merged_dataset = merged_dataset.set_index('numeric_id_1')\n",
    "merged_dataset.head()"
   ]
  },
  {
   "cell_type": "code",
   "execution_count": 125,
   "id": "d3447916",
   "metadata": {},
   "outputs": [
    {
     "name": "stdout",
     "output_type": "stream",
     "text": [
      "<class 'pandas.core.frame.DataFrame'>\n",
      "Int64Index: 6797557 entries, 98343 to 27819\n",
      "Data columns (total 9 columns):\n",
      "numeric_id_2    int64\n",
      "views           int64\n",
      "mature          int64\n",
      "life_time       int64\n",
      "created_at      object\n",
      "updated_at      object\n",
      "dead_account    int64\n",
      "language        object\n",
      "affiliate       int64\n",
      "dtypes: int64(6), object(3)\n",
      "memory usage: 518.6+ MB\n"
     ]
    }
   ],
   "source": [
    "merged_dataset.info()"
   ]
  },
  {
   "cell_type": "code",
   "execution_count": 126,
   "id": "0f58f98f",
   "metadata": {},
   "outputs": [
    {
     "data": {
      "text/html": [
       "<div>\n",
       "<style scoped>\n",
       "    .dataframe tbody tr th:only-of-type {\n",
       "        vertical-align: middle;\n",
       "    }\n",
       "\n",
       "    .dataframe tbody tr th {\n",
       "        vertical-align: top;\n",
       "    }\n",
       "\n",
       "    .dataframe thead th {\n",
       "        text-align: right;\n",
       "    }\n",
       "</style>\n",
       "<table border=\"1\" class=\"dataframe\">\n",
       "  <thead>\n",
       "    <tr style=\"text-align: right;\">\n",
       "      <th></th>\n",
       "      <th>numeric_id_2</th>\n",
       "      <th>views</th>\n",
       "      <th>mature</th>\n",
       "      <th>life_time</th>\n",
       "      <th>dead_account</th>\n",
       "      <th>affiliate</th>\n",
       "    </tr>\n",
       "  </thead>\n",
       "  <tbody>\n",
       "    <tr>\n",
       "      <th>count</th>\n",
       "      <td>6.797557e+06</td>\n",
       "      <td>6.797557e+06</td>\n",
       "      <td>6.797557e+06</td>\n",
       "      <td>6.797557e+06</td>\n",
       "      <td>6.797557e+06</td>\n",
       "      <td>6.797557e+06</td>\n",
       "    </tr>\n",
       "    <tr>\n",
       "      <th>mean</th>\n",
       "      <td>8.401523e+04</td>\n",
       "      <td>1.671707e+07</td>\n",
       "      <td>4.857826e-01</td>\n",
       "      <td>1.981736e+03</td>\n",
       "      <td>2.065448e-03</td>\n",
       "      <td>3.226697e-01</td>\n",
       "    </tr>\n",
       "    <tr>\n",
       "      <th>std</th>\n",
       "      <td>4.852719e+04</td>\n",
       "      <td>5.046552e+07</td>\n",
       "      <td>4.997979e-01</td>\n",
       "      <td>7.567212e+02</td>\n",
       "      <td>4.540024e-02</td>\n",
       "      <td>4.674976e-01</td>\n",
       "    </tr>\n",
       "    <tr>\n",
       "      <th>min</th>\n",
       "      <td>0.000000e+00</td>\n",
       "      <td>0.000000e+00</td>\n",
       "      <td>0.000000e+00</td>\n",
       "      <td>3.400000e+01</td>\n",
       "      <td>0.000000e+00</td>\n",
       "      <td>0.000000e+00</td>\n",
       "    </tr>\n",
       "    <tr>\n",
       "      <th>25%</th>\n",
       "      <td>4.204500e+04</td>\n",
       "      <td>2.096400e+04</td>\n",
       "      <td>0.000000e+00</td>\n",
       "      <td>1.447000e+03</td>\n",
       "      <td>0.000000e+00</td>\n",
       "      <td>0.000000e+00</td>\n",
       "    </tr>\n",
       "    <tr>\n",
       "      <th>50%</th>\n",
       "      <td>8.385100e+04</td>\n",
       "      <td>4.370550e+05</td>\n",
       "      <td>0.000000e+00</td>\n",
       "      <td>1.976000e+03</td>\n",
       "      <td>0.000000e+00</td>\n",
       "      <td>0.000000e+00</td>\n",
       "    </tr>\n",
       "    <tr>\n",
       "      <th>75%</th>\n",
       "      <td>1.259570e+05</td>\n",
       "      <td>6.237401e+06</td>\n",
       "      <td>1.000000e+00</td>\n",
       "      <td>2.502000e+03</td>\n",
       "      <td>0.000000e+00</td>\n",
       "      <td>1.000000e+00</td>\n",
       "    </tr>\n",
       "    <tr>\n",
       "      <th>max</th>\n",
       "      <td>1.681130e+05</td>\n",
       "      <td>3.843966e+08</td>\n",
       "      <td>1.000000e+00</td>\n",
       "      <td>4.161000e+03</td>\n",
       "      <td>1.000000e+00</td>\n",
       "      <td>1.000000e+00</td>\n",
       "    </tr>\n",
       "  </tbody>\n",
       "</table>\n",
       "</div>"
      ],
      "text/plain": [
       "       numeric_id_2         views        mature     life_time  dead_account  \\\n",
       "count  6.797557e+06  6.797557e+06  6.797557e+06  6.797557e+06  6.797557e+06   \n",
       "mean   8.401523e+04  1.671707e+07  4.857826e-01  1.981736e+03  2.065448e-03   \n",
       "std    4.852719e+04  5.046552e+07  4.997979e-01  7.567212e+02  4.540024e-02   \n",
       "min    0.000000e+00  0.000000e+00  0.000000e+00  3.400000e+01  0.000000e+00   \n",
       "25%    4.204500e+04  2.096400e+04  0.000000e+00  1.447000e+03  0.000000e+00   \n",
       "50%    8.385100e+04  4.370550e+05  0.000000e+00  1.976000e+03  0.000000e+00   \n",
       "75%    1.259570e+05  6.237401e+06  1.000000e+00  2.502000e+03  0.000000e+00   \n",
       "max    1.681130e+05  3.843966e+08  1.000000e+00  4.161000e+03  1.000000e+00   \n",
       "\n",
       "          affiliate  \n",
       "count  6.797557e+06  \n",
       "mean   3.226697e-01  \n",
       "std    4.674976e-01  \n",
       "min    0.000000e+00  \n",
       "25%    0.000000e+00  \n",
       "50%    0.000000e+00  \n",
       "75%    1.000000e+00  \n",
       "max    1.000000e+00  "
      ]
     },
     "execution_count": 126,
     "metadata": {},
     "output_type": "execute_result"
    }
   ],
   "source": [
    "merged_dataset.describe()"
   ]
  },
  {
   "cell_type": "markdown",
   "id": "c09ec9f9",
   "metadata": {},
   "source": [
    "**Converting Dataset to Pytorch Geometric Data**"
   ]
  },
  {
   "cell_type": "code",
   "execution_count": 127,
   "id": "bc9b0b70",
   "metadata": {},
   "outputs": [
    {
     "name": "stdout",
     "output_type": "stream",
     "text": [
      "<class 'pandas.core.frame.DataFrame'>\n",
      "Int64Index: 168114 entries, 0 to 168113\n",
      "Data columns (total 8 columns):\n",
      "views           168114 non-null int64\n",
      "mature          168114 non-null int64\n",
      "life_time       168114 non-null int64\n",
      "created_at      168114 non-null object\n",
      "updated_at      168114 non-null object\n",
      "dead_account    168114 non-null int64\n",
      "language        168114 non-null object\n",
      "affiliate       168114 non-null int64\n",
      "dtypes: int64(5), object(3)\n",
      "memory usage: 11.5+ MB\n"
     ]
    }
   ],
   "source": [
    "features_dataset.info()"
   ]
  },
  {
   "cell_type": "code",
   "execution_count": 128,
   "id": "021b8a51",
   "metadata": {},
   "outputs": [
    {
     "data": {
      "text/plain": [
       "array(['EN', 'FR', 'KO', 'JA', 'RU', 'PL', 'DE', 'ES', 'IT', 'PT',\n",
       "       'OTHER', 'TR', 'ZH', 'SV', 'NL', 'TH', 'CS', 'DA', 'HU', 'FI',\n",
       "       'NO'], dtype=object)"
      ]
     },
     "execution_count": 128,
     "metadata": {},
     "output_type": "execute_result"
    }
   ],
   "source": [
    "features_dataset['language'].unique()"
   ]
  },
  {
   "cell_type": "code",
   "execution_count": 129,
   "id": "d41f996d",
   "metadata": {},
   "outputs": [
    {
     "name": "stdout",
     "output_type": "stream",
     "text": [
      "<class 'pandas.core.frame.DataFrame'>\n",
      "Int64Index: 168114 entries, 0 to 168113\n",
      "Data columns (total 8 columns):\n",
      "views           168114 non-null int64\n",
      "mature          168114 non-null int64\n",
      "life_time       168114 non-null int64\n",
      "created_at      168114 non-null object\n",
      "updated_at      168114 non-null object\n",
      "dead_account    168114 non-null int64\n",
      "language        168114 non-null int64\n",
      "affiliate       168114 non-null int64\n",
      "dtypes: int64(6), object(2)\n",
      "memory usage: 11.5+ MB\n"
     ]
    }
   ],
   "source": [
    "languages = ['EN', 'FR', 'KO', 'JA', 'RU', 'PL', 'DE', 'ES', 'IT', 'PT',\n",
    "       'OTHER', 'TR', 'ZH', 'SV', 'NL', 'TH', 'CS', 'DA', 'HU', 'FI',\n",
    "       'NO']\n",
    "\n",
    "from sklearn.preprocessing import LabelEncoder\n",
    "\n",
    "def encode_df(dataframe):\n",
    "    le = LabelEncoder()\n",
    "    features_dataset['language'] = le.fit_transform(features_dataset['language'])\n",
    "    return dataframe\n",
    "\n",
    "#encode the dataframe\n",
    "features_dataset = encode_df(features_dataset)\n",
    "features_dataset.info()"
   ]
  },
  {
   "cell_type": "code",
   "execution_count": 130,
   "id": "dae6f083",
   "metadata": {},
   "outputs": [],
   "source": [
    "node_features = features_dataset[[\"views\",\"life_time\", \"dead_account\",\"language\",\"affiliate\"]]"
   ]
  },
  {
   "cell_type": "code",
   "execution_count": 131,
   "id": "5b83df2a",
   "metadata": {},
   "outputs": [],
   "source": [
    "# node_features[[\"created_year\", \"created_month\", \"created_day\"]] = node_features[\"created_at\"].str.split(\"-\", expand = True).astype('int32')\n",
    "# node_features[[\"updated_year\", \"updated_month\", \"updated_day\"]] = node_features[\"updated_at\"].str.split(\"-\", expand = True).astype('int32')\n",
    "\n",
    "# node_features = node_features.drop(['created_at','updated_at'],axis=1)"
   ]
  },
  {
   "cell_type": "code",
   "execution_count": 132,
   "id": "d1fbd53d",
   "metadata": {},
   "outputs": [
    {
     "data": {
      "text/html": [
       "<div>\n",
       "<style scoped>\n",
       "    .dataframe tbody tr th:only-of-type {\n",
       "        vertical-align: middle;\n",
       "    }\n",
       "\n",
       "    .dataframe tbody tr th {\n",
       "        vertical-align: top;\n",
       "    }\n",
       "\n",
       "    .dataframe thead th {\n",
       "        text-align: right;\n",
       "    }\n",
       "</style>\n",
       "<table border=\"1\" class=\"dataframe\">\n",
       "  <thead>\n",
       "    <tr style=\"text-align: right;\">\n",
       "      <th></th>\n",
       "      <th>views</th>\n",
       "      <th>life_time</th>\n",
       "      <th>dead_account</th>\n",
       "      <th>language</th>\n",
       "      <th>affiliate</th>\n",
       "    </tr>\n",
       "    <tr>\n",
       "      <th>numeric_id</th>\n",
       "      <th></th>\n",
       "      <th></th>\n",
       "      <th></th>\n",
       "      <th></th>\n",
       "      <th></th>\n",
       "    </tr>\n",
       "  </thead>\n",
       "  <tbody>\n",
       "    <tr>\n",
       "      <th>0</th>\n",
       "      <td>7879</td>\n",
       "      <td>969</td>\n",
       "      <td>0</td>\n",
       "      <td>3</td>\n",
       "      <td>1</td>\n",
       "    </tr>\n",
       "    <tr>\n",
       "      <th>1</th>\n",
       "      <td>500</td>\n",
       "      <td>2699</td>\n",
       "      <td>0</td>\n",
       "      <td>3</td>\n",
       "      <td>0</td>\n",
       "    </tr>\n",
       "    <tr>\n",
       "      <th>2</th>\n",
       "      <td>382502</td>\n",
       "      <td>3149</td>\n",
       "      <td>0</td>\n",
       "      <td>3</td>\n",
       "      <td>1</td>\n",
       "    </tr>\n",
       "    <tr>\n",
       "      <th>3</th>\n",
       "      <td>386</td>\n",
       "      <td>1344</td>\n",
       "      <td>0</td>\n",
       "      <td>3</td>\n",
       "      <td>0</td>\n",
       "    </tr>\n",
       "    <tr>\n",
       "      <th>4</th>\n",
       "      <td>2486</td>\n",
       "      <td>1784</td>\n",
       "      <td>0</td>\n",
       "      <td>3</td>\n",
       "      <td>0</td>\n",
       "    </tr>\n",
       "  </tbody>\n",
       "</table>\n",
       "</div>"
      ],
      "text/plain": [
       "             views  life_time  dead_account  language  affiliate\n",
       "numeric_id                                                      \n",
       "0             7879        969             0         3          1\n",
       "1              500       2699             0         3          0\n",
       "2           382502       3149             0         3          1\n",
       "3              386       1344             0         3          0\n",
       "4             2486       1784             0         3          0"
      ]
     },
     "execution_count": 132,
     "metadata": {},
     "output_type": "execute_result"
    }
   ],
   "source": [
    "# node_features['created_at'] = pd.to_datetime(node_features['created_at']).astype('int64')/ 10**9\n",
    "# node_features['updated_at'] = pd.to_datetime(node_features['updated_at']).astype('int64')/ 10**9\n",
    "node_features.head()"
   ]
  },
  {
   "cell_type": "code",
   "execution_count": 133,
   "id": "b7c64d5a",
   "metadata": {},
   "outputs": [
    {
     "name": "stdout",
     "output_type": "stream",
     "text": [
      "<class 'pandas.core.frame.DataFrame'>\n",
      "Int64Index: 168114 entries, 0 to 168113\n",
      "Data columns (total 5 columns):\n",
      "views           168114 non-null float32\n",
      "life_time       168114 non-null float32\n",
      "dead_account    168114 non-null float32\n",
      "language        168114 non-null float32\n",
      "affiliate       168114 non-null float32\n",
      "dtypes: float32(5)\n",
      "memory usage: 4.5 MB\n"
     ]
    }
   ],
   "source": [
    "node_features = node_features.astype('float32')\n",
    "node_features.info()"
   ]
  },
  {
   "cell_type": "code",
   "execution_count": 134,
   "id": "8e38b9e7",
   "metadata": {},
   "outputs": [
    {
     "data": {
      "text/plain": [
       "torch.Size([168114, 5])"
      ]
     },
     "execution_count": 134,
     "metadata": {},
     "output_type": "execute_result"
    }
   ],
   "source": [
    "x =  torch.from_numpy(node_features.to_numpy())\n",
    "x.shape # [num_nodes x num_features]"
   ]
  },
  {
   "cell_type": "code",
   "execution_count": 135,
   "id": "eb31b92c",
   "metadata": {},
   "outputs": [
    {
     "data": {
      "text/plain": [
       "torch.float32"
      ]
     },
     "execution_count": 135,
     "metadata": {},
     "output_type": "execute_result"
    }
   ],
   "source": [
    "x.dtype"
   ]
  },
  {
   "cell_type": "code",
   "execution_count": 136,
   "id": "fea1fbf2",
   "metadata": {},
   "outputs": [],
   "source": [
    "# features_dataset.info()"
   ]
  },
  {
   "cell_type": "code",
   "execution_count": 137,
   "id": "cd671e23",
   "metadata": {},
   "outputs": [],
   "source": [
    "# features_dataset[[\"dead_account\",\"language\",\"affiliate\"]] = features_dataset[[\"dead_account\",\"language\",\"affiliate\"]].astype('int64')\n",
    "# features_dataset[[\"dead_account\",\"language\",\"affiliate\"]].info()"
   ]
  },
  {
   "cell_type": "code",
   "execution_count": null,
   "id": "3c32e644",
   "metadata": {},
   "outputs": [],
   "source": []
  },
  {
   "cell_type": "code",
   "execution_count": 138,
   "id": "00101df7",
   "metadata": {},
   "outputs": [
    {
     "data": {
      "text/plain": [
       "torch.Size([168114, 1])"
      ]
     },
     "execution_count": 138,
     "metadata": {},
     "output_type": "execute_result"
    }
   ],
   "source": [
    "# Select node features\n",
    "labels = features_dataset[[\"mature\"]]\n",
    "labels.head()\n",
    "\n",
    "# labels = labels.astype(float)\n",
    "\n",
    "# Convert to numpy\n",
    "y =  torch.from_numpy(labels.to_numpy())\n",
    "y.shape # [num_nodes, 1] --> node regression"
   ]
  },
  {
   "cell_type": "code",
   "execution_count": 139,
   "id": "890fbe06",
   "metadata": {},
   "outputs": [],
   "source": [
    "y = y.reshape(-1,)"
   ]
  },
  {
   "cell_type": "code",
   "execution_count": 140,
   "id": "a6d14119",
   "metadata": {},
   "outputs": [
    {
     "data": {
      "text/plain": [
       "torch.Size([168114])"
      ]
     },
     "execution_count": 140,
     "metadata": {},
     "output_type": "execute_result"
    }
   ],
   "source": [
    "y.shape"
   ]
  },
  {
   "cell_type": "code",
   "execution_count": 141,
   "id": "d23129e4",
   "metadata": {},
   "outputs": [
    {
     "data": {
      "text/plain": [
       "mature    int64\n",
       "dtype: object"
      ]
     },
     "execution_count": 141,
     "metadata": {},
     "output_type": "execute_result"
    }
   ],
   "source": [
    "labels.dtypes"
   ]
  },
  {
   "cell_type": "code",
   "execution_count": 142,
   "id": "a8e149ce",
   "metadata": {},
   "outputs": [],
   "source": [
    "edge_dataset = edge_dataset.astype('int64')"
   ]
  },
  {
   "cell_type": "code",
   "execution_count": 143,
   "id": "9ebdaa23",
   "metadata": {},
   "outputs": [
    {
     "data": {
      "text/plain": [
       "numeric_id_1    int64\n",
       "numeric_id_2    int64\n",
       "dtype: object"
      ]
     },
     "execution_count": 143,
     "metadata": {},
     "output_type": "execute_result"
    }
   ],
   "source": [
    "edge_dataset.dtypes"
   ]
  },
  {
   "cell_type": "code",
   "execution_count": 144,
   "id": "dd3885c4",
   "metadata": {},
   "outputs": [],
   "source": [
    "edge_dataset = edge_dataset.sort_values(by=['numeric_id_1'])"
   ]
  },
  {
   "cell_type": "code",
   "execution_count": 145,
   "id": "79060b42",
   "metadata": {},
   "outputs": [],
   "source": [
    "edge_index = edge_dataset.transpose()"
   ]
  },
  {
   "cell_type": "code",
   "execution_count": 146,
   "id": "c2f93342",
   "metadata": {},
   "outputs": [
    {
     "data": {
      "text/plain": [
       "array([dtype('int64')], dtype=object)"
      ]
     },
     "execution_count": 146,
     "metadata": {},
     "output_type": "execute_result"
    }
   ],
   "source": [
    "edge_index.dtypes.unique()"
   ]
  },
  {
   "cell_type": "code",
   "execution_count": 147,
   "id": "1e3b210b",
   "metadata": {},
   "outputs": [
    {
     "name": "stdout",
     "output_type": "stream",
     "text": [
      "torch.Size([2, 6797557])\n"
     ]
    }
   ],
   "source": [
    "all_edges =  torch.from_numpy(edge_index.to_numpy()) # [2, num_edges]\n",
    "print(all_edges.shape)"
   ]
  },
  {
   "cell_type": "code",
   "execution_count": 148,
   "id": "fde2422b",
   "metadata": {},
   "outputs": [
    {
     "data": {
      "text/plain": [
       "tensor([[     0,      0,      0,  ..., 168112, 168112, 168112],\n",
       "        [ 10464,  59443, 151601,  ...,  77866,  95086,  12740]])"
      ]
     },
     "execution_count": 148,
     "metadata": {},
     "output_type": "execute_result"
    }
   ],
   "source": [
    "all_edges"
   ]
  },
  {
   "cell_type": "code",
   "execution_count": 149,
   "id": "a19af33c",
   "metadata": {},
   "outputs": [
    {
     "data": {
      "text/plain": [
       "168114"
      ]
     },
     "execution_count": 149,
     "metadata": {},
     "output_type": "execute_result"
    }
   ],
   "source": [
    "len(features_dataset)"
   ]
  },
  {
   "cell_type": "code",
   "execution_count": 150,
   "id": "2a27ac04",
   "metadata": {},
   "outputs": [],
   "source": [
    "train_arr = np.array([True for i in range(round(len(features_dataset)*0.85))])"
   ]
  },
  {
   "cell_type": "code",
   "execution_count": 151,
   "id": "fab66e93",
   "metadata": {},
   "outputs": [],
   "source": [
    "train_arr = np.append(train_arr,np.array([False for i in range(int(len(features_dataset)*0.15))]))"
   ]
  },
  {
   "cell_type": "code",
   "execution_count": 152,
   "id": "99144b5c",
   "metadata": {},
   "outputs": [
    {
     "data": {
      "text/plain": [
       "(168114,)"
      ]
     },
     "execution_count": 152,
     "metadata": {},
     "output_type": "execute_result"
    }
   ],
   "source": [
    "train_arr.shape"
   ]
  },
  {
   "cell_type": "code",
   "execution_count": 153,
   "id": "ce9707b4",
   "metadata": {},
   "outputs": [],
   "source": [
    "test_arr = np.array([False for i in range(round(len(features_dataset)*0.55))])\n",
    "test_arr = np.append(test_arr,np.array([True for i in range(int(len(features_dataset)*0.45))]))"
   ]
  },
  {
   "cell_type": "code",
   "execution_count": 154,
   "id": "45e80d9d",
   "metadata": {},
   "outputs": [
    {
     "data": {
      "text/plain": [
       "(168114,)"
      ]
     },
     "execution_count": 154,
     "metadata": {},
     "output_type": "execute_result"
    }
   ],
   "source": [
    "test_arr.shape"
   ]
  },
  {
   "cell_type": "code",
   "execution_count": 155,
   "id": "16ad977e",
   "metadata": {},
   "outputs": [],
   "source": [
    "val_arr = np.array([False for i in range(round(len(features_dataset)*0.35))])\n",
    "val_arr = np.append(val_arr,np.array([True for i in range(round(len(features_dataset)*0.35))]))\n",
    "val_arr = np.append(val_arr,np.array([False for i in range(int(len(features_dataset)*0.30))]))"
   ]
  },
  {
   "cell_type": "code",
   "execution_count": 156,
   "id": "c81b1f5f",
   "metadata": {},
   "outputs": [
    {
     "data": {
      "text/plain": [
       "(168114,)"
      ]
     },
     "execution_count": 156,
     "metadata": {},
     "output_type": "execute_result"
    }
   ],
   "source": [
    "val_arr.shape"
   ]
  },
  {
   "cell_type": "code",
   "execution_count": 157,
   "id": "49f54881",
   "metadata": {},
   "outputs": [],
   "source": [
    "train_mask = torch.from_numpy(train_arr)\n",
    "test_mask = torch.from_numpy(test_arr)\n",
    "val_mask = torch.from_numpy(val_arr)"
   ]
  },
  {
   "cell_type": "code",
   "execution_count": 158,
   "id": "3ada7c40",
   "metadata": {},
   "outputs": [],
   "source": [
    "from torch_geometric.data import Data\n",
    "data = Data(x=x, edge_index=all_edges, y=y)"
   ]
  },
  {
   "cell_type": "code",
   "execution_count": 159,
   "id": "0e78d0e7",
   "metadata": {},
   "outputs": [
    {
     "data": {
      "text/plain": [
       "Data(x=[168114, 5], edge_index=[2, 6797557], y=[168114])"
      ]
     },
     "execution_count": 159,
     "metadata": {},
     "output_type": "execute_result"
    }
   ],
   "source": [
    "data"
   ]
  },
  {
   "cell_type": "code",
   "execution_count": 160,
   "id": "a4e398a5",
   "metadata": {},
   "outputs": [],
   "source": [
    "data.num_classes = 2\n",
    "data.train_mask = train_mask\n",
    "data.test_mask = test_mask\n",
    "data.val_mask = val_mask"
   ]
  },
  {
   "cell_type": "code",
   "execution_count": 161,
   "id": "7f94fd77",
   "metadata": {},
   "outputs": [
    {
     "data": {
      "text/plain": [
       "Data(x=[168114, 5], edge_index=[2, 6797557], y=[168114], num_classes=2, train_mask=[168114], test_mask=[168114], val_mask=[168114])"
      ]
     },
     "execution_count": 161,
     "metadata": {},
     "output_type": "execute_result"
    }
   ],
   "source": [
    "data"
   ]
  },
  {
   "cell_type": "code",
   "execution_count": 162,
   "id": "609ea866",
   "metadata": {},
   "outputs": [],
   "source": [
    "import os\n",
    "# os.environ[\"PYTORCH_CUDA_ALLOC_CONF\"] = \"max_split_size_mb:1024\""
   ]
  },
  {
   "cell_type": "code",
   "execution_count": 163,
   "id": "a1295405",
   "metadata": {},
   "outputs": [],
   "source": [
    "# import torch_geometric\n",
    "# from torch_geometric.utils.convert import to_networkx\n",
    "# import networkx as nx\n",
    "# import matplotlib.pyplot as plt\n",
    "\n",
    "# plt.figure(figsize=(10, 10))\n",
    "# twitch_gamers = torch_geometric.data.Data(x=data.x[:500], edge_index=data.edge_index[:500])\n",
    "# # g = torch_geometric.utils.to_networkx(twitch_gamers, to_undirected=True)\n",
    "# twitchgraph = to_networkx(twitch_gamers)\n",
    "# node_labels = data.y[list(twitchgraph.nodes)].numpy()\n",
    "# nx.draw(g, cmap=plt.get_cmap('Set1'),node_color = node_labels,node_size=75,linewidths=6)"
   ]
  },
  {
   "attachments": {},
   "cell_type": "markdown",
   "id": "62cb5a12",
   "metadata": {},
   "source": [
    "Explicit Content Classification"
   ]
  },
  {
   "cell_type": "code",
   "execution_count": 164,
   "id": "60b3e9b4",
   "metadata": {},
   "outputs": [
    {
     "name": "stdout",
     "output_type": "stream",
     "text": [
      "Data(x=[168114, 5], edge_index=[2, 6797557], y=[168114], num_classes=2, train_mask=[168114], test_mask=[168114], val_mask=[168114])\n",
      "number of graphs:\t\t 7\n",
      "number of classes:\t\t 2\n",
      "number of classes:\t\t [0 1]\n",
      "number of node features:\t 5\n",
      "number of edge features:\t 0\n",
      "X shape:  torch.Size([168114, 5])\n",
      "Edge shape:  torch.Size([2, 6797557])\n",
      "Y shape:  torch.Size([168114])\n"
     ]
    }
   ],
   "source": [
    "print(data)\n",
    "print(\"number of graphs:\\t\\t\",len(data))\n",
    "print(\"number of classes:\\t\\t\",data.num_classes)\n",
    "print(\"number of classes:\\t\\t\",np.unique(data.y))\n",
    "print(\"number of node features:\\t\",data.num_node_features)\n",
    "print(\"number of edge features:\\t\",data.num_edge_features)\n",
    "print(\"X shape: \", data.x.shape)\n",
    "print(\"Edge shape: \", data.edge_index.shape)\n",
    "print(\"Y shape: \", data.y.shape)"
   ]
  },
  {
   "cell_type": "code",
   "execution_count": 177,
   "id": "6292da39",
   "metadata": {},
   "outputs": [
    {
     "name": "stdout",
     "output_type": "stream",
     "text": [
      "Graph Convolutional Network (GCN):\n"
     ]
    },
    {
     "data": {
      "text/plain": [
       "GCN(\n",
       "  (conv1): GCNConv(5, 16)\n",
       "  (conv2): GCNConv(16, 16)\n",
       "  (conv3): GCNConv(16, 2)\n",
       ")"
      ]
     },
     "execution_count": 177,
     "metadata": {},
     "output_type": "execute_result"
    }
   ],
   "source": [
    "device = torch.device('cuda' if torch.cuda.is_available() else 'cpu')\n",
    "\n",
    "class GCN(torch.nn.Module):\n",
    "    def __init__(self):\n",
    "        super().__init__()\n",
    "        self.conv1 = GCNConv(data.num_node_features, 16)\n",
    "        self.conv2 = GCNConv(16, 16)\n",
    "        self.conv3 = GCNConv(16, data.num_classes)   \n",
    "    \n",
    "    def forward(self, data):\n",
    "        # x: Node feature matrix \n",
    "        # edge_index: Graph connectivity matrix        \n",
    "        x, edge_index = data.x, data.edge_index\n",
    "        x = self.conv1(x, edge_index)\n",
    "        x = F.relu(x)\n",
    "        x = F.dropout(x, training=self.training)\n",
    "        x = self.conv2(x, edge_index)\n",
    "        x = F.relu(x)\n",
    "        x = F.dropout(x, training=self.training)\n",
    "        \n",
    "        return F.log_softmax(x, dim=1)\n",
    "\n",
    "model = GCN().to(device)\n",
    "data = data.to(device)\n",
    "optimizer = torch.optim.Adam(model.parameters(), lr=0.01, weight_decay=5e-4)\n",
    "print(\"Graph Convolutional Network (GCN):\")\n",
    "GCN()"
   ]
  },
  {
   "cell_type": "code",
   "execution_count": 178,
   "id": "16c37f4b",
   "metadata": {},
   "outputs": [],
   "source": [
    "# useful function for computing accuracy\n",
    "def compute_accuracy(pred_y, y):\n",
    "    return (pred_y == y).sum()"
   ]
  },
  {
   "cell_type": "code",
   "execution_count": 179,
   "id": "77bbb121",
   "metadata": {},
   "outputs": [
    {
     "name": "stdout",
     "output_type": "stream",
     "text": [
      "Epoch: 10, Loss: 2975546.7500, Training Acc: 0.2281\n",
      "Epoch: 20, Loss: 326282.5312, Training Acc: 0.4962\n",
      "Epoch: 30, Loss: 8110.2295, Training Acc: 0.5187\n",
      "Epoch: 40, Loss: 3629.8186, Training Acc: 0.5241\n",
      "Epoch: 50, Loss: 1446.0750, Training Acc: 0.5269\n",
      "Epoch: 60, Loss: 495.0789, Training Acc: 0.5288\n",
      "Epoch: 70, Loss: 510.2564, Training Acc: 0.5288\n",
      "Epoch: 80, Loss: 346.4532, Training Acc: 0.5289\n",
      "Epoch: 90, Loss: 464.6475, Training Acc: 0.5288\n",
      "Epoch: 100, Loss: 461.0890, Training Acc: 0.5291\n",
      "Epoch: 110, Loss: 400.8167, Training Acc: 0.5290\n",
      "Epoch: 120, Loss: 463.7697, Training Acc: 0.5290\n",
      "Epoch: 130, Loss: 419.3738, Training Acc: 0.5291\n",
      "Epoch: 140, Loss: 329.2858, Training Acc: 0.5289\n",
      "Epoch: 150, Loss: 423.4977, Training Acc: 0.5290\n",
      "Epoch: 160, Loss: 397.6691, Training Acc: 0.5288\n",
      "Epoch: 170, Loss: 383.1092, Training Acc: 0.5290\n",
      "Epoch: 180, Loss: 231.6026, Training Acc: 0.5294\n",
      "Epoch: 190, Loss: 144.8299, Training Acc: 0.5295\n",
      "Epoch: 200, Loss: 235.1077, Training Acc: 0.5293\n"
     ]
    }
   ],
   "source": [
    "# train the model\n",
    "model.train()\n",
    "losses = []\n",
    "accuracies = []\n",
    "epoch_stable = []\n",
    "for epoch in range(200):\n",
    "    optimizer.zero_grad()\n",
    "    out = model(data)\n",
    "    loss = F.nll_loss(out[data.train_mask], data.y[data.train_mask])\n",
    "    correct = compute_accuracy(out.argmax(dim=1)[data.train_mask], data.y[data.train_mask])\n",
    "    acc = int(correct) / int(data.train_mask.sum())\n",
    "    losses.append(loss.item())\n",
    "    accuracies.append(acc*100)\n",
    "    loss.backward()\n",
    "    optimizer.step()\n",
    "    if (epoch+1) % 10 == 0:\n",
    "        print('Epoch: {}, Loss: {:.4f}, Training Acc: {:.4f}'.format(epoch+1, loss.item(), acc))"
   ]
  },
  {
   "cell_type": "code",
   "execution_count": 180,
   "id": "fb44cf1c",
   "metadata": {},
   "outputs": [
    {
     "name": "stdout",
     "output_type": "stream",
     "text": [
      "Accuracy: 0.5313\n"
     ]
    }
   ],
   "source": [
    "model.eval()\n",
    "pred = model(data).argmax(dim=1)\n",
    "correct = compute_accuracy(pred[data.test_mask], data.y[data.test_mask])\n",
    "acc = int(correct) / int(data.test_mask.sum())\n",
    "print(f'Accuracy: {acc:.4f}')"
   ]
  },
  {
   "cell_type": "code",
   "execution_count": 181,
   "id": "ce17208a",
   "metadata": {},
   "outputs": [],
   "source": [
    "torch.cuda.empty_cache()"
   ]
  },
  {
   "cell_type": "code",
   "execution_count": null,
   "id": "f9859f07",
   "metadata": {},
   "outputs": [],
   "source": []
  }
 ],
 "metadata": {
  "kernelspec": {
   "display_name": "Python 3 (ipykernel)",
   "language": "python",
   "name": "python3"
  },
  "language_info": {
   "codemirror_mode": {
    "name": "ipython",
    "version": 3
   },
   "file_extension": ".py",
   "mimetype": "text/x-python",
   "name": "python",
   "nbconvert_exporter": "python",
   "pygments_lexer": "ipython3",
   "version": "3.8.10"
  }
 },
 "nbformat": 4,
 "nbformat_minor": 5
}
