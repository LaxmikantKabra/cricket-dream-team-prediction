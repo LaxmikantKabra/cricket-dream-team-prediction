{
  "nbformat": 4,
  "nbformat_minor": 0,
  "metadata": {
    "colab": {
      "provenance": []
    },
    "kernelspec": {
      "name": "python3",
      "display_name": "Python 3"
    },
    "language_info": {
      "name": "python"
    },
    "gpuClass": "standard"
  },
  "cells": [
    {
      "cell_type": "code",
      "execution_count": 3,
      "metadata": {
        "id": "xhvcg8ospw5a"
      },
      "outputs": [],
      "source": [
        "import torch #The torch package contains data structures for multi-dimensional tensors and mathematical operations over these are defined.\n",
        "import torchvision #The torchvision package consists of popular datasets, model architectures, and common image transformations for computer vision.\n",
        "import torch.nn as nn\n",
        "import numpy as np\n",
        "import torchvision.transforms as transforms\n",
        "import torch.nn.functional as F\n",
        "from torch_geometric.nn import GCNConv\n",
        "from torch_geometric.nn import SAGEConv\n",
        "from torch_geometric.utils import negative_sampling\n",
        "from sklearn.metrics import roc_auc_score\n",
        "import torch_geometric.transforms as T\n",
        "import pandas as pd"
      ]
    },
    {
      "cell_type": "code",
      "source": [
        "import torch\n",
        "\n",
        "def format_pytorch_version(version):\n",
        "  return version.split('+')[0]\n",
        "\n",
        "TORCH_version = torch.__version__\n",
        "TORCH = format_pytorch_version(TORCH_version)\n",
        "\n",
        "def format_cuda_version(version):\n",
        "  return 'cu' + version.replace('.', '')\n",
        "\n",
        "CUDA_version = torch.version.cuda\n",
        "CUDA = format_cuda_version(CUDA_version)\n",
        "\n",
        "!pip install torch-scatter -f https://data.pyg.org/whl/torch-{TORCH}+{CUDA}.html\n",
        "!pip install torch-sparse -f https://data.pyg.org/whl/torch-{TORCH}+{CUDA}.html\n",
        "!pip install torch-cluster -f https://data.pyg.org/whl/torch-{TORCH}+{CUDA}.html\n",
        "!pip install torch-spline-conv -f https://data.pyg.org/whl/torch-{TORCH}+{CUDA}.html\n",
        "!pip install torch-geometric"
      ],
      "metadata": {
        "colab": {
          "base_uri": "https://localhost:8080/"
        },
        "id": "uA15Z4C1qIkV",
        "outputId": "1ab3f1a4-2173-415e-ef0e-7f49715f246e"
      },
      "execution_count": 2,
      "outputs": [
        {
          "output_type": "stream",
          "name": "stdout",
          "text": [
            "Looking in indexes: https://pypi.org/simple, https://us-python.pkg.dev/colab-wheels/public/simple/\n",
            "Looking in links: https://data.pyg.org/whl/torch-2.0.0+cu118.html\n",
            "Collecting torch-scatter\n",
            "  Downloading https://data.pyg.org/whl/torch-2.0.0%2Bcu118/torch_scatter-2.1.1%2Bpt20cu118-cp39-cp39-linux_x86_64.whl (10.2 MB)\n",
            "\u001b[2K     \u001b[90m━━━━━━━━━━━━━━━━━━━━━━━━━━━━━━━━━━━━━━━━\u001b[0m \u001b[32m10.2/10.2 MB\u001b[0m \u001b[31m62.0 MB/s\u001b[0m eta \u001b[36m0:00:00\u001b[0m\n",
            "\u001b[?25hInstalling collected packages: torch-scatter\n",
            "Successfully installed torch-scatter-2.1.1+pt20cu118\n",
            "Looking in indexes: https://pypi.org/simple, https://us-python.pkg.dev/colab-wheels/public/simple/\n",
            "Looking in links: https://data.pyg.org/whl/torch-2.0.0+cu118.html\n",
            "Collecting torch-sparse\n",
            "  Downloading https://data.pyg.org/whl/torch-2.0.0%2Bcu118/torch_sparse-0.6.17%2Bpt20cu118-cp39-cp39-linux_x86_64.whl (4.8 MB)\n",
            "\u001b[2K     \u001b[90m━━━━━━━━━━━━━━━━━━━━━━━━━━━━━━━━━━━━━━━━\u001b[0m \u001b[32m4.8/4.8 MB\u001b[0m \u001b[31m39.5 MB/s\u001b[0m eta \u001b[36m0:00:00\u001b[0m\n",
            "\u001b[?25hRequirement already satisfied: scipy in /usr/local/lib/python3.9/dist-packages (from torch-sparse) (1.10.1)\n",
            "Requirement already satisfied: numpy<1.27.0,>=1.19.5 in /usr/local/lib/python3.9/dist-packages (from scipy->torch-sparse) (1.22.4)\n",
            "Installing collected packages: torch-sparse\n",
            "Successfully installed torch-sparse-0.6.17+pt20cu118\n",
            "Looking in indexes: https://pypi.org/simple, https://us-python.pkg.dev/colab-wheels/public/simple/\n",
            "Looking in links: https://data.pyg.org/whl/torch-2.0.0+cu118.html\n",
            "Collecting torch-cluster\n",
            "  Downloading https://data.pyg.org/whl/torch-2.0.0%2Bcu118/torch_cluster-1.6.1%2Bpt20cu118-cp39-cp39-linux_x86_64.whl (3.3 MB)\n",
            "\u001b[2K     \u001b[90m━━━━━━━━━━━━━━━━━━━━━━━━━━━━━━━━━━━━━━━━\u001b[0m \u001b[32m3.3/3.3 MB\u001b[0m \u001b[31m31.7 MB/s\u001b[0m eta \u001b[36m0:00:00\u001b[0m\n",
            "\u001b[?25hRequirement already satisfied: scipy in /usr/local/lib/python3.9/dist-packages (from torch-cluster) (1.10.1)\n",
            "Requirement already satisfied: numpy<1.27.0,>=1.19.5 in /usr/local/lib/python3.9/dist-packages (from scipy->torch-cluster) (1.22.4)\n",
            "Installing collected packages: torch-cluster\n",
            "Successfully installed torch-cluster-1.6.1+pt20cu118\n",
            "Looking in indexes: https://pypi.org/simple, https://us-python.pkg.dev/colab-wheels/public/simple/\n",
            "Looking in links: https://data.pyg.org/whl/torch-2.0.0+cu118.html\n",
            "Collecting torch-spline-conv\n",
            "  Downloading https://data.pyg.org/whl/torch-2.0.0%2Bcu118/torch_spline_conv-1.2.2%2Bpt20cu118-cp39-cp39-linux_x86_64.whl (885 kB)\n",
            "\u001b[2K     \u001b[90m━━━━━━━━━━━━━━━━━━━━━━━━━━━━━━━━━━━━━━\u001b[0m \u001b[32m885.2/885.2 kB\u001b[0m \u001b[31m13.1 MB/s\u001b[0m eta \u001b[36m0:00:00\u001b[0m\n",
            "\u001b[?25hInstalling collected packages: torch-spline-conv\n",
            "Successfully installed torch-spline-conv-1.2.2+pt20cu118\n",
            "Looking in indexes: https://pypi.org/simple, https://us-python.pkg.dev/colab-wheels/public/simple/\n",
            "Collecting torch-geometric\n",
            "  Downloading torch_geometric-2.3.0.tar.gz (616 kB)\n",
            "\u001b[2K     \u001b[90m━━━━━━━━━━━━━━━━━━━━━━━━━━━━━━━━━━━━━━\u001b[0m \u001b[32m616.2/616.2 kB\u001b[0m \u001b[31m12.4 MB/s\u001b[0m eta \u001b[36m0:00:00\u001b[0m\n",
            "\u001b[?25h  Installing build dependencies ... \u001b[?25l\u001b[?25hdone\n",
            "  Getting requirements to build wheel ... \u001b[?25l\u001b[?25hdone\n",
            "  Preparing metadata (pyproject.toml) ... \u001b[?25l\u001b[?25hdone\n",
            "Requirement already satisfied: jinja2 in /usr/local/lib/python3.9/dist-packages (from torch-geometric) (3.1.2)\n",
            "Requirement already satisfied: scipy in /usr/local/lib/python3.9/dist-packages (from torch-geometric) (1.10.1)\n",
            "Requirement already satisfied: pyparsing in /usr/local/lib/python3.9/dist-packages (from torch-geometric) (3.0.9)\n",
            "Requirement already satisfied: tqdm in /usr/local/lib/python3.9/dist-packages (from torch-geometric) (4.65.0)\n",
            "Requirement already satisfied: scikit-learn in /usr/local/lib/python3.9/dist-packages (from torch-geometric) (1.2.2)\n",
            "Requirement already satisfied: requests in /usr/local/lib/python3.9/dist-packages (from torch-geometric) (2.27.1)\n",
            "Requirement already satisfied: psutil>=5.8.0 in /usr/local/lib/python3.9/dist-packages (from torch-geometric) (5.9.5)\n",
            "Requirement already satisfied: numpy in /usr/local/lib/python3.9/dist-packages (from torch-geometric) (1.22.4)\n",
            "Requirement already satisfied: MarkupSafe>=2.0 in /usr/local/lib/python3.9/dist-packages (from jinja2->torch-geometric) (2.1.2)\n",
            "Requirement already satisfied: urllib3<1.27,>=1.21.1 in /usr/local/lib/python3.9/dist-packages (from requests->torch-geometric) (1.26.15)\n",
            "Requirement already satisfied: certifi>=2017.4.17 in /usr/local/lib/python3.9/dist-packages (from requests->torch-geometric) (2022.12.7)\n",
            "Requirement already satisfied: charset-normalizer~=2.0.0 in /usr/local/lib/python3.9/dist-packages (from requests->torch-geometric) (2.0.12)\n",
            "Requirement already satisfied: idna<4,>=2.5 in /usr/local/lib/python3.9/dist-packages (from requests->torch-geometric) (3.4)\n",
            "Requirement already satisfied: threadpoolctl>=2.0.0 in /usr/local/lib/python3.9/dist-packages (from scikit-learn->torch-geometric) (3.1.0)\n",
            "Requirement already satisfied: joblib>=1.1.1 in /usr/local/lib/python3.9/dist-packages (from scikit-learn->torch-geometric) (1.2.0)\n",
            "Building wheels for collected packages: torch-geometric\n",
            "  Building wheel for torch-geometric (pyproject.toml) ... \u001b[?25l\u001b[?25hdone\n",
            "  Created wheel for torch-geometric: filename=torch_geometric-2.3.0-py3-none-any.whl size=909897 sha256=dcd6f56ab63e260452c779b2a3abf60916b3841ae329dc7af47e909c71ae3b00\n",
            "  Stored in directory: /root/.cache/pip/wheels/cd/7d/6b/17150450b80b4a3656a84330e22709ccd8dc0f8f4773ba4133\n",
            "Successfully built torch-geometric\n",
            "Installing collected packages: torch-geometric\n",
            "Successfully installed torch-geometric-2.3.0\n"
          ]
        }
      ]
    },
    {
      "cell_type": "code",
      "source": [
        "from google.colab import files\n",
        "uploaded = files.upload()"
      ],
      "metadata": {
        "colab": {
          "base_uri": "https://localhost:8080/",
          "height": 73
        },
        "id": "2G8OnN1-rOaX",
        "outputId": "7d177238-e9f3-4f81-fc47-e39e577667fc"
      },
      "execution_count": 4,
      "outputs": [
        {
          "output_type": "display_data",
          "data": {
            "text/plain": [
              "<IPython.core.display.HTML object>"
            ],
            "text/html": [
              "\n",
              "     <input type=\"file\" id=\"files-a1e91334-4c82-4c43-b1b8-73656ab39eea\" name=\"files[]\" multiple disabled\n",
              "        style=\"border:none\" />\n",
              "     <output id=\"result-a1e91334-4c82-4c43-b1b8-73656ab39eea\">\n",
              "      Upload widget is only available when the cell has been executed in the\n",
              "      current browser session. Please rerun this cell to enable.\n",
              "      </output>\n",
              "      <script>// Copyright 2017 Google LLC\n",
              "//\n",
              "// Licensed under the Apache License, Version 2.0 (the \"License\");\n",
              "// you may not use this file except in compliance with the License.\n",
              "// You may obtain a copy of the License at\n",
              "//\n",
              "//      http://www.apache.org/licenses/LICENSE-2.0\n",
              "//\n",
              "// Unless required by applicable law or agreed to in writing, software\n",
              "// distributed under the License is distributed on an \"AS IS\" BASIS,\n",
              "// WITHOUT WARRANTIES OR CONDITIONS OF ANY KIND, either express or implied.\n",
              "// See the License for the specific language governing permissions and\n",
              "// limitations under the License.\n",
              "\n",
              "/**\n",
              " * @fileoverview Helpers for google.colab Python module.\n",
              " */\n",
              "(function(scope) {\n",
              "function span(text, styleAttributes = {}) {\n",
              "  const element = document.createElement('span');\n",
              "  element.textContent = text;\n",
              "  for (const key of Object.keys(styleAttributes)) {\n",
              "    element.style[key] = styleAttributes[key];\n",
              "  }\n",
              "  return element;\n",
              "}\n",
              "\n",
              "// Max number of bytes which will be uploaded at a time.\n",
              "const MAX_PAYLOAD_SIZE = 100 * 1024;\n",
              "\n",
              "function _uploadFiles(inputId, outputId) {\n",
              "  const steps = uploadFilesStep(inputId, outputId);\n",
              "  const outputElement = document.getElementById(outputId);\n",
              "  // Cache steps on the outputElement to make it available for the next call\n",
              "  // to uploadFilesContinue from Python.\n",
              "  outputElement.steps = steps;\n",
              "\n",
              "  return _uploadFilesContinue(outputId);\n",
              "}\n",
              "\n",
              "// This is roughly an async generator (not supported in the browser yet),\n",
              "// where there are multiple asynchronous steps and the Python side is going\n",
              "// to poll for completion of each step.\n",
              "// This uses a Promise to block the python side on completion of each step,\n",
              "// then passes the result of the previous step as the input to the next step.\n",
              "function _uploadFilesContinue(outputId) {\n",
              "  const outputElement = document.getElementById(outputId);\n",
              "  const steps = outputElement.steps;\n",
              "\n",
              "  const next = steps.next(outputElement.lastPromiseValue);\n",
              "  return Promise.resolve(next.value.promise).then((value) => {\n",
              "    // Cache the last promise value to make it available to the next\n",
              "    // step of the generator.\n",
              "    outputElement.lastPromiseValue = value;\n",
              "    return next.value.response;\n",
              "  });\n",
              "}\n",
              "\n",
              "/**\n",
              " * Generator function which is called between each async step of the upload\n",
              " * process.\n",
              " * @param {string} inputId Element ID of the input file picker element.\n",
              " * @param {string} outputId Element ID of the output display.\n",
              " * @return {!Iterable<!Object>} Iterable of next steps.\n",
              " */\n",
              "function* uploadFilesStep(inputId, outputId) {\n",
              "  const inputElement = document.getElementById(inputId);\n",
              "  inputElement.disabled = false;\n",
              "\n",
              "  const outputElement = document.getElementById(outputId);\n",
              "  outputElement.innerHTML = '';\n",
              "\n",
              "  const pickedPromise = new Promise((resolve) => {\n",
              "    inputElement.addEventListener('change', (e) => {\n",
              "      resolve(e.target.files);\n",
              "    });\n",
              "  });\n",
              "\n",
              "  const cancel = document.createElement('button');\n",
              "  inputElement.parentElement.appendChild(cancel);\n",
              "  cancel.textContent = 'Cancel upload';\n",
              "  const cancelPromise = new Promise((resolve) => {\n",
              "    cancel.onclick = () => {\n",
              "      resolve(null);\n",
              "    };\n",
              "  });\n",
              "\n",
              "  // Wait for the user to pick the files.\n",
              "  const files = yield {\n",
              "    promise: Promise.race([pickedPromise, cancelPromise]),\n",
              "    response: {\n",
              "      action: 'starting',\n",
              "    }\n",
              "  };\n",
              "\n",
              "  cancel.remove();\n",
              "\n",
              "  // Disable the input element since further picks are not allowed.\n",
              "  inputElement.disabled = true;\n",
              "\n",
              "  if (!files) {\n",
              "    return {\n",
              "      response: {\n",
              "        action: 'complete',\n",
              "      }\n",
              "    };\n",
              "  }\n",
              "\n",
              "  for (const file of files) {\n",
              "    const li = document.createElement('li');\n",
              "    li.append(span(file.name, {fontWeight: 'bold'}));\n",
              "    li.append(span(\n",
              "        `(${file.type || 'n/a'}) - ${file.size} bytes, ` +\n",
              "        `last modified: ${\n",
              "            file.lastModifiedDate ? file.lastModifiedDate.toLocaleDateString() :\n",
              "                                    'n/a'} - `));\n",
              "    const percent = span('0% done');\n",
              "    li.appendChild(percent);\n",
              "\n",
              "    outputElement.appendChild(li);\n",
              "\n",
              "    const fileDataPromise = new Promise((resolve) => {\n",
              "      const reader = new FileReader();\n",
              "      reader.onload = (e) => {\n",
              "        resolve(e.target.result);\n",
              "      };\n",
              "      reader.readAsArrayBuffer(file);\n",
              "    });\n",
              "    // Wait for the data to be ready.\n",
              "    let fileData = yield {\n",
              "      promise: fileDataPromise,\n",
              "      response: {\n",
              "        action: 'continue',\n",
              "      }\n",
              "    };\n",
              "\n",
              "    // Use a chunked sending to avoid message size limits. See b/62115660.\n",
              "    let position = 0;\n",
              "    do {\n",
              "      const length = Math.min(fileData.byteLength - position, MAX_PAYLOAD_SIZE);\n",
              "      const chunk = new Uint8Array(fileData, position, length);\n",
              "      position += length;\n",
              "\n",
              "      const base64 = btoa(String.fromCharCode.apply(null, chunk));\n",
              "      yield {\n",
              "        response: {\n",
              "          action: 'append',\n",
              "          file: file.name,\n",
              "          data: base64,\n",
              "        },\n",
              "      };\n",
              "\n",
              "      let percentDone = fileData.byteLength === 0 ?\n",
              "          100 :\n",
              "          Math.round((position / fileData.byteLength) * 100);\n",
              "      percent.textContent = `${percentDone}% done`;\n",
              "\n",
              "    } while (position < fileData.byteLength);\n",
              "  }\n",
              "\n",
              "  // All done.\n",
              "  yield {\n",
              "    response: {\n",
              "      action: 'complete',\n",
              "    }\n",
              "  };\n",
              "}\n",
              "\n",
              "scope.google = scope.google || {};\n",
              "scope.google.colab = scope.google.colab || {};\n",
              "scope.google.colab._files = {\n",
              "  _uploadFiles,\n",
              "  _uploadFilesContinue,\n",
              "};\n",
              "})(self);\n",
              "</script> "
            ]
          },
          "metadata": {}
        },
        {
          "output_type": "stream",
          "name": "stdout",
          "text": [
            "Saving large_twitch_edges.csv to large_twitch_edges.csv\n"
          ]
        }
      ]
    },
    {
      "cell_type": "code",
      "source": [
        "import io\n",
        "edge_dataset=pd.read_csv(io.BytesIO(uploaded['large_twitch_edges.csv']))"
      ],
      "metadata": {
        "id": "IPSawgyKs-zT"
      },
      "execution_count": 5,
      "outputs": []
    },
    {
      "cell_type": "code",
      "source": [
        "from google.colab import files\n",
        "uploaded = files.upload()"
      ],
      "metadata": {
        "colab": {
          "base_uri": "https://localhost:8080/",
          "height": 73
        },
        "id": "tBGPZCXbs5a-",
        "outputId": "b767371d-9c85-45f4-c431-fa8b2ef5e927"
      },
      "execution_count": 6,
      "outputs": [
        {
          "output_type": "display_data",
          "data": {
            "text/plain": [
              "<IPython.core.display.HTML object>"
            ],
            "text/html": [
              "\n",
              "     <input type=\"file\" id=\"files-db73a267-1105-4150-bf43-fcddfa481148\" name=\"files[]\" multiple disabled\n",
              "        style=\"border:none\" />\n",
              "     <output id=\"result-db73a267-1105-4150-bf43-fcddfa481148\">\n",
              "      Upload widget is only available when the cell has been executed in the\n",
              "      current browser session. Please rerun this cell to enable.\n",
              "      </output>\n",
              "      <script>// Copyright 2017 Google LLC\n",
              "//\n",
              "// Licensed under the Apache License, Version 2.0 (the \"License\");\n",
              "// you may not use this file except in compliance with the License.\n",
              "// You may obtain a copy of the License at\n",
              "//\n",
              "//      http://www.apache.org/licenses/LICENSE-2.0\n",
              "//\n",
              "// Unless required by applicable law or agreed to in writing, software\n",
              "// distributed under the License is distributed on an \"AS IS\" BASIS,\n",
              "// WITHOUT WARRANTIES OR CONDITIONS OF ANY KIND, either express or implied.\n",
              "// See the License for the specific language governing permissions and\n",
              "// limitations under the License.\n",
              "\n",
              "/**\n",
              " * @fileoverview Helpers for google.colab Python module.\n",
              " */\n",
              "(function(scope) {\n",
              "function span(text, styleAttributes = {}) {\n",
              "  const element = document.createElement('span');\n",
              "  element.textContent = text;\n",
              "  for (const key of Object.keys(styleAttributes)) {\n",
              "    element.style[key] = styleAttributes[key];\n",
              "  }\n",
              "  return element;\n",
              "}\n",
              "\n",
              "// Max number of bytes which will be uploaded at a time.\n",
              "const MAX_PAYLOAD_SIZE = 100 * 1024;\n",
              "\n",
              "function _uploadFiles(inputId, outputId) {\n",
              "  const steps = uploadFilesStep(inputId, outputId);\n",
              "  const outputElement = document.getElementById(outputId);\n",
              "  // Cache steps on the outputElement to make it available for the next call\n",
              "  // to uploadFilesContinue from Python.\n",
              "  outputElement.steps = steps;\n",
              "\n",
              "  return _uploadFilesContinue(outputId);\n",
              "}\n",
              "\n",
              "// This is roughly an async generator (not supported in the browser yet),\n",
              "// where there are multiple asynchronous steps and the Python side is going\n",
              "// to poll for completion of each step.\n",
              "// This uses a Promise to block the python side on completion of each step,\n",
              "// then passes the result of the previous step as the input to the next step.\n",
              "function _uploadFilesContinue(outputId) {\n",
              "  const outputElement = document.getElementById(outputId);\n",
              "  const steps = outputElement.steps;\n",
              "\n",
              "  const next = steps.next(outputElement.lastPromiseValue);\n",
              "  return Promise.resolve(next.value.promise).then((value) => {\n",
              "    // Cache the last promise value to make it available to the next\n",
              "    // step of the generator.\n",
              "    outputElement.lastPromiseValue = value;\n",
              "    return next.value.response;\n",
              "  });\n",
              "}\n",
              "\n",
              "/**\n",
              " * Generator function which is called between each async step of the upload\n",
              " * process.\n",
              " * @param {string} inputId Element ID of the input file picker element.\n",
              " * @param {string} outputId Element ID of the output display.\n",
              " * @return {!Iterable<!Object>} Iterable of next steps.\n",
              " */\n",
              "function* uploadFilesStep(inputId, outputId) {\n",
              "  const inputElement = document.getElementById(inputId);\n",
              "  inputElement.disabled = false;\n",
              "\n",
              "  const outputElement = document.getElementById(outputId);\n",
              "  outputElement.innerHTML = '';\n",
              "\n",
              "  const pickedPromise = new Promise((resolve) => {\n",
              "    inputElement.addEventListener('change', (e) => {\n",
              "      resolve(e.target.files);\n",
              "    });\n",
              "  });\n",
              "\n",
              "  const cancel = document.createElement('button');\n",
              "  inputElement.parentElement.appendChild(cancel);\n",
              "  cancel.textContent = 'Cancel upload';\n",
              "  const cancelPromise = new Promise((resolve) => {\n",
              "    cancel.onclick = () => {\n",
              "      resolve(null);\n",
              "    };\n",
              "  });\n",
              "\n",
              "  // Wait for the user to pick the files.\n",
              "  const files = yield {\n",
              "    promise: Promise.race([pickedPromise, cancelPromise]),\n",
              "    response: {\n",
              "      action: 'starting',\n",
              "    }\n",
              "  };\n",
              "\n",
              "  cancel.remove();\n",
              "\n",
              "  // Disable the input element since further picks are not allowed.\n",
              "  inputElement.disabled = true;\n",
              "\n",
              "  if (!files) {\n",
              "    return {\n",
              "      response: {\n",
              "        action: 'complete',\n",
              "      }\n",
              "    };\n",
              "  }\n",
              "\n",
              "  for (const file of files) {\n",
              "    const li = document.createElement('li');\n",
              "    li.append(span(file.name, {fontWeight: 'bold'}));\n",
              "    li.append(span(\n",
              "        `(${file.type || 'n/a'}) - ${file.size} bytes, ` +\n",
              "        `last modified: ${\n",
              "            file.lastModifiedDate ? file.lastModifiedDate.toLocaleDateString() :\n",
              "                                    'n/a'} - `));\n",
              "    const percent = span('0% done');\n",
              "    li.appendChild(percent);\n",
              "\n",
              "    outputElement.appendChild(li);\n",
              "\n",
              "    const fileDataPromise = new Promise((resolve) => {\n",
              "      const reader = new FileReader();\n",
              "      reader.onload = (e) => {\n",
              "        resolve(e.target.result);\n",
              "      };\n",
              "      reader.readAsArrayBuffer(file);\n",
              "    });\n",
              "    // Wait for the data to be ready.\n",
              "    let fileData = yield {\n",
              "      promise: fileDataPromise,\n",
              "      response: {\n",
              "        action: 'continue',\n",
              "      }\n",
              "    };\n",
              "\n",
              "    // Use a chunked sending to avoid message size limits. See b/62115660.\n",
              "    let position = 0;\n",
              "    do {\n",
              "      const length = Math.min(fileData.byteLength - position, MAX_PAYLOAD_SIZE);\n",
              "      const chunk = new Uint8Array(fileData, position, length);\n",
              "      position += length;\n",
              "\n",
              "      const base64 = btoa(String.fromCharCode.apply(null, chunk));\n",
              "      yield {\n",
              "        response: {\n",
              "          action: 'append',\n",
              "          file: file.name,\n",
              "          data: base64,\n",
              "        },\n",
              "      };\n",
              "\n",
              "      let percentDone = fileData.byteLength === 0 ?\n",
              "          100 :\n",
              "          Math.round((position / fileData.byteLength) * 100);\n",
              "      percent.textContent = `${percentDone}% done`;\n",
              "\n",
              "    } while (position < fileData.byteLength);\n",
              "  }\n",
              "\n",
              "  // All done.\n",
              "  yield {\n",
              "    response: {\n",
              "      action: 'complete',\n",
              "    }\n",
              "  };\n",
              "}\n",
              "\n",
              "scope.google = scope.google || {};\n",
              "scope.google.colab = scope.google.colab || {};\n",
              "scope.google.colab._files = {\n",
              "  _uploadFiles,\n",
              "  _uploadFilesContinue,\n",
              "};\n",
              "})(self);\n",
              "</script> "
            ]
          },
          "metadata": {}
        },
        {
          "output_type": "stream",
          "name": "stdout",
          "text": [
            "Saving large_twitch_features.csv to large_twitch_features.csv\n"
          ]
        }
      ]
    },
    {
      "cell_type": "code",
      "source": [
        "features_dataset=pd.read_csv(io.BytesIO(uploaded['large_twitch_features.csv']))"
      ],
      "metadata": {
        "id": "M6TFTloJp15E"
      },
      "execution_count": 7,
      "outputs": []
    },
    {
      "cell_type": "code",
      "source": [
        "features_dataset = features_dataset.set_index('numeric_id')"
      ],
      "metadata": {
        "id": "hkVUdK9XqzI8"
      },
      "execution_count": 8,
      "outputs": []
    },
    {
      "cell_type": "code",
      "source": [
        "merged_dataset = pd.merge(edge_dataset, features_dataset,left_on='numeric_id_1',right_on='numeric_id')"
      ],
      "metadata": {
        "id": "ZPMJBw8itb4u"
      },
      "execution_count": 9,
      "outputs": []
    },
    {
      "cell_type": "code",
      "source": [
        "merged_dataset = merged_dataset.set_index('numeric_id_1')\n",
        "merged_dataset.head()"
      ],
      "metadata": {
        "colab": {
          "base_uri": "https://localhost:8080/",
          "height": 237
        },
        "id": "cB3ihnQTtgUm",
        "outputId": "2975bc62-55b5-48e2-a5b4-612b00864023"
      },
      "execution_count": 10,
      "outputs": [
        {
          "output_type": "execute_result",
          "data": {
            "text/plain": [
              "              numeric_id_2  views  mature  life_time  created_at  updated_at  \\\n",
              "numeric_id_1                                                                   \n",
              "98343               141493    282       0       2086  2012-12-27  2018-09-13   \n",
              "98343                58736    282       0       2086  2012-12-27  2018-09-13   \n",
              "98343               140703    282       0       2086  2012-12-27  2018-09-13   \n",
              "98343               151401    282       0       2086  2012-12-27  2018-09-13   \n",
              "98343               157118    282       0       2086  2012-12-27  2018-09-13   \n",
              "\n",
              "              dead_account language  affiliate  \n",
              "numeric_id_1                                    \n",
              "98343                    0       EN          0  \n",
              "98343                    0       EN          0  \n",
              "98343                    0       EN          0  \n",
              "98343                    0       EN          0  \n",
              "98343                    0       EN          0  "
            ],
            "text/html": [
              "\n",
              "  <div id=\"df-835c4cf1-8fff-4ba3-8601-b07d55352683\">\n",
              "    <div class=\"colab-df-container\">\n",
              "      <div>\n",
              "<style scoped>\n",
              "    .dataframe tbody tr th:only-of-type {\n",
              "        vertical-align: middle;\n",
              "    }\n",
              "\n",
              "    .dataframe tbody tr th {\n",
              "        vertical-align: top;\n",
              "    }\n",
              "\n",
              "    .dataframe thead th {\n",
              "        text-align: right;\n",
              "    }\n",
              "</style>\n",
              "<table border=\"1\" class=\"dataframe\">\n",
              "  <thead>\n",
              "    <tr style=\"text-align: right;\">\n",
              "      <th></th>\n",
              "      <th>numeric_id_2</th>\n",
              "      <th>views</th>\n",
              "      <th>mature</th>\n",
              "      <th>life_time</th>\n",
              "      <th>created_at</th>\n",
              "      <th>updated_at</th>\n",
              "      <th>dead_account</th>\n",
              "      <th>language</th>\n",
              "      <th>affiliate</th>\n",
              "    </tr>\n",
              "    <tr>\n",
              "      <th>numeric_id_1</th>\n",
              "      <th></th>\n",
              "      <th></th>\n",
              "      <th></th>\n",
              "      <th></th>\n",
              "      <th></th>\n",
              "      <th></th>\n",
              "      <th></th>\n",
              "      <th></th>\n",
              "      <th></th>\n",
              "    </tr>\n",
              "  </thead>\n",
              "  <tbody>\n",
              "    <tr>\n",
              "      <th>98343</th>\n",
              "      <td>141493</td>\n",
              "      <td>282</td>\n",
              "      <td>0</td>\n",
              "      <td>2086</td>\n",
              "      <td>2012-12-27</td>\n",
              "      <td>2018-09-13</td>\n",
              "      <td>0</td>\n",
              "      <td>EN</td>\n",
              "      <td>0</td>\n",
              "    </tr>\n",
              "    <tr>\n",
              "      <th>98343</th>\n",
              "      <td>58736</td>\n",
              "      <td>282</td>\n",
              "      <td>0</td>\n",
              "      <td>2086</td>\n",
              "      <td>2012-12-27</td>\n",
              "      <td>2018-09-13</td>\n",
              "      <td>0</td>\n",
              "      <td>EN</td>\n",
              "      <td>0</td>\n",
              "    </tr>\n",
              "    <tr>\n",
              "      <th>98343</th>\n",
              "      <td>140703</td>\n",
              "      <td>282</td>\n",
              "      <td>0</td>\n",
              "      <td>2086</td>\n",
              "      <td>2012-12-27</td>\n",
              "      <td>2018-09-13</td>\n",
              "      <td>0</td>\n",
              "      <td>EN</td>\n",
              "      <td>0</td>\n",
              "    </tr>\n",
              "    <tr>\n",
              "      <th>98343</th>\n",
              "      <td>151401</td>\n",
              "      <td>282</td>\n",
              "      <td>0</td>\n",
              "      <td>2086</td>\n",
              "      <td>2012-12-27</td>\n",
              "      <td>2018-09-13</td>\n",
              "      <td>0</td>\n",
              "      <td>EN</td>\n",
              "      <td>0</td>\n",
              "    </tr>\n",
              "    <tr>\n",
              "      <th>98343</th>\n",
              "      <td>157118</td>\n",
              "      <td>282</td>\n",
              "      <td>0</td>\n",
              "      <td>2086</td>\n",
              "      <td>2012-12-27</td>\n",
              "      <td>2018-09-13</td>\n",
              "      <td>0</td>\n",
              "      <td>EN</td>\n",
              "      <td>0</td>\n",
              "    </tr>\n",
              "  </tbody>\n",
              "</table>\n",
              "</div>\n",
              "      <button class=\"colab-df-convert\" onclick=\"convertToInteractive('df-835c4cf1-8fff-4ba3-8601-b07d55352683')\"\n",
              "              title=\"Convert this dataframe to an interactive table.\"\n",
              "              style=\"display:none;\">\n",
              "        \n",
              "  <svg xmlns=\"http://www.w3.org/2000/svg\" height=\"24px\"viewBox=\"0 0 24 24\"\n",
              "       width=\"24px\">\n",
              "    <path d=\"M0 0h24v24H0V0z\" fill=\"none\"/>\n",
              "    <path d=\"M18.56 5.44l.94 2.06.94-2.06 2.06-.94-2.06-.94-.94-2.06-.94 2.06-2.06.94zm-11 1L8.5 8.5l.94-2.06 2.06-.94-2.06-.94L8.5 2.5l-.94 2.06-2.06.94zm10 10l.94 2.06.94-2.06 2.06-.94-2.06-.94-.94-2.06-.94 2.06-2.06.94z\"/><path d=\"M17.41 7.96l-1.37-1.37c-.4-.4-.92-.59-1.43-.59-.52 0-1.04.2-1.43.59L10.3 9.45l-7.72 7.72c-.78.78-.78 2.05 0 2.83L4 21.41c.39.39.9.59 1.41.59.51 0 1.02-.2 1.41-.59l7.78-7.78 2.81-2.81c.8-.78.8-2.07 0-2.86zM5.41 20L4 18.59l7.72-7.72 1.47 1.35L5.41 20z\"/>\n",
              "  </svg>\n",
              "      </button>\n",
              "      \n",
              "  <style>\n",
              "    .colab-df-container {\n",
              "      display:flex;\n",
              "      flex-wrap:wrap;\n",
              "      gap: 12px;\n",
              "    }\n",
              "\n",
              "    .colab-df-convert {\n",
              "      background-color: #E8F0FE;\n",
              "      border: none;\n",
              "      border-radius: 50%;\n",
              "      cursor: pointer;\n",
              "      display: none;\n",
              "      fill: #1967D2;\n",
              "      height: 32px;\n",
              "      padding: 0 0 0 0;\n",
              "      width: 32px;\n",
              "    }\n",
              "\n",
              "    .colab-df-convert:hover {\n",
              "      background-color: #E2EBFA;\n",
              "      box-shadow: 0px 1px 2px rgba(60, 64, 67, 0.3), 0px 1px 3px 1px rgba(60, 64, 67, 0.15);\n",
              "      fill: #174EA6;\n",
              "    }\n",
              "\n",
              "    [theme=dark] .colab-df-convert {\n",
              "      background-color: #3B4455;\n",
              "      fill: #D2E3FC;\n",
              "    }\n",
              "\n",
              "    [theme=dark] .colab-df-convert:hover {\n",
              "      background-color: #434B5C;\n",
              "      box-shadow: 0px 1px 3px 1px rgba(0, 0, 0, 0.15);\n",
              "      filter: drop-shadow(0px 1px 2px rgba(0, 0, 0, 0.3));\n",
              "      fill: #FFFFFF;\n",
              "    }\n",
              "  </style>\n",
              "\n",
              "      <script>\n",
              "        const buttonEl =\n",
              "          document.querySelector('#df-835c4cf1-8fff-4ba3-8601-b07d55352683 button.colab-df-convert');\n",
              "        buttonEl.style.display =\n",
              "          google.colab.kernel.accessAllowed ? 'block' : 'none';\n",
              "\n",
              "        async function convertToInteractive(key) {\n",
              "          const element = document.querySelector('#df-835c4cf1-8fff-4ba3-8601-b07d55352683');\n",
              "          const dataTable =\n",
              "            await google.colab.kernel.invokeFunction('convertToInteractive',\n",
              "                                                     [key], {});\n",
              "          if (!dataTable) return;\n",
              "\n",
              "          const docLinkHtml = 'Like what you see? Visit the ' +\n",
              "            '<a target=\"_blank\" href=https://colab.research.google.com/notebooks/data_table.ipynb>data table notebook</a>'\n",
              "            + ' to learn more about interactive tables.';\n",
              "          element.innerHTML = '';\n",
              "          dataTable['output_type'] = 'display_data';\n",
              "          await google.colab.output.renderOutput(dataTable, element);\n",
              "          const docLink = document.createElement('div');\n",
              "          docLink.innerHTML = docLinkHtml;\n",
              "          element.appendChild(docLink);\n",
              "        }\n",
              "      </script>\n",
              "    </div>\n",
              "  </div>\n",
              "  "
            ]
          },
          "metadata": {},
          "execution_count": 10
        }
      ]
    },
    {
      "cell_type": "markdown",
      "source": [
        "Converting Dataset to Pytorch Geometric Data"
      ],
      "metadata": {
        "id": "jqy2N6ZEt1jk"
      }
    },
    {
      "cell_type": "code",
      "source": [
        "## Language abbrivation to number\n",
        "languages = ['EN', 'FR', 'KO', 'JA', 'RU', 'PL', 'DE', 'ES', 'IT', 'PT',\n",
        "       'OTHER', 'TR', 'ZH', 'SV', 'NL', 'TH', 'CS', 'DA', 'HU', 'FI',\n",
        "       'NO']\n",
        "\n",
        "from sklearn.preprocessing import LabelEncoder\n",
        "\n",
        "def encode_df(dataframe):\n",
        "    le = LabelEncoder()\n",
        "    features_dataset['language'] = le.fit_transform(features_dataset['language'])\n",
        "    return dataframe\n",
        "\n",
        "#encode the dataframe\n",
        "features_dataset = encode_df(features_dataset)\n",
        "features_dataset.info()"
      ],
      "metadata": {
        "colab": {
          "base_uri": "https://localhost:8080/"
        },
        "id": "EY4nyXAqtjTg",
        "outputId": "5d40bf38-ea82-4630-f190-9c5bbf95736b"
      },
      "execution_count": 11,
      "outputs": [
        {
          "output_type": "stream",
          "name": "stdout",
          "text": [
            "<class 'pandas.core.frame.DataFrame'>\n",
            "Int64Index: 168114 entries, 0 to 168113\n",
            "Data columns (total 8 columns):\n",
            " #   Column        Non-Null Count   Dtype \n",
            "---  ------        --------------   ----- \n",
            " 0   views         168114 non-null  int64 \n",
            " 1   mature        168114 non-null  int64 \n",
            " 2   life_time     168114 non-null  int64 \n",
            " 3   created_at    168114 non-null  object\n",
            " 4   updated_at    168114 non-null  object\n",
            " 5   dead_account  168114 non-null  int64 \n",
            " 6   language      168114 non-null  int64 \n",
            " 7   affiliate     168114 non-null  int64 \n",
            "dtypes: int64(6), object(2)\n",
            "memory usage: 11.5+ MB\n"
          ]
        }
      ]
    },
    {
      "cell_type": "code",
      "source": [
        "node_features = features_dataset[[\"views\",\"mature\",\"life_time\",\"created_at\",\"updated_at\"]]"
      ],
      "metadata": {
        "id": "9W_G5Jj0t6zj"
      },
      "execution_count": 12,
      "outputs": []
    },
    {
      "cell_type": "code",
      "source": [
        "node_features[[\"created_year\", \"created_month\", \"created_day\"]] = node_features[\"created_at\"].str.split(\"-\", expand = True).astype('int32')\n",
        "node_features[[\"updated_year\", \"updated_month\", \"updated_day\"]] = node_features[\"updated_at\"].str.split(\"-\", expand = True).astype('int32')\n",
        "\n",
        "node_features = node_features.drop(['created_at','updated_at'],axis=1)"
      ],
      "metadata": {
        "colab": {
          "base_uri": "https://localhost:8080/"
        },
        "id": "B-5-pn57uIbg",
        "outputId": "2ee44036-68ef-438a-dcf6-284c75f920ca"
      },
      "execution_count": 13,
      "outputs": [
        {
          "output_type": "stream",
          "name": "stderr",
          "text": [
            "<ipython-input-13-b33bf055b273>:1: SettingWithCopyWarning: \n",
            "A value is trying to be set on a copy of a slice from a DataFrame.\n",
            "Try using .loc[row_indexer,col_indexer] = value instead\n",
            "\n",
            "See the caveats in the documentation: https://pandas.pydata.org/pandas-docs/stable/user_guide/indexing.html#returning-a-view-versus-a-copy\n",
            "  node_features[[\"created_year\", \"created_month\", \"created_day\"]] = node_features[\"created_at\"].str.split(\"-\", expand = True).astype('int32')\n",
            "<ipython-input-13-b33bf055b273>:1: SettingWithCopyWarning: \n",
            "A value is trying to be set on a copy of a slice from a DataFrame.\n",
            "Try using .loc[row_indexer,col_indexer] = value instead\n",
            "\n",
            "See the caveats in the documentation: https://pandas.pydata.org/pandas-docs/stable/user_guide/indexing.html#returning-a-view-versus-a-copy\n",
            "  node_features[[\"created_year\", \"created_month\", \"created_day\"]] = node_features[\"created_at\"].str.split(\"-\", expand = True).astype('int32')\n"
          ]
        }
      ]
    },
    {
      "cell_type": "code",
      "source": [
        "node_features = node_features.astype('float32')\n",
        "node_features.info()"
      ],
      "metadata": {
        "colab": {
          "base_uri": "https://localhost:8080/"
        },
        "id": "Y6a8u_XJuLxt",
        "outputId": "1d823d89-49c7-4737-b897-4bbfd7c4bac7"
      },
      "execution_count": 14,
      "outputs": [
        {
          "output_type": "stream",
          "name": "stdout",
          "text": [
            "<class 'pandas.core.frame.DataFrame'>\n",
            "Int64Index: 168114 entries, 0 to 168113\n",
            "Data columns (total 9 columns):\n",
            " #   Column         Non-Null Count   Dtype  \n",
            "---  ------         --------------   -----  \n",
            " 0   views          168114 non-null  float32\n",
            " 1   mature         168114 non-null  float32\n",
            " 2   life_time      168114 non-null  float32\n",
            " 3   created_year   168114 non-null  float32\n",
            " 4   created_month  168114 non-null  float32\n",
            " 5   created_day    168114 non-null  float32\n",
            " 6   updated_year   168114 non-null  float32\n",
            " 7   updated_month  168114 non-null  float32\n",
            " 8   updated_day    168114 non-null  float32\n",
            "dtypes: float32(9)\n",
            "memory usage: 7.1 MB\n"
          ]
        }
      ]
    },
    {
      "cell_type": "code",
      "source": [
        "x =  torch.from_numpy(node_features.to_numpy())\n",
        "print(x.shape) # [num_nodes x num_features]\n",
        "print(x.dtype)"
      ],
      "metadata": {
        "colab": {
          "base_uri": "https://localhost:8080/"
        },
        "id": "wSq5tF0YuRwM",
        "outputId": "16073fec-994e-43c4-bf8f-5d34db4d9918"
      },
      "execution_count": 15,
      "outputs": [
        {
          "output_type": "stream",
          "name": "stdout",
          "text": [
            "torch.Size([168114, 9])\n",
            "torch.float32\n"
          ]
        }
      ]
    },
    {
      "cell_type": "code",
      "source": [
        "features_dataset[[\"dead_account\",\"language\",\"affiliate\"]] = features_dataset[[\"dead_account\",\"language\",\"affiliate\"]].astype('int64')\n",
        "features_dataset[[\"dead_account\",\"language\",\"affiliate\"]].info()"
      ],
      "metadata": {
        "colab": {
          "base_uri": "https://localhost:8080/"
        },
        "id": "jQYjQRStuVJF",
        "outputId": "f1f85065-9d4d-4ad2-f0bc-0671978ee6d6"
      },
      "execution_count": 16,
      "outputs": [
        {
          "output_type": "stream",
          "name": "stdout",
          "text": [
            "<class 'pandas.core.frame.DataFrame'>\n",
            "Int64Index: 168114 entries, 0 to 168113\n",
            "Data columns (total 3 columns):\n",
            " #   Column        Non-Null Count   Dtype\n",
            "---  ------        --------------   -----\n",
            " 0   dead_account  168114 non-null  int64\n",
            " 1   language      168114 non-null  int64\n",
            " 2   affiliate     168114 non-null  int64\n",
            "dtypes: int64(3)\n",
            "memory usage: 5.1 MB\n"
          ]
        }
      ]
    },
    {
      "cell_type": "code",
      "source": [
        "# Select node features\n",
        "labels = features_dataset[[\"language\"]]\n",
        "labels.head()\n",
        "\n",
        "# labels = labels.astype(float)\n",
        "\n",
        "# Convert to numpy\n",
        "y =  torch.from_numpy(labels.to_numpy())\n",
        "y.shape # [num_nodes, 1] --> node regression"
      ],
      "metadata": {
        "colab": {
          "base_uri": "https://localhost:8080/"
        },
        "id": "tIRN1lLcuj4G",
        "outputId": "2a7dc4b9-498d-4bf4-9aa1-1d3043cacb51"
      },
      "execution_count": 17,
      "outputs": [
        {
          "output_type": "execute_result",
          "data": {
            "text/plain": [
              "torch.Size([168114, 1])"
            ]
          },
          "metadata": {},
          "execution_count": 17
        }
      ]
    },
    {
      "cell_type": "code",
      "source": [
        "y = y.reshape(-1,)"
      ],
      "metadata": {
        "id": "v-1ghYuDunq4"
      },
      "execution_count": 18,
      "outputs": []
    },
    {
      "cell_type": "code",
      "source": [
        "y.shape"
      ],
      "metadata": {
        "colab": {
          "base_uri": "https://localhost:8080/"
        },
        "id": "aHB6TChaute5",
        "outputId": "8ae430f4-95ef-4e6d-bcdb-4b913160b61d"
      },
      "execution_count": 19,
      "outputs": [
        {
          "output_type": "execute_result",
          "data": {
            "text/plain": [
              "torch.Size([168114])"
            ]
          },
          "metadata": {},
          "execution_count": 19
        }
      ]
    },
    {
      "cell_type": "code",
      "source": [
        "labels.dtypes"
      ],
      "metadata": {
        "colab": {
          "base_uri": "https://localhost:8080/"
        },
        "id": "zQxUxSWMuv4d",
        "outputId": "24151851-a5d7-492e-a6d9-fa604dc313cd"
      },
      "execution_count": 20,
      "outputs": [
        {
          "output_type": "execute_result",
          "data": {
            "text/plain": [
              "language    int64\n",
              "dtype: object"
            ]
          },
          "metadata": {},
          "execution_count": 20
        }
      ]
    },
    {
      "cell_type": "code",
      "source": [
        "edge_dataset = edge_dataset.astype('int64')"
      ],
      "metadata": {
        "id": "cQV65s2JuzBB"
      },
      "execution_count": 21,
      "outputs": []
    },
    {
      "cell_type": "code",
      "source": [
        "edge_dataset = edge_dataset.sort_values(by=['numeric_id_1'])"
      ],
      "metadata": {
        "id": "IZoPj1eRu1xi"
      },
      "execution_count": 22,
      "outputs": []
    },
    {
      "cell_type": "code",
      "source": [
        "edge_index = edge_dataset.transpose()"
      ],
      "metadata": {
        "id": "cGj0Bha1u4R-"
      },
      "execution_count": 23,
      "outputs": []
    },
    {
      "cell_type": "code",
      "source": [
        "edge_index.dtypes.unique()"
      ],
      "metadata": {
        "colab": {
          "base_uri": "https://localhost:8080/"
        },
        "id": "AuKRNqGvu7On",
        "outputId": "8d6a7331-9b2b-4aec-ce8a-95b0ed3cf61a"
      },
      "execution_count": 24,
      "outputs": [
        {
          "output_type": "execute_result",
          "data": {
            "text/plain": [
              "array([dtype('int64')], dtype=object)"
            ]
          },
          "metadata": {},
          "execution_count": 24
        }
      ]
    },
    {
      "cell_type": "code",
      "source": [
        "all_edges =  torch.from_numpy(edge_index.to_numpy()) # [2, num_edges]\n",
        "print(all_edges.shape)"
      ],
      "metadata": {
        "colab": {
          "base_uri": "https://localhost:8080/"
        },
        "id": "vEOIUrMCu9oH",
        "outputId": "fbe9e65e-ad49-48a8-da66-79dec2f25209"
      },
      "execution_count": 25,
      "outputs": [
        {
          "output_type": "stream",
          "name": "stdout",
          "text": [
            "torch.Size([2, 6797557])\n"
          ]
        }
      ]
    },
    {
      "cell_type": "code",
      "source": [
        "len(features_dataset)"
      ],
      "metadata": {
        "colab": {
          "base_uri": "https://localhost:8080/"
        },
        "id": "foQnE1C7vBB2",
        "outputId": "c72f5dd7-b318-4c3b-8310-d0a88b7dc23d"
      },
      "execution_count": 26,
      "outputs": [
        {
          "output_type": "execute_result",
          "data": {
            "text/plain": [
              "168114"
            ]
          },
          "metadata": {},
          "execution_count": 26
        }
      ]
    },
    {
      "cell_type": "code",
      "source": [
        "train_arr = np.array([True for i in range(round(len(features_dataset)*0.85))])\n",
        "train_arr = np.append(train_arr,np.array([False for i in range(int(len(features_dataset)*0.15))]))\n",
        "train_arr.shape"
      ],
      "metadata": {
        "colab": {
          "base_uri": "https://localhost:8080/"
        },
        "id": "PET5vhbvvEuC",
        "outputId": "eaa028e7-9aa9-42f9-9e52-7f9a074b1b36"
      },
      "execution_count": 27,
      "outputs": [
        {
          "output_type": "execute_result",
          "data": {
            "text/plain": [
              "(168114,)"
            ]
          },
          "metadata": {},
          "execution_count": 27
        }
      ]
    },
    {
      "cell_type": "code",
      "source": [
        "test_arr = np.array([False for i in range(round(len(features_dataset)*0.55))])\n",
        "test_arr = np.append(test_arr,np.array([True for i in range(int(len(features_dataset)*0.45))]))\n",
        "test_arr.shape"
      ],
      "metadata": {
        "colab": {
          "base_uri": "https://localhost:8080/"
        },
        "id": "XxWQ6_kOvRm-",
        "outputId": "adbf2f63-1072-4c4e-d86f-34c73038b81f"
      },
      "execution_count": 28,
      "outputs": [
        {
          "output_type": "execute_result",
          "data": {
            "text/plain": [
              "(168114,)"
            ]
          },
          "metadata": {},
          "execution_count": 28
        }
      ]
    },
    {
      "cell_type": "code",
      "source": [
        "val_arr = np.array([False for i in range(round(len(features_dataset)*0.35))])\n",
        "val_arr = np.append(val_arr,np.array([True for i in range(round(len(features_dataset)*0.35))]))\n",
        "val_arr = np.append(val_arr,np.array([False for i in range(int(len(features_dataset)*0.30))]))\n",
        "val_arr.shape"
      ],
      "metadata": {
        "colab": {
          "base_uri": "https://localhost:8080/"
        },
        "id": "x3wPe99svVtf",
        "outputId": "723b5844-8d64-44ae-ac58-28e0c9750b99"
      },
      "execution_count": 29,
      "outputs": [
        {
          "output_type": "execute_result",
          "data": {
            "text/plain": [
              "(168114,)"
            ]
          },
          "metadata": {},
          "execution_count": 29
        }
      ]
    },
    {
      "cell_type": "code",
      "source": [
        "train_mask = torch.from_numpy(train_arr)\n",
        "test_mask = torch.from_numpy(test_arr)\n",
        "val_mask = torch.from_numpy(val_arr)"
      ],
      "metadata": {
        "id": "_Wek6vofvqK0"
      },
      "execution_count": 30,
      "outputs": []
    },
    {
      "cell_type": "code",
      "source": [
        "x[:120000].shape"
      ],
      "metadata": {
        "colab": {
          "base_uri": "https://localhost:8080/"
        },
        "id": "ocPUU3xRvz2-",
        "outputId": "d0acb91d-dd1f-4cd9-8fb9-85284ac34775"
      },
      "execution_count": 31,
      "outputs": [
        {
          "output_type": "execute_result",
          "data": {
            "text/plain": [
              "torch.Size([120000, 9])"
            ]
          },
          "metadata": {},
          "execution_count": 31
        }
      ]
    },
    {
      "cell_type": "code",
      "source": [
        "from torch_geometric.data import Data\n",
        "data = Data(x=x, edge_index=all_edges, y=y)\n",
        "train_data = Data(x=x, edge_index=all_edges, y=y)\n",
        "test_data = Data(x=x, edge_index=all_edges, y=y)\n",
        "val_data =Data(x=x, edge_index=all_edges, y=y)"
      ],
      "metadata": {
        "id": "0-cjxn61v47H"
      },
      "execution_count": 32,
      "outputs": []
    },
    {
      "cell_type": "code",
      "source": [
        "data.num_classes = 21\n",
        "data.train_mask = train_mask\n",
        "data.test_mask = test_mask\n",
        "data.val_mask = val_mask\n",
        "\n",
        "train_data.num_classes = 21\n",
        "train_data.train_mask = train_mask\n",
        "train_data.test_mask = test_mask\n",
        "train_data.val_mask = val_mask\n",
        "\n",
        "test_data.num_classes = 21\n",
        "test_data.train_mask = train_mask\n",
        "test_data.test_mask = test_mask\n",
        "test_data.val_mask = val_mask\n",
        "\n",
        "val_data.num_classes = 21\n",
        "val_data.train_mask = train_mask\n",
        "val_data.test_mask = test_mask\n",
        "val_data.val_mask = val_mask"
      ],
      "metadata": {
        "id": "dLMRiXM9v7_r"
      },
      "execution_count": 33,
      "outputs": []
    },
    {
      "cell_type": "code",
      "source": [
        "train_edge_label = torch.from_numpy(np.array([1.0 for i in range(round(len(features_dataset)*0.75))]))\n",
        "test_edge_label = torch.from_numpy(np.append(np.array([1.0 for i in range(round(len(features_dataset)*0.25))]),np.array([0.0 for i in range(round(len(features_dataset)*0.25))])))\n",
        "val_edge_label = torch.from_numpy(np.append(np.array([1.0 for i in range(round(len(features_dataset)*0.125))]), np.array([0.0 for i in range(round(len(features_dataset)*0.125))])))"
      ],
      "metadata": {
        "id": "tST-TerMv_Va"
      },
      "execution_count": 34,
      "outputs": []
    },
    {
      "cell_type": "code",
      "source": [
        "train_edge_label_index = all_edges[:,:len(train_edge_label)]\n",
        "test_edge_label_index = all_edges[:,len(train_edge_label):len(train_edge_label)+len(test_edge_label)]\n",
        "val_edge_label_index = all_edges[:,len(train_edge_label)+len(test_edge_label):len(train_edge_label)+len(test_edge_label)+len(val_edge_label)]"
      ],
      "metadata": {
        "id": "A15m6I2FwIt3"
      },
      "execution_count": 35,
      "outputs": []
    },
    {
      "cell_type": "code",
      "source": [
        "train_data.edge_label = train_edge_label\n",
        "train_data.edge_label_index = train_edge_label_index\n",
        "\n",
        "test_data.edge_label = test_edge_label\n",
        "test_data.edge_label_index = test_edge_label_index\n",
        "\n",
        "val_data.edge_label = val_edge_label\n",
        "val_data.edge_label_index = val_edge_label_index"
      ],
      "metadata": {
        "id": "urfVUZiDwK-_"
      },
      "execution_count": 36,
      "outputs": []
    },
    {
      "cell_type": "code",
      "source": [
        "print(data)\n",
        "print(train_data)\n",
        "print(test_data)\n",
        "print(val_data)"
      ],
      "metadata": {
        "colab": {
          "base_uri": "https://localhost:8080/"
        },
        "id": "6Rp5HHpFwNtA",
        "outputId": "252fc11a-be9b-4bf9-cc28-153689b300ac"
      },
      "execution_count": 37,
      "outputs": [
        {
          "output_type": "stream",
          "name": "stdout",
          "text": [
            "Data(x=[168114, 9], edge_index=[2, 6797557], y=[168114], num_classes=21, train_mask=[168114], test_mask=[168114], val_mask=[168114])\n",
            "Data(x=[168114, 9], edge_index=[2, 6797557], y=[168114], num_classes=21, train_mask=[168114], test_mask=[168114], val_mask=[168114], edge_label=[126086], edge_label_index=[2, 126086])\n",
            "Data(x=[168114, 9], edge_index=[2, 6797557], y=[168114], num_classes=21, train_mask=[168114], test_mask=[168114], val_mask=[168114], edge_label=[84056], edge_label_index=[2, 84056])\n",
            "Data(x=[168114, 9], edge_index=[2, 6797557], y=[168114], num_classes=21, train_mask=[168114], test_mask=[168114], val_mask=[168114], edge_label=[42028], edge_label_index=[2, 42028])\n"
          ]
        }
      ]
    },
    {
      "cell_type": "code",
      "source": [
        "# Install required packages.\n",
        "import os\n",
        "import torch\n",
        "os.environ['TORCH'] = torch.__version__\n",
        "print(torch.__version__)\n",
        "\n",
        "!pip install -q torch-scatter -f https://data.pyg.org/whl/torch-${TORCH}.html\n",
        "!pip install -q torch-sparse -f https://data.pyg.org/whl/torch-${TORCH}.html\n",
        "!pip install torch-geometric\n",
        "\n",
        "import torch_geometric\n",
        "print(torch_geometric.__version__)"
      ],
      "metadata": {
        "colab": {
          "base_uri": "https://localhost:8080/"
        },
        "id": "5SNcDKMDwU8o",
        "outputId": "cff4007c-f271-4476-a877-b399268843e0"
      },
      "execution_count": 38,
      "outputs": [
        {
          "output_type": "stream",
          "name": "stdout",
          "text": [
            "2.0.0+cu118\n",
            "Looking in indexes: https://pypi.org/simple, https://us-python.pkg.dev/colab-wheels/public/simple/\n",
            "Requirement already satisfied: torch-geometric in /usr/local/lib/python3.9/dist-packages (2.3.0)\n",
            "Requirement already satisfied: numpy in /usr/local/lib/python3.9/dist-packages (from torch-geometric) (1.22.4)\n",
            "Requirement already satisfied: jinja2 in /usr/local/lib/python3.9/dist-packages (from torch-geometric) (3.1.2)\n",
            "Requirement already satisfied: psutil>=5.8.0 in /usr/local/lib/python3.9/dist-packages (from torch-geometric) (5.9.5)\n",
            "Requirement already satisfied: pyparsing in /usr/local/lib/python3.9/dist-packages (from torch-geometric) (3.0.9)\n",
            "Requirement already satisfied: tqdm in /usr/local/lib/python3.9/dist-packages (from torch-geometric) (4.65.0)\n",
            "Requirement already satisfied: requests in /usr/local/lib/python3.9/dist-packages (from torch-geometric) (2.27.1)\n",
            "Requirement already satisfied: scipy in /usr/local/lib/python3.9/dist-packages (from torch-geometric) (1.10.1)\n",
            "Requirement already satisfied: scikit-learn in /usr/local/lib/python3.9/dist-packages (from torch-geometric) (1.2.2)\n",
            "Requirement already satisfied: MarkupSafe>=2.0 in /usr/local/lib/python3.9/dist-packages (from jinja2->torch-geometric) (2.1.2)\n",
            "Requirement already satisfied: certifi>=2017.4.17 in /usr/local/lib/python3.9/dist-packages (from requests->torch-geometric) (2022.12.7)\n",
            "Requirement already satisfied: charset-normalizer~=2.0.0 in /usr/local/lib/python3.9/dist-packages (from requests->torch-geometric) (2.0.12)\n",
            "Requirement already satisfied: idna<4,>=2.5 in /usr/local/lib/python3.9/dist-packages (from requests->torch-geometric) (3.4)\n",
            "Requirement already satisfied: urllib3<1.27,>=1.21.1 in /usr/local/lib/python3.9/dist-packages (from requests->torch-geometric) (1.26.15)\n",
            "Requirement already satisfied: joblib>=1.1.1 in /usr/local/lib/python3.9/dist-packages (from scikit-learn->torch-geometric) (1.2.0)\n",
            "Requirement already satisfied: threadpoolctl>=2.0.0 in /usr/local/lib/python3.9/dist-packages (from scikit-learn->torch-geometric) (3.1.0)\n",
            "2.3.0\n"
          ]
        }
      ]
    },
    {
      "cell_type": "code",
      "source": [
        "import os.path as osp\n",
        "\n",
        "import torch\n",
        "from sklearn.metrics import roc_auc_score\n",
        "\n",
        "import torch_geometric.transforms as T\n",
        "from torch_geometric.datasets import Planetoid\n",
        "from torch_geometric.nn import GCNConv\n",
        "from torch_geometric.utils import negative_sampling\n",
        "\n",
        "device = torch.device('cuda' if torch.cuda.is_available() else 'cpu')"
      ],
      "metadata": {
        "id": "O2rKXuapwwEH"
      },
      "execution_count": 39,
      "outputs": []
    },
    {
      "cell_type": "code",
      "source": [
        "(train_data.edge_index[0] <= train_data.edge_index[1]).sum()"
      ],
      "metadata": {
        "colab": {
          "base_uri": "https://localhost:8080/"
        },
        "id": "8tNmOwOow3Xy",
        "outputId": "1bc36bf0-897f-446f-db23-389ac43062ec"
      },
      "execution_count": 40,
      "outputs": [
        {
          "output_type": "execute_result",
          "data": {
            "text/plain": [
              "tensor(3407103)"
            ]
          },
          "metadata": {},
          "execution_count": 40
        }
      ]
    },
    {
      "cell_type": "code",
      "source": [
        "class Net(torch.nn.Module):\n",
        "    def __init__(self, in_channels, hidden_channels, out_channels):\n",
        "        super().__init__()\n",
        "        self.conv1 = GCNConv(in_channels, hidden_channels)\n",
        "        self.conv2 = GCNConv(hidden_channels, out_channels)\n",
        "\n",
        "    def encode(self, x, edge_index):\n",
        "        x = self.conv1(x, edge_index).relu()\n",
        "        x = self.conv2(x, edge_index)\n",
        "        return x\n",
        "\n",
        "    def decode(self, z, edge_label_index):\n",
        "        return (z[edge_label_index[0]] * z[edge_label_index[1]]).sum(dim=-1)\n",
        "\n",
        "    def decode_all(self, z):\n",
        "        prob_adj = z @ z.t()\n",
        "        #return the indices of a non-zero element\n",
        "        return (prob_adj > 0).nonzero(as_tuple=False).t()"
      ],
      "metadata": {
        "id": "UqrPxJiYxAr_"
      },
      "execution_count": 41,
      "outputs": []
    },
    {
      "cell_type": "code",
      "source": [
        "dataset = data\n",
        "print(dataset)"
      ],
      "metadata": {
        "colab": {
          "base_uri": "https://localhost:8080/"
        },
        "id": "Vb39P9K9yEaw",
        "outputId": "cab13335-039c-475f-e338-85b3107ff51f"
      },
      "execution_count": 42,
      "outputs": [
        {
          "output_type": "stream",
          "name": "stdout",
          "text": [
            "Data(x=[168114, 9], edge_index=[2, 6797557], y=[168114], num_classes=21, train_mask=[168114], test_mask=[168114], val_mask=[168114])\n"
          ]
        }
      ]
    },
    {
      "cell_type": "code",
      "source": [
        "model = Net(dataset.num_features, 128, 64).to(device)\n",
        "optimizer = torch.optim.Adam(params=model.parameters(), lr=0.01)\n",
        "criterion = torch.nn.BCEWithLogitsLoss()"
      ],
      "metadata": {
        "id": "hkT-nln5xlhS"
      },
      "execution_count": 43,
      "outputs": []
    },
    {
      "cell_type": "code",
      "source": [
        "def train():\n",
        "    model.train()\n",
        "    optimizer.zero_grad()\n",
        "    z = model.encode(train_data.x, train_data.edge_index)\n",
        "\n",
        "    # We perform a new round of negative sampling for every training epoch:\n",
        "    neg_edge_index = negative_sampling(\n",
        "        edge_index=train_data.edge_index, num_nodes=train_data.num_nodes,\n",
        "        num_neg_samples=train_data.edge_label_index.size(1))\n",
        "\n",
        "    edge_label_index = torch.cat(\n",
        "        [train_data.edge_label_index, neg_edge_index],\n",
        "        dim=-1,\n",
        "    )\n",
        "    edge_label = torch.cat([\n",
        "        train_data.edge_label,\n",
        "        train_data.edge_label.new_zeros(neg_edge_index.size(1))\n",
        "    ], dim=0)\n",
        "\n",
        "    out = model.decode(z, edge_label_index).view(-1)\n",
        "    loss = criterion(out, edge_label)\n",
        "    loss.backward()\n",
        "    optimizer.step()\n",
        "    return loss\n",
        "\n",
        "\n",
        "@torch.no_grad()\n",
        "def test(data):\n",
        "    model.eval()\n",
        "    z = model.encode(data.x, data.edge_index)\n",
        "    out = model.decode(z, data.edge_label_index).view(-1).sigmoid()\n",
        "    return roc_auc_score(data.edge_label.cpu().numpy(), out.cpu().numpy())\n",
        "\n"
      ],
      "metadata": {
        "id": "FhyAcai2xoGY"
      },
      "execution_count": 44,
      "outputs": []
    },
    {
      "cell_type": "code",
      "source": [
        "best_val_auc = final_test_auc = 0\n",
        "for epoch in range(1, 101):\n",
        "    loss = train()\n",
        "    val_auc = test(val_data)\n",
        "    test_auc = test(test_data)\n",
        "    if val_auc > best_val_auc:\n",
        "        best_val = val_auc\n",
        "        final_test_auc = test_auc\n",
        "    print(f'Epoch: {epoch:03d}, Loss: {loss:.4f}, Val: {val_auc:.4f}, '\n",
        "          f'Test: {test_auc:.4f}')\n",
        "\n",
        "print(f'Final Test: {final_test_auc:.4f}')"
      ],
      "metadata": {
        "colab": {
          "base_uri": "https://localhost:8080/"
        },
        "id": "2GH3BnIGyNOc",
        "outputId": "435c8e1c-6b6d-4bb9-8efa-f74b4c70c050"
      },
      "execution_count": 45,
      "outputs": [
        {
          "output_type": "stream",
          "name": "stdout",
          "text": [
            "Epoch: 001, Loss: 138523867784020.2812, Val: 0.5000, Test: 0.5000\n",
            "Epoch: 002, Loss: 34362341012954.9180, Val: 0.5000, Test: 0.5000\n",
            "Epoch: 003, Loss: 17378145620051.9238, Val: 0.5000, Test: 0.5000\n",
            "Epoch: 004, Loss: 25636148311592.7031, Val: 0.5000, Test: 0.5000\n",
            "Epoch: 005, Loss: 29178838002998.6211, Val: 0.5000, Test: 0.5000\n",
            "Epoch: 006, Loss: 24954468669004.1055, Val: 0.5000, Test: 0.5000\n",
            "Epoch: 007, Loss: 18189181673870.9102, Val: 0.5000, Test: 0.5000\n",
            "Epoch: 008, Loss: 12690210045982.4355, Val: 0.5000, Test: 0.5000\n",
            "Epoch: 009, Loss: 9213440924539.8125, Val: 0.5000, Test: 0.5000\n",
            "Epoch: 010, Loss: 7384451193024.0273, Val: 0.5000, Test: 0.5000\n",
            "Epoch: 011, Loss: 6261549215847.8066, Val: 0.5000, Test: 0.5000\n",
            "Epoch: 012, Loss: 5317945785210.9238, Val: 0.5000, Test: 0.5000\n",
            "Epoch: 013, Loss: 4600054647168.8486, Val: 0.5000, Test: 0.5000\n",
            "Epoch: 014, Loss: 3987810447279.5684, Val: 0.5000, Test: 0.5000\n",
            "Epoch: 015, Loss: 3587705086859.1802, Val: 0.5000, Test: 0.5000\n",
            "Epoch: 016, Loss: 3296605585065.4512, Val: 0.5000, Test: 0.5000\n",
            "Epoch: 017, Loss: 3098241755248.5254, Val: 0.5000, Test: 0.5000\n",
            "Epoch: 018, Loss: 2883693563686.0728, Val: 0.5000, Test: 0.5000\n",
            "Epoch: 019, Loss: 2604191189443.0913, Val: 0.5000, Test: 0.5000\n",
            "Epoch: 020, Loss: 2286479202788.0864, Val: 0.5000, Test: 0.5000\n",
            "Epoch: 021, Loss: 1978022233072.8748, Val: 0.5000, Test: 0.5000\n",
            "Epoch: 022, Loss: 1652742790926.9775, Val: 0.5000, Test: 0.5000\n",
            "Epoch: 023, Loss: 1380299854783.6123, Val: 0.5000, Test: 0.5000\n",
            "Epoch: 024, Loss: 1147333034823.0303, Val: 0.5000, Test: 0.5000\n",
            "Epoch: 025, Loss: 978462442093.0872, Val: 0.5000, Test: 0.5000\n",
            "Epoch: 026, Loss: 857435119950.1255, Val: 0.5000, Test: 0.5000\n",
            "Epoch: 027, Loss: 762781582458.0735, Val: 0.5000, Test: 0.5000\n",
            "Epoch: 028, Loss: 693323021502.9235, Val: 0.5000, Test: 0.5000\n",
            "Epoch: 029, Loss: 629412771396.0742, Val: 0.5000, Test: 0.5000\n",
            "Epoch: 030, Loss: 562008951157.7245, Val: 0.5000, Test: 0.5000\n",
            "Epoch: 031, Loss: 502475646861.9793, Val: 0.5000, Test: 0.5000\n",
            "Epoch: 032, Loss: 441993738753.4002, Val: 0.5000, Test: 0.5000\n",
            "Epoch: 033, Loss: 391600016808.5331, Val: 0.5000, Test: 0.5000\n",
            "Epoch: 034, Loss: 343478654318.6104, Val: 0.5000, Test: 0.5000\n",
            "Epoch: 035, Loss: 303775651813.0612, Val: 0.5000, Test: 0.5000\n",
            "Epoch: 036, Loss: 268099663841.2472, Val: 0.5000, Test: 0.5000\n",
            "Epoch: 037, Loss: 241340658240.7556, Val: 0.5000, Test: 0.5000\n",
            "Epoch: 038, Loss: 217736838710.0339, Val: 0.5000, Test: 0.5000\n",
            "Epoch: 039, Loss: 198339283943.3128, Val: 0.5000, Test: 0.5000\n",
            "Epoch: 040, Loss: 185130968009.3525, Val: 0.5000, Test: 0.5000\n",
            "Epoch: 041, Loss: 171634534292.4958, Val: 0.5000, Test: 0.5000\n",
            "Epoch: 042, Loss: 158122339599.3655, Val: 0.5000, Test: 0.5000\n",
            "Epoch: 043, Loss: 148261196701.6328, Val: 0.5000, Test: 0.5000\n",
            "Epoch: 044, Loss: 137340405027.1058, Val: 0.4995, Test: 0.5014\n",
            "Epoch: 045, Loss: 126499251911.6470, Val: 0.4995, Test: 0.5006\n",
            "Epoch: 046, Loss: 115840051896.1974, Val: 0.4995, Test: 0.5006\n",
            "Epoch: 047, Loss: 105388452991.5659, Val: 0.4995, Test: 0.5006\n",
            "Epoch: 048, Loss: 95009920478.3242, Val: 0.4995, Test: 0.5006\n",
            "Epoch: 049, Loss: 85256384103.7704, Val: 0.4995, Test: 0.5006\n",
            "Epoch: 050, Loss: 75145802345.9844, Val: 0.4995, Test: 0.5006\n",
            "Epoch: 051, Loss: 64613481891.6880, Val: 0.4995, Test: 0.5006\n",
            "Epoch: 052, Loss: 54826327006.6212, Val: 0.4995, Test: 0.5006\n",
            "Epoch: 053, Loss: 46007744078.5892, Val: 0.4995, Test: 0.5006\n",
            "Epoch: 054, Loss: 38569829777.5422, Val: 0.4995, Test: 0.5006\n",
            "Epoch: 055, Loss: 32471435729.7418, Val: 0.4995, Test: 0.5006\n",
            "Epoch: 056, Loss: 28341635249.0414, Val: 0.5000, Test: 0.5000\n",
            "Epoch: 057, Loss: 25284462991.7982, Val: 0.5000, Test: 0.5000\n",
            "Epoch: 058, Loss: 23056938212.4809, Val: 0.5000, Test: 0.5000\n",
            "Epoch: 059, Loss: 21342896207.1163, Val: 0.5000, Test: 0.5000\n",
            "Epoch: 060, Loss: 19586972707.5189, Val: 0.5000, Test: 0.5000\n",
            "Epoch: 061, Loss: 18079318855.3013, Val: 0.5000, Test: 0.5000\n",
            "Epoch: 062, Loss: 16765206371.3744, Val: 0.5000, Test: 0.5000\n",
            "Epoch: 063, Loss: 16011492058.5776, Val: 0.5000, Test: 0.5000\n",
            "Epoch: 064, Loss: 15549308212.6783, Val: 0.5000, Test: 0.5000\n",
            "Epoch: 065, Loss: 15318512706.7158, Val: 0.5000, Test: 0.5000\n",
            "Epoch: 066, Loss: 14859607752.1592, Val: 0.5000, Test: 0.5000\n",
            "Epoch: 067, Loss: 14063293056.4645, Val: 0.5000, Test: 0.5000\n",
            "Epoch: 068, Loss: 12905774566.6201, Val: 0.5000, Test: 0.5000\n",
            "Epoch: 069, Loss: 11433602118.4877, Val: 0.4999, Test: 0.4999\n",
            "Epoch: 070, Loss: 9666802840.8827, Val: 0.4995, Test: 0.4999\n",
            "Epoch: 071, Loss: 8064606360.3060, Val: 0.4995, Test: 0.4999\n",
            "Epoch: 072, Loss: 6814066410.6810, Val: 0.4995, Test: 0.4999\n",
            "Epoch: 073, Loss: 5838620118.5922, Val: 0.4996, Test: 0.4999\n",
            "Epoch: 074, Loss: 5108760040.5657, Val: 0.5000, Test: 0.4999\n",
            "Epoch: 075, Loss: 4632412637.8536, Val: 0.5000, Test: 0.5000\n",
            "Epoch: 076, Loss: 4281637704.6954, Val: 0.5000, Test: 0.5000\n",
            "Epoch: 077, Loss: 3920782173.2989, Val: 0.5000, Test: 0.5000\n",
            "Epoch: 078, Loss: 3581480744.1817, Val: 0.5000, Test: 0.5000\n",
            "Epoch: 079, Loss: 3214176006.3468, Val: 0.5000, Test: 0.5008\n",
            "Epoch: 080, Loss: 2840857325.4759, Val: 0.4994, Test: 0.5006\n",
            "Epoch: 081, Loss: 2469795117.3321, Val: 0.4963, Test: 0.5006\n",
            "Epoch: 082, Loss: 2123314411.4939, Val: 0.4961, Test: 0.5006\n",
            "Epoch: 083, Loss: 1829424129.2438, Val: 0.4961, Test: 0.5006\n",
            "Epoch: 084, Loss: 1619494728.5726, Val: 0.4964, Test: 0.5006\n",
            "Epoch: 085, Loss: 1519406655.2677, Val: 0.4989, Test: 0.5006\n",
            "Epoch: 086, Loss: 1465979734.9213, Val: 0.4995, Test: 0.5006\n",
            "Epoch: 087, Loss: 1458789708.9504, Val: 0.4995, Test: 0.5006\n",
            "Epoch: 088, Loss: 1442727907.8148, Val: 0.4995, Test: 0.5006\n",
            "Epoch: 089, Loss: 1392055780.7938, Val: 0.4995, Test: 0.5005\n",
            "Epoch: 090, Loss: 1286850799.6255, Val: 0.5000, Test: 0.4996\n",
            "Epoch: 091, Loss: 1134571219.5687, Val: 0.5000, Test: 0.5000\n",
            "Epoch: 092, Loss: 981362948.6011, Val: 0.4999, Test: 0.5000\n",
            "Epoch: 093, Loss: 828193600.4222, Val: 0.4975, Test: 0.5000\n",
            "Epoch: 094, Loss: 706931288.9859, Val: 0.4967, Test: 0.5000\n",
            "Epoch: 095, Loss: 619277942.0439, Val: 0.4966, Test: 0.5000\n",
            "Epoch: 096, Loss: 554338576.5713, Val: 0.4966, Test: 0.5000\n",
            "Epoch: 097, Loss: 502004593.2606, Val: 0.4966, Test: 0.5000\n",
            "Epoch: 098, Loss: 455266809.0643, Val: 0.4970, Test: 0.5000\n",
            "Epoch: 099, Loss: 408323228.3365, Val: 0.4989, Test: 0.5000\n",
            "Epoch: 100, Loss: 368957996.3856, Val: 0.4995, Test: 0.5007\n",
            "Final Test: 0.5007\n"
          ]
        }
      ]
    },
    {
      "cell_type": "code",
      "source": [],
      "metadata": {
        "colab": {
          "base_uri": "https://localhost:8080/",
          "height": 182
        },
        "id": "b8T29vHsyQFC",
        "outputId": "9701e0eb-5b4d-4d2c-8bd3-701814fc7140"
      },
      "execution_count": null,
      "outputs": [
        {
          "output_type": "error",
          "ename": "NameError",
          "evalue": "ignored",
          "traceback": [
            "\u001b[0;31m---------------------------------------------------------------------------\u001b[0m",
            "\u001b[0;31mNameError\u001b[0m                                 Traceback (most recent call last)",
            "\u001b[0;32m<ipython-input-1-ebc538764204>\u001b[0m in \u001b[0;36m<cell line: 1>\u001b[0;34m()\u001b[0m\n\u001b[0;32m----> 1\u001b[0;31m \u001b[0mz\u001b[0m \u001b[0;34m=\u001b[0m \u001b[0mmodel\u001b[0m\u001b[0;34m.\u001b[0m\u001b[0mencode\u001b[0m\u001b[0;34m(\u001b[0m\u001b[0mtest_data\u001b[0m\u001b[0;34m.\u001b[0m\u001b[0mx\u001b[0m\u001b[0;34m,\u001b[0m \u001b[0mtest_data\u001b[0m\u001b[0;34m.\u001b[0m\u001b[0medge_index\u001b[0m\u001b[0;34m)\u001b[0m\u001b[0;34m\u001b[0m\u001b[0;34m\u001b[0m\u001b[0m\n\u001b[0m\u001b[1;32m      2\u001b[0m \u001b[0mfinal_edge_index\u001b[0m \u001b[0;34m=\u001b[0m \u001b[0mmodel\u001b[0m\u001b[0;34m.\u001b[0m\u001b[0mdecode_all\u001b[0m\u001b[0;34m(\u001b[0m\u001b[0mz\u001b[0m\u001b[0;34m)\u001b[0m\u001b[0;34m\u001b[0m\u001b[0;34m\u001b[0m\u001b[0m\n",
            "\u001b[0;31mNameError\u001b[0m: name 'model' is not defined"
          ]
        }
      ]
    },
    {
      "cell_type": "code",
      "source": [],
      "metadata": {
        "id": "r0y71kXCHucE"
      },
      "execution_count": null,
      "outputs": []
    }
  ]
}