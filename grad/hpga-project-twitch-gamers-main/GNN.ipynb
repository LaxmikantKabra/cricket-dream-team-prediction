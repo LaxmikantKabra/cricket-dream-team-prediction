{
 "cells": [
  {
   "cell_type": "code",
   "execution_count": 1,
   "id": "949c38be",
   "metadata": {},
   "outputs": [],
   "source": [
    "import torch #The torch package contains data structures for multi-dimensional tensors and mathematical operations over these are defined.\n",
    "import torchvision #The torchvision package consists of popular datasets, model architectures, and common image transformations for computer vision.\n",
    "import torch.nn as nn\n",
    "import numpy as np\n",
    "import torchvision.transforms as transforms\n",
    "import torch.nn.functional as F\n",
    "from torch_geometric.nn import GCNConv\n",
    "from torch_geometric.nn import SAGEConv\n",
    "import pandas as pd"
   ]
  },
  {
   "cell_type": "code",
   "execution_count": 2,
   "id": "2d8f5ae5",
   "metadata": {},
   "outputs": [],
   "source": [
    "edge_dataset=pd.read_csv('large_twitch_edges.csv')"
   ]
  },
  {
   "cell_type": "code",
   "execution_count": 3,
   "id": "9f7eed75",
   "metadata": {},
   "outputs": [],
   "source": [
    "features_dataset=pd.read_csv('large_twitch_features.csv')"
   ]
  },
  {
   "cell_type": "code",
   "execution_count": 4,
   "id": "a06910a9",
   "metadata": {},
   "outputs": [
    {
     "name": "stdout",
     "output_type": "stream",
     "text": [
      "<class 'pandas.core.frame.DataFrame'>\n",
      "RangeIndex: 6797557 entries, 0 to 6797556\n",
      "Data columns (total 2 columns):\n",
      " #   Column        Dtype\n",
      "---  ------        -----\n",
      " 0   numeric_id_1  int64\n",
      " 1   numeric_id_2  int64\n",
      "dtypes: int64(2)\n",
      "memory usage: 103.7 MB\n"
     ]
    }
   ],
   "source": [
    "edge_dataset.info()"
   ]
  },
  {
   "cell_type": "code",
   "execution_count": 5,
   "id": "70b4406d",
   "metadata": {},
   "outputs": [
    {
     "data": {
      "text/html": [
       "<div>\n",
       "<style scoped>\n",
       "    .dataframe tbody tr th:only-of-type {\n",
       "        vertical-align: middle;\n",
       "    }\n",
       "\n",
       "    .dataframe tbody tr th {\n",
       "        vertical-align: top;\n",
       "    }\n",
       "\n",
       "    .dataframe thead th {\n",
       "        text-align: right;\n",
       "    }\n",
       "</style>\n",
       "<table border=\"1\" class=\"dataframe\">\n",
       "  <thead>\n",
       "    <tr style=\"text-align: right;\">\n",
       "      <th></th>\n",
       "      <th>numeric_id_1</th>\n",
       "      <th>numeric_id_2</th>\n",
       "    </tr>\n",
       "  </thead>\n",
       "  <tbody>\n",
       "    <tr>\n",
       "      <th>0</th>\n",
       "      <td>98343</td>\n",
       "      <td>141493</td>\n",
       "    </tr>\n",
       "    <tr>\n",
       "      <th>1</th>\n",
       "      <td>98343</td>\n",
       "      <td>58736</td>\n",
       "    </tr>\n",
       "    <tr>\n",
       "      <th>2</th>\n",
       "      <td>98343</td>\n",
       "      <td>140703</td>\n",
       "    </tr>\n",
       "    <tr>\n",
       "      <th>3</th>\n",
       "      <td>98343</td>\n",
       "      <td>151401</td>\n",
       "    </tr>\n",
       "    <tr>\n",
       "      <th>4</th>\n",
       "      <td>98343</td>\n",
       "      <td>157118</td>\n",
       "    </tr>\n",
       "  </tbody>\n",
       "</table>\n",
       "</div>"
      ],
      "text/plain": [
       "   numeric_id_1  numeric_id_2\n",
       "0         98343        141493\n",
       "1         98343         58736\n",
       "2         98343        140703\n",
       "3         98343        151401\n",
       "4         98343        157118"
      ]
     },
     "execution_count": 5,
     "metadata": {},
     "output_type": "execute_result"
    }
   ],
   "source": [
    "edge_dataset.head()"
   ]
  },
  {
   "cell_type": "code",
   "execution_count": 6,
   "id": "bb71cc72",
   "metadata": {},
   "outputs": [
    {
     "name": "stdout",
     "output_type": "stream",
     "text": [
      "<class 'pandas.core.frame.DataFrame'>\n",
      "RangeIndex: 168114 entries, 0 to 168113\n",
      "Data columns (total 9 columns):\n",
      " #   Column        Non-Null Count   Dtype \n",
      "---  ------        --------------   ----- \n",
      " 0   views         168114 non-null  int64 \n",
      " 1   mature        168114 non-null  int64 \n",
      " 2   life_time     168114 non-null  int64 \n",
      " 3   created_at    168114 non-null  object\n",
      " 4   updated_at    168114 non-null  object\n",
      " 5   numeric_id    168114 non-null  int64 \n",
      " 6   dead_account  168114 non-null  int64 \n",
      " 7   language      168114 non-null  object\n",
      " 8   affiliate     168114 non-null  int64 \n",
      "dtypes: int64(6), object(3)\n",
      "memory usage: 11.5+ MB\n"
     ]
    }
   ],
   "source": [
    "features_dataset.info()"
   ]
  },
  {
   "cell_type": "code",
   "execution_count": 7,
   "id": "8def383f",
   "metadata": {},
   "outputs": [
    {
     "data": {
      "text/html": [
       "<div>\n",
       "<style scoped>\n",
       "    .dataframe tbody tr th:only-of-type {\n",
       "        vertical-align: middle;\n",
       "    }\n",
       "\n",
       "    .dataframe tbody tr th {\n",
       "        vertical-align: top;\n",
       "    }\n",
       "\n",
       "    .dataframe thead th {\n",
       "        text-align: right;\n",
       "    }\n",
       "</style>\n",
       "<table border=\"1\" class=\"dataframe\">\n",
       "  <thead>\n",
       "    <tr style=\"text-align: right;\">\n",
       "      <th></th>\n",
       "      <th>views</th>\n",
       "      <th>mature</th>\n",
       "      <th>life_time</th>\n",
       "      <th>created_at</th>\n",
       "      <th>updated_at</th>\n",
       "      <th>numeric_id</th>\n",
       "      <th>dead_account</th>\n",
       "      <th>language</th>\n",
       "      <th>affiliate</th>\n",
       "    </tr>\n",
       "  </thead>\n",
       "  <tbody>\n",
       "    <tr>\n",
       "      <th>0</th>\n",
       "      <td>7879</td>\n",
       "      <td>1</td>\n",
       "      <td>969</td>\n",
       "      <td>2016-02-16</td>\n",
       "      <td>2018-10-12</td>\n",
       "      <td>0</td>\n",
       "      <td>0</td>\n",
       "      <td>EN</td>\n",
       "      <td>1</td>\n",
       "    </tr>\n",
       "    <tr>\n",
       "      <th>1</th>\n",
       "      <td>500</td>\n",
       "      <td>0</td>\n",
       "      <td>2699</td>\n",
       "      <td>2011-05-19</td>\n",
       "      <td>2018-10-08</td>\n",
       "      <td>1</td>\n",
       "      <td>0</td>\n",
       "      <td>EN</td>\n",
       "      <td>0</td>\n",
       "    </tr>\n",
       "    <tr>\n",
       "      <th>2</th>\n",
       "      <td>382502</td>\n",
       "      <td>1</td>\n",
       "      <td>3149</td>\n",
       "      <td>2010-02-27</td>\n",
       "      <td>2018-10-12</td>\n",
       "      <td>2</td>\n",
       "      <td>0</td>\n",
       "      <td>EN</td>\n",
       "      <td>1</td>\n",
       "    </tr>\n",
       "    <tr>\n",
       "      <th>3</th>\n",
       "      <td>386</td>\n",
       "      <td>0</td>\n",
       "      <td>1344</td>\n",
       "      <td>2015-01-26</td>\n",
       "      <td>2018-10-01</td>\n",
       "      <td>3</td>\n",
       "      <td>0</td>\n",
       "      <td>EN</td>\n",
       "      <td>0</td>\n",
       "    </tr>\n",
       "    <tr>\n",
       "      <th>4</th>\n",
       "      <td>2486</td>\n",
       "      <td>0</td>\n",
       "      <td>1784</td>\n",
       "      <td>2013-11-22</td>\n",
       "      <td>2018-10-11</td>\n",
       "      <td>4</td>\n",
       "      <td>0</td>\n",
       "      <td>EN</td>\n",
       "      <td>0</td>\n",
       "    </tr>\n",
       "  </tbody>\n",
       "</table>\n",
       "</div>"
      ],
      "text/plain": [
       "    views  mature  life_time  created_at  updated_at  numeric_id  \\\n",
       "0    7879       1        969  2016-02-16  2018-10-12           0   \n",
       "1     500       0       2699  2011-05-19  2018-10-08           1   \n",
       "2  382502       1       3149  2010-02-27  2018-10-12           2   \n",
       "3     386       0       1344  2015-01-26  2018-10-01           3   \n",
       "4    2486       0       1784  2013-11-22  2018-10-11           4   \n",
       "\n",
       "   dead_account language  affiliate  \n",
       "0             0       EN          1  \n",
       "1             0       EN          0  \n",
       "2             0       EN          1  \n",
       "3             0       EN          0  \n",
       "4             0       EN          0  "
      ]
     },
     "execution_count": 7,
     "metadata": {},
     "output_type": "execute_result"
    }
   ],
   "source": [
    "features_dataset.head()"
   ]
  },
  {
   "cell_type": "code",
   "execution_count": 8,
   "id": "eb57e200",
   "metadata": {},
   "outputs": [],
   "source": [
    "features_dataset = features_dataset.set_index('numeric_id')"
   ]
  },
  {
   "cell_type": "code",
   "execution_count": 9,
   "id": "e8d97d0e",
   "metadata": {},
   "outputs": [
    {
     "data": {
      "text/html": [
       "<div>\n",
       "<style scoped>\n",
       "    .dataframe tbody tr th:only-of-type {\n",
       "        vertical-align: middle;\n",
       "    }\n",
       "\n",
       "    .dataframe tbody tr th {\n",
       "        vertical-align: top;\n",
       "    }\n",
       "\n",
       "    .dataframe thead th {\n",
       "        text-align: right;\n",
       "    }\n",
       "</style>\n",
       "<table border=\"1\" class=\"dataframe\">\n",
       "  <thead>\n",
       "    <tr style=\"text-align: right;\">\n",
       "      <th></th>\n",
       "      <th>views</th>\n",
       "      <th>mature</th>\n",
       "      <th>life_time</th>\n",
       "      <th>created_at</th>\n",
       "      <th>updated_at</th>\n",
       "      <th>dead_account</th>\n",
       "      <th>language</th>\n",
       "      <th>affiliate</th>\n",
       "    </tr>\n",
       "    <tr>\n",
       "      <th>numeric_id</th>\n",
       "      <th></th>\n",
       "      <th></th>\n",
       "      <th></th>\n",
       "      <th></th>\n",
       "      <th></th>\n",
       "      <th></th>\n",
       "      <th></th>\n",
       "      <th></th>\n",
       "    </tr>\n",
       "  </thead>\n",
       "  <tbody>\n",
       "    <tr>\n",
       "      <th>0</th>\n",
       "      <td>7879</td>\n",
       "      <td>1</td>\n",
       "      <td>969</td>\n",
       "      <td>2016-02-16</td>\n",
       "      <td>2018-10-12</td>\n",
       "      <td>0</td>\n",
       "      <td>EN</td>\n",
       "      <td>1</td>\n",
       "    </tr>\n",
       "    <tr>\n",
       "      <th>1</th>\n",
       "      <td>500</td>\n",
       "      <td>0</td>\n",
       "      <td>2699</td>\n",
       "      <td>2011-05-19</td>\n",
       "      <td>2018-10-08</td>\n",
       "      <td>0</td>\n",
       "      <td>EN</td>\n",
       "      <td>0</td>\n",
       "    </tr>\n",
       "    <tr>\n",
       "      <th>2</th>\n",
       "      <td>382502</td>\n",
       "      <td>1</td>\n",
       "      <td>3149</td>\n",
       "      <td>2010-02-27</td>\n",
       "      <td>2018-10-12</td>\n",
       "      <td>0</td>\n",
       "      <td>EN</td>\n",
       "      <td>1</td>\n",
       "    </tr>\n",
       "    <tr>\n",
       "      <th>3</th>\n",
       "      <td>386</td>\n",
       "      <td>0</td>\n",
       "      <td>1344</td>\n",
       "      <td>2015-01-26</td>\n",
       "      <td>2018-10-01</td>\n",
       "      <td>0</td>\n",
       "      <td>EN</td>\n",
       "      <td>0</td>\n",
       "    </tr>\n",
       "    <tr>\n",
       "      <th>4</th>\n",
       "      <td>2486</td>\n",
       "      <td>0</td>\n",
       "      <td>1784</td>\n",
       "      <td>2013-11-22</td>\n",
       "      <td>2018-10-11</td>\n",
       "      <td>0</td>\n",
       "      <td>EN</td>\n",
       "      <td>0</td>\n",
       "    </tr>\n",
       "  </tbody>\n",
       "</table>\n",
       "</div>"
      ],
      "text/plain": [
       "             views  mature  life_time  created_at  updated_at  dead_account  \\\n",
       "numeric_id                                                                    \n",
       "0             7879       1        969  2016-02-16  2018-10-12             0   \n",
       "1              500       0       2699  2011-05-19  2018-10-08             0   \n",
       "2           382502       1       3149  2010-02-27  2018-10-12             0   \n",
       "3              386       0       1344  2015-01-26  2018-10-01             0   \n",
       "4             2486       0       1784  2013-11-22  2018-10-11             0   \n",
       "\n",
       "           language  affiliate  \n",
       "numeric_id                      \n",
       "0                EN          1  \n",
       "1                EN          0  \n",
       "2                EN          1  \n",
       "3                EN          0  \n",
       "4                EN          0  "
      ]
     },
     "execution_count": 9,
     "metadata": {},
     "output_type": "execute_result"
    }
   ],
   "source": [
    "features_dataset.head()"
   ]
  },
  {
   "cell_type": "code",
   "execution_count": 10,
   "id": "549fa554",
   "metadata": {},
   "outputs": [
    {
     "data": {
      "text/html": [
       "<div>\n",
       "<style scoped>\n",
       "    .dataframe tbody tr th:only-of-type {\n",
       "        vertical-align: middle;\n",
       "    }\n",
       "\n",
       "    .dataframe tbody tr th {\n",
       "        vertical-align: top;\n",
       "    }\n",
       "\n",
       "    .dataframe thead th {\n",
       "        text-align: right;\n",
       "    }\n",
       "</style>\n",
       "<table border=\"1\" class=\"dataframe\">\n",
       "  <thead>\n",
       "    <tr style=\"text-align: right;\">\n",
       "      <th></th>\n",
       "      <th>numeric_id_1</th>\n",
       "      <th>numeric_id_2</th>\n",
       "    </tr>\n",
       "  </thead>\n",
       "  <tbody>\n",
       "    <tr>\n",
       "      <th>count</th>\n",
       "      <td>6.797557e+06</td>\n",
       "      <td>6.797557e+06</td>\n",
       "    </tr>\n",
       "    <tr>\n",
       "      <th>mean</th>\n",
       "      <td>8.382801e+04</td>\n",
       "      <td>8.401523e+04</td>\n",
       "    </tr>\n",
       "    <tr>\n",
       "      <th>std</th>\n",
       "      <td>4.820513e+04</td>\n",
       "      <td>4.852719e+04</td>\n",
       "    </tr>\n",
       "    <tr>\n",
       "      <th>min</th>\n",
       "      <td>0.000000e+00</td>\n",
       "      <td>0.000000e+00</td>\n",
       "    </tr>\n",
       "    <tr>\n",
       "      <th>25%</th>\n",
       "      <td>4.221700e+04</td>\n",
       "      <td>4.204500e+04</td>\n",
       "    </tr>\n",
       "    <tr>\n",
       "      <th>50%</th>\n",
       "      <td>8.354600e+04</td>\n",
       "      <td>8.385100e+04</td>\n",
       "    </tr>\n",
       "    <tr>\n",
       "      <th>75%</th>\n",
       "      <td>1.256420e+05</td>\n",
       "      <td>1.259570e+05</td>\n",
       "    </tr>\n",
       "    <tr>\n",
       "      <th>max</th>\n",
       "      <td>1.681120e+05</td>\n",
       "      <td>1.681130e+05</td>\n",
       "    </tr>\n",
       "  </tbody>\n",
       "</table>\n",
       "</div>"
      ],
      "text/plain": [
       "       numeric_id_1  numeric_id_2\n",
       "count  6.797557e+06  6.797557e+06\n",
       "mean   8.382801e+04  8.401523e+04\n",
       "std    4.820513e+04  4.852719e+04\n",
       "min    0.000000e+00  0.000000e+00\n",
       "25%    4.221700e+04  4.204500e+04\n",
       "50%    8.354600e+04  8.385100e+04\n",
       "75%    1.256420e+05  1.259570e+05\n",
       "max    1.681120e+05  1.681130e+05"
      ]
     },
     "execution_count": 10,
     "metadata": {},
     "output_type": "execute_result"
    }
   ],
   "source": [
    "edge_dataset.describe()"
   ]
  },
  {
   "cell_type": "code",
   "execution_count": 11,
   "id": "82fafdec",
   "metadata": {},
   "outputs": [],
   "source": [
    "merged_dataset = pd.merge(edge_dataset, features_dataset,left_on='numeric_id_1',right_on='numeric_id')"
   ]
  },
  {
   "cell_type": "code",
   "execution_count": 12,
   "id": "98968e92",
   "metadata": {},
   "outputs": [
    {
     "data": {
      "text/html": [
       "<div>\n",
       "<style scoped>\n",
       "    .dataframe tbody tr th:only-of-type {\n",
       "        vertical-align: middle;\n",
       "    }\n",
       "\n",
       "    .dataframe tbody tr th {\n",
       "        vertical-align: top;\n",
       "    }\n",
       "\n",
       "    .dataframe thead th {\n",
       "        text-align: right;\n",
       "    }\n",
       "</style>\n",
       "<table border=\"1\" class=\"dataframe\">\n",
       "  <thead>\n",
       "    <tr style=\"text-align: right;\">\n",
       "      <th></th>\n",
       "      <th>numeric_id_2</th>\n",
       "      <th>views</th>\n",
       "      <th>mature</th>\n",
       "      <th>life_time</th>\n",
       "      <th>created_at</th>\n",
       "      <th>updated_at</th>\n",
       "      <th>dead_account</th>\n",
       "      <th>language</th>\n",
       "      <th>affiliate</th>\n",
       "    </tr>\n",
       "    <tr>\n",
       "      <th>numeric_id_1</th>\n",
       "      <th></th>\n",
       "      <th></th>\n",
       "      <th></th>\n",
       "      <th></th>\n",
       "      <th></th>\n",
       "      <th></th>\n",
       "      <th></th>\n",
       "      <th></th>\n",
       "      <th></th>\n",
       "    </tr>\n",
       "  </thead>\n",
       "  <tbody>\n",
       "    <tr>\n",
       "      <th>98343</th>\n",
       "      <td>141493</td>\n",
       "      <td>282</td>\n",
       "      <td>0</td>\n",
       "      <td>2086</td>\n",
       "      <td>2012-12-27</td>\n",
       "      <td>2018-09-13</td>\n",
       "      <td>0</td>\n",
       "      <td>EN</td>\n",
       "      <td>0</td>\n",
       "    </tr>\n",
       "    <tr>\n",
       "      <th>98343</th>\n",
       "      <td>58736</td>\n",
       "      <td>282</td>\n",
       "      <td>0</td>\n",
       "      <td>2086</td>\n",
       "      <td>2012-12-27</td>\n",
       "      <td>2018-09-13</td>\n",
       "      <td>0</td>\n",
       "      <td>EN</td>\n",
       "      <td>0</td>\n",
       "    </tr>\n",
       "    <tr>\n",
       "      <th>98343</th>\n",
       "      <td>140703</td>\n",
       "      <td>282</td>\n",
       "      <td>0</td>\n",
       "      <td>2086</td>\n",
       "      <td>2012-12-27</td>\n",
       "      <td>2018-09-13</td>\n",
       "      <td>0</td>\n",
       "      <td>EN</td>\n",
       "      <td>0</td>\n",
       "    </tr>\n",
       "    <tr>\n",
       "      <th>98343</th>\n",
       "      <td>151401</td>\n",
       "      <td>282</td>\n",
       "      <td>0</td>\n",
       "      <td>2086</td>\n",
       "      <td>2012-12-27</td>\n",
       "      <td>2018-09-13</td>\n",
       "      <td>0</td>\n",
       "      <td>EN</td>\n",
       "      <td>0</td>\n",
       "    </tr>\n",
       "    <tr>\n",
       "      <th>98343</th>\n",
       "      <td>157118</td>\n",
       "      <td>282</td>\n",
       "      <td>0</td>\n",
       "      <td>2086</td>\n",
       "      <td>2012-12-27</td>\n",
       "      <td>2018-09-13</td>\n",
       "      <td>0</td>\n",
       "      <td>EN</td>\n",
       "      <td>0</td>\n",
       "    </tr>\n",
       "  </tbody>\n",
       "</table>\n",
       "</div>"
      ],
      "text/plain": [
       "              numeric_id_2  views  mature  life_time  created_at  updated_at  \\\n",
       "numeric_id_1                                                                   \n",
       "98343               141493    282       0       2086  2012-12-27  2018-09-13   \n",
       "98343                58736    282       0       2086  2012-12-27  2018-09-13   \n",
       "98343               140703    282       0       2086  2012-12-27  2018-09-13   \n",
       "98343               151401    282       0       2086  2012-12-27  2018-09-13   \n",
       "98343               157118    282       0       2086  2012-12-27  2018-09-13   \n",
       "\n",
       "              dead_account language  affiliate  \n",
       "numeric_id_1                                    \n",
       "98343                    0       EN          0  \n",
       "98343                    0       EN          0  \n",
       "98343                    0       EN          0  \n",
       "98343                    0       EN          0  \n",
       "98343                    0       EN          0  "
      ]
     },
     "execution_count": 12,
     "metadata": {},
     "output_type": "execute_result"
    }
   ],
   "source": [
    "merged_dataset = merged_dataset.set_index('numeric_id_1')\n",
    "merged_dataset.head()"
   ]
  },
  {
   "cell_type": "code",
   "execution_count": 13,
   "id": "d3447916",
   "metadata": {},
   "outputs": [
    {
     "name": "stdout",
     "output_type": "stream",
     "text": [
      "<class 'pandas.core.frame.DataFrame'>\n",
      "Int64Index: 6797557 entries, 98343 to 27819\n",
      "Data columns (total 9 columns):\n",
      " #   Column        Dtype \n",
      "---  ------        ----- \n",
      " 0   numeric_id_2  int64 \n",
      " 1   views         int64 \n",
      " 2   mature        int64 \n",
      " 3   life_time     int64 \n",
      " 4   created_at    object\n",
      " 5   updated_at    object\n",
      " 6   dead_account  int64 \n",
      " 7   language      object\n",
      " 8   affiliate     int64 \n",
      "dtypes: int64(6), object(3)\n",
      "memory usage: 518.6+ MB\n"
     ]
    }
   ],
   "source": [
    "merged_dataset.info()"
   ]
  },
  {
   "cell_type": "code",
   "execution_count": 14,
   "id": "0f58f98f",
   "metadata": {},
   "outputs": [
    {
     "data": {
      "text/html": [
       "<div>\n",
       "<style scoped>\n",
       "    .dataframe tbody tr th:only-of-type {\n",
       "        vertical-align: middle;\n",
       "    }\n",
       "\n",
       "    .dataframe tbody tr th {\n",
       "        vertical-align: top;\n",
       "    }\n",
       "\n",
       "    .dataframe thead th {\n",
       "        text-align: right;\n",
       "    }\n",
       "</style>\n",
       "<table border=\"1\" class=\"dataframe\">\n",
       "  <thead>\n",
       "    <tr style=\"text-align: right;\">\n",
       "      <th></th>\n",
       "      <th>numeric_id_2</th>\n",
       "      <th>views</th>\n",
       "      <th>mature</th>\n",
       "      <th>life_time</th>\n",
       "      <th>dead_account</th>\n",
       "      <th>affiliate</th>\n",
       "    </tr>\n",
       "  </thead>\n",
       "  <tbody>\n",
       "    <tr>\n",
       "      <th>count</th>\n",
       "      <td>6.797557e+06</td>\n",
       "      <td>6.797557e+06</td>\n",
       "      <td>6.797557e+06</td>\n",
       "      <td>6.797557e+06</td>\n",
       "      <td>6.797557e+06</td>\n",
       "      <td>6.797557e+06</td>\n",
       "    </tr>\n",
       "    <tr>\n",
       "      <th>mean</th>\n",
       "      <td>8.401523e+04</td>\n",
       "      <td>1.671707e+07</td>\n",
       "      <td>4.857826e-01</td>\n",
       "      <td>1.981736e+03</td>\n",
       "      <td>2.065448e-03</td>\n",
       "      <td>3.226697e-01</td>\n",
       "    </tr>\n",
       "    <tr>\n",
       "      <th>std</th>\n",
       "      <td>4.852719e+04</td>\n",
       "      <td>5.046552e+07</td>\n",
       "      <td>4.997979e-01</td>\n",
       "      <td>7.567212e+02</td>\n",
       "      <td>4.540024e-02</td>\n",
       "      <td>4.674976e-01</td>\n",
       "    </tr>\n",
       "    <tr>\n",
       "      <th>min</th>\n",
       "      <td>0.000000e+00</td>\n",
       "      <td>0.000000e+00</td>\n",
       "      <td>0.000000e+00</td>\n",
       "      <td>3.400000e+01</td>\n",
       "      <td>0.000000e+00</td>\n",
       "      <td>0.000000e+00</td>\n",
       "    </tr>\n",
       "    <tr>\n",
       "      <th>25%</th>\n",
       "      <td>4.204500e+04</td>\n",
       "      <td>2.096400e+04</td>\n",
       "      <td>0.000000e+00</td>\n",
       "      <td>1.447000e+03</td>\n",
       "      <td>0.000000e+00</td>\n",
       "      <td>0.000000e+00</td>\n",
       "    </tr>\n",
       "    <tr>\n",
       "      <th>50%</th>\n",
       "      <td>8.385100e+04</td>\n",
       "      <td>4.370550e+05</td>\n",
       "      <td>0.000000e+00</td>\n",
       "      <td>1.976000e+03</td>\n",
       "      <td>0.000000e+00</td>\n",
       "      <td>0.000000e+00</td>\n",
       "    </tr>\n",
       "    <tr>\n",
       "      <th>75%</th>\n",
       "      <td>1.259570e+05</td>\n",
       "      <td>6.237401e+06</td>\n",
       "      <td>1.000000e+00</td>\n",
       "      <td>2.502000e+03</td>\n",
       "      <td>0.000000e+00</td>\n",
       "      <td>1.000000e+00</td>\n",
       "    </tr>\n",
       "    <tr>\n",
       "      <th>max</th>\n",
       "      <td>1.681130e+05</td>\n",
       "      <td>3.843966e+08</td>\n",
       "      <td>1.000000e+00</td>\n",
       "      <td>4.161000e+03</td>\n",
       "      <td>1.000000e+00</td>\n",
       "      <td>1.000000e+00</td>\n",
       "    </tr>\n",
       "  </tbody>\n",
       "</table>\n",
       "</div>"
      ],
      "text/plain": [
       "       numeric_id_2         views        mature     life_time  dead_account  \\\n",
       "count  6.797557e+06  6.797557e+06  6.797557e+06  6.797557e+06  6.797557e+06   \n",
       "mean   8.401523e+04  1.671707e+07  4.857826e-01  1.981736e+03  2.065448e-03   \n",
       "std    4.852719e+04  5.046552e+07  4.997979e-01  7.567212e+02  4.540024e-02   \n",
       "min    0.000000e+00  0.000000e+00  0.000000e+00  3.400000e+01  0.000000e+00   \n",
       "25%    4.204500e+04  2.096400e+04  0.000000e+00  1.447000e+03  0.000000e+00   \n",
       "50%    8.385100e+04  4.370550e+05  0.000000e+00  1.976000e+03  0.000000e+00   \n",
       "75%    1.259570e+05  6.237401e+06  1.000000e+00  2.502000e+03  0.000000e+00   \n",
       "max    1.681130e+05  3.843966e+08  1.000000e+00  4.161000e+03  1.000000e+00   \n",
       "\n",
       "          affiliate  \n",
       "count  6.797557e+06  \n",
       "mean   3.226697e-01  \n",
       "std    4.674976e-01  \n",
       "min    0.000000e+00  \n",
       "25%    0.000000e+00  \n",
       "50%    0.000000e+00  \n",
       "75%    1.000000e+00  \n",
       "max    1.000000e+00  "
      ]
     },
     "execution_count": 14,
     "metadata": {},
     "output_type": "execute_result"
    }
   ],
   "source": [
    "merged_dataset.describe()"
   ]
  },
  {
   "cell_type": "markdown",
   "id": "c09ec9f9",
   "metadata": {},
   "source": [
    "**Converting Dataset to Pytorch Geometric Data**"
   ]
  },
  {
   "cell_type": "code",
   "execution_count": 15,
   "id": "bc9b0b70",
   "metadata": {},
   "outputs": [
    {
     "name": "stdout",
     "output_type": "stream",
     "text": [
      "<class 'pandas.core.frame.DataFrame'>\n",
      "Int64Index: 168114 entries, 0 to 168113\n",
      "Data columns (total 8 columns):\n",
      " #   Column        Non-Null Count   Dtype \n",
      "---  ------        --------------   ----- \n",
      " 0   views         168114 non-null  int64 \n",
      " 1   mature        168114 non-null  int64 \n",
      " 2   life_time     168114 non-null  int64 \n",
      " 3   created_at    168114 non-null  object\n",
      " 4   updated_at    168114 non-null  object\n",
      " 5   dead_account  168114 non-null  int64 \n",
      " 6   language      168114 non-null  object\n",
      " 7   affiliate     168114 non-null  int64 \n",
      "dtypes: int64(5), object(3)\n",
      "memory usage: 11.5+ MB\n"
     ]
    }
   ],
   "source": [
    "features_dataset.info()"
   ]
  },
  {
   "cell_type": "code",
   "execution_count": 16,
   "id": "021b8a51",
   "metadata": {},
   "outputs": [
    {
     "data": {
      "text/plain": [
       "array(['EN', 'FR', 'KO', 'JA', 'RU', 'PL', 'DE', 'ES', 'IT', 'PT',\n",
       "       'OTHER', 'TR', 'ZH', 'SV', 'NL', 'TH', 'CS', 'DA', 'HU', 'FI',\n",
       "       'NO'], dtype=object)"
      ]
     },
     "execution_count": 16,
     "metadata": {},
     "output_type": "execute_result"
    }
   ],
   "source": [
    "features_dataset['language'].unique()"
   ]
  },
  {
   "cell_type": "code",
   "execution_count": 17,
   "id": "d41f996d",
   "metadata": {},
   "outputs": [
    {
     "name": "stdout",
     "output_type": "stream",
     "text": [
      "<class 'pandas.core.frame.DataFrame'>\n",
      "Int64Index: 168114 entries, 0 to 168113\n",
      "Data columns (total 8 columns):\n",
      " #   Column        Non-Null Count   Dtype \n",
      "---  ------        --------------   ----- \n",
      " 0   views         168114 non-null  int64 \n",
      " 1   mature        168114 non-null  int64 \n",
      " 2   life_time     168114 non-null  int64 \n",
      " 3   created_at    168114 non-null  object\n",
      " 4   updated_at    168114 non-null  object\n",
      " 5   dead_account  168114 non-null  int64 \n",
      " 6   language      168114 non-null  int32 \n",
      " 7   affiliate     168114 non-null  int64 \n",
      "dtypes: int32(1), int64(5), object(2)\n",
      "memory usage: 10.9+ MB\n"
     ]
    }
   ],
   "source": [
    "languages = ['EN', 'FR', 'KO', 'JA', 'RU', 'PL', 'DE', 'ES', 'IT', 'PT',\n",
    "       'OTHER', 'TR', 'ZH', 'SV', 'NL', 'TH', 'CS', 'DA', 'HU', 'FI',\n",
    "       'NO']\n",
    "\n",
    "from sklearn.preprocessing import LabelEncoder\n",
    "\n",
    "def encode_df(dataframe):\n",
    "    le = LabelEncoder()\n",
    "    features_dataset['language'] = le.fit_transform(features_dataset['language'])\n",
    "    return dataframe\n",
    "\n",
    "#encode the dataframe\n",
    "features_dataset = encode_df(features_dataset)\n",
    "features_dataset.info()"
   ]
  },
  {
   "cell_type": "code",
   "execution_count": 18,
   "id": "dae6f083",
   "metadata": {},
   "outputs": [],
   "source": [
    "node_features = features_dataset[[\"views\",\"mature\",\"life_time\",\"created_at\",\"updated_at\"]]"
   ]
  },
  {
   "cell_type": "code",
   "execution_count": 19,
   "id": "5b83df2a",
   "metadata": {},
   "outputs": [
    {
     "name": "stderr",
     "output_type": "stream",
     "text": [
      "C:\\Users\\jayas\\AppData\\Local\\Temp\\ipykernel_9856\\1920044232.py:1: SettingWithCopyWarning: \n",
      "A value is trying to be set on a copy of a slice from a DataFrame.\n",
      "Try using .loc[row_indexer,col_indexer] = value instead\n",
      "\n",
      "See the caveats in the documentation: https://pandas.pydata.org/pandas-docs/stable/user_guide/indexing.html#returning-a-view-versus-a-copy\n",
      "  node_features[[\"created_year\", \"created_month\", \"created_day\"]] = node_features[\"created_at\"].str.split(\"-\", expand = True).astype('int32')\n",
      "C:\\Users\\jayas\\AppData\\Local\\Temp\\ipykernel_9856\\1920044232.py:1: SettingWithCopyWarning: \n",
      "A value is trying to be set on a copy of a slice from a DataFrame.\n",
      "Try using .loc[row_indexer,col_indexer] = value instead\n",
      "\n",
      "See the caveats in the documentation: https://pandas.pydata.org/pandas-docs/stable/user_guide/indexing.html#returning-a-view-versus-a-copy\n",
      "  node_features[[\"created_year\", \"created_month\", \"created_day\"]] = node_features[\"created_at\"].str.split(\"-\", expand = True).astype('int32')\n"
     ]
    }
   ],
   "source": [
    "node_features[[\"created_year\", \"created_month\", \"created_day\"]] = node_features[\"created_at\"].str.split(\"-\", expand = True).astype('int32')\n",
    "node_features[[\"updated_year\", \"updated_month\", \"updated_day\"]] = node_features[\"updated_at\"].str.split(\"-\", expand = True).astype('int32')\n",
    "\n",
    "node_features = node_features.drop(['created_at','updated_at'],axis=1)"
   ]
  },
  {
   "cell_type": "code",
   "execution_count": 20,
   "id": "d1fbd53d",
   "metadata": {},
   "outputs": [
    {
     "data": {
      "text/html": [
       "<div>\n",
       "<style scoped>\n",
       "    .dataframe tbody tr th:only-of-type {\n",
       "        vertical-align: middle;\n",
       "    }\n",
       "\n",
       "    .dataframe tbody tr th {\n",
       "        vertical-align: top;\n",
       "    }\n",
       "\n",
       "    .dataframe thead th {\n",
       "        text-align: right;\n",
       "    }\n",
       "</style>\n",
       "<table border=\"1\" class=\"dataframe\">\n",
       "  <thead>\n",
       "    <tr style=\"text-align: right;\">\n",
       "      <th></th>\n",
       "      <th>views</th>\n",
       "      <th>mature</th>\n",
       "      <th>life_time</th>\n",
       "      <th>created_year</th>\n",
       "      <th>created_month</th>\n",
       "      <th>created_day</th>\n",
       "      <th>updated_year</th>\n",
       "      <th>updated_month</th>\n",
       "      <th>updated_day</th>\n",
       "    </tr>\n",
       "    <tr>\n",
       "      <th>numeric_id</th>\n",
       "      <th></th>\n",
       "      <th></th>\n",
       "      <th></th>\n",
       "      <th></th>\n",
       "      <th></th>\n",
       "      <th></th>\n",
       "      <th></th>\n",
       "      <th></th>\n",
       "      <th></th>\n",
       "    </tr>\n",
       "  </thead>\n",
       "  <tbody>\n",
       "    <tr>\n",
       "      <th>0</th>\n",
       "      <td>7879</td>\n",
       "      <td>1</td>\n",
       "      <td>969</td>\n",
       "      <td>2016</td>\n",
       "      <td>2</td>\n",
       "      <td>16</td>\n",
       "      <td>2018</td>\n",
       "      <td>10</td>\n",
       "      <td>12</td>\n",
       "    </tr>\n",
       "    <tr>\n",
       "      <th>1</th>\n",
       "      <td>500</td>\n",
       "      <td>0</td>\n",
       "      <td>2699</td>\n",
       "      <td>2011</td>\n",
       "      <td>5</td>\n",
       "      <td>19</td>\n",
       "      <td>2018</td>\n",
       "      <td>10</td>\n",
       "      <td>8</td>\n",
       "    </tr>\n",
       "    <tr>\n",
       "      <th>2</th>\n",
       "      <td>382502</td>\n",
       "      <td>1</td>\n",
       "      <td>3149</td>\n",
       "      <td>2010</td>\n",
       "      <td>2</td>\n",
       "      <td>27</td>\n",
       "      <td>2018</td>\n",
       "      <td>10</td>\n",
       "      <td>12</td>\n",
       "    </tr>\n",
       "    <tr>\n",
       "      <th>3</th>\n",
       "      <td>386</td>\n",
       "      <td>0</td>\n",
       "      <td>1344</td>\n",
       "      <td>2015</td>\n",
       "      <td>1</td>\n",
       "      <td>26</td>\n",
       "      <td>2018</td>\n",
       "      <td>10</td>\n",
       "      <td>1</td>\n",
       "    </tr>\n",
       "    <tr>\n",
       "      <th>4</th>\n",
       "      <td>2486</td>\n",
       "      <td>0</td>\n",
       "      <td>1784</td>\n",
       "      <td>2013</td>\n",
       "      <td>11</td>\n",
       "      <td>22</td>\n",
       "      <td>2018</td>\n",
       "      <td>10</td>\n",
       "      <td>11</td>\n",
       "    </tr>\n",
       "  </tbody>\n",
       "</table>\n",
       "</div>"
      ],
      "text/plain": [
       "             views  mature  life_time  created_year  created_month  \\\n",
       "numeric_id                                                           \n",
       "0             7879       1        969          2016              2   \n",
       "1              500       0       2699          2011              5   \n",
       "2           382502       1       3149          2010              2   \n",
       "3              386       0       1344          2015              1   \n",
       "4             2486       0       1784          2013             11   \n",
       "\n",
       "            created_day  updated_year  updated_month  updated_day  \n",
       "numeric_id                                                         \n",
       "0                    16          2018             10           12  \n",
       "1                    19          2018             10            8  \n",
       "2                    27          2018             10           12  \n",
       "3                    26          2018             10            1  \n",
       "4                    22          2018             10           11  "
      ]
     },
     "execution_count": 20,
     "metadata": {},
     "output_type": "execute_result"
    }
   ],
   "source": [
    "# node_features['created_at'] = pd.to_datetime(node_features['created_at']).astype('int64')/ 10**9\n",
    "# node_features['updated_at'] = pd.to_datetime(node_features['updated_at']).astype('int64')/ 10**9\n",
    "node_features.head()"
   ]
  },
  {
   "cell_type": "code",
   "execution_count": 21,
   "id": "b7c64d5a",
   "metadata": {},
   "outputs": [
    {
     "name": "stdout",
     "output_type": "stream",
     "text": [
      "<class 'pandas.core.frame.DataFrame'>\n",
      "Int64Index: 168114 entries, 0 to 168113\n",
      "Data columns (total 9 columns):\n",
      " #   Column         Non-Null Count   Dtype  \n",
      "---  ------         --------------   -----  \n",
      " 0   views          168114 non-null  float32\n",
      " 1   mature         168114 non-null  float32\n",
      " 2   life_time      168114 non-null  float32\n",
      " 3   created_year   168114 non-null  float32\n",
      " 4   created_month  168114 non-null  float32\n",
      " 5   created_day    168114 non-null  float32\n",
      " 6   updated_year   168114 non-null  float32\n",
      " 7   updated_month  168114 non-null  float32\n",
      " 8   updated_day    168114 non-null  float32\n",
      "dtypes: float32(9)\n",
      "memory usage: 7.1 MB\n"
     ]
    }
   ],
   "source": [
    "node_features = node_features.astype('float32')\n",
    "node_features.info()"
   ]
  },
  {
   "cell_type": "code",
   "execution_count": 22,
   "id": "8e38b9e7",
   "metadata": {},
   "outputs": [
    {
     "data": {
      "text/plain": [
       "torch.Size([168114, 9])"
      ]
     },
     "execution_count": 22,
     "metadata": {},
     "output_type": "execute_result"
    }
   ],
   "source": [
    "x =  torch.from_numpy(node_features.to_numpy())\n",
    "x.shape # [num_nodes x num_features]"
   ]
  },
  {
   "cell_type": "code",
   "execution_count": 23,
   "id": "eb31b92c",
   "metadata": {},
   "outputs": [
    {
     "data": {
      "text/plain": [
       "torch.float32"
      ]
     },
     "execution_count": 23,
     "metadata": {},
     "output_type": "execute_result"
    }
   ],
   "source": [
    "x.dtype"
   ]
  },
  {
   "cell_type": "code",
   "execution_count": 24,
   "id": "cd671e23",
   "metadata": {},
   "outputs": [
    {
     "name": "stdout",
     "output_type": "stream",
     "text": [
      "<class 'pandas.core.frame.DataFrame'>\n",
      "Int64Index: 168114 entries, 0 to 168113\n",
      "Data columns (total 3 columns):\n",
      " #   Column        Non-Null Count   Dtype\n",
      "---  ------        --------------   -----\n",
      " 0   dead_account  168114 non-null  int64\n",
      " 1   language      168114 non-null  int64\n",
      " 2   affiliate     168114 non-null  int64\n",
      "dtypes: int64(3)\n",
      "memory usage: 5.1 MB\n"
     ]
    }
   ],
   "source": [
    "features_dataset[[\"dead_account\",\"language\",\"affiliate\"]] = features_dataset[[\"dead_account\",\"language\",\"affiliate\"]].astype('int64')\n",
    "features_dataset[[\"dead_account\",\"language\",\"affiliate\"]].info()"
   ]
  },
  {
   "cell_type": "code",
   "execution_count": null,
   "id": "3c32e644",
   "metadata": {},
   "outputs": [],
   "source": []
  },
  {
   "cell_type": "code",
   "execution_count": 25,
   "id": "00101df7",
   "metadata": {},
   "outputs": [
    {
     "data": {
      "text/plain": [
       "torch.Size([168114, 1])"
      ]
     },
     "execution_count": 25,
     "metadata": {},
     "output_type": "execute_result"
    }
   ],
   "source": [
    "# Select node features\n",
    "labels = features_dataset[[\"dead_account\"]]\n",
    "labels.head()\n",
    "\n",
    "# labels = labels.astype(float)\n",
    "\n",
    "# Convert to numpy\n",
    "y =  torch.from_numpy(labels.to_numpy())\n",
    "y.shape # [num_nodes, 1] --> node regression"
   ]
  },
  {
   "cell_type": "code",
   "execution_count": 26,
   "id": "890fbe06",
   "metadata": {},
   "outputs": [],
   "source": [
    "y = y.reshape(-1,)"
   ]
  },
  {
   "cell_type": "code",
   "execution_count": 27,
   "id": "a6d14119",
   "metadata": {},
   "outputs": [
    {
     "data": {
      "text/plain": [
       "torch.Size([168114])"
      ]
     },
     "execution_count": 27,
     "metadata": {},
     "output_type": "execute_result"
    }
   ],
   "source": [
    "y.shape"
   ]
  },
  {
   "cell_type": "code",
   "execution_count": 28,
   "id": "d23129e4",
   "metadata": {},
   "outputs": [
    {
     "data": {
      "text/plain": [
       "dead_account    int64\n",
       "dtype: object"
      ]
     },
     "execution_count": 28,
     "metadata": {},
     "output_type": "execute_result"
    }
   ],
   "source": [
    "labels.dtypes"
   ]
  },
  {
   "cell_type": "code",
   "execution_count": 29,
   "id": "a8e149ce",
   "metadata": {},
   "outputs": [],
   "source": [
    "edge_dataset = edge_dataset.astype('int64')"
   ]
  },
  {
   "cell_type": "code",
   "execution_count": 30,
   "id": "9ebdaa23",
   "metadata": {},
   "outputs": [
    {
     "data": {
      "text/plain": [
       "numeric_id_1    int64\n",
       "numeric_id_2    int64\n",
       "dtype: object"
      ]
     },
     "execution_count": 30,
     "metadata": {},
     "output_type": "execute_result"
    }
   ],
   "source": [
    "edge_dataset.dtypes"
   ]
  },
  {
   "cell_type": "code",
   "execution_count": 31,
   "id": "dd3885c4",
   "metadata": {},
   "outputs": [],
   "source": [
    "edge_dataset = edge_dataset.sort_values(by=['numeric_id_1'])"
   ]
  },
  {
   "cell_type": "code",
   "execution_count": 32,
   "id": "79060b42",
   "metadata": {},
   "outputs": [],
   "source": [
    "edge_index = edge_dataset.transpose()"
   ]
  },
  {
   "cell_type": "code",
   "execution_count": 33,
   "id": "c2f93342",
   "metadata": {},
   "outputs": [
    {
     "data": {
      "text/plain": [
       "array([dtype('int64')], dtype=object)"
      ]
     },
     "execution_count": 33,
     "metadata": {},
     "output_type": "execute_result"
    }
   ],
   "source": [
    "edge_index.dtypes.unique()"
   ]
  },
  {
   "cell_type": "code",
   "execution_count": 34,
   "id": "1e3b210b",
   "metadata": {},
   "outputs": [
    {
     "name": "stdout",
     "output_type": "stream",
     "text": [
      "torch.Size([2, 6797557])\n"
     ]
    }
   ],
   "source": [
    "all_edges =  torch.from_numpy(edge_index.to_numpy()) # [2, num_edges]\n",
    "print(all_edges.shape)"
   ]
  },
  {
   "cell_type": "code",
   "execution_count": 35,
   "id": "fde2422b",
   "metadata": {},
   "outputs": [
    {
     "data": {
      "text/plain": [
       "tensor([[     0,      0,      0,  ..., 168112, 168112, 168112],\n",
       "        [ 10464,  59443, 151601,  ...,  77866,  95086,  12740]])"
      ]
     },
     "execution_count": 35,
     "metadata": {},
     "output_type": "execute_result"
    }
   ],
   "source": [
    "all_edges"
   ]
  },
  {
   "cell_type": "code",
   "execution_count": 36,
   "id": "a19af33c",
   "metadata": {},
   "outputs": [
    {
     "data": {
      "text/plain": [
       "168114"
      ]
     },
     "execution_count": 36,
     "metadata": {},
     "output_type": "execute_result"
    }
   ],
   "source": [
    "len(features_dataset)"
   ]
  },
  {
   "cell_type": "code",
   "execution_count": 37,
   "id": "2a27ac04",
   "metadata": {},
   "outputs": [],
   "source": [
    "train_arr = np.array([True for i in range(round(len(features_dataset)*0.85))])"
   ]
  },
  {
   "cell_type": "code",
   "execution_count": 38,
   "id": "fab66e93",
   "metadata": {},
   "outputs": [],
   "source": [
    "train_arr = np.append(train_arr,np.array([False for i in range(int(len(features_dataset)*0.15))]))"
   ]
  },
  {
   "cell_type": "code",
   "execution_count": 39,
   "id": "99144b5c",
   "metadata": {},
   "outputs": [
    {
     "data": {
      "text/plain": [
       "(168114,)"
      ]
     },
     "execution_count": 39,
     "metadata": {},
     "output_type": "execute_result"
    }
   ],
   "source": [
    "train_arr.shape"
   ]
  },
  {
   "cell_type": "code",
   "execution_count": 40,
   "id": "ce9707b4",
   "metadata": {},
   "outputs": [],
   "source": [
    "test_arr = np.array([False for i in range(round(len(features_dataset)*0.55))])\n",
    "test_arr = np.append(test_arr,np.array([True for i in range(int(len(features_dataset)*0.45))]))"
   ]
  },
  {
   "cell_type": "code",
   "execution_count": 41,
   "id": "45e80d9d",
   "metadata": {},
   "outputs": [
    {
     "data": {
      "text/plain": [
       "(168114,)"
      ]
     },
     "execution_count": 41,
     "metadata": {},
     "output_type": "execute_result"
    }
   ],
   "source": [
    "test_arr.shape"
   ]
  },
  {
   "cell_type": "code",
   "execution_count": 42,
   "id": "16ad977e",
   "metadata": {},
   "outputs": [],
   "source": [
    "val_arr = np.array([False for i in range(round(len(features_dataset)*0.35))])\n",
    "val_arr = np.append(val_arr,np.array([True for i in range(round(len(features_dataset)*0.35))]))\n",
    "val_arr = np.append(val_arr,np.array([False for i in range(int(len(features_dataset)*0.30))]))"
   ]
  },
  {
   "cell_type": "code",
   "execution_count": 43,
   "id": "c81b1f5f",
   "metadata": {},
   "outputs": [
    {
     "data": {
      "text/plain": [
       "(168114,)"
      ]
     },
     "execution_count": 43,
     "metadata": {},
     "output_type": "execute_result"
    }
   ],
   "source": [
    "val_arr.shape"
   ]
  },
  {
   "cell_type": "code",
   "execution_count": 44,
   "id": "49f54881",
   "metadata": {},
   "outputs": [],
   "source": [
    "train_mask = torch.from_numpy(train_arr)\n",
    "test_mask = torch.from_numpy(test_arr)\n",
    "val_mask = torch.from_numpy(val_arr)"
   ]
  },
  {
   "cell_type": "code",
   "execution_count": 45,
   "id": "3ada7c40",
   "metadata": {},
   "outputs": [],
   "source": [
    "from torch_geometric.data import Data\n",
    "data = Data(x=x, edge_index=all_edges, y=y)"
   ]
  },
  {
   "cell_type": "code",
   "execution_count": 46,
   "id": "0e78d0e7",
   "metadata": {},
   "outputs": [
    {
     "data": {
      "text/plain": [
       "Data(x=[168114, 9], edge_index=[2, 6797557], y=[168114])"
      ]
     },
     "execution_count": 46,
     "metadata": {},
     "output_type": "execute_result"
    }
   ],
   "source": [
    "data"
   ]
  },
  {
   "cell_type": "code",
   "execution_count": 47,
   "id": "a4e398a5",
   "metadata": {},
   "outputs": [],
   "source": [
    "data.num_classes = 2\n",
    "data.train_mask = train_mask\n",
    "data.test_mask = test_mask\n",
    "data.val_mask = val_mask"
   ]
  },
  {
   "cell_type": "code",
   "execution_count": 48,
   "id": "7f94fd77",
   "metadata": {},
   "outputs": [
    {
     "data": {
      "text/plain": [
       "Data(x=[168114, 9], edge_index=[2, 6797557], y=[168114], num_classes=2, train_mask=[168114], test_mask=[168114], val_mask=[168114])"
      ]
     },
     "execution_count": 48,
     "metadata": {},
     "output_type": "execute_result"
    }
   ],
   "source": [
    "data"
   ]
  },
  {
   "cell_type": "code",
   "execution_count": 49,
   "id": "609ea866",
   "metadata": {},
   "outputs": [],
   "source": [
    "import os\n",
    "os.environ['CUDA_LAUNCH_BLOCKING'] = str(1)\n",
    "os.environ[\"PYTORCH_CUDA_ALLOC_CONF\"] = \"max_split_size_mb:1024\""
   ]
  },
  {
   "cell_type": "markdown",
   "id": "32708238",
   "metadata": {},
   "source": [
    "**Hidden Layers**"
   ]
  },
  {
   "cell_type": "code",
   "execution_count": 50,
   "id": "b49c92ef",
   "metadata": {},
   "outputs": [],
   "source": [
    "class Net(torch.nn.Module):\n",
    "    def __init__(self, arg):\n",
    "        super(Net, self).__init__()\n",
    "        hidden_layer_dimension = arg\n",
    "        self.float()\n",
    "        self.conv1 = GCNConv(data.num_node_features, hidden_layer_dimension)\n",
    "        self.conv2 = GCNConv(hidden_layer_dimension, data.num_classes)\n",
    "\n",
    "\n",
    "    def forward(self, data):\n",
    "        x, edge_index = data.x, data.edge_index\n",
    "        x = self.conv1(x, edge_index)\n",
    "        x = F.relu(x)\n",
    "        x = self.conv2(x, edge_index)\n",
    "\n",
    "        return F.log_softmax(x, dim=1)"
   ]
  },
  {
   "cell_type": "code",
   "execution_count": 51,
   "id": "aa2103f7",
   "metadata": {},
   "outputs": [
    {
     "data": {
      "text/plain": [
       "True"
      ]
     },
     "execution_count": 51,
     "metadata": {},
     "output_type": "execute_result"
    }
   ],
   "source": [
    "torch.cuda.is_available()"
   ]
  },
  {
   "cell_type": "code",
   "execution_count": 52,
   "id": "6624e710",
   "metadata": {
    "scrolled": false
   },
   "outputs": [
    {
     "name": "stdout",
     "output_type": "stream",
     "text": [
      "For Hidden Dimension = 2\n",
      "0.9647327860834622\n",
      "\n",
      "For Hidden Dimension = 4\n",
      "0.9692667644842765\n",
      "\n",
      "For Hidden Dimension = 8\n",
      "0.9693989504434839\n",
      "\n",
      "For Hidden Dimension = 16\n",
      "0.030601049556516106\n",
      "\n",
      "For Hidden Dimension = 64\n",
      "0.9687248020515261\n",
      "\n"
     ]
    }
   ],
   "source": [
    "device = torch.device('cuda' if torch.cuda.is_available() else 'cpu')\n",
    "# device='cpu'\n",
    "hidden_dimensions = [2,4,8,16,64]\n",
    "accs = []\n",
    "epoch_stable = []\n",
    "for i in hidden_dimensions:\n",
    "    print('For Hidden Dimension = '+str(i))\n",
    "    model = Net(i).to(device)\n",
    "    data = data.to(device)\n",
    "    optimizer = torch.optim.Adam(model.parameters(), lr=0.01, weight_decay=5e-4)\n",
    "    model.train()\n",
    "    train_accuracies = []\n",
    "    for epoch in range(101):\n",
    "        optimizer.zero_grad()\n",
    "        out = model(data)\n",
    "        loss = F.nll_loss(out[data.train_mask], data.y[data.train_mask])\n",
    "        loss.backward()\n",
    "        optimizer.step()\n",
    "\n",
    "        _, pred = model(data).max(dim=1)\n",
    "        correct = float (pred[data.train_mask].eq(data.y[data.train_mask]).sum().item())\n",
    "        acc = correct / data.train_mask.sum().item()\n",
    "            \n",
    "        train_accuracies.append(acc)\n",
    "    \n",
    "    for i in range(101):\n",
    "        if train_accuracies[i] == max(train_accuracies):\n",
    "            epoch_stable.append(i)\n",
    "            break\n",
    "            \n",
    "    _, pred = model(data).max(dim=1)\n",
    "    correct = float (pred[data.test_mask].eq(data.y[data.test_mask]).sum().item())\n",
    "    acc = correct / data.test_mask.sum().item()\n",
    "    accs.append(acc)\n",
    "    print(acc)\n",
    "    print()\n",
    "    \n",
    "for i in range(len(hidden_dimensions)):\n",
    "    hidden_dimensions[i] = 'Hidden Dimension = '+str(hidden_dimensions[i])\n",
    "\n",
    "df_hidden_dims = pd.DataFrame([accs,epoch_stable],columns = hidden_dimensions,index = ['Accuracy','Number of Epochs'])"
   ]
  },
  {
   "cell_type": "code",
   "execution_count": 53,
   "id": "81d122c6",
   "metadata": {},
   "outputs": [
    {
     "data": {
      "text/html": [
       "<div>\n",
       "<style scoped>\n",
       "    .dataframe tbody tr th:only-of-type {\n",
       "        vertical-align: middle;\n",
       "    }\n",
       "\n",
       "    .dataframe tbody tr th {\n",
       "        vertical-align: top;\n",
       "    }\n",
       "\n",
       "    .dataframe thead th {\n",
       "        text-align: right;\n",
       "    }\n",
       "</style>\n",
       "<table border=\"1\" class=\"dataframe\">\n",
       "  <thead>\n",
       "    <tr style=\"text-align: right;\">\n",
       "      <th></th>\n",
       "      <th>Hidden Dimension = 2</th>\n",
       "      <th>Hidden Dimension = 4</th>\n",
       "      <th>Hidden Dimension = 8</th>\n",
       "      <th>Hidden Dimension = 16</th>\n",
       "      <th>Hidden Dimension = 64</th>\n",
       "    </tr>\n",
       "  </thead>\n",
       "  <tbody>\n",
       "    <tr>\n",
       "      <th>Accuracy</th>\n",
       "      <td>0.964733</td>\n",
       "      <td>0.969267</td>\n",
       "      <td>0.969399</td>\n",
       "      <td>0.030601</td>\n",
       "      <td>0.968725</td>\n",
       "    </tr>\n",
       "    <tr>\n",
       "      <th>Number of Epochs</th>\n",
       "      <td>0.000000</td>\n",
       "      <td>37.000000</td>\n",
       "      <td>13.000000</td>\n",
       "      <td>2.000000</td>\n",
       "      <td>1.000000</td>\n",
       "    </tr>\n",
       "  </tbody>\n",
       "</table>\n",
       "</div>"
      ],
      "text/plain": [
       "                  Hidden Dimension = 2  Hidden Dimension = 4  \\\n",
       "Accuracy                      0.964733              0.969267   \n",
       "Number of Epochs              0.000000             37.000000   \n",
       "\n",
       "                  Hidden Dimension = 8  Hidden Dimension = 16  \\\n",
       "Accuracy                      0.969399               0.030601   \n",
       "Number of Epochs             13.000000               2.000000   \n",
       "\n",
       "                  Hidden Dimension = 64  \n",
       "Accuracy                       0.968725  \n",
       "Number of Epochs               1.000000  "
      ]
     },
     "execution_count": 53,
     "metadata": {},
     "output_type": "execute_result"
    }
   ],
   "source": [
    "df_hidden_dims"
   ]
  },
  {
   "cell_type": "code",
   "execution_count": 54,
   "id": "4b731486",
   "metadata": {},
   "outputs": [],
   "source": [
    "torch.cuda.empty_cache()"
   ]
  },
  {
   "cell_type": "markdown",
   "id": "701f22fc",
   "metadata": {},
   "source": [
    "**Number of Layers**"
   ]
  },
  {
   "cell_type": "code",
   "execution_count": 56,
   "id": "88524b15",
   "metadata": {},
   "outputs": [],
   "source": [
    "class Net(torch.nn.Module):\n",
    "    def __init__(self, num_layers):\n",
    "        super(Net, self).__init__()\n",
    "        hidden_layer_dimension = 16\n",
    "        self.conv1 = GCNConv(data.num_node_features, hidden_layer_dimension)\n",
    "        self.conv = torch.nn.ModuleList(GCNConv(hidden_layer_dimension, hidden_layer_dimension) for i in range(num_layers))\n",
    "        self.convn = GCNConv(hidden_layer_dimension, data.num_classes)\n",
    "\n",
    "    def forward(self, data):\n",
    "        x, edge_index = data.x, data.edge_index\n",
    "        x = self.conv1(x, edge_index)\n",
    "        x = F.relu(x)\n",
    "        for i in range(len(self.conv)):\n",
    "            x = self.conv[i](x,edge_index)\n",
    "            x = F.relu(x)\n",
    "        x = self.convn(x, edge_index)\n",
    "\n",
    "        return F.log_softmax(x, dim=1)"
   ]
  },
  {
   "cell_type": "code",
   "execution_count": 61,
   "id": "82a4b9f0",
   "metadata": {},
   "outputs": [
    {
     "name": "stdout",
     "output_type": "stream",
     "text": [
      "For Number of Layers = 1\n",
      "0.9693989504434839\n",
      "\n",
      "For Number of Layers = 2\n",
      "0.9692535458883558\n",
      "\n",
      "For Number of Layers = 4\n",
      "0.9693989504434839\n",
      "\n",
      "For Number of Layers = 8\n",
      "0.9693989504434839\n",
      "\n"
     ]
    }
   ],
   "source": [
    "device = torch.device('cuda' if torch.cuda.is_available() else 'cpu')\n",
    "\n",
    "number_of_layers = [1,2,4,8]\n",
    "accs = []\n",
    "epoch_stable = []\n",
    "for i in number_of_layers:\n",
    "    print('For Number of Layers = '+str(i))\n",
    "    model = Net(i).to(device)\n",
    "    data = data.to(device)\n",
    "    optimizer = torch.optim.Adam(model.parameters(), lr=0.01, weight_decay=5e-4)\n",
    "    model.train()\n",
    "    train_accuracies = []\n",
    "    for epoch in range(101):\n",
    "        optimizer.zero_grad()\n",
    "        out = model(data)\n",
    "        loss = F.nll_loss(out[data.train_mask], data.y[data.train_mask])\n",
    "        loss.backward()\n",
    "        optimizer.step()\n",
    "\n",
    "        _, pred = model(data).max(dim=1)\n",
    "        correct = float (pred[data.train_mask].eq(data.y[data.train_mask]).sum().item())\n",
    "        acc = correct / data.train_mask.sum().item()\n",
    "            \n",
    "        train_accuracies.append(acc)\n",
    "    \n",
    "    for i in range(101):\n",
    "        if train_accuracies[i] == max(train_accuracies):\n",
    "            epoch_stable.append(i)\n",
    "            break\n",
    "            \n",
    "    _, pred = model(data).max(dim=1)\n",
    "    correct = float (pred[data.test_mask].eq(data.y[data.test_mask]).sum().item())\n",
    "    acc = correct / data.test_mask.sum().item()\n",
    "    accs.append(acc)\n",
    "    print(acc)\n",
    "    print()\n",
    "    \n",
    "for i in range(len(number_of_layers)):\n",
    "    number_of_layers[i] = 'Number of Layers = '+str(number_of_layers[i])\n",
    "\n",
    "df_num_layers = pd.DataFrame([accs,epoch_stable],columns = number_of_layers,index = ['Accuracy','Number of Epochs'])\n",
    "torch.cuda.empty_cache()"
   ]
  },
  {
   "cell_type": "code",
   "execution_count": 62,
   "id": "35fe5d44",
   "metadata": {},
   "outputs": [
    {
     "data": {
      "text/html": [
       "<div>\n",
       "<style scoped>\n",
       "    .dataframe tbody tr th:only-of-type {\n",
       "        vertical-align: middle;\n",
       "    }\n",
       "\n",
       "    .dataframe tbody tr th {\n",
       "        vertical-align: top;\n",
       "    }\n",
       "\n",
       "    .dataframe thead th {\n",
       "        text-align: right;\n",
       "    }\n",
       "</style>\n",
       "<table border=\"1\" class=\"dataframe\">\n",
       "  <thead>\n",
       "    <tr style=\"text-align: right;\">\n",
       "      <th></th>\n",
       "      <th>Number of Layers = 1</th>\n",
       "      <th>Number of Layers = 2</th>\n",
       "      <th>Number of Layers = 4</th>\n",
       "      <th>Number of Layers = 8</th>\n",
       "    </tr>\n",
       "  </thead>\n",
       "  <tbody>\n",
       "    <tr>\n",
       "      <th>Accuracy</th>\n",
       "      <td>0.969399</td>\n",
       "      <td>0.969254</td>\n",
       "      <td>0.969399</td>\n",
       "      <td>0.969399</td>\n",
       "    </tr>\n",
       "    <tr>\n",
       "      <th>Number of Epochs</th>\n",
       "      <td>3.000000</td>\n",
       "      <td>2.000000</td>\n",
       "      <td>2.000000</td>\n",
       "      <td>1.000000</td>\n",
       "    </tr>\n",
       "  </tbody>\n",
       "</table>\n",
       "</div>"
      ],
      "text/plain": [
       "                  Number of Layers = 1  Number of Layers = 2  \\\n",
       "Accuracy                      0.969399              0.969254   \n",
       "Number of Epochs              3.000000              2.000000   \n",
       "\n",
       "                  Number of Layers = 4  Number of Layers = 8  \n",
       "Accuracy                      0.969399              0.969399  \n",
       "Number of Epochs              2.000000              1.000000  "
      ]
     },
     "execution_count": 62,
     "metadata": {},
     "output_type": "execute_result"
    }
   ],
   "source": [
    "df_num_layers"
   ]
  },
  {
   "cell_type": "code",
   "execution_count": 63,
   "id": "108ef04f",
   "metadata": {},
   "outputs": [],
   "source": [
    "torch.cuda.empty_cache()"
   ]
  },
  {
   "cell_type": "markdown",
   "id": "94c1f102",
   "metadata": {},
   "source": [
    "**Learning Rate**"
   ]
  },
  {
   "cell_type": "code",
   "execution_count": 66,
   "id": "ce653d99",
   "metadata": {},
   "outputs": [],
   "source": [
    "class Net(torch.nn.Module):\n",
    "    def __init__(self):\n",
    "        super(Net, self).__init__()\n",
    "        hidden_layer_dimension = 16\n",
    "        self.conv1 = GCNConv(data.num_node_features, hidden_layer_dimension)\n",
    "        self.convn = GCNConv(hidden_layer_dimension, data.num_classes)\n",
    "\n",
    "    def forward(self, data):\n",
    "        x, edge_index = data.x, data.edge_index\n",
    "        x = self.conv1(x, edge_index)\n",
    "        x = F.relu(x)\n",
    "        x = self.convn(x, edge_index)\n",
    "\n",
    "        return F.log_softmax(x, dim=1)"
   ]
  },
  {
   "cell_type": "code",
   "execution_count": 77,
   "id": "c8c76ad8",
   "metadata": {},
   "outputs": [
    {
     "name": "stdout",
     "output_type": "stream",
     "text": [
      "For Learning Rate = 1\n",
      "0.9693989504434839\n",
      "\n",
      "For Learning Rate = 0.5\n",
      "0.9693989504434839\n",
      "\n",
      "For Learning Rate = 0.1\n",
      "0.9688437694148128\n",
      "\n",
      "For Learning Rate = 0.01\n",
      "0.9679184677003608\n",
      "\n",
      "For Learning Rate = 0.0001\n",
      "0.9689230809903372\n",
      "\n"
     ]
    }
   ],
   "source": [
    "device = torch.device('cuda' if torch.cuda.is_available() else 'cpu')\n",
    "\n",
    "learning_rate = [1,0.5,0.1,0.01,0.0001]\n",
    "accs = []\n",
    "epoch_stable = []\n",
    "for i in learning_rate:\n",
    "    print('For Learning Rate = '+str(i))\n",
    "    model = Net().to(device)\n",
    "    data = data.to(device)\n",
    "    optimizer = torch.optim.Adam(model.parameters(), lr=i, weight_decay=5e-4)\n",
    "    model.train()\n",
    "    train_accuracies = []\n",
    "    for epoch in range(101):\n",
    "        optimizer.zero_grad()\n",
    "        out = model(data)\n",
    "        loss = F.nll_loss(out[data.train_mask], data.y[data.train_mask])\n",
    "        loss.backward()\n",
    "        optimizer.step()\n",
    "\n",
    "        _, pred = model(data).max(dim=1)\n",
    "        correct = float (pred[data.train_mask].eq(data.y[data.train_mask]).sum().item())\n",
    "        acc = correct / data.train_mask.sum().item()\n",
    "            \n",
    "        train_accuracies.append(acc)\n",
    "    \n",
    "    for i in range(101):\n",
    "        if train_accuracies[i] == max(train_accuracies):\n",
    "            epoch_stable.append(i)\n",
    "            break\n",
    "            \n",
    "    _, pred = model(data).max(dim=1)\n",
    "    correct = float (pred[data.test_mask].eq(data.y[data.test_mask]).sum().item())\n",
    "    acc = correct / data.test_mask.sum().item()\n",
    "    accs.append(acc)\n",
    "    print(acc)\n",
    "    print()\n",
    "    \n",
    "for i in range(len(learning_rate)):\n",
    "    learning_rate[i] = 'Learning Rate = '+str(learning_rate[i])\n",
    "\n",
    "df_learn_rate = pd.DataFrame([accs,epoch_stable],columns = learning_rate,index = ['Accuracy','Number of Epochs'])\n"
   ]
  },
  {
   "cell_type": "code",
   "execution_count": 78,
   "id": "c789e8e7",
   "metadata": {},
   "outputs": [
    {
     "data": {
      "text/html": [
       "<div>\n",
       "<style scoped>\n",
       "    .dataframe tbody tr th:only-of-type {\n",
       "        vertical-align: middle;\n",
       "    }\n",
       "\n",
       "    .dataframe tbody tr th {\n",
       "        vertical-align: top;\n",
       "    }\n",
       "\n",
       "    .dataframe thead th {\n",
       "        text-align: right;\n",
       "    }\n",
       "</style>\n",
       "<table border=\"1\" class=\"dataframe\">\n",
       "  <thead>\n",
       "    <tr style=\"text-align: right;\">\n",
       "      <th></th>\n",
       "      <th>Learning Rate = 1</th>\n",
       "      <th>Learning Rate = 0.5</th>\n",
       "      <th>Learning Rate = 0.1</th>\n",
       "      <th>Learning Rate = 0.01</th>\n",
       "      <th>Learning Rate = 0.0001</th>\n",
       "    </tr>\n",
       "  </thead>\n",
       "  <tbody>\n",
       "    <tr>\n",
       "      <th>Accuracy</th>\n",
       "      <td>0.969399</td>\n",
       "      <td>0.969399</td>\n",
       "      <td>0.968844</td>\n",
       "      <td>0.967918</td>\n",
       "      <td>0.968923</td>\n",
       "    </tr>\n",
       "    <tr>\n",
       "      <th>Number of Epochs</th>\n",
       "      <td>1.000000</td>\n",
       "      <td>0.000000</td>\n",
       "      <td>0.000000</td>\n",
       "      <td>1.000000</td>\n",
       "      <td>42.000000</td>\n",
       "    </tr>\n",
       "  </tbody>\n",
       "</table>\n",
       "</div>"
      ],
      "text/plain": [
       "                  Learning Rate = 1  Learning Rate = 0.5  Learning Rate = 0.1  \\\n",
       "Accuracy                   0.969399             0.969399             0.968844   \n",
       "Number of Epochs           1.000000             0.000000             0.000000   \n",
       "\n",
       "                  Learning Rate = 0.01  Learning Rate = 0.0001  \n",
       "Accuracy                      0.967918                0.968923  \n",
       "Number of Epochs              1.000000               42.000000  "
      ]
     },
     "execution_count": 78,
     "metadata": {},
     "output_type": "execute_result"
    }
   ],
   "source": [
    "df_learn_rate"
   ]
  },
  {
   "cell_type": "code",
   "execution_count": 79,
   "id": "12ee9f72",
   "metadata": {},
   "outputs": [],
   "source": [
    "torch.cuda.empty_cache()"
   ]
  },
  {
   "cell_type": "code",
   "execution_count": null,
   "id": "bfb6b13e",
   "metadata": {},
   "outputs": [],
   "source": []
  }
 ],
 "metadata": {
  "kernelspec": {
   "display_name": "Python 3 (ipykernel)",
   "language": "python",
   "name": "python3"
  },
  "language_info": {
   "codemirror_mode": {
    "name": "ipython",
    "version": 3
   },
   "file_extension": ".py",
   "mimetype": "text/x-python",
   "name": "python",
   "nbconvert_exporter": "python",
   "pygments_lexer": "ipython3",
   "version": "3.10.6"
  }
 },
 "nbformat": 4,
 "nbformat_minor": 5
}
