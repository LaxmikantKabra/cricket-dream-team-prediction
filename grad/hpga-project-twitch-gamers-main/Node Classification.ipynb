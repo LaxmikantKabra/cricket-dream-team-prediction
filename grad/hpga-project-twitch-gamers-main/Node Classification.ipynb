{
 "cells": [
  {
   "cell_type": "code",
   "execution_count": 1,
   "id": "949c38be",
   "metadata": {},
   "outputs": [],
   "source": [
    "import torch #The torch package contains data structures for multi-dimensional tensors and mathematical operations over these are defined.\n",
    "import torchvision #The torchvision package consists of popular datasets, model architectures, and common image transformations for computer vision.\n",
    "import torch.nn as nn\n",
    "import numpy as np\n",
    "import torchvision.transforms as transforms\n",
    "import torch.nn.functional as F\n",
    "from torch_geometric.nn import GCNConv\n",
    "from torch_geometric.nn import SAGEConv\n",
    "import pandas as pd"
   ]
  },
  {
   "cell_type": "code",
   "execution_count": 2,
   "id": "2d8f5ae5",
   "metadata": {},
   "outputs": [],
   "source": [
    "edge_dataset=pd.read_csv('large_twitch_edges.csv')"
   ]
  },
  {
   "cell_type": "code",
   "execution_count": 3,
   "id": "9f7eed75",
   "metadata": {},
   "outputs": [],
   "source": [
    "features_dataset=pd.read_csv('large_twitch_features.csv')"
   ]
  },
  {
   "cell_type": "code",
   "execution_count": 4,
   "id": "a06910a9",
   "metadata": {},
   "outputs": [
    {
     "name": "stdout",
     "output_type": "stream",
     "text": [
      "<class 'pandas.core.frame.DataFrame'>\n",
      "RangeIndex: 6797557 entries, 0 to 6797556\n",
      "Data columns (total 2 columns):\n",
      " #   Column        Dtype\n",
      "---  ------        -----\n",
      " 0   numeric_id_1  int64\n",
      " 1   numeric_id_2  int64\n",
      "dtypes: int64(2)\n",
      "memory usage: 103.7 MB\n"
     ]
    }
   ],
   "source": [
    "edge_dataset.info()"
   ]
  },
  {
   "cell_type": "code",
   "execution_count": 5,
   "id": "70b4406d",
   "metadata": {},
   "outputs": [
    {
     "data": {
      "text/html": [
       "<div>\n",
       "<style scoped>\n",
       "    .dataframe tbody tr th:only-of-type {\n",
       "        vertical-align: middle;\n",
       "    }\n",
       "\n",
       "    .dataframe tbody tr th {\n",
       "        vertical-align: top;\n",
       "    }\n",
       "\n",
       "    .dataframe thead th {\n",
       "        text-align: right;\n",
       "    }\n",
       "</style>\n",
       "<table border=\"1\" class=\"dataframe\">\n",
       "  <thead>\n",
       "    <tr style=\"text-align: right;\">\n",
       "      <th></th>\n",
       "      <th>numeric_id_1</th>\n",
       "      <th>numeric_id_2</th>\n",
       "    </tr>\n",
       "  </thead>\n",
       "  <tbody>\n",
       "    <tr>\n",
       "      <th>0</th>\n",
       "      <td>98343</td>\n",
       "      <td>141493</td>\n",
       "    </tr>\n",
       "    <tr>\n",
       "      <th>1</th>\n",
       "      <td>98343</td>\n",
       "      <td>58736</td>\n",
       "    </tr>\n",
       "    <tr>\n",
       "      <th>2</th>\n",
       "      <td>98343</td>\n",
       "      <td>140703</td>\n",
       "    </tr>\n",
       "    <tr>\n",
       "      <th>3</th>\n",
       "      <td>98343</td>\n",
       "      <td>151401</td>\n",
       "    </tr>\n",
       "    <tr>\n",
       "      <th>4</th>\n",
       "      <td>98343</td>\n",
       "      <td>157118</td>\n",
       "    </tr>\n",
       "  </tbody>\n",
       "</table>\n",
       "</div>"
      ],
      "text/plain": [
       "   numeric_id_1  numeric_id_2\n",
       "0         98343        141493\n",
       "1         98343         58736\n",
       "2         98343        140703\n",
       "3         98343        151401\n",
       "4         98343        157118"
      ]
     },
     "execution_count": 5,
     "metadata": {},
     "output_type": "execute_result"
    }
   ],
   "source": [
    "edge_dataset.head()"
   ]
  },
  {
   "cell_type": "code",
   "execution_count": 6,
   "id": "bb71cc72",
   "metadata": {},
   "outputs": [
    {
     "name": "stdout",
     "output_type": "stream",
     "text": [
      "<class 'pandas.core.frame.DataFrame'>\n",
      "RangeIndex: 168114 entries, 0 to 168113\n",
      "Data columns (total 9 columns):\n",
      " #   Column        Non-Null Count   Dtype \n",
      "---  ------        --------------   ----- \n",
      " 0   views         168114 non-null  int64 \n",
      " 1   mature        168114 non-null  int64 \n",
      " 2   life_time     168114 non-null  int64 \n",
      " 3   created_at    168114 non-null  object\n",
      " 4   updated_at    168114 non-null  object\n",
      " 5   numeric_id    168114 non-null  int64 \n",
      " 6   dead_account  168114 non-null  int64 \n",
      " 7   language      168114 non-null  object\n",
      " 8   affiliate     168114 non-null  int64 \n",
      "dtypes: int64(6), object(3)\n",
      "memory usage: 11.5+ MB\n"
     ]
    }
   ],
   "source": [
    "features_dataset.info()"
   ]
  },
  {
   "cell_type": "code",
   "execution_count": 7,
   "id": "8def383f",
   "metadata": {},
   "outputs": [
    {
     "data": {
      "text/html": [
       "<div>\n",
       "<style scoped>\n",
       "    .dataframe tbody tr th:only-of-type {\n",
       "        vertical-align: middle;\n",
       "    }\n",
       "\n",
       "    .dataframe tbody tr th {\n",
       "        vertical-align: top;\n",
       "    }\n",
       "\n",
       "    .dataframe thead th {\n",
       "        text-align: right;\n",
       "    }\n",
       "</style>\n",
       "<table border=\"1\" class=\"dataframe\">\n",
       "  <thead>\n",
       "    <tr style=\"text-align: right;\">\n",
       "      <th></th>\n",
       "      <th>views</th>\n",
       "      <th>mature</th>\n",
       "      <th>life_time</th>\n",
       "      <th>created_at</th>\n",
       "      <th>updated_at</th>\n",
       "      <th>numeric_id</th>\n",
       "      <th>dead_account</th>\n",
       "      <th>language</th>\n",
       "      <th>affiliate</th>\n",
       "    </tr>\n",
       "  </thead>\n",
       "  <tbody>\n",
       "    <tr>\n",
       "      <th>0</th>\n",
       "      <td>7879</td>\n",
       "      <td>1</td>\n",
       "      <td>969</td>\n",
       "      <td>2016-02-16</td>\n",
       "      <td>2018-10-12</td>\n",
       "      <td>0</td>\n",
       "      <td>0</td>\n",
       "      <td>EN</td>\n",
       "      <td>1</td>\n",
       "    </tr>\n",
       "    <tr>\n",
       "      <th>1</th>\n",
       "      <td>500</td>\n",
       "      <td>0</td>\n",
       "      <td>2699</td>\n",
       "      <td>2011-05-19</td>\n",
       "      <td>2018-10-08</td>\n",
       "      <td>1</td>\n",
       "      <td>0</td>\n",
       "      <td>EN</td>\n",
       "      <td>0</td>\n",
       "    </tr>\n",
       "    <tr>\n",
       "      <th>2</th>\n",
       "      <td>382502</td>\n",
       "      <td>1</td>\n",
       "      <td>3149</td>\n",
       "      <td>2010-02-27</td>\n",
       "      <td>2018-10-12</td>\n",
       "      <td>2</td>\n",
       "      <td>0</td>\n",
       "      <td>EN</td>\n",
       "      <td>1</td>\n",
       "    </tr>\n",
       "    <tr>\n",
       "      <th>3</th>\n",
       "      <td>386</td>\n",
       "      <td>0</td>\n",
       "      <td>1344</td>\n",
       "      <td>2015-01-26</td>\n",
       "      <td>2018-10-01</td>\n",
       "      <td>3</td>\n",
       "      <td>0</td>\n",
       "      <td>EN</td>\n",
       "      <td>0</td>\n",
       "    </tr>\n",
       "    <tr>\n",
       "      <th>4</th>\n",
       "      <td>2486</td>\n",
       "      <td>0</td>\n",
       "      <td>1784</td>\n",
       "      <td>2013-11-22</td>\n",
       "      <td>2018-10-11</td>\n",
       "      <td>4</td>\n",
       "      <td>0</td>\n",
       "      <td>EN</td>\n",
       "      <td>0</td>\n",
       "    </tr>\n",
       "  </tbody>\n",
       "</table>\n",
       "</div>"
      ],
      "text/plain": [
       "    views  mature  life_time  created_at  updated_at  numeric_id  \\\n",
       "0    7879       1        969  2016-02-16  2018-10-12           0   \n",
       "1     500       0       2699  2011-05-19  2018-10-08           1   \n",
       "2  382502       1       3149  2010-02-27  2018-10-12           2   \n",
       "3     386       0       1344  2015-01-26  2018-10-01           3   \n",
       "4    2486       0       1784  2013-11-22  2018-10-11           4   \n",
       "\n",
       "   dead_account language  affiliate  \n",
       "0             0       EN          1  \n",
       "1             0       EN          0  \n",
       "2             0       EN          1  \n",
       "3             0       EN          0  \n",
       "4             0       EN          0  "
      ]
     },
     "execution_count": 7,
     "metadata": {},
     "output_type": "execute_result"
    }
   ],
   "source": [
    "features_dataset.head()"
   ]
  },
  {
   "cell_type": "code",
   "execution_count": 8,
   "id": "eb57e200",
   "metadata": {},
   "outputs": [],
   "source": [
    "features_dataset = features_dataset.set_index('numeric_id')"
   ]
  },
  {
   "cell_type": "code",
   "execution_count": 9,
   "id": "e8d97d0e",
   "metadata": {},
   "outputs": [
    {
     "data": {
      "text/html": [
       "<div>\n",
       "<style scoped>\n",
       "    .dataframe tbody tr th:only-of-type {\n",
       "        vertical-align: middle;\n",
       "    }\n",
       "\n",
       "    .dataframe tbody tr th {\n",
       "        vertical-align: top;\n",
       "    }\n",
       "\n",
       "    .dataframe thead th {\n",
       "        text-align: right;\n",
       "    }\n",
       "</style>\n",
       "<table border=\"1\" class=\"dataframe\">\n",
       "  <thead>\n",
       "    <tr style=\"text-align: right;\">\n",
       "      <th></th>\n",
       "      <th>views</th>\n",
       "      <th>mature</th>\n",
       "      <th>life_time</th>\n",
       "      <th>created_at</th>\n",
       "      <th>updated_at</th>\n",
       "      <th>dead_account</th>\n",
       "      <th>language</th>\n",
       "      <th>affiliate</th>\n",
       "    </tr>\n",
       "    <tr>\n",
       "      <th>numeric_id</th>\n",
       "      <th></th>\n",
       "      <th></th>\n",
       "      <th></th>\n",
       "      <th></th>\n",
       "      <th></th>\n",
       "      <th></th>\n",
       "      <th></th>\n",
       "      <th></th>\n",
       "    </tr>\n",
       "  </thead>\n",
       "  <tbody>\n",
       "    <tr>\n",
       "      <th>0</th>\n",
       "      <td>7879</td>\n",
       "      <td>1</td>\n",
       "      <td>969</td>\n",
       "      <td>2016-02-16</td>\n",
       "      <td>2018-10-12</td>\n",
       "      <td>0</td>\n",
       "      <td>EN</td>\n",
       "      <td>1</td>\n",
       "    </tr>\n",
       "    <tr>\n",
       "      <th>1</th>\n",
       "      <td>500</td>\n",
       "      <td>0</td>\n",
       "      <td>2699</td>\n",
       "      <td>2011-05-19</td>\n",
       "      <td>2018-10-08</td>\n",
       "      <td>0</td>\n",
       "      <td>EN</td>\n",
       "      <td>0</td>\n",
       "    </tr>\n",
       "    <tr>\n",
       "      <th>2</th>\n",
       "      <td>382502</td>\n",
       "      <td>1</td>\n",
       "      <td>3149</td>\n",
       "      <td>2010-02-27</td>\n",
       "      <td>2018-10-12</td>\n",
       "      <td>0</td>\n",
       "      <td>EN</td>\n",
       "      <td>1</td>\n",
       "    </tr>\n",
       "    <tr>\n",
       "      <th>3</th>\n",
       "      <td>386</td>\n",
       "      <td>0</td>\n",
       "      <td>1344</td>\n",
       "      <td>2015-01-26</td>\n",
       "      <td>2018-10-01</td>\n",
       "      <td>0</td>\n",
       "      <td>EN</td>\n",
       "      <td>0</td>\n",
       "    </tr>\n",
       "    <tr>\n",
       "      <th>4</th>\n",
       "      <td>2486</td>\n",
       "      <td>0</td>\n",
       "      <td>1784</td>\n",
       "      <td>2013-11-22</td>\n",
       "      <td>2018-10-11</td>\n",
       "      <td>0</td>\n",
       "      <td>EN</td>\n",
       "      <td>0</td>\n",
       "    </tr>\n",
       "  </tbody>\n",
       "</table>\n",
       "</div>"
      ],
      "text/plain": [
       "             views  mature  life_time  created_at  updated_at  dead_account  \\\n",
       "numeric_id                                                                    \n",
       "0             7879       1        969  2016-02-16  2018-10-12             0   \n",
       "1              500       0       2699  2011-05-19  2018-10-08             0   \n",
       "2           382502       1       3149  2010-02-27  2018-10-12             0   \n",
       "3              386       0       1344  2015-01-26  2018-10-01             0   \n",
       "4             2486       0       1784  2013-11-22  2018-10-11             0   \n",
       "\n",
       "           language  affiliate  \n",
       "numeric_id                      \n",
       "0                EN          1  \n",
       "1                EN          0  \n",
       "2                EN          1  \n",
       "3                EN          0  \n",
       "4                EN          0  "
      ]
     },
     "execution_count": 9,
     "metadata": {},
     "output_type": "execute_result"
    }
   ],
   "source": [
    "features_dataset.head()"
   ]
  },
  {
   "cell_type": "code",
   "execution_count": 10,
   "id": "549fa554",
   "metadata": {},
   "outputs": [
    {
     "data": {
      "text/html": [
       "<div>\n",
       "<style scoped>\n",
       "    .dataframe tbody tr th:only-of-type {\n",
       "        vertical-align: middle;\n",
       "    }\n",
       "\n",
       "    .dataframe tbody tr th {\n",
       "        vertical-align: top;\n",
       "    }\n",
       "\n",
       "    .dataframe thead th {\n",
       "        text-align: right;\n",
       "    }\n",
       "</style>\n",
       "<table border=\"1\" class=\"dataframe\">\n",
       "  <thead>\n",
       "    <tr style=\"text-align: right;\">\n",
       "      <th></th>\n",
       "      <th>numeric_id_1</th>\n",
       "      <th>numeric_id_2</th>\n",
       "    </tr>\n",
       "  </thead>\n",
       "  <tbody>\n",
       "    <tr>\n",
       "      <th>count</th>\n",
       "      <td>6.797557e+06</td>\n",
       "      <td>6.797557e+06</td>\n",
       "    </tr>\n",
       "    <tr>\n",
       "      <th>mean</th>\n",
       "      <td>8.382801e+04</td>\n",
       "      <td>8.401523e+04</td>\n",
       "    </tr>\n",
       "    <tr>\n",
       "      <th>std</th>\n",
       "      <td>4.820513e+04</td>\n",
       "      <td>4.852719e+04</td>\n",
       "    </tr>\n",
       "    <tr>\n",
       "      <th>min</th>\n",
       "      <td>0.000000e+00</td>\n",
       "      <td>0.000000e+00</td>\n",
       "    </tr>\n",
       "    <tr>\n",
       "      <th>25%</th>\n",
       "      <td>4.221700e+04</td>\n",
       "      <td>4.204500e+04</td>\n",
       "    </tr>\n",
       "    <tr>\n",
       "      <th>50%</th>\n",
       "      <td>8.354600e+04</td>\n",
       "      <td>8.385100e+04</td>\n",
       "    </tr>\n",
       "    <tr>\n",
       "      <th>75%</th>\n",
       "      <td>1.256420e+05</td>\n",
       "      <td>1.259570e+05</td>\n",
       "    </tr>\n",
       "    <tr>\n",
       "      <th>max</th>\n",
       "      <td>1.681120e+05</td>\n",
       "      <td>1.681130e+05</td>\n",
       "    </tr>\n",
       "  </tbody>\n",
       "</table>\n",
       "</div>"
      ],
      "text/plain": [
       "       numeric_id_1  numeric_id_2\n",
       "count  6.797557e+06  6.797557e+06\n",
       "mean   8.382801e+04  8.401523e+04\n",
       "std    4.820513e+04  4.852719e+04\n",
       "min    0.000000e+00  0.000000e+00\n",
       "25%    4.221700e+04  4.204500e+04\n",
       "50%    8.354600e+04  8.385100e+04\n",
       "75%    1.256420e+05  1.259570e+05\n",
       "max    1.681120e+05  1.681130e+05"
      ]
     },
     "execution_count": 10,
     "metadata": {},
     "output_type": "execute_result"
    }
   ],
   "source": [
    "edge_dataset.describe()"
   ]
  },
  {
   "cell_type": "code",
   "execution_count": 11,
   "id": "82fafdec",
   "metadata": {},
   "outputs": [],
   "source": [
    "merged_dataset = pd.merge(edge_dataset, features_dataset,left_on='numeric_id_1',right_on='numeric_id')"
   ]
  },
  {
   "cell_type": "code",
   "execution_count": 12,
   "id": "98968e92",
   "metadata": {},
   "outputs": [
    {
     "data": {
      "text/html": [
       "<div>\n",
       "<style scoped>\n",
       "    .dataframe tbody tr th:only-of-type {\n",
       "        vertical-align: middle;\n",
       "    }\n",
       "\n",
       "    .dataframe tbody tr th {\n",
       "        vertical-align: top;\n",
       "    }\n",
       "\n",
       "    .dataframe thead th {\n",
       "        text-align: right;\n",
       "    }\n",
       "</style>\n",
       "<table border=\"1\" class=\"dataframe\">\n",
       "  <thead>\n",
       "    <tr style=\"text-align: right;\">\n",
       "      <th></th>\n",
       "      <th>numeric_id_2</th>\n",
       "      <th>views</th>\n",
       "      <th>mature</th>\n",
       "      <th>life_time</th>\n",
       "      <th>created_at</th>\n",
       "      <th>updated_at</th>\n",
       "      <th>dead_account</th>\n",
       "      <th>language</th>\n",
       "      <th>affiliate</th>\n",
       "    </tr>\n",
       "    <tr>\n",
       "      <th>numeric_id_1</th>\n",
       "      <th></th>\n",
       "      <th></th>\n",
       "      <th></th>\n",
       "      <th></th>\n",
       "      <th></th>\n",
       "      <th></th>\n",
       "      <th></th>\n",
       "      <th></th>\n",
       "      <th></th>\n",
       "    </tr>\n",
       "  </thead>\n",
       "  <tbody>\n",
       "    <tr>\n",
       "      <th>98343</th>\n",
       "      <td>141493</td>\n",
       "      <td>282</td>\n",
       "      <td>0</td>\n",
       "      <td>2086</td>\n",
       "      <td>2012-12-27</td>\n",
       "      <td>2018-09-13</td>\n",
       "      <td>0</td>\n",
       "      <td>EN</td>\n",
       "      <td>0</td>\n",
       "    </tr>\n",
       "    <tr>\n",
       "      <th>98343</th>\n",
       "      <td>58736</td>\n",
       "      <td>282</td>\n",
       "      <td>0</td>\n",
       "      <td>2086</td>\n",
       "      <td>2012-12-27</td>\n",
       "      <td>2018-09-13</td>\n",
       "      <td>0</td>\n",
       "      <td>EN</td>\n",
       "      <td>0</td>\n",
       "    </tr>\n",
       "    <tr>\n",
       "      <th>98343</th>\n",
       "      <td>140703</td>\n",
       "      <td>282</td>\n",
       "      <td>0</td>\n",
       "      <td>2086</td>\n",
       "      <td>2012-12-27</td>\n",
       "      <td>2018-09-13</td>\n",
       "      <td>0</td>\n",
       "      <td>EN</td>\n",
       "      <td>0</td>\n",
       "    </tr>\n",
       "    <tr>\n",
       "      <th>98343</th>\n",
       "      <td>151401</td>\n",
       "      <td>282</td>\n",
       "      <td>0</td>\n",
       "      <td>2086</td>\n",
       "      <td>2012-12-27</td>\n",
       "      <td>2018-09-13</td>\n",
       "      <td>0</td>\n",
       "      <td>EN</td>\n",
       "      <td>0</td>\n",
       "    </tr>\n",
       "    <tr>\n",
       "      <th>98343</th>\n",
       "      <td>157118</td>\n",
       "      <td>282</td>\n",
       "      <td>0</td>\n",
       "      <td>2086</td>\n",
       "      <td>2012-12-27</td>\n",
       "      <td>2018-09-13</td>\n",
       "      <td>0</td>\n",
       "      <td>EN</td>\n",
       "      <td>0</td>\n",
       "    </tr>\n",
       "  </tbody>\n",
       "</table>\n",
       "</div>"
      ],
      "text/plain": [
       "              numeric_id_2  views  mature  life_time  created_at  updated_at  \\\n",
       "numeric_id_1                                                                   \n",
       "98343               141493    282       0       2086  2012-12-27  2018-09-13   \n",
       "98343                58736    282       0       2086  2012-12-27  2018-09-13   \n",
       "98343               140703    282       0       2086  2012-12-27  2018-09-13   \n",
       "98343               151401    282       0       2086  2012-12-27  2018-09-13   \n",
       "98343               157118    282       0       2086  2012-12-27  2018-09-13   \n",
       "\n",
       "              dead_account language  affiliate  \n",
       "numeric_id_1                                    \n",
       "98343                    0       EN          0  \n",
       "98343                    0       EN          0  \n",
       "98343                    0       EN          0  \n",
       "98343                    0       EN          0  \n",
       "98343                    0       EN          0  "
      ]
     },
     "execution_count": 12,
     "metadata": {},
     "output_type": "execute_result"
    }
   ],
   "source": [
    "merged_dataset = merged_dataset.set_index('numeric_id_1')\n",
    "merged_dataset.head()"
   ]
  },
  {
   "cell_type": "code",
   "execution_count": 13,
   "id": "d3447916",
   "metadata": {},
   "outputs": [
    {
     "name": "stdout",
     "output_type": "stream",
     "text": [
      "<class 'pandas.core.frame.DataFrame'>\n",
      "Int64Index: 6797557 entries, 98343 to 27819\n",
      "Data columns (total 9 columns):\n",
      " #   Column        Dtype \n",
      "---  ------        ----- \n",
      " 0   numeric_id_2  int64 \n",
      " 1   views         int64 \n",
      " 2   mature        int64 \n",
      " 3   life_time     int64 \n",
      " 4   created_at    object\n",
      " 5   updated_at    object\n",
      " 6   dead_account  int64 \n",
      " 7   language      object\n",
      " 8   affiliate     int64 \n",
      "dtypes: int64(6), object(3)\n",
      "memory usage: 518.6+ MB\n"
     ]
    }
   ],
   "source": [
    "merged_dataset.info()"
   ]
  },
  {
   "cell_type": "code",
   "execution_count": 14,
   "id": "0f58f98f",
   "metadata": {},
   "outputs": [
    {
     "data": {
      "text/html": [
       "<div>\n",
       "<style scoped>\n",
       "    .dataframe tbody tr th:only-of-type {\n",
       "        vertical-align: middle;\n",
       "    }\n",
       "\n",
       "    .dataframe tbody tr th {\n",
       "        vertical-align: top;\n",
       "    }\n",
       "\n",
       "    .dataframe thead th {\n",
       "        text-align: right;\n",
       "    }\n",
       "</style>\n",
       "<table border=\"1\" class=\"dataframe\">\n",
       "  <thead>\n",
       "    <tr style=\"text-align: right;\">\n",
       "      <th></th>\n",
       "      <th>numeric_id_2</th>\n",
       "      <th>views</th>\n",
       "      <th>mature</th>\n",
       "      <th>life_time</th>\n",
       "      <th>dead_account</th>\n",
       "      <th>affiliate</th>\n",
       "    </tr>\n",
       "  </thead>\n",
       "  <tbody>\n",
       "    <tr>\n",
       "      <th>count</th>\n",
       "      <td>6.797557e+06</td>\n",
       "      <td>6.797557e+06</td>\n",
       "      <td>6.797557e+06</td>\n",
       "      <td>6.797557e+06</td>\n",
       "      <td>6.797557e+06</td>\n",
       "      <td>6.797557e+06</td>\n",
       "    </tr>\n",
       "    <tr>\n",
       "      <th>mean</th>\n",
       "      <td>8.401523e+04</td>\n",
       "      <td>1.671707e+07</td>\n",
       "      <td>4.857826e-01</td>\n",
       "      <td>1.981736e+03</td>\n",
       "      <td>2.065448e-03</td>\n",
       "      <td>3.226697e-01</td>\n",
       "    </tr>\n",
       "    <tr>\n",
       "      <th>std</th>\n",
       "      <td>4.852719e+04</td>\n",
       "      <td>5.046552e+07</td>\n",
       "      <td>4.997979e-01</td>\n",
       "      <td>7.567212e+02</td>\n",
       "      <td>4.540024e-02</td>\n",
       "      <td>4.674976e-01</td>\n",
       "    </tr>\n",
       "    <tr>\n",
       "      <th>min</th>\n",
       "      <td>0.000000e+00</td>\n",
       "      <td>0.000000e+00</td>\n",
       "      <td>0.000000e+00</td>\n",
       "      <td>3.400000e+01</td>\n",
       "      <td>0.000000e+00</td>\n",
       "      <td>0.000000e+00</td>\n",
       "    </tr>\n",
       "    <tr>\n",
       "      <th>25%</th>\n",
       "      <td>4.204500e+04</td>\n",
       "      <td>2.096400e+04</td>\n",
       "      <td>0.000000e+00</td>\n",
       "      <td>1.447000e+03</td>\n",
       "      <td>0.000000e+00</td>\n",
       "      <td>0.000000e+00</td>\n",
       "    </tr>\n",
       "    <tr>\n",
       "      <th>50%</th>\n",
       "      <td>8.385100e+04</td>\n",
       "      <td>4.370550e+05</td>\n",
       "      <td>0.000000e+00</td>\n",
       "      <td>1.976000e+03</td>\n",
       "      <td>0.000000e+00</td>\n",
       "      <td>0.000000e+00</td>\n",
       "    </tr>\n",
       "    <tr>\n",
       "      <th>75%</th>\n",
       "      <td>1.259570e+05</td>\n",
       "      <td>6.237401e+06</td>\n",
       "      <td>1.000000e+00</td>\n",
       "      <td>2.502000e+03</td>\n",
       "      <td>0.000000e+00</td>\n",
       "      <td>1.000000e+00</td>\n",
       "    </tr>\n",
       "    <tr>\n",
       "      <th>max</th>\n",
       "      <td>1.681130e+05</td>\n",
       "      <td>3.843966e+08</td>\n",
       "      <td>1.000000e+00</td>\n",
       "      <td>4.161000e+03</td>\n",
       "      <td>1.000000e+00</td>\n",
       "      <td>1.000000e+00</td>\n",
       "    </tr>\n",
       "  </tbody>\n",
       "</table>\n",
       "</div>"
      ],
      "text/plain": [
       "       numeric_id_2         views        mature     life_time  dead_account  \\\n",
       "count  6.797557e+06  6.797557e+06  6.797557e+06  6.797557e+06  6.797557e+06   \n",
       "mean   8.401523e+04  1.671707e+07  4.857826e-01  1.981736e+03  2.065448e-03   \n",
       "std    4.852719e+04  5.046552e+07  4.997979e-01  7.567212e+02  4.540024e-02   \n",
       "min    0.000000e+00  0.000000e+00  0.000000e+00  3.400000e+01  0.000000e+00   \n",
       "25%    4.204500e+04  2.096400e+04  0.000000e+00  1.447000e+03  0.000000e+00   \n",
       "50%    8.385100e+04  4.370550e+05  0.000000e+00  1.976000e+03  0.000000e+00   \n",
       "75%    1.259570e+05  6.237401e+06  1.000000e+00  2.502000e+03  0.000000e+00   \n",
       "max    1.681130e+05  3.843966e+08  1.000000e+00  4.161000e+03  1.000000e+00   \n",
       "\n",
       "          affiliate  \n",
       "count  6.797557e+06  \n",
       "mean   3.226697e-01  \n",
       "std    4.674976e-01  \n",
       "min    0.000000e+00  \n",
       "25%    0.000000e+00  \n",
       "50%    0.000000e+00  \n",
       "75%    1.000000e+00  \n",
       "max    1.000000e+00  "
      ]
     },
     "execution_count": 14,
     "metadata": {},
     "output_type": "execute_result"
    }
   ],
   "source": [
    "merged_dataset.describe()"
   ]
  },
  {
   "cell_type": "markdown",
   "id": "c09ec9f9",
   "metadata": {},
   "source": [
    "**Converting Dataset to Pytorch Geometric Data**"
   ]
  },
  {
   "cell_type": "code",
   "execution_count": 15,
   "id": "bc9b0b70",
   "metadata": {},
   "outputs": [
    {
     "name": "stdout",
     "output_type": "stream",
     "text": [
      "<class 'pandas.core.frame.DataFrame'>\n",
      "Int64Index: 168114 entries, 0 to 168113\n",
      "Data columns (total 8 columns):\n",
      " #   Column        Non-Null Count   Dtype \n",
      "---  ------        --------------   ----- \n",
      " 0   views         168114 non-null  int64 \n",
      " 1   mature        168114 non-null  int64 \n",
      " 2   life_time     168114 non-null  int64 \n",
      " 3   created_at    168114 non-null  object\n",
      " 4   updated_at    168114 non-null  object\n",
      " 5   dead_account  168114 non-null  int64 \n",
      " 6   language      168114 non-null  object\n",
      " 7   affiliate     168114 non-null  int64 \n",
      "dtypes: int64(5), object(3)\n",
      "memory usage: 11.5+ MB\n"
     ]
    }
   ],
   "source": [
    "features_dataset.info()"
   ]
  },
  {
   "cell_type": "code",
   "execution_count": 16,
   "id": "021b8a51",
   "metadata": {},
   "outputs": [
    {
     "data": {
      "text/plain": [
       "array(['EN', 'FR', 'KO', 'JA', 'RU', 'PL', 'DE', 'ES', 'IT', 'PT',\n",
       "       'OTHER', 'TR', 'ZH', 'SV', 'NL', 'TH', 'CS', 'DA', 'HU', 'FI',\n",
       "       'NO'], dtype=object)"
      ]
     },
     "execution_count": 16,
     "metadata": {},
     "output_type": "execute_result"
    }
   ],
   "source": [
    "features_dataset['language'].unique()"
   ]
  },
  {
   "cell_type": "code",
   "execution_count": 17,
   "id": "d41f996d",
   "metadata": {},
   "outputs": [
    {
     "name": "stdout",
     "output_type": "stream",
     "text": [
      "<class 'pandas.core.frame.DataFrame'>\n",
      "Int64Index: 168114 entries, 0 to 168113\n",
      "Data columns (total 8 columns):\n",
      " #   Column        Non-Null Count   Dtype \n",
      "---  ------        --------------   ----- \n",
      " 0   views         168114 non-null  int64 \n",
      " 1   mature        168114 non-null  int64 \n",
      " 2   life_time     168114 non-null  int64 \n",
      " 3   created_at    168114 non-null  object\n",
      " 4   updated_at    168114 non-null  object\n",
      " 5   dead_account  168114 non-null  int64 \n",
      " 6   language      168114 non-null  int32 \n",
      " 7   affiliate     168114 non-null  int64 \n",
      "dtypes: int32(1), int64(5), object(2)\n",
      "memory usage: 10.9+ MB\n"
     ]
    }
   ],
   "source": [
    "languages = ['EN', 'FR', 'KO', 'JA', 'RU', 'PL', 'DE', 'ES', 'IT', 'PT',\n",
    "       'OTHER', 'TR', 'ZH', 'SV', 'NL', 'TH', 'CS', 'DA', 'HU', 'FI',\n",
    "       'NO']\n",
    "\n",
    "from sklearn.preprocessing import LabelEncoder\n",
    "\n",
    "def encode_df(dataframe):\n",
    "    le = LabelEncoder()\n",
    "    features_dataset['language'] = le.fit_transform(features_dataset['language'])\n",
    "    return dataframe\n",
    "\n",
    "#encode the dataframe\n",
    "features_dataset = encode_df(features_dataset)\n",
    "features_dataset.info()"
   ]
  },
  {
   "cell_type": "code",
   "execution_count": 18,
   "id": "dae6f083",
   "metadata": {},
   "outputs": [],
   "source": [
    "node_features = features_dataset[[\"views\",\"mature\",\"life_time\",\"created_at\",\"updated_at\"]]"
   ]
  },
  {
   "cell_type": "code",
   "execution_count": 19,
   "id": "5b83df2a",
   "metadata": {},
   "outputs": [
    {
     "name": "stderr",
     "output_type": "stream",
     "text": [
      "C:\\Users\\jayas\\AppData\\Local\\Temp\\ipykernel_26696\\1920044232.py:1: SettingWithCopyWarning: \n",
      "A value is trying to be set on a copy of a slice from a DataFrame.\n",
      "Try using .loc[row_indexer,col_indexer] = value instead\n",
      "\n",
      "See the caveats in the documentation: https://pandas.pydata.org/pandas-docs/stable/user_guide/indexing.html#returning-a-view-versus-a-copy\n",
      "  node_features[[\"created_year\", \"created_month\", \"created_day\"]] = node_features[\"created_at\"].str.split(\"-\", expand = True).astype('int32')\n",
      "C:\\Users\\jayas\\AppData\\Local\\Temp\\ipykernel_26696\\1920044232.py:1: SettingWithCopyWarning: \n",
      "A value is trying to be set on a copy of a slice from a DataFrame.\n",
      "Try using .loc[row_indexer,col_indexer] = value instead\n",
      "\n",
      "See the caveats in the documentation: https://pandas.pydata.org/pandas-docs/stable/user_guide/indexing.html#returning-a-view-versus-a-copy\n",
      "  node_features[[\"created_year\", \"created_month\", \"created_day\"]] = node_features[\"created_at\"].str.split(\"-\", expand = True).astype('int32')\n"
     ]
    }
   ],
   "source": [
    "node_features[[\"created_year\", \"created_month\", \"created_day\"]] = node_features[\"created_at\"].str.split(\"-\", expand = True).astype('int32')\n",
    "node_features[[\"updated_year\", \"updated_month\", \"updated_day\"]] = node_features[\"updated_at\"].str.split(\"-\", expand = True).astype('int32')\n",
    "\n",
    "node_features = node_features.drop(['created_at','updated_at'],axis=1)"
   ]
  },
  {
   "cell_type": "code",
   "execution_count": 20,
   "id": "d1fbd53d",
   "metadata": {},
   "outputs": [
    {
     "data": {
      "text/html": [
       "<div>\n",
       "<style scoped>\n",
       "    .dataframe tbody tr th:only-of-type {\n",
       "        vertical-align: middle;\n",
       "    }\n",
       "\n",
       "    .dataframe tbody tr th {\n",
       "        vertical-align: top;\n",
       "    }\n",
       "\n",
       "    .dataframe thead th {\n",
       "        text-align: right;\n",
       "    }\n",
       "</style>\n",
       "<table border=\"1\" class=\"dataframe\">\n",
       "  <thead>\n",
       "    <tr style=\"text-align: right;\">\n",
       "      <th></th>\n",
       "      <th>views</th>\n",
       "      <th>mature</th>\n",
       "      <th>life_time</th>\n",
       "      <th>created_year</th>\n",
       "      <th>created_month</th>\n",
       "      <th>created_day</th>\n",
       "      <th>updated_year</th>\n",
       "      <th>updated_month</th>\n",
       "      <th>updated_day</th>\n",
       "    </tr>\n",
       "    <tr>\n",
       "      <th>numeric_id</th>\n",
       "      <th></th>\n",
       "      <th></th>\n",
       "      <th></th>\n",
       "      <th></th>\n",
       "      <th></th>\n",
       "      <th></th>\n",
       "      <th></th>\n",
       "      <th></th>\n",
       "      <th></th>\n",
       "    </tr>\n",
       "  </thead>\n",
       "  <tbody>\n",
       "    <tr>\n",
       "      <th>0</th>\n",
       "      <td>7879</td>\n",
       "      <td>1</td>\n",
       "      <td>969</td>\n",
       "      <td>2016</td>\n",
       "      <td>2</td>\n",
       "      <td>16</td>\n",
       "      <td>2018</td>\n",
       "      <td>10</td>\n",
       "      <td>12</td>\n",
       "    </tr>\n",
       "    <tr>\n",
       "      <th>1</th>\n",
       "      <td>500</td>\n",
       "      <td>0</td>\n",
       "      <td>2699</td>\n",
       "      <td>2011</td>\n",
       "      <td>5</td>\n",
       "      <td>19</td>\n",
       "      <td>2018</td>\n",
       "      <td>10</td>\n",
       "      <td>8</td>\n",
       "    </tr>\n",
       "    <tr>\n",
       "      <th>2</th>\n",
       "      <td>382502</td>\n",
       "      <td>1</td>\n",
       "      <td>3149</td>\n",
       "      <td>2010</td>\n",
       "      <td>2</td>\n",
       "      <td>27</td>\n",
       "      <td>2018</td>\n",
       "      <td>10</td>\n",
       "      <td>12</td>\n",
       "    </tr>\n",
       "    <tr>\n",
       "      <th>3</th>\n",
       "      <td>386</td>\n",
       "      <td>0</td>\n",
       "      <td>1344</td>\n",
       "      <td>2015</td>\n",
       "      <td>1</td>\n",
       "      <td>26</td>\n",
       "      <td>2018</td>\n",
       "      <td>10</td>\n",
       "      <td>1</td>\n",
       "    </tr>\n",
       "    <tr>\n",
       "      <th>4</th>\n",
       "      <td>2486</td>\n",
       "      <td>0</td>\n",
       "      <td>1784</td>\n",
       "      <td>2013</td>\n",
       "      <td>11</td>\n",
       "      <td>22</td>\n",
       "      <td>2018</td>\n",
       "      <td>10</td>\n",
       "      <td>11</td>\n",
       "    </tr>\n",
       "  </tbody>\n",
       "</table>\n",
       "</div>"
      ],
      "text/plain": [
       "             views  mature  life_time  created_year  created_month  \\\n",
       "numeric_id                                                           \n",
       "0             7879       1        969          2016              2   \n",
       "1              500       0       2699          2011              5   \n",
       "2           382502       1       3149          2010              2   \n",
       "3              386       0       1344          2015              1   \n",
       "4             2486       0       1784          2013             11   \n",
       "\n",
       "            created_day  updated_year  updated_month  updated_day  \n",
       "numeric_id                                                         \n",
       "0                    16          2018             10           12  \n",
       "1                    19          2018             10            8  \n",
       "2                    27          2018             10           12  \n",
       "3                    26          2018             10            1  \n",
       "4                    22          2018             10           11  "
      ]
     },
     "execution_count": 20,
     "metadata": {},
     "output_type": "execute_result"
    }
   ],
   "source": [
    "# node_features['created_at'] = pd.to_datetime(node_features['created_at']).astype('int64')/ 10**9\n",
    "# node_features['updated_at'] = pd.to_datetime(node_features['updated_at']).astype('int64')/ 10**9\n",
    "node_features.head()"
   ]
  },
  {
   "cell_type": "code",
   "execution_count": 21,
   "id": "b7c64d5a",
   "metadata": {},
   "outputs": [
    {
     "name": "stdout",
     "output_type": "stream",
     "text": [
      "<class 'pandas.core.frame.DataFrame'>\n",
      "Int64Index: 168114 entries, 0 to 168113\n",
      "Data columns (total 9 columns):\n",
      " #   Column         Non-Null Count   Dtype  \n",
      "---  ------         --------------   -----  \n",
      " 0   views          168114 non-null  float32\n",
      " 1   mature         168114 non-null  float32\n",
      " 2   life_time      168114 non-null  float32\n",
      " 3   created_year   168114 non-null  float32\n",
      " 4   created_month  168114 non-null  float32\n",
      " 5   created_day    168114 non-null  float32\n",
      " 6   updated_year   168114 non-null  float32\n",
      " 7   updated_month  168114 non-null  float32\n",
      " 8   updated_day    168114 non-null  float32\n",
      "dtypes: float32(9)\n",
      "memory usage: 7.1 MB\n"
     ]
    }
   ],
   "source": [
    "node_features = node_features.astype('float32')\n",
    "node_features.info()"
   ]
  },
  {
   "cell_type": "code",
   "execution_count": 22,
   "id": "8e38b9e7",
   "metadata": {},
   "outputs": [
    {
     "data": {
      "text/plain": [
       "torch.Size([168114, 9])"
      ]
     },
     "execution_count": 22,
     "metadata": {},
     "output_type": "execute_result"
    }
   ],
   "source": [
    "x =  torch.from_numpy(node_features.to_numpy())\n",
    "x.shape # [num_nodes x num_features]"
   ]
  },
  {
   "cell_type": "code",
   "execution_count": 23,
   "id": "eb31b92c",
   "metadata": {},
   "outputs": [
    {
     "data": {
      "text/plain": [
       "torch.float32"
      ]
     },
     "execution_count": 23,
     "metadata": {},
     "output_type": "execute_result"
    }
   ],
   "source": [
    "x.dtype"
   ]
  },
  {
   "cell_type": "code",
   "execution_count": 24,
   "id": "cd671e23",
   "metadata": {},
   "outputs": [
    {
     "name": "stdout",
     "output_type": "stream",
     "text": [
      "<class 'pandas.core.frame.DataFrame'>\n",
      "Int64Index: 168114 entries, 0 to 168113\n",
      "Data columns (total 3 columns):\n",
      " #   Column        Non-Null Count   Dtype\n",
      "---  ------        --------------   -----\n",
      " 0   dead_account  168114 non-null  int64\n",
      " 1   language      168114 non-null  int64\n",
      " 2   affiliate     168114 non-null  int64\n",
      "dtypes: int64(3)\n",
      "memory usage: 5.1 MB\n"
     ]
    }
   ],
   "source": [
    "features_dataset[[\"dead_account\",\"language\",\"affiliate\"]] = features_dataset[[\"dead_account\",\"language\",\"affiliate\"]].astype('int64')\n",
    "features_dataset[[\"dead_account\",\"language\",\"affiliate\"]].info()"
   ]
  },
  {
   "cell_type": "code",
   "execution_count": null,
   "id": "3c32e644",
   "metadata": {},
   "outputs": [],
   "source": []
  },
  {
   "cell_type": "code",
   "execution_count": 92,
   "id": "00101df7",
   "metadata": {},
   "outputs": [
    {
     "data": {
      "text/plain": [
       "torch.Size([168114, 1])"
      ]
     },
     "execution_count": 92,
     "metadata": {},
     "output_type": "execute_result"
    }
   ],
   "source": [
    "# Select node features\n",
    "labels = features_dataset[[\"dead_account\"]]\n",
    "labels.head()\n",
    "\n",
    "# labels = labels.astype(float)\n",
    "\n",
    "# Convert to numpy\n",
    "y =  torch.from_numpy(labels.to_numpy())\n",
    "y.shape # [num_nodes, 1] --> node regression"
   ]
  },
  {
   "cell_type": "code",
   "execution_count": 93,
   "id": "890fbe06",
   "metadata": {},
   "outputs": [],
   "source": [
    "y = y.reshape(-1,)"
   ]
  },
  {
   "cell_type": "code",
   "execution_count": 94,
   "id": "a6d14119",
   "metadata": {},
   "outputs": [
    {
     "data": {
      "text/plain": [
       "torch.Size([168114])"
      ]
     },
     "execution_count": 94,
     "metadata": {},
     "output_type": "execute_result"
    }
   ],
   "source": [
    "y.shape"
   ]
  },
  {
   "cell_type": "code",
   "execution_count": 95,
   "id": "d23129e4",
   "metadata": {},
   "outputs": [
    {
     "data": {
      "text/plain": [
       "dead_account    int64\n",
       "dtype: object"
      ]
     },
     "execution_count": 95,
     "metadata": {},
     "output_type": "execute_result"
    }
   ],
   "source": [
    "labels.dtypes"
   ]
  },
  {
   "cell_type": "code",
   "execution_count": 29,
   "id": "a8e149ce",
   "metadata": {},
   "outputs": [],
   "source": [
    "edge_dataset = edge_dataset.astype('int64')"
   ]
  },
  {
   "cell_type": "code",
   "execution_count": 30,
   "id": "9ebdaa23",
   "metadata": {},
   "outputs": [
    {
     "data": {
      "text/plain": [
       "numeric_id_1    int64\n",
       "numeric_id_2    int64\n",
       "dtype: object"
      ]
     },
     "execution_count": 30,
     "metadata": {},
     "output_type": "execute_result"
    }
   ],
   "source": [
    "edge_dataset.dtypes"
   ]
  },
  {
   "cell_type": "code",
   "execution_count": 31,
   "id": "dd3885c4",
   "metadata": {},
   "outputs": [],
   "source": [
    "edge_dataset = edge_dataset.sort_values(by=['numeric_id_1'])"
   ]
  },
  {
   "cell_type": "code",
   "execution_count": 32,
   "id": "79060b42",
   "metadata": {},
   "outputs": [],
   "source": [
    "edge_index = edge_dataset.transpose()"
   ]
  },
  {
   "cell_type": "code",
   "execution_count": 33,
   "id": "c2f93342",
   "metadata": {},
   "outputs": [
    {
     "data": {
      "text/plain": [
       "array([dtype('int64')], dtype=object)"
      ]
     },
     "execution_count": 33,
     "metadata": {},
     "output_type": "execute_result"
    }
   ],
   "source": [
    "edge_index.dtypes.unique()"
   ]
  },
  {
   "cell_type": "code",
   "execution_count": 34,
   "id": "1e3b210b",
   "metadata": {},
   "outputs": [
    {
     "name": "stdout",
     "output_type": "stream",
     "text": [
      "torch.Size([2, 6797557])\n"
     ]
    }
   ],
   "source": [
    "all_edges =  torch.from_numpy(edge_index.to_numpy()) # [2, num_edges]\n",
    "print(all_edges.shape)"
   ]
  },
  {
   "cell_type": "code",
   "execution_count": 35,
   "id": "fde2422b",
   "metadata": {},
   "outputs": [
    {
     "data": {
      "text/plain": [
       "tensor([[     0,      0,      0,  ..., 168112, 168112, 168112],\n",
       "        [ 10464,  59443, 151601,  ...,  77866,  95086,  12740]])"
      ]
     },
     "execution_count": 35,
     "metadata": {},
     "output_type": "execute_result"
    }
   ],
   "source": [
    "all_edges"
   ]
  },
  {
   "cell_type": "code",
   "execution_count": 36,
   "id": "a19af33c",
   "metadata": {},
   "outputs": [
    {
     "data": {
      "text/plain": [
       "168114"
      ]
     },
     "execution_count": 36,
     "metadata": {},
     "output_type": "execute_result"
    }
   ],
   "source": [
    "len(features_dataset)"
   ]
  },
  {
   "cell_type": "code",
   "execution_count": 37,
   "id": "2a27ac04",
   "metadata": {},
   "outputs": [],
   "source": [
    "train_arr = np.array([True for i in range(round(len(features_dataset)*0.85))])"
   ]
  },
  {
   "cell_type": "code",
   "execution_count": 38,
   "id": "fab66e93",
   "metadata": {},
   "outputs": [],
   "source": [
    "train_arr = np.append(train_arr,np.array([False for i in range(int(len(features_dataset)*0.15))]))"
   ]
  },
  {
   "cell_type": "code",
   "execution_count": 39,
   "id": "99144b5c",
   "metadata": {},
   "outputs": [
    {
     "data": {
      "text/plain": [
       "(168114,)"
      ]
     },
     "execution_count": 39,
     "metadata": {},
     "output_type": "execute_result"
    }
   ],
   "source": [
    "train_arr.shape"
   ]
  },
  {
   "cell_type": "code",
   "execution_count": 40,
   "id": "ce9707b4",
   "metadata": {},
   "outputs": [],
   "source": [
    "test_arr = np.array([False for i in range(round(len(features_dataset)*0.55))])\n",
    "test_arr = np.append(test_arr,np.array([True for i in range(int(len(features_dataset)*0.45))]))"
   ]
  },
  {
   "cell_type": "code",
   "execution_count": 41,
   "id": "45e80d9d",
   "metadata": {},
   "outputs": [
    {
     "data": {
      "text/plain": [
       "(168114,)"
      ]
     },
     "execution_count": 41,
     "metadata": {},
     "output_type": "execute_result"
    }
   ],
   "source": [
    "test_arr.shape"
   ]
  },
  {
   "cell_type": "code",
   "execution_count": 42,
   "id": "16ad977e",
   "metadata": {},
   "outputs": [],
   "source": [
    "val_arr = np.array([False for i in range(round(len(features_dataset)*0.35))])\n",
    "val_arr = np.append(val_arr,np.array([True for i in range(round(len(features_dataset)*0.35))]))\n",
    "val_arr = np.append(val_arr,np.array([False for i in range(int(len(features_dataset)*0.30))]))"
   ]
  },
  {
   "cell_type": "code",
   "execution_count": 43,
   "id": "c81b1f5f",
   "metadata": {},
   "outputs": [
    {
     "data": {
      "text/plain": [
       "(168114,)"
      ]
     },
     "execution_count": 43,
     "metadata": {},
     "output_type": "execute_result"
    }
   ],
   "source": [
    "val_arr.shape"
   ]
  },
  {
   "cell_type": "code",
   "execution_count": 44,
   "id": "49f54881",
   "metadata": {},
   "outputs": [],
   "source": [
    "train_mask = torch.from_numpy(train_arr)\n",
    "test_mask = torch.from_numpy(test_arr)\n",
    "val_mask = torch.from_numpy(val_arr)"
   ]
  },
  {
   "cell_type": "code",
   "execution_count": 96,
   "id": "3ada7c40",
   "metadata": {},
   "outputs": [],
   "source": [
    "from torch_geometric.data import Data\n",
    "data = Data(x=x, edge_index=all_edges, y=y)"
   ]
  },
  {
   "cell_type": "code",
   "execution_count": 97,
   "id": "0e78d0e7",
   "metadata": {},
   "outputs": [
    {
     "data": {
      "text/plain": [
       "Data(x=[168114, 9], edge_index=[2, 6797557], y=[168114])"
      ]
     },
     "execution_count": 97,
     "metadata": {},
     "output_type": "execute_result"
    }
   ],
   "source": [
    "data"
   ]
  },
  {
   "cell_type": "code",
   "execution_count": 98,
   "id": "a4e398a5",
   "metadata": {},
   "outputs": [],
   "source": [
    "data.num_classes = 2\n",
    "data.train_mask = train_mask\n",
    "data.test_mask = test_mask\n",
    "data.val_mask = val_mask"
   ]
  },
  {
   "cell_type": "code",
   "execution_count": 99,
   "id": "7f94fd77",
   "metadata": {},
   "outputs": [
    {
     "data": {
      "text/plain": [
       "Data(x=[168114, 9], edge_index=[2, 6797557], y=[168114], num_classes=2, train_mask=[168114], test_mask=[168114], val_mask=[168114])"
      ]
     },
     "execution_count": 99,
     "metadata": {},
     "output_type": "execute_result"
    }
   ],
   "source": [
    "data"
   ]
  },
  {
   "cell_type": "code",
   "execution_count": 100,
   "id": "609ea866",
   "metadata": {},
   "outputs": [],
   "source": [
    "import os\n",
    "os.environ[\"PYTORCH_CUDA_ALLOC_CONF\"] = \"max_split_size_mb:1024\""
   ]
  },
  {
   "cell_type": "code",
   "execution_count": 50,
   "id": "a1295405",
   "metadata": {},
   "outputs": [],
   "source": [
    "# import torch_geometric\n",
    "# from torch_geometric.utils.convert import to_networkx\n",
    "# import networkx as nx\n",
    "# import matplotlib.pyplot as plt\n",
    "\n",
    "# plt.figure(figsize=(10, 10))\n",
    "# twitch_gamers = torch_geometric.data.Data(x=data.x[:500], edge_index=data.edge_index[:500])\n",
    "# # g = torch_geometric.utils.to_networkx(twitch_gamers, to_undirected=True)\n",
    "# twitchgraph = to_networkx(twitch_gamers)\n",
    "# node_labels = data.y[list(twitchgraph.nodes)].numpy()\n",
    "# nx.draw(g, cmap=plt.get_cmap('Set1'),node_color = node_labels,node_size=75,linewidths=6)"
   ]
  },
  {
   "cell_type": "markdown",
   "id": "62cb5a12",
   "metadata": {},
   "source": [
    "Live Account / Dead Account Classification"
   ]
  },
  {
   "cell_type": "code",
   "execution_count": 101,
   "id": "60b3e9b4",
   "metadata": {},
   "outputs": [
    {
     "name": "stdout",
     "output_type": "stream",
     "text": [
      "Data(x=[168114, 9], edge_index=[2, 6797557], y=[168114], num_classes=2, train_mask=[168114], test_mask=[168114], val_mask=[168114])\n",
      "number of graphs:\t\t 7\n",
      "number of classes:\t\t 2\n",
      "number of classes:\t\t [0 1]\n",
      "number of node features:\t 9\n",
      "number of edge features:\t 0\n",
      "X shape:  torch.Size([168114, 9])\n",
      "Edge shape:  torch.Size([2, 6797557])\n",
      "Y shape:  torch.Size([168114])\n"
     ]
    }
   ],
   "source": [
    "print(data)\n",
    "print(\"number of graphs:\\t\\t\",len(data))\n",
    "print(\"number of classes:\\t\\t\",data.num_classes)\n",
    "print(\"number of classes:\\t\\t\",np.unique(data.y))\n",
    "print(\"number of node features:\\t\",data.num_node_features)\n",
    "print(\"number of edge features:\\t\",data.num_edge_features)\n",
    "print(\"X shape: \", data.x.shape)\n",
    "print(\"Edge shape: \", data.edge_index.shape)\n",
    "print(\"Y shape: \", data.y.shape)"
   ]
  },
  {
   "cell_type": "code",
   "execution_count": 102,
   "id": "6292da39",
   "metadata": {},
   "outputs": [
    {
     "name": "stdout",
     "output_type": "stream",
     "text": [
      "Graph Convolutional Network (GCN):\n"
     ]
    },
    {
     "data": {
      "text/plain": [
       "GCN(\n",
       "  (conv1): GCNConv(9, 16)\n",
       "  (conv2): GCNConv(16, 2)\n",
       ")"
      ]
     },
     "execution_count": 102,
     "metadata": {},
     "output_type": "execute_result"
    }
   ],
   "source": [
    "device = torch.device('cuda' if torch.cuda.is_available() else 'cpu')\n",
    "\n",
    "class GCN(torch.nn.Module):\n",
    "    def __init__(self):\n",
    "        super().__init__()\n",
    "        self.conv1 = GCNConv(data.num_node_features, 16)\n",
    "        self.conv2 = GCNConv(16, data.num_classes)   \n",
    "    \n",
    "    def forward(self, data):\n",
    "        # x: Node feature matrix \n",
    "        # edge_index: Graph connectivity matrix        \n",
    "        x, edge_index = data.x, data.edge_index\n",
    "        x = self.conv1(x, edge_index)\n",
    "        x = F.relu(x)\n",
    "        x = F.dropout(x, training=self.training)\n",
    "        x = self.conv2(x, edge_index)\n",
    "        \n",
    "        return F.log_softmax(x, dim=1)\n",
    "\n",
    "model = GCN().to(device)\n",
    "data = data.to(device)\n",
    "optimizer = torch.optim.Adam(model.parameters(), lr=0.01, weight_decay=5e-4)\n",
    "print(\"Graph Convolutional Network (GCN):\")\n",
    "GCN()"
   ]
  },
  {
   "cell_type": "code",
   "execution_count": 103,
   "id": "16c37f4b",
   "metadata": {},
   "outputs": [],
   "source": [
    "# useful function for computing accuracy\n",
    "def compute_accuracy(pred_y, y):\n",
    "    return (pred_y == y).sum()"
   ]
  },
  {
   "cell_type": "code",
   "execution_count": 104,
   "id": "77bbb121",
   "metadata": {},
   "outputs": [
    {
     "name": "stdout",
     "output_type": "stream",
     "text": [
      "Epoch: 10, Loss: 686322.5625, Training Acc: 0.2865\n",
      "Epoch: 20, Loss: 105689.7969, Training Acc: 0.9678\n",
      "Epoch: 30, Loss: 144642.6250, Training Acc: 0.9688\n",
      "Epoch: 40, Loss: 156741.3594, Training Acc: 0.9689\n",
      "Epoch: 50, Loss: 142311.3906, Training Acc: 0.9689\n",
      "Epoch: 60, Loss: 130392.6328, Training Acc: 0.9686\n",
      "Epoch: 70, Loss: 122234.8438, Training Acc: 0.9688\n",
      "Epoch: 80, Loss: 102030.7031, Training Acc: 0.9682\n",
      "Epoch: 90, Loss: 92980.6875, Training Acc: 0.9676\n",
      "Epoch: 100, Loss: 71958.9141, Training Acc: 0.9672\n",
      "Epoch: 110, Loss: 61853.7227, Training Acc: 0.9647\n",
      "Epoch: 120, Loss: 53470.5078, Training Acc: 0.9616\n",
      "Epoch: 130, Loss: 43364.6719, Training Acc: 0.9567\n",
      "Epoch: 140, Loss: 35949.3750, Training Acc: 0.9441\n",
      "Epoch: 150, Loss: 34805.5430, Training Acc: 0.9361\n",
      "Epoch: 160, Loss: 30102.8027, Training Acc: 0.9280\n",
      "Epoch: 170, Loss: 29969.6562, Training Acc: 0.9210\n",
      "Epoch: 180, Loss: 26680.4512, Training Acc: 0.9301\n",
      "Epoch: 190, Loss: 27657.6406, Training Acc: 0.9304\n",
      "Epoch: 200, Loss: 25518.0156, Training Acc: 0.9322\n"
     ]
    }
   ],
   "source": [
    "# train the model\n",
    "model.train()\n",
    "losses = []\n",
    "accuracies = []\n",
    "epoch_stable = []\n",
    "for epoch in range(200):\n",
    "    optimizer.zero_grad()\n",
    "    out = model(data)\n",
    "    loss = F.nll_loss(out[data.train_mask], data.y[data.train_mask])\n",
    "    correct = compute_accuracy(out.argmax(dim=1)[data.train_mask], data.y[data.train_mask])\n",
    "    acc = int(correct) / int(data.train_mask.sum())\n",
    "    losses.append(loss.item())\n",
    "    accuracies.append(acc*100)\n",
    "    loss.backward()\n",
    "    optimizer.step()\n",
    "    if (epoch+1) % 10 == 0:\n",
    "        print('Epoch: {}, Loss: {:.4f}, Training Acc: {:.4f}'.format(epoch+1, loss.item(), acc))"
   ]
  },
  {
   "cell_type": "code",
   "execution_count": 105,
   "id": "fb44cf1c",
   "metadata": {},
   "outputs": [
    {
     "name": "stdout",
     "output_type": "stream",
     "text": [
      "Accuracy: 0.9694\n"
     ]
    }
   ],
   "source": [
    "model.eval()\n",
    "pred = model(data).argmax(dim=1)\n",
    "correct = compute_accuracy(pred[data.test_mask], data.y[data.test_mask])\n",
    "acc = int(correct) / int(data.test_mask.sum())\n",
    "print(f'Accuracy: {acc:.4f}')"
   ]
  },
  {
   "cell_type": "code",
   "execution_count": 106,
   "id": "ce17208a",
   "metadata": {},
   "outputs": [],
   "source": [
    "torch.cuda.empty_cache()"
   ]
  },
  {
   "cell_type": "markdown",
   "id": "24f625a5",
   "metadata": {},
   "source": [
    "Language Classification"
   ]
  },
  {
   "cell_type": "code",
   "execution_count": 53,
   "id": "d3da4b7f",
   "metadata": {},
   "outputs": [
    {
     "data": {
      "text/plain": [
       "torch.Size([168114, 1])"
      ]
     },
     "execution_count": 53,
     "metadata": {},
     "output_type": "execute_result"
    }
   ],
   "source": [
    "# Select node features\n",
    "labels = features_dataset[[\"language\"]]\n",
    "labels.head()\n",
    "\n",
    "# labels = labels.astype(float)\n",
    "\n",
    "# Convert to numpy\n",
    "y =  torch.from_numpy(labels.to_numpy())\n",
    "y.shape # [num_nodes, 1] --> node regression"
   ]
  },
  {
   "cell_type": "code",
   "execution_count": 54,
   "id": "bba34770",
   "metadata": {},
   "outputs": [],
   "source": [
    "y = y.reshape(-1,)"
   ]
  },
  {
   "cell_type": "code",
   "execution_count": 55,
   "id": "29462479",
   "metadata": {},
   "outputs": [
    {
     "data": {
      "text/plain": [
       "torch.Size([168114])"
      ]
     },
     "execution_count": 55,
     "metadata": {},
     "output_type": "execute_result"
    }
   ],
   "source": [
    "y.shape"
   ]
  },
  {
   "cell_type": "code",
   "execution_count": 56,
   "id": "1288fcac",
   "metadata": {},
   "outputs": [
    {
     "data": {
      "text/plain": [
       "language    int64\n",
       "dtype: object"
      ]
     },
     "execution_count": 56,
     "metadata": {},
     "output_type": "execute_result"
    }
   ],
   "source": [
    "labels.dtypes"
   ]
  },
  {
   "cell_type": "code",
   "execution_count": 58,
   "id": "915d7a14",
   "metadata": {},
   "outputs": [],
   "source": [
    "from torch_geometric.data import Data\n",
    "data = Data(x=x, edge_index=all_edges, y=y)"
   ]
  },
  {
   "cell_type": "code",
   "execution_count": 59,
   "id": "c5c38679",
   "metadata": {},
   "outputs": [
    {
     "data": {
      "text/plain": [
       "Data(x=[168114, 9], edge_index=[2, 6797557], y=[168114])"
      ]
     },
     "execution_count": 59,
     "metadata": {},
     "output_type": "execute_result"
    }
   ],
   "source": [
    "data"
   ]
  },
  {
   "cell_type": "code",
   "execution_count": 60,
   "id": "60494a16",
   "metadata": {},
   "outputs": [],
   "source": [
    "data.num_classes = 21\n",
    "data.train_mask = train_mask\n",
    "data.test_mask = test_mask\n",
    "data.val_mask = val_mask"
   ]
  },
  {
   "cell_type": "code",
   "execution_count": 61,
   "id": "2f862b2f",
   "metadata": {},
   "outputs": [
    {
     "data": {
      "text/plain": [
       "Data(x=[168114, 9], edge_index=[2, 6797557], y=[168114], num_classes=21, train_mask=[168114], test_mask=[168114], val_mask=[168114])"
      ]
     },
     "execution_count": 61,
     "metadata": {},
     "output_type": "execute_result"
    }
   ],
   "source": [
    "data"
   ]
  },
  {
   "cell_type": "code",
   "execution_count": null,
   "id": "4271becd",
   "metadata": {},
   "outputs": [],
   "source": [
    "print(data)\n",
    "print(\"number of graphs:\\t\\t\",len(data))\n",
    "print(\"number of classes:\\t\\t\",data.num_classes)\n",
    "print(\"number of classes:\\t\\t\",np.unique(data.y))\n",
    "print(\"number of node features:\\t\",data.num_node_features)\n",
    "print(\"number of edge features:\\t\",data.num_edge_features)\n",
    "print(\"X shape: \", data.x.shape)\n",
    "print(\"Edge shape: \", data.edge_index.shape)\n",
    "print(\"Y shape: \", data.y.shape)"
   ]
  },
  {
   "cell_type": "code",
   "execution_count": 83,
   "id": "8bf45004",
   "metadata": {},
   "outputs": [
    {
     "name": "stdout",
     "output_type": "stream",
     "text": [
      "Graph Convolutional Network (GCN):\n"
     ]
    },
    {
     "data": {
      "text/plain": [
       "GCN(\n",
       "  (conv1): GCNConv(9, 16)\n",
       "  (conv2): GCNConv(16, 21)\n",
       ")"
      ]
     },
     "execution_count": 83,
     "metadata": {},
     "output_type": "execute_result"
    }
   ],
   "source": [
    "device = torch.device('cuda' if torch.cuda.is_available() else 'cpu')\n",
    "\n",
    "class GCN(torch.nn.Module):\n",
    "    def __init__(self):\n",
    "        super().__init__()\n",
    "        self.conv1 = GCNConv(data.num_node_features, 16)\n",
    "        self.conv2 = GCNConv(16, data.num_classes)   \n",
    "    \n",
    "    def forward(self, data):\n",
    "        # x: Node feature matrix \n",
    "        # edge_index: Graph connectivity matrix        \n",
    "        x, edge_index = data.x, data.edge_index\n",
    "        x = self.conv1(x, edge_index)\n",
    "        x = F.relu(x)\n",
    "        x = F.dropout(x, training=self.training)\n",
    "        x = self.conv2(x, edge_index)\n",
    "        \n",
    "        return F.log_softmax(x, dim=1)\n",
    "\n",
    "model = GCN().to(device)\n",
    "data = data.to(device)\n",
    "optimizer = torch.optim.Adam(model.parameters(), lr=0.01, weight_decay=5e-4)\n",
    "print(\"Graph Convolutional Network (GCN):\")\n",
    "GCN()"
   ]
  },
  {
   "cell_type": "code",
   "execution_count": 84,
   "id": "ae0d4d00",
   "metadata": {},
   "outputs": [
    {
     "name": "stdout",
     "output_type": "stream",
     "text": [
      "Epoch: 10, Loss: 541530.6250, Training Acc: 0.5419\n",
      "Epoch: 20, Loss: 371076.1562, Training Acc: 0.5903\n",
      "Epoch: 30, Loss: 197118.4531, Training Acc: 0.6057\n",
      "Epoch: 40, Loss: 110943.2422, Training Acc: 0.6042\n",
      "Epoch: 50, Loss: 54391.0039, Training Acc: 0.5280\n",
      "Epoch: 60, Loss: 25161.1953, Training Acc: 0.5914\n",
      "Epoch: 70, Loss: 12145.9326, Training Acc: 0.5759\n",
      "Epoch: 80, Loss: 3462.8628, Training Acc: 0.5815\n",
      "Epoch: 90, Loss: 15.3097, Training Acc: 0.1582\n",
      "Epoch: 100, Loss: 9.2986, Training Acc: 0.1428\n",
      "Epoch: 110, Loss: 5.8773, Training Acc: 0.7031\n",
      "Epoch: 120, Loss: 4.5190, Training Acc: 0.7235\n",
      "Epoch: 130, Loss: 3.7033, Training Acc: 0.7298\n",
      "Epoch: 140, Loss: 3.2177, Training Acc: 0.7325\n",
      "Epoch: 150, Loss: 2.8677, Training Acc: 0.7307\n",
      "Epoch: 160, Loss: 2.4898, Training Acc: 0.7352\n",
      "Epoch: 170, Loss: 2.2603, Training Acc: 0.7362\n",
      "Epoch: 180, Loss: 2.1383, Training Acc: 0.7371\n",
      "Epoch: 190, Loss: 1.9845, Training Acc: 0.7373\n",
      "Epoch: 200, Loss: 1.8495, Training Acc: 0.7382\n"
     ]
    }
   ],
   "source": [
    "# train the model\n",
    "model.train()\n",
    "losses = []\n",
    "accuracies = []\n",
    "epoch_stable = []\n",
    "for epoch in range(200):\n",
    "    optimizer.zero_grad()\n",
    "    out = model(data)\n",
    "    loss = F.nll_loss(out[data.train_mask], data.y[data.train_mask])\n",
    "    correct = compute_accuracy(out.argmax(dim=1)[data.train_mask], data.y[data.train_mask])\n",
    "    acc = int(correct) / int(data.train_mask.sum())\n",
    "    losses.append(loss.item()/1000)\n",
    "    accuracies.append(acc*10000)\n",
    "    loss.backward()\n",
    "    optimizer.step()\n",
    "    if (epoch+1) % 10 == 0:\n",
    "        print('Epoch: {}, Loss: {:.4f}, Training Acc: {:.4f}'.format(epoch+1, loss.item(), acc))"
   ]
  },
  {
   "cell_type": "code",
   "execution_count": 86,
   "id": "adcf9766",
   "metadata": {},
   "outputs": [
    {
     "name": "stdout",
     "output_type": "stream",
     "text": [
      "Accuracy: 0.7401\n"
     ]
    }
   ],
   "source": [
    "model.eval()\n",
    "pred = model(data).argmax(dim=1)\n",
    "correct = compute_accuracy(pred[data.test_mask], data.y[data.test_mask])\n",
    "acc = int(correct) / int(data.test_mask.sum())\n",
    "print(f'Accuracy: {acc:.4f}')"
   ]
  },
  {
   "cell_type": "code",
   "execution_count": 87,
   "id": "0138364f",
   "metadata": {},
   "outputs": [],
   "source": [
    "torch.cuda.empty_cache()"
   ]
  },
  {
   "cell_type": "markdown",
   "id": "5e184042",
   "metadata": {},
   "source": [
    "Affiliation Status Identification"
   ]
  },
  {
   "cell_type": "code",
   "execution_count": 107,
   "id": "10d63068",
   "metadata": {},
   "outputs": [
    {
     "data": {
      "text/plain": [
       "torch.Size([168114, 1])"
      ]
     },
     "execution_count": 107,
     "metadata": {},
     "output_type": "execute_result"
    }
   ],
   "source": [
    "# Select node features\n",
    "labels = features_dataset[[\"affiliate\"]]\n",
    "labels.head()\n",
    "\n",
    "# labels = labels.astype(float)\n",
    "\n",
    "# Convert to numpy\n",
    "y =  torch.from_numpy(labels.to_numpy())\n",
    "y.shape # [num_nodes, 1] --> node regression"
   ]
  },
  {
   "cell_type": "code",
   "execution_count": 108,
   "id": "dfae257d",
   "metadata": {},
   "outputs": [],
   "source": [
    "y = y.reshape(-1,)"
   ]
  },
  {
   "cell_type": "code",
   "execution_count": 109,
   "id": "d3d4df9b",
   "metadata": {},
   "outputs": [
    {
     "data": {
      "text/plain": [
       "torch.Size([168114])"
      ]
     },
     "execution_count": 109,
     "metadata": {},
     "output_type": "execute_result"
    }
   ],
   "source": [
    "y.shape"
   ]
  },
  {
   "cell_type": "code",
   "execution_count": 111,
   "id": "378095da",
   "metadata": {},
   "outputs": [],
   "source": [
    "from torch_geometric.data import Data\n",
    "data = Data(x=x, edge_index=all_edges, y=y)"
   ]
  },
  {
   "cell_type": "code",
   "execution_count": 112,
   "id": "c56a7e30",
   "metadata": {},
   "outputs": [
    {
     "data": {
      "text/plain": [
       "Data(x=[168114, 9], edge_index=[2, 6797557], y=[168114])"
      ]
     },
     "execution_count": 112,
     "metadata": {},
     "output_type": "execute_result"
    }
   ],
   "source": [
    "data"
   ]
  },
  {
   "cell_type": "code",
   "execution_count": 113,
   "id": "a5602536",
   "metadata": {},
   "outputs": [],
   "source": [
    "data.num_classes = 2\n",
    "data.train_mask = train_mask\n",
    "data.test_mask = test_mask\n",
    "data.val_mask = val_mask"
   ]
  },
  {
   "cell_type": "code",
   "execution_count": 114,
   "id": "d7127f56",
   "metadata": {},
   "outputs": [
    {
     "data": {
      "text/plain": [
       "Data(x=[168114, 9], edge_index=[2, 6797557], y=[168114], num_classes=2, train_mask=[168114], test_mask=[168114], val_mask=[168114])"
      ]
     },
     "execution_count": 114,
     "metadata": {},
     "output_type": "execute_result"
    }
   ],
   "source": [
    "data"
   ]
  },
  {
   "cell_type": "code",
   "execution_count": 115,
   "id": "8e8afee1",
   "metadata": {},
   "outputs": [
    {
     "name": "stdout",
     "output_type": "stream",
     "text": [
      "Data(x=[168114, 9], edge_index=[2, 6797557], y=[168114], num_classes=2, train_mask=[168114], test_mask=[168114], val_mask=[168114])\n",
      "number of graphs:\t\t 7\n",
      "number of classes:\t\t 2\n",
      "number of classes:\t\t [0 1]\n",
      "number of node features:\t 9\n",
      "number of edge features:\t 0\n",
      "X shape:  torch.Size([168114, 9])\n",
      "Edge shape:  torch.Size([2, 6797557])\n",
      "Y shape:  torch.Size([168114])\n"
     ]
    }
   ],
   "source": [
    "print(data)\n",
    "print(\"number of graphs:\\t\\t\",len(data))\n",
    "print(\"number of classes:\\t\\t\",data.num_classes)\n",
    "print(\"number of classes:\\t\\t\",np.unique(data.y))\n",
    "print(\"number of node features:\\t\",data.num_node_features)\n",
    "print(\"number of edge features:\\t\",data.num_edge_features)\n",
    "print(\"X shape: \", data.x.shape)\n",
    "print(\"Edge shape: \", data.edge_index.shape)\n",
    "print(\"Y shape: \", data.y.shape)"
   ]
  },
  {
   "cell_type": "code",
   "execution_count": 121,
   "id": "babf0cd4",
   "metadata": {},
   "outputs": [
    {
     "name": "stdout",
     "output_type": "stream",
     "text": [
      "Graph Convolutional Network (GCN):\n"
     ]
    },
    {
     "data": {
      "text/plain": [
       "GCN(\n",
       "  (conv1): GCNConv(9, 16)\n",
       "  (conv2): GCNConv(16, 2)\n",
       ")"
      ]
     },
     "execution_count": 121,
     "metadata": {},
     "output_type": "execute_result"
    }
   ],
   "source": [
    "device = torch.device('cuda' if torch.cuda.is_available() else 'cpu')\n",
    "\n",
    "class GCN(torch.nn.Module):\n",
    "    def __init__(self):\n",
    "        super().__init__()\n",
    "        self.conv1 = GCNConv(data.num_node_features, 16)\n",
    "        self.conv2 = GCNConv(16, data.num_classes)   \n",
    "    \n",
    "    def forward(self, data):\n",
    "        # x: Node feature matrix \n",
    "        # edge_index: Graph connectivity matrix        \n",
    "        x, edge_index = data.x, data.edge_index\n",
    "        x = self.conv1(x, edge_index)\n",
    "        x = F.relu(x)\n",
    "        x = F.dropout(x, training=self.training)\n",
    "        x = self.conv2(x, edge_index)\n",
    "        \n",
    "        return F.log_softmax(x, dim=1)\n",
    "\n",
    "model = GCN().to(device)\n",
    "data = data.to(device)\n",
    "optimizer = torch.optim.Adam(model.parameters(), lr=0.01, weight_decay=5e-4)\n",
    "print(\"Graph Convolutional Network (GCN):\")\n",
    "GCN()"
   ]
  },
  {
   "cell_type": "code",
   "execution_count": 122,
   "id": "34a1eb63",
   "metadata": {},
   "outputs": [
    {
     "name": "stdout",
     "output_type": "stream",
     "text": [
      "Epoch: 10, Loss: 527534.9375, Training Acc: 0.5017\n",
      "Epoch: 20, Loss: 496870.7812, Training Acc: 0.4975\n",
      "Epoch: 30, Loss: 451187.2812, Training Acc: 0.5018\n",
      "Epoch: 40, Loss: 295116.0938, Training Acc: 0.4926\n",
      "Epoch: 50, Loss: 236138.0938, Training Acc: 0.4908\n",
      "Epoch: 60, Loss: 174689.4062, Training Acc: 0.4985\n",
      "Epoch: 70, Loss: 108665.3125, Training Acc: 0.4956\n",
      "Epoch: 80, Loss: 79670.9844, Training Acc: 0.5054\n",
      "Epoch: 90, Loss: 45223.2695, Training Acc: 0.4937\n",
      "Epoch: 100, Loss: 18112.8535, Training Acc: 0.4979\n",
      "Epoch: 110, Loss: 8365.0947, Training Acc: 0.4906\n",
      "Epoch: 120, Loss: 16982.6348, Training Acc: 0.4958\n",
      "Epoch: 130, Loss: 15764.5186, Training Acc: 0.5029\n",
      "Epoch: 140, Loss: 3564.3943, Training Acc: 0.5184\n",
      "Epoch: 150, Loss: 3276.8066, Training Acc: 0.5141\n",
      "Epoch: 160, Loss: 13772.0264, Training Acc: 0.5149\n",
      "Epoch: 170, Loss: 26841.0664, Training Acc: 0.4904\n",
      "Epoch: 180, Loss: 14900.9424, Training Acc: 0.4919\n",
      "Epoch: 190, Loss: 19246.4102, Training Acc: 0.4924\n",
      "Epoch: 200, Loss: 11301.3086, Training Acc: 0.4948\n",
      "Epoch: 210, Loss: 11617.3662, Training Acc: 0.4946\n",
      "Epoch: 220, Loss: 4024.2593, Training Acc: 0.5011\n",
      "Epoch: 230, Loss: 1513.7419, Training Acc: 0.5144\n",
      "Epoch: 240, Loss: 1938.9686, Training Acc: 0.4963\n",
      "Epoch: 250, Loss: 456.3330, Training Acc: 0.4926\n",
      "Epoch: 260, Loss: 1244.7384, Training Acc: 0.4981\n",
      "Epoch: 270, Loss: 1067.8385, Training Acc: 0.5100\n",
      "Epoch: 280, Loss: 1286.5619, Training Acc: 0.4944\n",
      "Epoch: 290, Loss: 5751.6978, Training Acc: 0.5149\n",
      "Epoch: 300, Loss: 814.0500, Training Acc: 0.4971\n",
      "Epoch: 310, Loss: 3925.3103, Training Acc: 0.4930\n",
      "Epoch: 320, Loss: 1578.9382, Training Acc: 0.4965\n",
      "Epoch: 330, Loss: 710.4178, Training Acc: 0.5129\n",
      "Epoch: 340, Loss: 1156.0690, Training Acc: 0.5131\n",
      "Epoch: 350, Loss: 532.7660, Training Acc: 0.5119\n",
      "Epoch: 360, Loss: 986.9216, Training Acc: 0.4953\n",
      "Epoch: 370, Loss: 66.7520, Training Acc: 0.4938\n",
      "Epoch: 380, Loss: 1923.0182, Training Acc: 0.5149\n",
      "Epoch: 390, Loss: 487.9577, Training Acc: 0.4987\n",
      "Epoch: 400, Loss: 679.3710, Training Acc: 0.4946\n",
      "Epoch: 410, Loss: 493.6646, Training Acc: 0.5146\n",
      "Epoch: 420, Loss: 325.2676, Training Acc: 0.5142\n",
      "Epoch: 430, Loss: 399.5713, Training Acc: 0.5146\n",
      "Epoch: 440, Loss: 666.0947, Training Acc: 0.5148\n",
      "Epoch: 450, Loss: 389.9893, Training Acc: 0.5148\n",
      "Epoch: 460, Loss: 102.3401, Training Acc: 0.5149\n",
      "Epoch: 470, Loss: 73.4226, Training Acc: 0.5048\n",
      "Epoch: 480, Loss: 35.4710, Training Acc: 0.5147\n",
      "Epoch: 490, Loss: 108.0399, Training Acc: 0.4982\n",
      "Epoch: 500, Loss: 124.0115, Training Acc: 0.4986\n",
      "Epoch: 510, Loss: 26.8782, Training Acc: 0.5105\n",
      "Epoch: 520, Loss: 82.3067, Training Acc: 0.5144\n",
      "Epoch: 530, Loss: 14.8890, Training Acc: 0.5050\n",
      "Epoch: 540, Loss: 40.5982, Training Acc: 0.5012\n",
      "Epoch: 550, Loss: 75.7708, Training Acc: 0.4997\n",
      "Epoch: 560, Loss: 10.7408, Training Acc: 0.5071\n",
      "Epoch: 570, Loss: 7.6924, Training Acc: 0.5133\n",
      "Epoch: 580, Loss: 7.2773, Training Acc: 0.5107\n",
      "Epoch: 590, Loss: 4.6509, Training Acc: 0.5143\n",
      "Epoch: 600, Loss: 8.3594, Training Acc: 0.5118\n"
     ]
    }
   ],
   "source": [
    "# train the model\n",
    "model.train()\n",
    "losses = []\n",
    "accuracies = []\n",
    "epoch_stable = []\n",
    "for epoch in range(600):\n",
    "    optimizer.zero_grad()\n",
    "    out = model(data)\n",
    "    loss = F.nll_loss(out[data.train_mask], data.y[data.train_mask])\n",
    "    correct = compute_accuracy(out.argmax(dim=1)[data.train_mask], data.y[data.train_mask])\n",
    "    acc = int(correct) / int(data.train_mask.sum())\n",
    "    losses.append(loss.item()/1000)\n",
    "    accuracies.append(acc*10000)\n",
    "    loss.backward()\n",
    "    optimizer.step()\n",
    "    if (epoch+1) % 10 == 0:\n",
    "        print('Epoch: {}, Loss: {:.4f}, Training Acc: {:.4f}'.format(epoch+1, loss.item(), acc))"
   ]
  },
  {
   "cell_type": "code",
   "execution_count": 123,
   "id": "1d311621",
   "metadata": {},
   "outputs": [
    {
     "name": "stdout",
     "output_type": "stream",
     "text": [
      "Accuracy: 0.5365\n"
     ]
    }
   ],
   "source": [
    "model.eval()\n",
    "pred = model(data).argmax(dim=1)\n",
    "correct = compute_accuracy(pred[data.test_mask], data.y[data.test_mask])\n",
    "acc = int(correct) / int(data.test_mask.sum())\n",
    "print(f'Accuracy: {acc:.4f}')"
   ]
  },
  {
   "cell_type": "code",
   "execution_count": null,
   "id": "f6cbe79c",
   "metadata": {},
   "outputs": [],
   "source": []
  }
 ],
 "metadata": {
  "kernelspec": {
   "display_name": "Python 3 (ipykernel)",
   "language": "python",
   "name": "python3"
  },
  "language_info": {
   "codemirror_mode": {
    "name": "ipython",
    "version": 3
   },
   "file_extension": ".py",
   "mimetype": "text/x-python",
   "name": "python",
   "nbconvert_exporter": "python",
   "pygments_lexer": "ipython3",
   "version": "3.10.6"
  }
 },
 "nbformat": 4,
 "nbformat_minor": 5
}
